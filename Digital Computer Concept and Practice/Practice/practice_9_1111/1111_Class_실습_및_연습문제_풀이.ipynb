{
  "nbformat": 4,
  "nbformat_minor": 0,
  "metadata": {
    "colab": {
      "name": "1111-Class 실습 및 연습문제 풀이",
      "provenance": []
    },
    "kernelspec": {
      "name": "python3",
      "display_name": "Python 3"
    },
    "language_info": {
      "name": "python"
    }
  },
  "cells": [
    {
      "cell_type": "markdown",
      "metadata": {
        "id": "Dy_IQgawPAJT"
      },
      "source": [
        "- Class를 왜 써야할까?\n",
        "- Class와 Instance\n",
        "- Attributes와 Constructor\n",
        "- Methods\n",
        "- Instance Methods\n",
        "- Private attributes/methods 다루기\n",
        "- Class variable과 Class method\n",
        "- Inheritance\n",
        "- Magic methods\n",
        "- Methods Override\n",
        "- ABCs\n",
        "- Iterator과 Generater"
      ]
    },
    {
      "cell_type": "code",
      "metadata": {
        "id": "Msr0x-J48C1N"
      },
      "source": [
        ""
      ],
      "execution_count": null,
      "outputs": []
    },
    {
      "cell_type": "code",
      "metadata": {
        "colab": {
          "base_uri": "https://localhost:8080/"
        },
        "id": "_m61IPCEatiS",
        "outputId": "8f0c6730-a528-4547-db83-aa3fadf9ac61"
      },
      "source": [
        "class Student:\n",
        "    def __init__(self, name):\n",
        "      self.name = name\n",
        "      self.money = 0\n",
        "  \n",
        "s1 = Student('김민수')\n",
        "print(s1.name)\n",
        "print(s1.money)"
      ],
      "execution_count": null,
      "outputs": [
        {
          "output_type": "stream",
          "name": "stdout",
          "text": [
            "김민수\n",
            "0\n"
          ]
        }
      ]
    },
    {
      "cell_type": "code",
      "metadata": {
        "colab": {
          "base_uri": "https://localhost:8080/"
        },
        "id": "KmR0_-Xsa7Vd",
        "outputId": "723858e1-e5df-417d-f26a-120e564c75b4"
      },
      "source": [
        "s2 = Student('민지')\n",
        "print(s2.money)"
      ],
      "execution_count": null,
      "outputs": [
        {
          "output_type": "stream",
          "name": "stdout",
          "text": [
            "0\n"
          ]
        }
      ]
    },
    {
      "cell_type": "code",
      "metadata": {
        "colab": {
          "base_uri": "https://localhost:8080/"
        },
        "id": "bq3jZ914bPhM",
        "outputId": "51e7d73e-1d03-46d4-a781-6b859094408c"
      },
      "source": [
        "s2.money = 100\n",
        "print(s2.money)\n",
        "\n",
        "print(s1.money)"
      ],
      "execution_count": null,
      "outputs": [
        {
          "output_type": "stream",
          "name": "stdout",
          "text": [
            "100\n",
            "0\n"
          ]
        }
      ]
    },
    {
      "cell_type": "code",
      "metadata": {
        "id": "hftxkVVSbVbE"
      },
      "source": [
        "class Student:\n",
        "    def __init__(self, name, money=0):\n",
        "      self.name = name\n",
        "      self.money = money\n",
        "  \n",
        "s1 = Student(name='김민수', money=2000)\n",
        "s2 = Student(name='김민지', money=3000)\n",
        "s2.bonus = True"
      ],
      "execution_count": null,
      "outputs": []
    },
    {
      "cell_type": "code",
      "metadata": {
        "colab": {
          "base_uri": "https://localhost:8080/"
        },
        "id": "0kJmdn6XbmA3",
        "outputId": "ca59c5f4-ef47-4d3a-ce29-323d0eaef73f"
      },
      "source": [
        "print(s1.__dict__)"
      ],
      "execution_count": null,
      "outputs": [
        {
          "output_type": "stream",
          "name": "stdout",
          "text": [
            "{'name': '김민수', 'money': 2000}\n"
          ]
        }
      ]
    },
    {
      "cell_type": "code",
      "metadata": {
        "colab": {
          "base_uri": "https://localhost:8080/"
        },
        "id": "wKgJNFkbcXFg",
        "outputId": "bc865969-beef-49f4-c3e3-75f4a549b245"
      },
      "source": [
        "print(s2.__dict__)"
      ],
      "execution_count": null,
      "outputs": [
        {
          "output_type": "stream",
          "name": "stdout",
          "text": [
            "{'name': '김민지', 'money': 3000, 'bonus': True}\n"
          ]
        }
      ]
    },
    {
      "cell_type": "code",
      "metadata": {
        "id": "M-1mamegcYwp"
      },
      "source": [
        "class Student:\n",
        "    def __init__(self, name):\n",
        "      self.name = name\n",
        "      self.__score = 0\n",
        "\n",
        "    def get_score(self):\n",
        "      return self.__score\n",
        "\n",
        "    def set_score(self, score):\n",
        "      if score < 0:\n",
        "          raise TypeError\n",
        "      self.__score = score\n",
        "\n",
        "s1 = Student('A')\n",
        "s2 = Student('B')"
      ],
      "execution_count": null,
      "outputs": []
    },
    {
      "cell_type": "code",
      "metadata": {
        "colab": {
          "base_uri": "https://localhost:8080/"
        },
        "id": "y9NkToOdcwRz",
        "outputId": "7efbbc98-14c4-4c59-da4f-2f7473c57b8b"
      },
      "source": [
        "s1.get_score()"
      ],
      "execution_count": null,
      "outputs": [
        {
          "output_type": "execute_result",
          "data": {
            "text/plain": [
              "0"
            ]
          },
          "metadata": {},
          "execution_count": 8
        }
      ]
    },
    {
      "cell_type": "code",
      "metadata": {
        "colab": {
          "base_uri": "https://localhost:8080/"
        },
        "id": "wLFrRmY1czMu",
        "outputId": "b8e0b3b2-e18a-4397-b764-69d941d6f350"
      },
      "source": [
        "s1.set_score(10)\n",
        "s1.get_score()"
      ],
      "execution_count": null,
      "outputs": [
        {
          "output_type": "execute_result",
          "data": {
            "text/plain": [
              "10"
            ]
          },
          "metadata": {},
          "execution_count": 9
        }
      ]
    },
    {
      "cell_type": "code",
      "metadata": {
        "id": "T1ZDerN0deKp"
      },
      "source": [
        "class Student:\n",
        "    def __init__(self, name):\n",
        "      self.name = name\n",
        "      self.__score = 0\n",
        "\n",
        "    @property\n",
        "    def score(self):\n",
        "      return self.__score\n",
        "\n",
        "    @score.setter\n",
        "    def score(self, score):\n",
        "      if score < 0:\n",
        "          raise TypeError\n",
        "      self.__score = score"
      ],
      "execution_count": null,
      "outputs": []
    },
    {
      "cell_type": "code",
      "metadata": {
        "colab": {
          "base_uri": "https://localhost:8080/"
        },
        "id": "eqNPxaCseoQS",
        "outputId": "d37c9395-c7ce-44fa-a263-404a377fc080"
      },
      "source": [
        "class Student:\n",
        "    student_num = 0\n",
        "    def __init__(self, name):\n",
        "        self.name = name\n",
        "        Student.student_num += 1\n",
        "\n",
        "s1, s2, s3 = Student('A'), Student('B'), Student('C')\n",
        "print(s1.name, s2.name, s3.name)"
      ],
      "execution_count": null,
      "outputs": [
        {
          "output_type": "stream",
          "name": "stdout",
          "text": [
            "A B C\n"
          ]
        }
      ]
    },
    {
      "cell_type": "code",
      "metadata": {
        "colab": {
          "base_uri": "https://localhost:8080/"
        },
        "id": "rD-oj5tRe1aI",
        "outputId": "e0fafc52-e292-4b0f-90be-976666cb6205"
      },
      "source": [
        "print(Student.student_num)"
      ],
      "execution_count": null,
      "outputs": [
        {
          "output_type": "stream",
          "name": "stdout",
          "text": [
            "3\n"
          ]
        }
      ]
    },
    {
      "cell_type": "code",
      "metadata": {
        "colab": {
          "base_uri": "https://localhost:8080/"
        },
        "id": "91A1lh0We8-i",
        "outputId": "381e9dd9-5650-4a79-d252-29bf1c126254"
      },
      "source": [
        "s4 = Student('D')\n",
        "print(Student.student_num)"
      ],
      "execution_count": null,
      "outputs": [
        {
          "output_type": "stream",
          "name": "stdout",
          "text": [
            "4\n"
          ]
        }
      ]
    },
    {
      "cell_type": "code",
      "metadata": {
        "colab": {
          "base_uri": "https://localhost:8080/"
        },
        "id": "mXHBrnPqfFw7",
        "outputId": "30320fd1-b679-4e71-9aec-0a560b5033c8"
      },
      "source": [
        "class Student:\n",
        "    student_num = 0\n",
        "    def __init__(self, name):\n",
        "        self.name = name\n",
        "        self.student_num += 1\n",
        "\n",
        "s1, s2, s3 = Student('A'), Student('B'), Student('C')\n",
        "print(s1.name, s2.name, s3.name)\n",
        "\n",
        "print(Student.student_num)"
      ],
      "execution_count": null,
      "outputs": [
        {
          "output_type": "stream",
          "name": "stdout",
          "text": [
            "A B C\n",
            "0\n"
          ]
        }
      ]
    },
    {
      "cell_type": "code",
      "metadata": {
        "colab": {
          "base_uri": "https://localhost:8080/"
        },
        "id": "TB4FVlscfVPj",
        "outputId": "a0cf762c-6e98-4a12-9c25-cac0efa16fd3"
      },
      "source": [
        "class Student:\n",
        "    num = 0\n",
        "    st_lst = []\n",
        "    \n",
        "    def __init__(self, name):\n",
        "        self.name = name\n",
        "        Student.num += 1\n",
        "        Student.st_lst.append(self)\n",
        "    \n",
        "    @classmethod\n",
        "    def student_list(cls):\n",
        "        for st in cls.st_lst:\n",
        "            print(st.name)\n",
        "\n",
        "s1, s2, s3 = Student('A'), Student('B'), Student('C')\n",
        "\n",
        "\n",
        "print(s1.name, s2.name, s3.name)"
      ],
      "execution_count": null,
      "outputs": [
        {
          "output_type": "stream",
          "name": "stdout",
          "text": [
            "A B C\n"
          ]
        }
      ]
    },
    {
      "cell_type": "code",
      "metadata": {
        "colab": {
          "base_uri": "https://localhost:8080/"
        },
        "id": "2naINUr9f4DJ",
        "outputId": "6d84e36b-8bfa-4236-f3f1-a1941b92e296"
      },
      "source": [
        "print(Student.num)\n",
        "print(Student.st_lst)"
      ],
      "execution_count": null,
      "outputs": [
        {
          "output_type": "stream",
          "name": "stdout",
          "text": [
            "3\n",
            "[<__main__.Student object at 0x7f442cc41710>, <__main__.Student object at 0x7f442cc41690>, <__main__.Student object at 0x7f442cc415d0>]\n"
          ]
        }
      ]
    },
    {
      "cell_type": "code",
      "metadata": {
        "colab": {
          "base_uri": "https://localhost:8080/"
        },
        "id": "GTzsksyof9bV",
        "outputId": "7985d2bb-428f-4fce-c3d8-1fb5e557e1f8"
      },
      "source": [
        "Student.student_list()"
      ],
      "execution_count": null,
      "outputs": [
        {
          "output_type": "stream",
          "name": "stdout",
          "text": [
            "A\n",
            "B\n",
            "C\n"
          ]
        }
      ]
    },
    {
      "cell_type": "code",
      "metadata": {
        "id": "e6_KFIPQgEhz"
      },
      "source": [
        "class Person:\n",
        "    def __init__(self, name):\n",
        "        self.name = name\n",
        "        print('사람 추가')\n",
        "\n",
        "    def say_name(self):\n",
        "        print(f'{self.name}입니다.')"
      ],
      "execution_count": null,
      "outputs": []
    },
    {
      "cell_type": "code",
      "metadata": {
        "colab": {
          "base_uri": "https://localhost:8080/"
        },
        "id": "9hy2Ul5DgY0U",
        "outputId": "fb931f50-a6ba-4322-92ef-60fb09f77f9c"
      },
      "source": [
        "class Student(Person):\n",
        "    def __init__(self, name):\n",
        "        Person.__init__(self, name)\n",
        "\n",
        "s1 = Student('김민수')"
      ],
      "execution_count": null,
      "outputs": [
        {
          "output_type": "stream",
          "name": "stdout",
          "text": [
            "사람 추가\n"
          ]
        }
      ]
    },
    {
      "cell_type": "code",
      "metadata": {
        "colab": {
          "base_uri": "https://localhost:8080/"
        },
        "id": "w7padziDgmnV",
        "outputId": "d2fa96e2-89d2-4ed7-dcf6-5c784c0ac76b"
      },
      "source": [
        "s1.say_name()"
      ],
      "execution_count": null,
      "outputs": [
        {
          "output_type": "stream",
          "name": "stdout",
          "text": [
            "김민수입니다.\n"
          ]
        }
      ]
    },
    {
      "cell_type": "code",
      "metadata": {
        "colab": {
          "base_uri": "https://localhost:8080/"
        },
        "id": "5CcigQAgg15w",
        "outputId": "8cd349bd-f21f-4a63-ecff-96497abf8cb4"
      },
      "source": [
        "p1, p2 = Person('A'), Person('B')\n",
        "s1, s2 = Student('C'), Student('D')"
      ],
      "execution_count": null,
      "outputs": [
        {
          "output_type": "stream",
          "name": "stdout",
          "text": [
            "사람 추가\n",
            "사람 추가\n",
            "사람 추가\n",
            "사람 추가\n"
          ]
        }
      ]
    },
    {
      "cell_type": "code",
      "metadata": {
        "colab": {
          "base_uri": "https://localhost:8080/"
        },
        "id": "sfatR1WshCmq",
        "outputId": "3cdece5c-b67b-4626-b0c1-31c32ac20e47"
      },
      "source": [
        "isinstance(p1, Person)"
      ],
      "execution_count": null,
      "outputs": [
        {
          "output_type": "execute_result",
          "data": {
            "text/plain": [
              "True"
            ]
          },
          "metadata": {},
          "execution_count": 22
        }
      ]
    },
    {
      "cell_type": "code",
      "metadata": {
        "colab": {
          "base_uri": "https://localhost:8080/"
        },
        "id": "0SyHjk_3hbyf",
        "outputId": "dcb6e88a-bfdf-48ea-daf4-66850a0f34cc"
      },
      "source": [
        "isinstance(p1, Student)"
      ],
      "execution_count": null,
      "outputs": [
        {
          "output_type": "execute_result",
          "data": {
            "text/plain": [
              "False"
            ]
          },
          "metadata": {},
          "execution_count": 23
        }
      ]
    },
    {
      "cell_type": "code",
      "metadata": {
        "colab": {
          "base_uri": "https://localhost:8080/"
        },
        "id": "LhN3roNAho5Z",
        "outputId": "59ff0667-c604-4eac-a5d9-99313b640ed7"
      },
      "source": [
        "isinstance(s1, Person)"
      ],
      "execution_count": null,
      "outputs": [
        {
          "output_type": "execute_result",
          "data": {
            "text/plain": [
              "True"
            ]
          },
          "metadata": {},
          "execution_count": 24
        }
      ]
    },
    {
      "cell_type": "code",
      "metadata": {
        "colab": {
          "base_uri": "https://localhost:8080/"
        },
        "id": "CA5qe1TdhfBN",
        "outputId": "fcc5149b-b0f4-486b-dbb1-064416e5d876"
      },
      "source": [
        "issubclass(Student, Person)"
      ],
      "execution_count": null,
      "outputs": [
        {
          "output_type": "execute_result",
          "data": {
            "text/plain": [
              "True"
            ]
          },
          "metadata": {},
          "execution_count": 25
        }
      ]
    },
    {
      "cell_type": "code",
      "metadata": {
        "colab": {
          "base_uri": "https://localhost:8080/"
        },
        "id": "JWYMDm4ghjNn",
        "outputId": "385a0a43-2b2b-4949-9444-75fcdbda9877"
      },
      "source": [
        "issubclass(Person, Student)"
      ],
      "execution_count": null,
      "outputs": [
        {
          "output_type": "execute_result",
          "data": {
            "text/plain": [
              "False"
            ]
          },
          "metadata": {},
          "execution_count": 26
        }
      ]
    },
    {
      "cell_type": "code",
      "metadata": {
        "colab": {
          "base_uri": "https://localhost:8080/"
        },
        "id": "PjfYnrUUhm29",
        "outputId": "4f4f8fd0-2112-4246-db68-6d1be73ae863"
      },
      "source": [
        "x = 1\n",
        "\n",
        "if isinstance(x, int):\n",
        "  print(x+1)"
      ],
      "execution_count": null,
      "outputs": [
        {
          "output_type": "stream",
          "name": "stdout",
          "text": [
            "2\n"
          ]
        }
      ]
    },
    {
      "cell_type": "code",
      "metadata": {
        "colab": {
          "base_uri": "https://localhost:8080/"
        },
        "id": "nrWyOglMh2iQ",
        "outputId": "87560d46-6216-4b57-ae5d-ef65cd4bf1db"
      },
      "source": [
        "class Person:\n",
        "    def __init__(self, name):\n",
        "        self.name = name\n",
        "    def say_name(self):\n",
        "        print(f'{self.name} 입니다.')\n",
        "\n",
        "class Student(Person):\n",
        "    def __init__(self, name):\n",
        "        Person.__init__(self, name)\n",
        "    def say_name(self):\n",
        "        print(f'학생 {self.name} 입니다.')\n",
        "\n",
        "p1 = Person('조교')\n",
        "s1 = Student('김민수')\n",
        "p1.say_name()\n",
        "s1.say_name()"
      ],
      "execution_count": null,
      "outputs": [
        {
          "output_type": "stream",
          "name": "stdout",
          "text": [
            "조교 입니다.\n",
            "학생 김민수 입니다.\n"
          ]
        }
      ]
    },
    {
      "cell_type": "code",
      "metadata": {
        "colab": {
          "base_uri": "https://localhost:8080/"
        },
        "id": "bX15M9mEiJfQ",
        "outputId": "ee1bcdc2-c649-414c-e593-0bbfc8f98261"
      },
      "source": [
        "class Test:\n",
        "  pass\n",
        "\n",
        "for i in dir(Test):\n",
        "  print(i)"
      ],
      "execution_count": null,
      "outputs": [
        {
          "output_type": "stream",
          "name": "stdout",
          "text": [
            "__class__\n",
            "__delattr__\n",
            "__dict__\n",
            "__dir__\n",
            "__doc__\n",
            "__eq__\n",
            "__format__\n",
            "__ge__\n",
            "__getattribute__\n",
            "__gt__\n",
            "__hash__\n",
            "__init__\n",
            "__init_subclass__\n",
            "__le__\n",
            "__lt__\n",
            "__module__\n",
            "__ne__\n",
            "__new__\n",
            "__reduce__\n",
            "__reduce_ex__\n",
            "__repr__\n",
            "__setattr__\n",
            "__sizeof__\n",
            "__str__\n",
            "__subclasshook__\n",
            "__weakref__\n"
          ]
        }
      ]
    },
    {
      "cell_type": "code",
      "metadata": {
        "colab": {
          "base_uri": "https://localhost:8080/"
        },
        "id": "w5OESFp5ie4z",
        "outputId": "d09b3fcf-148d-46c6-aadf-3b2b172a2142"
      },
      "source": [
        "class Vector2D:\n",
        "    def __init__(self, x, y):\n",
        "        self.x = x\n",
        "        self.y = y\n",
        "\n",
        "    def __add__(self, v2):\n",
        "        return Vector2D(self.x+v2.x, self.y+v2.y)\n",
        "\n",
        "    def __str__(self):\n",
        "        return f\"x : {self.x}, y : {self.y}\"\n",
        "\n",
        "v1, v2 = Vector2D(1, 2), Vector2D(2, 3)\n",
        "\n",
        "print(v1.x, v1.y)\n",
        "print(v2.x, v2.y)"
      ],
      "execution_count": null,
      "outputs": [
        {
          "output_type": "stream",
          "name": "stdout",
          "text": [
            "1 2\n",
            "2 3\n"
          ]
        }
      ]
    },
    {
      "cell_type": "code",
      "metadata": {
        "colab": {
          "base_uri": "https://localhost:8080/"
        },
        "id": "Y-CSkySIi6XB",
        "outputId": "20fc02e3-08c1-4e7f-abbb-3cb8b6d652a2"
      },
      "source": [
        "v = v1 + v2\n",
        "print(v.x)\n",
        "print(v.y)\n",
        "print(v)"
      ],
      "execution_count": null,
      "outputs": [
        {
          "output_type": "stream",
          "name": "stdout",
          "text": [
            "3\n",
            "5\n",
            "x : 3, y : 5\n"
          ]
        }
      ]
    },
    {
      "cell_type": "code",
      "metadata": {
        "id": "_Cfsm2NMi-JG"
      },
      "source": [
        "from abc import ABC, abstractmethod\n",
        "\n",
        "class Polygon(ABC):\n",
        "    @abstractmethod\n",
        "    def draw(self):\n",
        "        pass\n",
        "\n",
        "class Rectangle(Polygon):\n",
        "    # pass\n",
        "    def draw(self):\n",
        "        print('rect')\n",
        "\n"
      ],
      "execution_count": null,
      "outputs": []
    },
    {
      "cell_type": "code",
      "metadata": {
        "id": "kGwpIzTkyZjX",
        "colab": {
          "base_uri": "https://localhost:8080/",
          "height": 164
        },
        "outputId": "40cb15ba-9aa4-4b84-894a-93fc4c91fb9b"
      },
      "source": [
        "p = Polygon()"
      ],
      "execution_count": null,
      "outputs": [
        {
          "output_type": "error",
          "ename": "TypeError",
          "evalue": "ignored",
          "traceback": [
            "\u001b[0;31m---------------------------------------------------------------------------\u001b[0m",
            "\u001b[0;31mTypeError\u001b[0m                                 Traceback (most recent call last)",
            "\u001b[0;32m<ipython-input-33-dcc9968c038d>\u001b[0m in \u001b[0;36m<module>\u001b[0;34m()\u001b[0m\n\u001b[0;32m----> 1\u001b[0;31m \u001b[0mp\u001b[0m \u001b[0;34m=\u001b[0m \u001b[0mPolygon\u001b[0m\u001b[0;34m(\u001b[0m\u001b[0;34m)\u001b[0m\u001b[0;34m\u001b[0m\u001b[0;34m\u001b[0m\u001b[0m\n\u001b[0m",
            "\u001b[0;31mTypeError\u001b[0m: Can't instantiate abstract class Polygon with abstract methods draw"
          ]
        }
      ]
    },
    {
      "cell_type": "code",
      "metadata": {
        "colab": {
          "base_uri": "https://localhost:8080/"
        },
        "id": "TeTR-pmVl_O-",
        "outputId": "6cb85211-9490-4fae-deeb-45e7924d2045"
      },
      "source": [
        "r1 = Rectangle()\n",
        "print(isinstance(r1, Polygon))"
      ],
      "execution_count": null,
      "outputs": [
        {
          "output_type": "stream",
          "name": "stdout",
          "text": [
            "True\n"
          ]
        }
      ]
    },
    {
      "cell_type": "code",
      "metadata": {
        "id": "jkekerDDmM6D"
      },
      "source": [
        "# r1.draw()"
      ],
      "execution_count": null,
      "outputs": []
    },
    {
      "cell_type": "code",
      "metadata": {
        "colab": {
          "base_uri": "https://localhost:8080/"
        },
        "id": "9Fh6499mmUOO",
        "outputId": "683f6b1d-4dd6-4a8a-9ae8-1faf5b38c951"
      },
      "source": [
        "class IterExample:\n",
        "    def __init__(self, lst):\n",
        "        self.lst = lst\n",
        "        self.index = 0\n",
        "\n",
        "    def __iter__(self):\n",
        "        self.index = 0\n",
        "        return self\n",
        "\n",
        "    def __next__(self):\n",
        "        if self.index>=len(self.lst): \n",
        "            raise StopIteration\n",
        "        n = self.lst[self.index]\n",
        "        self.index+=1\n",
        "        return n\n",
        "\n",
        "ie = IterExample([1, 2, 3, 4, 5])\n",
        "\n",
        "for i in ie: \n",
        "  print(i)"
      ],
      "execution_count": null,
      "outputs": [
        {
          "output_type": "stream",
          "name": "stdout",
          "text": [
            "1\n",
            "2\n",
            "3\n",
            "4\n",
            "5\n"
          ]
        }
      ]
    },
    {
      "cell_type": "code",
      "metadata": {
        "colab": {
          "base_uri": "https://localhost:8080/"
        },
        "id": "FjZnc4uwonln",
        "outputId": "5b27e010-8639-4bd9-f700-1538b80ceeb7"
      },
      "source": [
        "ie.index"
      ],
      "execution_count": null,
      "outputs": [
        {
          "output_type": "execute_result",
          "data": {
            "text/plain": [
              "5"
            ]
          },
          "metadata": {},
          "execution_count": 37
        }
      ]
    },
    {
      "cell_type": "code",
      "metadata": {
        "colab": {
          "base_uri": "https://localhost:8080/"
        },
        "id": "hU3Po9S2oGCO",
        "outputId": "4ff93eb5-f6b6-4467-8d45-56e046991703"
      },
      "source": [
        "for i in ie: \n",
        "  print(i)"
      ],
      "execution_count": null,
      "outputs": [
        {
          "output_type": "stream",
          "name": "stdout",
          "text": [
            "1\n",
            "2\n",
            "3\n",
            "4\n",
            "5\n"
          ]
        }
      ]
    },
    {
      "cell_type": "code",
      "metadata": {
        "colab": {
          "base_uri": "https://localhost:8080/"
        },
        "id": "1u4eibz5oUPN",
        "outputId": "66d2cacb-5227-446d-8250-3e450ba3c47e"
      },
      "source": [
        "def test():\n",
        "    print('print 0')\n",
        "    yield 0\n",
        "\n",
        "    print('print 1')\n",
        "    yield 1\n",
        "\n",
        "    print('print 2')\n",
        "    yield 2\n",
        "\n",
        "for i in test():\n",
        "  print(i)\n",
        "  print('----')"
      ],
      "execution_count": null,
      "outputs": [
        {
          "output_type": "stream",
          "name": "stdout",
          "text": [
            "print 0\n",
            "0\n",
            "----\n",
            "print 1\n",
            "1\n",
            "----\n",
            "print 2\n",
            "2\n",
            "----\n"
          ]
        }
      ]
    },
    {
      "cell_type": "code",
      "metadata": {
        "colab": {
          "base_uri": "https://localhost:8080/",
          "height": 249
        },
        "id": "4w7Ici5VpN4C",
        "outputId": "4c5bc098-9973-4073-e695-3f7071544f3f"
      },
      "source": [
        "class RSP:\n",
        "  def __init__(self, mode):\n",
        "    self.mode = mode\n",
        "  def __eq__(self, x): # equal : == 연산자 사용\n",
        "    return self.mode == x.mode\n",
        "  def __lt__(self, x): # less than : < 연산자 사용\n",
        "    return self.mode + x.mode in ['RP', 'PS', 'SR']\n",
        "\n",
        "# gt, le, ge, neq 등 다양한 연산 재정의 가능 \n",
        "\n",
        "N = int(input())\n",
        "A = list(map(RSP, input())) # RRRRPPP\n",
        "B = list(map(RSP, input()))\n",
        "\n",
        "A_score = 0\n",
        "B_score = 0\n",
        "for a, b in zip(A, B):\n",
        "  if a == b: continue\n",
        "  A_score += b < a \n",
        "  B_score += a < b\n",
        "\n",
        "if A_score == B_score:\n",
        "  print('TIE')\n",
        "elif A_score > B_score:\n",
        "  print('A',A_score) \n",
        "else:\n",
        "  print('B',B_score) "
      ],
      "execution_count": null,
      "outputs": [
        {
          "name": "stdout",
          "output_type": "stream",
          "text": [
            "\n"
          ]
        },
        {
          "output_type": "error",
          "ename": "ValueError",
          "evalue": "ignored",
          "traceback": [
            "\u001b[0;31m---------------------------------------------------------------------------\u001b[0m",
            "\u001b[0;31mValueError\u001b[0m                                Traceback (most recent call last)",
            "\u001b[0;32m<ipython-input-40-0d571d45a518>\u001b[0m in \u001b[0;36m<module>\u001b[0;34m()\u001b[0m\n\u001b[1;32m      9\u001b[0m \u001b[0;31m# gt, le, ge, neq 등 다양한 연산 재정의 가능\u001b[0m\u001b[0;34m\u001b[0m\u001b[0;34m\u001b[0m\u001b[0;34m\u001b[0m\u001b[0m\n\u001b[1;32m     10\u001b[0m \u001b[0;34m\u001b[0m\u001b[0m\n\u001b[0;32m---> 11\u001b[0;31m \u001b[0mN\u001b[0m \u001b[0;34m=\u001b[0m \u001b[0mint\u001b[0m\u001b[0;34m(\u001b[0m\u001b[0minput\u001b[0m\u001b[0;34m(\u001b[0m\u001b[0;34m)\u001b[0m\u001b[0;34m)\u001b[0m\u001b[0;34m\u001b[0m\u001b[0;34m\u001b[0m\u001b[0m\n\u001b[0m\u001b[1;32m     12\u001b[0m \u001b[0mA\u001b[0m \u001b[0;34m=\u001b[0m \u001b[0mlist\u001b[0m\u001b[0;34m(\u001b[0m\u001b[0mmap\u001b[0m\u001b[0;34m(\u001b[0m\u001b[0mRSP\u001b[0m\u001b[0;34m,\u001b[0m \u001b[0minput\u001b[0m\u001b[0;34m(\u001b[0m\u001b[0;34m)\u001b[0m\u001b[0;34m)\u001b[0m\u001b[0;34m)\u001b[0m \u001b[0;31m# RRRRPPP\u001b[0m\u001b[0;34m\u001b[0m\u001b[0;34m\u001b[0m\u001b[0m\n\u001b[1;32m     13\u001b[0m \u001b[0mB\u001b[0m \u001b[0;34m=\u001b[0m \u001b[0mlist\u001b[0m\u001b[0;34m(\u001b[0m\u001b[0mmap\u001b[0m\u001b[0;34m(\u001b[0m\u001b[0mRSP\u001b[0m\u001b[0;34m,\u001b[0m \u001b[0minput\u001b[0m\u001b[0;34m(\u001b[0m\u001b[0;34m)\u001b[0m\u001b[0;34m)\u001b[0m\u001b[0;34m)\u001b[0m\u001b[0;34m\u001b[0m\u001b[0;34m\u001b[0m\u001b[0m\n",
            "\u001b[0;31mValueError\u001b[0m: invalid literal for int() with base 10: ''"
          ]
        }
      ]
    },
    {
      "cell_type": "code",
      "metadata": {
        "id": "VOcGTPVStWyF"
      },
      "source": [
        "x1 = RSP('R')\n",
        "x2 = RSP('P')"
      ],
      "execution_count": null,
      "outputs": []
    },
    {
      "cell_type": "code",
      "metadata": {
        "id": "JF-mv-wqxGwC"
      },
      "source": [
        "x1.mode"
      ],
      "execution_count": null,
      "outputs": []
    },
    {
      "cell_type": "code",
      "metadata": {
        "id": "EBYthrerxHyx"
      },
      "source": [
        "x2.mode"
      ],
      "execution_count": null,
      "outputs": []
    },
    {
      "cell_type": "code",
      "metadata": {
        "id": "-2IRj-DGxKjv"
      },
      "source": [
        "x1 < x2"
      ],
      "execution_count": null,
      "outputs": []
    },
    {
      "cell_type": "code",
      "metadata": {
        "id": "CEWwBPGKxq2R"
      },
      "source": [
        "class X:\n",
        "  pass"
      ],
      "execution_count": null,
      "outputs": []
    },
    {
      "cell_type": "code",
      "metadata": {
        "id": "JBff7ebAxsCU"
      },
      "source": [
        "class X(object):\n",
        "  pass"
      ],
      "execution_count": null,
      "outputs": []
    },
    {
      "cell_type": "code",
      "metadata": {
        "id": "6OlwfALbxtoR"
      },
      "source": [
        ""
      ],
      "execution_count": null,
      "outputs": []
    }
  ]
}