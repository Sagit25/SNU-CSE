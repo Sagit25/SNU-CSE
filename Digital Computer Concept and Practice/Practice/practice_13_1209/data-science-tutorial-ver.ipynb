{
 "cells": [
  {
   "cell_type": "markdown",
   "id": "8e6b9362",
   "metadata": {
    "_cell_guid": "b1076dfc-b9ad-4769-8c92-a6c4dae69d19",
    "_uuid": "8f2839f25d086af736a60e9eeb907d3b93b6e0e5",
    "papermill": {
     "duration": 0.054202,
     "end_time": "2021-12-09T06:44:07.585806",
     "exception": false,
     "start_time": "2021-12-09T06:44:07.531604",
     "status": "completed"
    },
    "tags": []
   },
   "source": [
    "## 데이터 사이언스 튜토리얼\n",
    "\n",
    "데이터 사이언스에는 다양한 업무가 있습니다. \n",
    "\n",
    "캐글과 매칭시켜보면 다음과 같습니다.\n",
    "\n",
    "- 데이터 수집 및 데이터셋 제작 => datasets\n",
    "- 데이터 분석 및 데이터 시각화 => notebooks\n",
    "- 머신러닝/딥러닝 => competitions\n",
    "\n",
    "이런 기본 프로세스들을 Python으로 하는 방법을 소개합니다."
   ]
  },
  {
   "cell_type": "markdown",
   "id": "74f7fafe",
   "metadata": {
    "papermill": {
     "duration": 0.062521,
     "end_time": "2021-12-09T06:44:07.712374",
     "exception": false,
     "start_time": "2021-12-09T06:44:07.649853",
     "status": "completed"
    },
    "tags": []
   },
   "source": [
    "## 1. 데이터 수집 및 데이터셋 제작\n",
    "\n",
    "데이터 수집은 다양한 방식으로 이루어집니다. \n",
    "\n",
    "- 서비스 로그\n",
    "- 다양한 센서 정보\n",
    "\n",
    "처음부터 데이터를 수집하는 방법이 있는 반면에, 기존에 있는 웹의 데이터를 원하는 형태로 모으는 방법도 있습니다.\n",
    "웹에서 정보를 수집하는 행위를 **웹크롤링(web crawling)** 이라고 합니다.\n",
    "\n",
    "웹크롤링은 사이트의 정보보호 정책에 따라 불법인 경우가 있으니 주의해야합니다. \n",
    "일반적으로 허가없이 크롤링하여 사용한 정보는 상업적/연구로 활용할 수 없으니 참고하시기 바랍니다.\n",
    "\n",
    "- [‘무단 크롤링’으로 야놀자 정보 빼간 여기어때 [법알못 판례 읽기]](https://magazine.hankyung.com/business/article/202108256209b)\n"
   ]
  },
  {
   "cell_type": "markdown",
   "id": "5c268142",
   "metadata": {
    "papermill": {
     "duration": 0.051447,
     "end_time": "2021-12-09T06:44:07.825120",
     "exception": false,
     "start_time": "2021-12-09T06:44:07.773673",
     "status": "completed"
    },
    "tags": []
   },
   "source": [
    "### 1.1 Requests : 웹에 정보 요청\n",
    "\n",
    "우선 웹에서 정보를 불러오기 위해서는 `requests`라는 라이브러리를 사용합니다.\n",
    "\n",
    "`requests`는 HTTP용 라이브러리입니다. 서버에서 정보를 받아오거나, 서버에 정보를 보내는 등의 일을 할 수가 있습니다.\n",
    "\n",
    "이번에는 받는 용도로만 사용해보도록 하겠습니다."
   ]
  },
  {
   "cell_type": "code",
   "execution_count": 1,
   "id": "2a8e761e",
   "metadata": {
    "execution": {
     "iopub.execute_input": "2021-12-09T06:44:07.930000Z",
     "iopub.status.busy": "2021-12-09T06:44:07.928860Z",
     "iopub.status.idle": "2021-12-09T06:44:07.937693Z",
     "shell.execute_reply": "2021-12-09T06:44:07.938324Z",
     "shell.execute_reply.started": "2021-12-09T05:35:07.763204Z"
    },
    "papermill": {
     "duration": 0.062824,
     "end_time": "2021-12-09T06:44:07.938618",
     "exception": false,
     "start_time": "2021-12-09T06:44:07.875794",
     "status": "completed"
    },
    "tags": []
   },
   "outputs": [],
   "source": [
    "import requests"
   ]
  },
  {
   "cell_type": "markdown",
   "id": "91714a43",
   "metadata": {
    "papermill": {
     "duration": 0.050022,
     "end_time": "2021-12-09T06:44:08.038750",
     "exception": false,
     "start_time": "2021-12-09T06:44:07.988728",
     "status": "completed"
    },
    "tags": []
   },
   "source": [
    "이번 예시는 BTS라는 정보를 사용하여 크롤링을 진행해보도록 하겠습니다.\n",
    "\n",
    "BTS에 관한 다양한 정보 중 위키피디아의 정보를 활용해보도록 하겠습니다.\n",
    "\n",
    "- https://en.wikipedia.org/wiki/BTS\n",
    "\n",
    "get함수를 사용하여 정보를 불러올 수 있습니다."
   ]
  },
  {
   "cell_type": "code",
   "execution_count": 2,
   "id": "f24cd992",
   "metadata": {
    "execution": {
     "iopub.execute_input": "2021-12-09T06:44:08.146888Z",
     "iopub.status.busy": "2021-12-09T06:44:08.146265Z",
     "iopub.status.idle": "2021-12-09T06:44:08.787918Z",
     "shell.execute_reply": "2021-12-09T06:44:08.787225Z",
     "shell.execute_reply.started": "2021-12-09T05:37:23.153472Z"
    },
    "papermill": {
     "duration": 0.698008,
     "end_time": "2021-12-09T06:44:08.788061",
     "exception": false,
     "start_time": "2021-12-09T06:44:08.090053",
     "status": "completed"
    },
    "tags": []
   },
   "outputs": [
    {
     "name": "stdout",
     "output_type": "stream",
     "text": [
      "<class 'requests.models.Response'>\n",
      "<Response [200]>\n"
     ]
    }
   ],
   "source": [
    "URL = \"https://en.wikipedia.org/wiki/BTS\" # url 링크를 변수로 할당\n",
    "data = requests.get(URL)\n",
    "print(type(data))\n",
    "print(data)"
   ]
  },
  {
   "cell_type": "markdown",
   "id": "19509743",
   "metadata": {
    "papermill": {
     "duration": 0.049511,
     "end_time": "2021-12-09T06:44:08.888057",
     "exception": false,
     "start_time": "2021-12-09T06:44:08.838546",
     "status": "completed"
    },
    "tags": []
   },
   "source": [
    "데이터를 확인해봅시다.\n",
    "\n",
    "그냥 데이터를 출력하면 `<Response [200]>`과 같은 내용이 출력됩니다. 이 Reponse는 서버에 보낸 정보에 대한 응답입니다.\n",
    "\n",
    "대표적으로는 다음과 같은 응답이 존재합니다.\n",
    "\n",
    "- `200` : 2XX는 성공입니다. \n",
    "- `404` : 4XX는 실패입니다. 그 중에서도 404는 페이지가 없는 경우 메세지입니다.\n",
    "- `503` : 5XX는 서버 오류입니다. 그 중에서도 503은 서비스를 사용할 수 없는 경우입니다. 크롤링을 막아둔 사이트에서 크롤링을 시도할 때 보실 수 있습니다."
   ]
  },
  {
   "cell_type": "code",
   "execution_count": 3,
   "id": "4b926613",
   "metadata": {
    "execution": {
     "iopub.execute_input": "2021-12-09T06:44:08.994550Z",
     "iopub.status.busy": "2021-12-09T06:44:08.993898Z",
     "iopub.status.idle": "2021-12-09T06:44:08.997493Z",
     "shell.execute_reply": "2021-12-09T06:44:08.997914Z",
     "shell.execute_reply.started": "2021-12-09T05:37:50.089842Z"
    },
    "papermill": {
     "duration": 0.058766,
     "end_time": "2021-12-09T06:44:08.998081",
     "exception": false,
     "start_time": "2021-12-09T06:44:08.939315",
     "status": "completed"
    },
    "tags": []
   },
   "outputs": [
    {
     "name": "stdout",
     "output_type": "stream",
     "text": [
      "<Response [200]>\n"
     ]
    }
   ],
   "source": [
    "print(data) "
   ]
  },
  {
   "cell_type": "markdown",
   "id": "60a015cb",
   "metadata": {
    "papermill": {
     "duration": 0.049034,
     "end_time": "2021-12-09T06:44:09.098093",
     "exception": false,
     "start_time": "2021-12-09T06:44:09.049059",
     "status": "completed"
    },
    "tags": []
   },
   "source": [
    "요청한 정보를 보기 위해서는 content 또는 text 요소를 봐야합니다.\n",
    "\n",
    "텍스트 정보가 매우 기니 앞의 100자만 살펴보도록 하겠습니다."
   ]
  },
  {
   "cell_type": "code",
   "execution_count": 4,
   "id": "9a51aaba",
   "metadata": {
    "execution": {
     "iopub.execute_input": "2021-12-09T06:44:09.209838Z",
     "iopub.status.busy": "2021-12-09T06:44:09.209161Z",
     "iopub.status.idle": "2021-12-09T06:44:09.213809Z",
     "shell.execute_reply": "2021-12-09T06:44:09.213209Z",
     "shell.execute_reply.started": "2021-12-09T05:38:34.364075Z"
    },
    "papermill": {
     "duration": 0.066408,
     "end_time": "2021-12-09T06:44:09.213974",
     "exception": false,
     "start_time": "2021-12-09T06:44:09.147566",
     "status": "completed"
    },
    "tags": []
   },
   "outputs": [
    {
     "name": "stdout",
     "output_type": "stream",
     "text": [
      "<!DOCTYPE html>\n",
      "<html class=\"client-nojs\" lang=\"en\" dir=\"ltr\">\n",
      "<head>\n",
      "<meta charset=\"UTF-8\"/>\n",
      "<title>BTS - Wikipedia</title>\n",
      "<script>document.documentElement.className=\"client-js\";RLCONF={\"wgBreakFrames\":false,\"wgSeparatorTransformTable\":[\"\",\"\"],\"wgDigitTransformTable\":[\"\",\"\"],\"wgDefaultDateFormat\":\"dmy\",\"wgMonthNames\":[\"\",\"January\",\"February\",\"March\",\"April\",\"May\",\"June\",\"July\",\"August\",\"September\",\"October\",\"November\",\"December\"],\"wgRequestId\":\"d468c73b-7b48-4243-9853-524da386e0b9\",\"wgCSPNonce\":false,\"wgCanonicalNamespace\":\"\",\"wgCanonicalSpecialPageName\":false,\"wgNamespaceNumber\":0,\"wgPageName\":\"BTS\",\"wgTitle\":\"BTS\",\"wgCurRevisionId\":1058368373,\"wgRevisionId\":1058368373,\"wgArticleId\":39862325,\"wgIsArticle\":true,\"wgIsRedirect\":false,\"wgAction\":\"view\",\"wgUserName\":null,\"wgUserGroups\":[\"*\"],\"wgCategories\":[\"CS1 uses Japanese-language script (ja)\",\"CS1 Japanese-language sources (ja)\",\"CS1 uses Korean-language script (ko)\",\"CS1 Korean-language sources (ko)\",\"Good articles\",\"Articles with \n"
     ]
    }
   ],
   "source": [
    "print(data.text[:1000]) # 내용이 길기 때문에 앞에 100자만 확인"
   ]
  },
  {
   "cell_type": "markdown",
   "id": "a870c66d",
   "metadata": {
    "papermill": {
     "duration": 0.049871,
     "end_time": "2021-12-09T06:44:09.314332",
     "exception": false,
     "start_time": "2021-12-09T06:44:09.264461",
     "status": "completed"
    },
    "tags": []
   },
   "source": [
    "크롤링되는 정보는 HTML 형태로 정보를 받아옵니다. 이를 기본적은 `split`, `find` 등의 문자열 내장 메서드를 사용해서 찾을수도 있지만 좀 더 효율적으로 찾을 수도 있습니다."
   ]
  },
  {
   "cell_type": "markdown",
   "id": "565eaec6",
   "metadata": {
    "papermill": {
     "duration": 0.049577,
     "end_time": "2021-12-09T06:44:09.414124",
     "exception": false,
     "start_time": "2021-12-09T06:44:09.364547",
     "status": "completed"
    },
    "tags": []
   },
   "source": [
    "### 1.2 BeautifulSoup : 원하는 정보 추출\n",
    "\n",
    "`BeautifulSoup`은 대표적은 HTML문서 파싱 도구입니다.\n",
    "\n",
    "**파싱(parsing)**이란 정보를 구조화하는 작업을 의미합니다. \n",
    "\n",
    "예를 들어 `나는 학교에 간다`라는 문장에서 `나`가 주어임을 뽑을 수 있는 것처럼 HTML코드에서도 그런 정보를 뽑아낼 수 있습니다."
   ]
  },
  {
   "cell_type": "code",
   "execution_count": 5,
   "id": "feca4e6d",
   "metadata": {
    "execution": {
     "iopub.execute_input": "2021-12-09T06:44:09.517265Z",
     "iopub.status.busy": "2021-12-09T06:44:09.516652Z",
     "iopub.status.idle": "2021-12-09T06:44:09.519455Z",
     "shell.execute_reply": "2021-12-09T06:44:09.518946Z",
     "shell.execute_reply.started": "2021-12-09T05:40:16.659352Z"
    },
    "papermill": {
     "duration": 0.055844,
     "end_time": "2021-12-09T06:44:09.519598",
     "exception": false,
     "start_time": "2021-12-09T06:44:09.463754",
     "status": "completed"
    },
    "tags": []
   },
   "outputs": [],
   "source": [
    "# 설치가 필요하다면 아래 문서의 주석을 지우고 pip로 설치하면 됩니다.\n",
    "# kaggle에는 이미 설치되어 있습니다.\n",
    "# !pip install beautifulsoup4 "
   ]
  },
  {
   "cell_type": "markdown",
   "id": "cb532ed2",
   "metadata": {
    "papermill": {
     "duration": 0.050239,
     "end_time": "2021-12-09T06:44:09.620441",
     "exception": false,
     "start_time": "2021-12-09T06:44:09.570202",
     "status": "completed"
    },
    "tags": []
   },
   "source": [
    "사용은 아래와 같이 합니다. \n",
    "\n",
    "뒤의 `html.parser`는 정보를 파싱하는 방법에 대한 변수인데 현재는 신경쓸 필요가 없습니다."
   ]
  },
  {
   "cell_type": "code",
   "execution_count": 6,
   "id": "367fd4c9",
   "metadata": {
    "execution": {
     "iopub.execute_input": "2021-12-09T06:44:09.726387Z",
     "iopub.status.busy": "2021-12-09T06:44:09.725698Z",
     "iopub.status.idle": "2021-12-09T06:44:10.487840Z",
     "shell.execute_reply": "2021-12-09T06:44:10.487189Z",
     "shell.execute_reply.started": "2021-12-09T05:41:04.721954Z"
    },
    "papermill": {
     "duration": 0.816734,
     "end_time": "2021-12-09T06:44:10.488017",
     "exception": false,
     "start_time": "2021-12-09T06:44:09.671283",
     "status": "completed"
    },
    "tags": []
   },
   "outputs": [
    {
     "name": "stdout",
     "output_type": "stream",
     "text": [
      "<class 'bs4.BeautifulSoup'>\n"
     ]
    }
   ],
   "source": [
    "from bs4 import BeautifulSoup\n",
    "bs = BeautifulSoup(data.text, \"html.parser\")\n",
    "print(type(bs))"
   ]
  },
  {
   "cell_type": "markdown",
   "id": "91413185",
   "metadata": {
    "papermill": {
     "duration": 0.049953,
     "end_time": "2021-12-09T06:44:10.589659",
     "exception": false,
     "start_time": "2021-12-09T06:44:10.539706",
     "status": "completed"
    },
    "tags": []
   },
   "source": [
    "우선 이렇게 html정보를 beautifulsoup으로 감쌌는데 어떤 것을 할 수 있을까요?\n",
    "\n",
    "- `find` : 태그를 찾아주는 메소드\n",
    "- `find_all` : 태그를 모두 찾아주는 메소드\n",
    "\n",
    "예시로 아래는 h1 태그가 있는 html요소를 찾기 위한 코드입니다."
   ]
  },
  {
   "cell_type": "code",
   "execution_count": 7,
   "id": "0f71dc28",
   "metadata": {
    "execution": {
     "iopub.execute_input": "2021-12-09T06:44:10.698583Z",
     "iopub.status.busy": "2021-12-09T06:44:10.693848Z",
     "iopub.status.idle": "2021-12-09T06:44:10.702066Z",
     "shell.execute_reply": "2021-12-09T06:44:10.701524Z",
     "shell.execute_reply.started": "2021-12-09T05:43:43.402867Z"
    },
    "papermill": {
     "duration": 0.061765,
     "end_time": "2021-12-09T06:44:10.702207",
     "exception": false,
     "start_time": "2021-12-09T06:44:10.640442",
     "status": "completed"
    },
    "tags": []
   },
   "outputs": [
    {
     "data": {
      "text/plain": [
       "<h1 class=\"firstHeading\" id=\"firstHeading\">BTS</h1>"
      ]
     },
     "execution_count": 7,
     "metadata": {},
     "output_type": "execute_result"
    }
   ],
   "source": [
    "bs.find('h1')"
   ]
  },
  {
   "cell_type": "markdown",
   "id": "4129f256",
   "metadata": {
    "papermill": {
     "duration": 0.050985,
     "end_time": "2021-12-09T06:44:10.804681",
     "exception": false,
     "start_time": "2021-12-09T06:44:10.753696",
     "status": "completed"
    },
    "tags": []
   },
   "source": [
    "h1 태그는 일반적으로 사이트에서 제목에 사용됩니다. 그렇기에 위에서는 BTS라는 제목에서 한 번 사용하게 되는 것입니다.\n",
    "\n",
    "일반적으로 중간 제목들은 h2 태그를 사용합니다. h2 태그로 작성된 제목을 모두 확인해보겠습니다."
   ]
  },
  {
   "cell_type": "code",
   "execution_count": 8,
   "id": "3c440d46",
   "metadata": {
    "execution": {
     "iopub.execute_input": "2021-12-09T06:44:10.916273Z",
     "iopub.status.busy": "2021-12-09T06:44:10.915591Z",
     "iopub.status.idle": "2021-12-09T06:44:10.923641Z",
     "shell.execute_reply": "2021-12-09T06:44:10.924335Z",
     "shell.execute_reply.started": "2021-12-09T05:47:28.979664Z"
    },
    "papermill": {
     "duration": 0.069058,
     "end_time": "2021-12-09T06:44:10.924559",
     "exception": false,
     "start_time": "2021-12-09T06:44:10.855501",
     "status": "completed"
    },
    "tags": []
   },
   "outputs": [
    {
     "name": "stdout",
     "output_type": "stream",
     "text": [
      "<h2><span class=\"mw-headline\" id=\"Name\">Name</span></h2>\n",
      "<class 'bs4.element.Tag'>\n"
     ]
    }
   ],
   "source": [
    "h2_list = bs.find_all('h2')\n",
    "print(h2_list[1])\n",
    "print(type(h2_list[1]))"
   ]
  },
  {
   "cell_type": "markdown",
   "id": "557a80f8",
   "metadata": {
    "papermill": {
     "duration": 0.051959,
     "end_time": "2021-12-09T06:44:11.030346",
     "exception": false,
     "start_time": "2021-12-09T06:44:10.978387",
     "status": "completed"
    },
    "tags": []
   },
   "source": [
    "소제목처럼 보이는 내용들을 리스트에 담아 모두 가져온 것을 확인할 수 있습니다. \n",
    "\n",
    "해당 태그에서 태그를 제외하고 텍스트 정보를 추출하기 위해서는 다음과 같이 추출할 수 있습니다. "
   ]
  },
  {
   "cell_type": "code",
   "execution_count": 9,
   "id": "128ea043",
   "metadata": {
    "execution": {
     "iopub.execute_input": "2021-12-09T06:44:11.137355Z",
     "iopub.status.busy": "2021-12-09T06:44:11.135096Z",
     "iopub.status.idle": "2021-12-09T06:44:11.140781Z",
     "shell.execute_reply": "2021-12-09T06:44:11.141260Z",
     "shell.execute_reply.started": "2021-12-09T05:46:43.285554Z"
    },
    "papermill": {
     "duration": 0.059497,
     "end_time": "2021-12-09T06:44:11.141426",
     "exception": false,
     "start_time": "2021-12-09T06:44:11.081929",
     "status": "completed"
    },
    "tags": []
   },
   "outputs": [
    {
     "name": "stdout",
     "output_type": "stream",
     "text": [
      "Contents\n",
      "Name\n",
      "Career\n",
      "Artistry\n",
      "Legacy and cultural impact\n",
      "Commercial endorsements\n",
      "Awards and achievements\n",
      "Members\n",
      "Discography\n",
      "Filmography\n",
      "Concert tours\n",
      "See also\n",
      "References\n",
      "External links\n",
      "Navigation menu\n"
     ]
    }
   ],
   "source": [
    "for val in h2_list:\n",
    "#     print(val)\n",
    "    print(val.text)\n",
    "#     print()"
   ]
  },
  {
   "cell_type": "markdown",
   "id": "f5e21982",
   "metadata": {
    "papermill": {
     "duration": 0.050746,
     "end_time": "2021-12-09T06:44:11.243551",
     "exception": false,
     "start_time": "2021-12-09T06:44:11.192805",
     "status": "completed"
    },
    "tags": []
   },
   "source": [
    "위의 h2 태그를 보면 좀 더 구체적으로는 span 태그에 mw-headline이라는 class를 가지고 있는 것을 확인할 수 있습니다.\n",
    "\n",
    "html은 태그의 종류, class, id를 사용하여 정보를 구분하기에 이런 정보들을 가지고도 데이터를 추출할 수 있습니다."
   ]
  },
  {
   "cell_type": "code",
   "execution_count": 10,
   "id": "97f7a9d5",
   "metadata": {
    "execution": {
     "iopub.execute_input": "2021-12-09T06:44:11.380389Z",
     "iopub.status.busy": "2021-12-09T06:44:11.348507Z",
     "iopub.status.idle": "2021-12-09T06:44:11.394261Z",
     "shell.execute_reply": "2021-12-09T06:44:11.393707Z",
     "shell.execute_reply.started": "2021-12-09T05:48:24.752499Z"
    },
    "papermill": {
     "duration": 0.099948,
     "end_time": "2021-12-09T06:44:11.394395",
     "exception": false,
     "start_time": "2021-12-09T06:44:11.294447",
     "status": "completed"
    },
    "tags": []
   },
   "outputs": [
    {
     "data": {
      "text/plain": [
       "[<span class=\"mw-headline\" id=\"Name\">Name</span>,\n",
       " <span class=\"mw-headline\" id=\"Career\">Career</span>,\n",
       " <span class=\"mw-headline\" id=\"2010–2014:_Formation_and_early_years\">2010–2014: Formation and early years</span>,\n",
       " <span class=\"mw-headline\" id=\"2014–2017:_Mainstream_and_international_breakthrough\">2014–2017: Mainstream and international breakthrough</span>,\n",
       " <span class=\"mw-headline\" id=\"Moderate_success_and_first_concert_tour\">Moderate success and first concert tour</span>,\n",
       " <span class=\"mw-headline\" id=\"Mainstream_breakthrough_and_commercial_success\">Mainstream breakthrough and commercial success</span>,\n",
       " <span class=\"mw-headline\" id=\"International_expansion_and_collaborations\">International expansion and collaborations</span>,\n",
       " <span class=\"mw-headline\" id=\"2018–2020:_Continued_worldwide_success\">2018–2020: Continued worldwide success</span>,\n",
       " <span class=\"mw-headline\" id=\"Worldwide_recognition_and_Love_Yourself_album_series\">Worldwide recognition and <i>Love Yourself</i> album series</span>,\n",
       " <span class=\"mw-headline\" id=\"Map_of_the_Soul:_Persona,_stadium_world_tour_and_BTS_World\"><i>Map of the Soul: Persona</i>, stadium world tour and <i>BTS World</i></span>,\n",
       " <span class=\"mw-headline\" id='Map_of_the_Soul:_7,_\"Dynamite\"_and_Be'><i>Map of the Soul: 7</i>, \"Dynamite\" and <i>Be</i></span>,\n",
       " <span class=\"mw-headline\" id='2021–present:_BTS,_the_Best,_\"Butter\"_and_\"Permission_to_Dance\"'>2021–present: <i>BTS, the Best</i>, \"Butter\" and \"Permission to Dance\"</span>,\n",
       " <span class=\"mw-headline\" id=\"Artistry\">Artistry</span>,\n",
       " <span class=\"mw-headline\" id=\"Influences\">Influences</span>,\n",
       " <span class=\"mw-headline\" id=\"Musical_style\">Musical style</span>,\n",
       " <span class=\"mw-headline\" id=\"Lyrical_themes\">Lyrical themes</span>,\n",
       " <span class=\"mw-headline\" id=\"Legacy_and_cultural_impact\">Legacy and cultural impact</span>,\n",
       " <span class=\"mw-headline\" id=\"Commercial_endorsements\">Commercial endorsements</span>,\n",
       " <span class=\"mw-headline\" id=\"Awards_and_achievements\">Awards and achievements</span>,\n",
       " <span class=\"mw-headline\" id=\"Members\">Members</span>,\n",
       " <span class=\"mw-headline\" id=\"Discography\">Discography</span>,\n",
       " <span class=\"mw-headline\" id=\"Filmography\">Filmography</span>,\n",
       " <span class=\"mw-headline\" id=\"Concert_tours\">Concert tours</span>,\n",
       " <span class=\"mw-headline\" id=\"See_also\">See also</span>,\n",
       " <span class=\"mw-headline\" id=\"References\">References</span>,\n",
       " <span class=\"mw-headline\" id=\"External_links\">External links</span>]"
      ]
     },
     "execution_count": 10,
     "metadata": {},
     "output_type": "execute_result"
    }
   ],
   "source": [
    "bs.find_all('span', {'class':'mw-headline'})"
   ]
  },
  {
   "cell_type": "markdown",
   "id": "990761ce",
   "metadata": {
    "papermill": {
     "duration": 0.051093,
     "end_time": "2021-12-09T06:44:11.497150",
     "exception": false,
     "start_time": "2021-12-09T06:44:11.446057",
     "status": "completed"
    },
    "tags": []
   },
   "source": [
    "방탄소년단의 각 멤버 정보를 가져오기 위해서는 어떤 방법을 사용할 수 있을까요?"
   ]
  },
  {
   "cell_type": "code",
   "execution_count": 11,
   "id": "907f64c9",
   "metadata": {
    "execution": {
     "iopub.execute_input": "2021-12-09T06:44:11.607838Z",
     "iopub.status.busy": "2021-12-09T06:44:11.606377Z",
     "iopub.status.idle": "2021-12-09T06:44:12.623292Z",
     "shell.execute_reply": "2021-12-09T06:44:12.622726Z",
     "shell.execute_reply.started": "2021-12-09T05:51:32.816887Z"
    },
    "papermill": {
     "duration": 1.075043,
     "end_time": "2021-12-09T06:44:12.623437",
     "exception": false,
     "start_time": "2021-12-09T06:44:11.548394",
     "status": "completed"
    },
    "tags": []
   },
   "outputs": [
    {
     "name": "stdout",
     "output_type": "stream",
     "text": [
      "https://en.wikipedia.org/wiki/Kim_Seok-jin\n",
      "<Response [200]>\n",
      "https://en.wikipedia.org/wiki/V_(singer)\n",
      "<Response [200]>\n"
     ]
    }
   ],
   "source": [
    "# 방탄 멤버별로 크롤링하기?\n",
    "bts_members_lst = [\n",
    "    'wiki/Kim_Seok-jin',\n",
    "    'wiki/V_(singer)'\n",
    "]\n",
    "\n",
    "BASE_URL = \"https://en.wikipedia.org/\"\n",
    "\n",
    "for member in bts_members_lst:\n",
    "    URL = BASE_URL + member\n",
    "    print(URL)\n",
    "    data = requests.get(URL)\n",
    "    print(data)"
   ]
  },
  {
   "cell_type": "markdown",
   "id": "5ff4e86d",
   "metadata": {
    "papermill": {
     "duration": 0.053167,
     "end_time": "2021-12-09T06:44:12.729303",
     "exception": false,
     "start_time": "2021-12-09T06:44:12.676136",
     "status": "completed"
    },
    "tags": []
   },
   "source": [
    "## 2. 데이터 분석 및 시각화\n",
    "\n",
    "데이터 분석도 다양한 통계 방법론이나 기법을 사용하여 진행할 수 있습니다.\n",
    "\n",
    "일반적으로 데이터 분석의 시작은 통계값을 뽑고, 이를 시각화하여 나타내는 것으로 시작합니다.\n",
    "\n",
    "- `numpy` : 행렬 연산 라이브러리\n",
    "- `pandas` : 엑셀 형태의 데이터 연산 라이브러리\n",
    "- `matplotlib` : 데이터 시각화 라이브러리 \n",
    "- `seaborn` : 통계 정보 시각화 라이브러리\n",
    "\n",
    "데이터 분석 및 머신러닝에서 가장 유명한 데이터셋인 [타이타닉 생존자 데이터셋](https://www.kaggle.com/c/titanic)을 사용해보겠습니다. "
   ]
  },
  {
   "cell_type": "code",
   "execution_count": 12,
   "id": "2ba2a660",
   "metadata": {
    "execution": {
     "iopub.execute_input": "2021-12-09T06:44:12.837680Z",
     "iopub.status.busy": "2021-12-09T06:44:12.837065Z",
     "iopub.status.idle": "2021-12-09T06:44:13.907974Z",
     "shell.execute_reply": "2021-12-09T06:44:13.907403Z",
     "shell.execute_reply.started": "2021-12-09T05:59:39.128071Z"
    },
    "papermill": {
     "duration": 1.127104,
     "end_time": "2021-12-09T06:44:13.908127",
     "exception": false,
     "start_time": "2021-12-09T06:44:12.781023",
     "status": "completed"
    },
    "tags": []
   },
   "outputs": [],
   "source": [
    "import numpy as np\n",
    "import pandas as pd \n",
    "import matplotlib as mpl\n",
    "import matplotlib.pyplot as plt\n",
    "import seaborn as sns"
   ]
  },
  {
   "cell_type": "markdown",
   "id": "2ab8bf8f",
   "metadata": {
    "papermill": {
     "duration": 0.052539,
     "end_time": "2021-12-09T06:44:14.013611",
     "exception": false,
     "start_time": "2021-12-09T06:44:13.961072",
     "status": "completed"
    },
    "tags": []
   },
   "source": [
    "### 2.1 [Pandas] 데이터 살피기 기본\n",
    "\n",
    "pandas로 데이터를 살펴볼 때는 크게 3가지를 할 수 있습니다.\n",
    "\n",
    "- `head()` : 첫 5개\n",
    "- `tail()` : 마지막 5개\n",
    "- `info()` : 데이터가 가지고 있는 정보\n",
    "- `describe()` : 데이터의 통계치"
   ]
  },
  {
   "cell_type": "code",
   "execution_count": 13,
   "id": "6f17f790",
   "metadata": {
    "execution": {
     "iopub.execute_input": "2021-12-09T06:44:14.126733Z",
     "iopub.status.busy": "2021-12-09T06:44:14.126081Z",
     "iopub.status.idle": "2021-12-09T06:44:14.161817Z",
     "shell.execute_reply": "2021-12-09T06:44:14.162340Z",
     "shell.execute_reply.started": "2021-12-09T06:00:48.804738Z"
    },
    "papermill": {
     "duration": 0.095031,
     "end_time": "2021-12-09T06:44:14.162511",
     "exception": false,
     "start_time": "2021-12-09T06:44:14.067480",
     "status": "completed"
    },
    "tags": []
   },
   "outputs": [
    {
     "data": {
      "text/html": [
       "<div>\n",
       "<style scoped>\n",
       "    .dataframe tbody tr th:only-of-type {\n",
       "        vertical-align: middle;\n",
       "    }\n",
       "\n",
       "    .dataframe tbody tr th {\n",
       "        vertical-align: top;\n",
       "    }\n",
       "\n",
       "    .dataframe thead th {\n",
       "        text-align: right;\n",
       "    }\n",
       "</style>\n",
       "<table border=\"1\" class=\"dataframe\">\n",
       "  <thead>\n",
       "    <tr style=\"text-align: right;\">\n",
       "      <th></th>\n",
       "      <th>PassengerId</th>\n",
       "      <th>Survived</th>\n",
       "      <th>Pclass</th>\n",
       "      <th>Name</th>\n",
       "      <th>Sex</th>\n",
       "      <th>Age</th>\n",
       "      <th>SibSp</th>\n",
       "      <th>Parch</th>\n",
       "      <th>Ticket</th>\n",
       "      <th>Fare</th>\n",
       "      <th>Cabin</th>\n",
       "      <th>Embarked</th>\n",
       "    </tr>\n",
       "  </thead>\n",
       "  <tbody>\n",
       "    <tr>\n",
       "      <th>0</th>\n",
       "      <td>1</td>\n",
       "      <td>0</td>\n",
       "      <td>3</td>\n",
       "      <td>Braund, Mr. Owen Harris</td>\n",
       "      <td>male</td>\n",
       "      <td>22.0</td>\n",
       "      <td>1</td>\n",
       "      <td>0</td>\n",
       "      <td>A/5 21171</td>\n",
       "      <td>7.2500</td>\n",
       "      <td>NaN</td>\n",
       "      <td>S</td>\n",
       "    </tr>\n",
       "    <tr>\n",
       "      <th>1</th>\n",
       "      <td>2</td>\n",
       "      <td>1</td>\n",
       "      <td>1</td>\n",
       "      <td>Cumings, Mrs. John Bradley (Florence Briggs Th...</td>\n",
       "      <td>female</td>\n",
       "      <td>38.0</td>\n",
       "      <td>1</td>\n",
       "      <td>0</td>\n",
       "      <td>PC 17599</td>\n",
       "      <td>71.2833</td>\n",
       "      <td>C85</td>\n",
       "      <td>C</td>\n",
       "    </tr>\n",
       "    <tr>\n",
       "      <th>2</th>\n",
       "      <td>3</td>\n",
       "      <td>1</td>\n",
       "      <td>3</td>\n",
       "      <td>Heikkinen, Miss. Laina</td>\n",
       "      <td>female</td>\n",
       "      <td>26.0</td>\n",
       "      <td>0</td>\n",
       "      <td>0</td>\n",
       "      <td>STON/O2. 3101282</td>\n",
       "      <td>7.9250</td>\n",
       "      <td>NaN</td>\n",
       "      <td>S</td>\n",
       "    </tr>\n",
       "    <tr>\n",
       "      <th>3</th>\n",
       "      <td>4</td>\n",
       "      <td>1</td>\n",
       "      <td>1</td>\n",
       "      <td>Futrelle, Mrs. Jacques Heath (Lily May Peel)</td>\n",
       "      <td>female</td>\n",
       "      <td>35.0</td>\n",
       "      <td>1</td>\n",
       "      <td>0</td>\n",
       "      <td>113803</td>\n",
       "      <td>53.1000</td>\n",
       "      <td>C123</td>\n",
       "      <td>S</td>\n",
       "    </tr>\n",
       "    <tr>\n",
       "      <th>4</th>\n",
       "      <td>5</td>\n",
       "      <td>0</td>\n",
       "      <td>3</td>\n",
       "      <td>Allen, Mr. William Henry</td>\n",
       "      <td>male</td>\n",
       "      <td>35.0</td>\n",
       "      <td>0</td>\n",
       "      <td>0</td>\n",
       "      <td>373450</td>\n",
       "      <td>8.0500</td>\n",
       "      <td>NaN</td>\n",
       "      <td>S</td>\n",
       "    </tr>\n",
       "  </tbody>\n",
       "</table>\n",
       "</div>"
      ],
      "text/plain": [
       "   PassengerId  Survived  Pclass  \\\n",
       "0            1         0       3   \n",
       "1            2         1       1   \n",
       "2            3         1       3   \n",
       "3            4         1       1   \n",
       "4            5         0       3   \n",
       "\n",
       "                                                Name     Sex   Age  SibSp  \\\n",
       "0                            Braund, Mr. Owen Harris    male  22.0      1   \n",
       "1  Cumings, Mrs. John Bradley (Florence Briggs Th...  female  38.0      1   \n",
       "2                             Heikkinen, Miss. Laina  female  26.0      0   \n",
       "3       Futrelle, Mrs. Jacques Heath (Lily May Peel)  female  35.0      1   \n",
       "4                           Allen, Mr. William Henry    male  35.0      0   \n",
       "\n",
       "   Parch            Ticket     Fare Cabin Embarked  \n",
       "0      0         A/5 21171   7.2500   NaN        S  \n",
       "1      0          PC 17599  71.2833   C85        C  \n",
       "2      0  STON/O2. 3101282   7.9250   NaN        S  \n",
       "3      0            113803  53.1000  C123        S  \n",
       "4      0            373450   8.0500   NaN        S  "
      ]
     },
     "execution_count": 13,
     "metadata": {},
     "output_type": "execute_result"
    }
   ],
   "source": [
    "train = pd.read_csv('../input/titanic/train.csv')\n",
    "train.head()"
   ]
  },
  {
   "cell_type": "code",
   "execution_count": 14,
   "id": "9d00dedf",
   "metadata": {
    "execution": {
     "iopub.execute_input": "2021-12-09T06:44:14.283917Z",
     "iopub.status.busy": "2021-12-09T06:44:14.270725Z",
     "iopub.status.idle": "2021-12-09T06:44:14.297018Z",
     "shell.execute_reply": "2021-12-09T06:44:14.297611Z",
     "shell.execute_reply.started": "2021-12-09T06:02:09.548047Z"
    },
    "papermill": {
     "duration": 0.082354,
     "end_time": "2021-12-09T06:44:14.297779",
     "exception": false,
     "start_time": "2021-12-09T06:44:14.215425",
     "status": "completed"
    },
    "tags": []
   },
   "outputs": [
    {
     "name": "stdout",
     "output_type": "stream",
     "text": [
      "<class 'pandas.core.frame.DataFrame'>\n",
      "RangeIndex: 891 entries, 0 to 890\n",
      "Data columns (total 12 columns):\n",
      " #   Column       Non-Null Count  Dtype  \n",
      "---  ------       --------------  -----  \n",
      " 0   PassengerId  891 non-null    int64  \n",
      " 1   Survived     891 non-null    int64  \n",
      " 2   Pclass       891 non-null    int64  \n",
      " 3   Name         891 non-null    object \n",
      " 4   Sex          891 non-null    object \n",
      " 5   Age          714 non-null    float64\n",
      " 6   SibSp        891 non-null    int64  \n",
      " 7   Parch        891 non-null    int64  \n",
      " 8   Ticket       891 non-null    object \n",
      " 9   Fare         891 non-null    float64\n",
      " 10  Cabin        204 non-null    object \n",
      " 11  Embarked     889 non-null    object \n",
      "dtypes: float64(2), int64(5), object(5)\n",
      "memory usage: 83.7+ KB\n"
     ]
    }
   ],
   "source": [
    "train.info()"
   ]
  },
  {
   "cell_type": "code",
   "execution_count": 15,
   "id": "5feb750f",
   "metadata": {
    "execution": {
     "iopub.execute_input": "2021-12-09T06:44:14.408796Z",
     "iopub.status.busy": "2021-12-09T06:44:14.408169Z",
     "iopub.status.idle": "2021-12-09T06:44:14.442927Z",
     "shell.execute_reply": "2021-12-09T06:44:14.444061Z",
     "shell.execute_reply.started": "2021-12-09T06:03:33.364298Z"
    },
    "papermill": {
     "duration": 0.092165,
     "end_time": "2021-12-09T06:44:14.444256",
     "exception": false,
     "start_time": "2021-12-09T06:44:14.352091",
     "status": "completed"
    },
    "tags": []
   },
   "outputs": [
    {
     "data": {
      "text/html": [
       "<div>\n",
       "<style scoped>\n",
       "    .dataframe tbody tr th:only-of-type {\n",
       "        vertical-align: middle;\n",
       "    }\n",
       "\n",
       "    .dataframe tbody tr th {\n",
       "        vertical-align: top;\n",
       "    }\n",
       "\n",
       "    .dataframe thead th {\n",
       "        text-align: right;\n",
       "    }\n",
       "</style>\n",
       "<table border=\"1\" class=\"dataframe\">\n",
       "  <thead>\n",
       "    <tr style=\"text-align: right;\">\n",
       "      <th></th>\n",
       "      <th>PassengerId</th>\n",
       "      <th>Survived</th>\n",
       "      <th>Pclass</th>\n",
       "      <th>Age</th>\n",
       "      <th>SibSp</th>\n",
       "      <th>Parch</th>\n",
       "      <th>Fare</th>\n",
       "    </tr>\n",
       "  </thead>\n",
       "  <tbody>\n",
       "    <tr>\n",
       "      <th>count</th>\n",
       "      <td>891.000000</td>\n",
       "      <td>891.000000</td>\n",
       "      <td>891.000000</td>\n",
       "      <td>714.000000</td>\n",
       "      <td>891.000000</td>\n",
       "      <td>891.000000</td>\n",
       "      <td>891.000000</td>\n",
       "    </tr>\n",
       "    <tr>\n",
       "      <th>mean</th>\n",
       "      <td>446.000000</td>\n",
       "      <td>0.383838</td>\n",
       "      <td>2.308642</td>\n",
       "      <td>29.699118</td>\n",
       "      <td>0.523008</td>\n",
       "      <td>0.381594</td>\n",
       "      <td>32.204208</td>\n",
       "    </tr>\n",
       "    <tr>\n",
       "      <th>std</th>\n",
       "      <td>257.353842</td>\n",
       "      <td>0.486592</td>\n",
       "      <td>0.836071</td>\n",
       "      <td>14.526497</td>\n",
       "      <td>1.102743</td>\n",
       "      <td>0.806057</td>\n",
       "      <td>49.693429</td>\n",
       "    </tr>\n",
       "    <tr>\n",
       "      <th>min</th>\n",
       "      <td>1.000000</td>\n",
       "      <td>0.000000</td>\n",
       "      <td>1.000000</td>\n",
       "      <td>0.420000</td>\n",
       "      <td>0.000000</td>\n",
       "      <td>0.000000</td>\n",
       "      <td>0.000000</td>\n",
       "    </tr>\n",
       "    <tr>\n",
       "      <th>25%</th>\n",
       "      <td>223.500000</td>\n",
       "      <td>0.000000</td>\n",
       "      <td>2.000000</td>\n",
       "      <td>20.125000</td>\n",
       "      <td>0.000000</td>\n",
       "      <td>0.000000</td>\n",
       "      <td>7.910400</td>\n",
       "    </tr>\n",
       "    <tr>\n",
       "      <th>50%</th>\n",
       "      <td>446.000000</td>\n",
       "      <td>0.000000</td>\n",
       "      <td>3.000000</td>\n",
       "      <td>28.000000</td>\n",
       "      <td>0.000000</td>\n",
       "      <td>0.000000</td>\n",
       "      <td>14.454200</td>\n",
       "    </tr>\n",
       "    <tr>\n",
       "      <th>75%</th>\n",
       "      <td>668.500000</td>\n",
       "      <td>1.000000</td>\n",
       "      <td>3.000000</td>\n",
       "      <td>38.000000</td>\n",
       "      <td>1.000000</td>\n",
       "      <td>0.000000</td>\n",
       "      <td>31.000000</td>\n",
       "    </tr>\n",
       "    <tr>\n",
       "      <th>max</th>\n",
       "      <td>891.000000</td>\n",
       "      <td>1.000000</td>\n",
       "      <td>3.000000</td>\n",
       "      <td>80.000000</td>\n",
       "      <td>8.000000</td>\n",
       "      <td>6.000000</td>\n",
       "      <td>512.329200</td>\n",
       "    </tr>\n",
       "  </tbody>\n",
       "</table>\n",
       "</div>"
      ],
      "text/plain": [
       "       PassengerId    Survived      Pclass         Age       SibSp  \\\n",
       "count   891.000000  891.000000  891.000000  714.000000  891.000000   \n",
       "mean    446.000000    0.383838    2.308642   29.699118    0.523008   \n",
       "std     257.353842    0.486592    0.836071   14.526497    1.102743   \n",
       "min       1.000000    0.000000    1.000000    0.420000    0.000000   \n",
       "25%     223.500000    0.000000    2.000000   20.125000    0.000000   \n",
       "50%     446.000000    0.000000    3.000000   28.000000    0.000000   \n",
       "75%     668.500000    1.000000    3.000000   38.000000    1.000000   \n",
       "max     891.000000    1.000000    3.000000   80.000000    8.000000   \n",
       "\n",
       "            Parch        Fare  \n",
       "count  891.000000  891.000000  \n",
       "mean     0.381594   32.204208  \n",
       "std      0.806057   49.693429  \n",
       "min      0.000000    0.000000  \n",
       "25%      0.000000    7.910400  \n",
       "50%      0.000000   14.454200  \n",
       "75%      0.000000   31.000000  \n",
       "max      6.000000  512.329200  "
      ]
     },
     "execution_count": 15,
     "metadata": {},
     "output_type": "execute_result"
    }
   ],
   "source": [
    "train.describe()"
   ]
  },
  {
   "cell_type": "markdown",
   "id": "e6f5710f",
   "metadata": {
    "papermill": {
     "duration": 0.056309,
     "end_time": "2021-12-09T06:44:14.559103",
     "exception": false,
     "start_time": "2021-12-09T06:44:14.502794",
     "status": "completed"
    },
    "tags": []
   },
   "source": [
    "데이터를 보며 제일 중요한 것은 컬럼명을 살피며 어떤 정보가 어떤 형태로 들어있는지 확인하는 것이다."
   ]
  },
  {
   "cell_type": "markdown",
   "id": "76f52f7d",
   "metadata": {
    "papermill": {
     "duration": 0.053101,
     "end_time": "2021-12-09T06:44:14.667392",
     "exception": false,
     "start_time": "2021-12-09T06:44:14.614291",
     "status": "completed"
    },
    "tags": []
   },
   "source": [
    "### 2.2 [Pandas] 컬럼별로 정보 다루기\n",
    "\n",
    "데이터 분석을 위해서는 있는 값에 연산을 취해서 변경해야하는 상황이 많습니다.\n",
    "\n",
    "예시로 해당 데이터에서 한 사람의 가족 데이터는 형제자매(SibSp)와 부모자녀(Parch)로 나눠져있습니다.\n",
    "\n",
    "이를 사용해 가족 크기 컬럼을 만들 수 있습니다."
   ]
  },
  {
   "cell_type": "code",
   "execution_count": 16,
   "id": "90c33842",
   "metadata": {
    "execution": {
     "iopub.execute_input": "2021-12-09T06:44:14.780681Z",
     "iopub.status.busy": "2021-12-09T06:44:14.779688Z",
     "iopub.status.idle": "2021-12-09T06:44:14.792151Z",
     "shell.execute_reply": "2021-12-09T06:44:14.792642Z",
     "shell.execute_reply.started": "2021-12-09T06:05:23.615911Z"
    },
    "papermill": {
     "duration": 0.072261,
     "end_time": "2021-12-09T06:44:14.792802",
     "exception": false,
     "start_time": "2021-12-09T06:44:14.720541",
     "status": "completed"
    },
    "tags": []
   },
   "outputs": [
    {
     "data": {
      "text/html": [
       "<div>\n",
       "<style scoped>\n",
       "    .dataframe tbody tr th:only-of-type {\n",
       "        vertical-align: middle;\n",
       "    }\n",
       "\n",
       "    .dataframe tbody tr th {\n",
       "        vertical-align: top;\n",
       "    }\n",
       "\n",
       "    .dataframe thead th {\n",
       "        text-align: right;\n",
       "    }\n",
       "</style>\n",
       "<table border=\"1\" class=\"dataframe\">\n",
       "  <thead>\n",
       "    <tr style=\"text-align: right;\">\n",
       "      <th></th>\n",
       "      <th>PassengerId</th>\n",
       "      <th>Survived</th>\n",
       "      <th>Pclass</th>\n",
       "      <th>Name</th>\n",
       "      <th>Sex</th>\n",
       "      <th>Age</th>\n",
       "      <th>SibSp</th>\n",
       "      <th>Parch</th>\n",
       "      <th>Ticket</th>\n",
       "      <th>Fare</th>\n",
       "      <th>Cabin</th>\n",
       "      <th>Embarked</th>\n",
       "      <th>FamilySize</th>\n",
       "    </tr>\n",
       "  </thead>\n",
       "  <tbody>\n",
       "    <tr>\n",
       "      <th>0</th>\n",
       "      <td>1</td>\n",
       "      <td>0</td>\n",
       "      <td>3</td>\n",
       "      <td>Braund, Mr. Owen Harris</td>\n",
       "      <td>male</td>\n",
       "      <td>22.0</td>\n",
       "      <td>1</td>\n",
       "      <td>0</td>\n",
       "      <td>A/5 21171</td>\n",
       "      <td>7.2500</td>\n",
       "      <td>NaN</td>\n",
       "      <td>S</td>\n",
       "      <td>1</td>\n",
       "    </tr>\n",
       "    <tr>\n",
       "      <th>1</th>\n",
       "      <td>2</td>\n",
       "      <td>1</td>\n",
       "      <td>1</td>\n",
       "      <td>Cumings, Mrs. John Bradley (Florence Briggs Th...</td>\n",
       "      <td>female</td>\n",
       "      <td>38.0</td>\n",
       "      <td>1</td>\n",
       "      <td>0</td>\n",
       "      <td>PC 17599</td>\n",
       "      <td>71.2833</td>\n",
       "      <td>C85</td>\n",
       "      <td>C</td>\n",
       "      <td>1</td>\n",
       "    </tr>\n",
       "    <tr>\n",
       "      <th>2</th>\n",
       "      <td>3</td>\n",
       "      <td>1</td>\n",
       "      <td>3</td>\n",
       "      <td>Heikkinen, Miss. Laina</td>\n",
       "      <td>female</td>\n",
       "      <td>26.0</td>\n",
       "      <td>0</td>\n",
       "      <td>0</td>\n",
       "      <td>STON/O2. 3101282</td>\n",
       "      <td>7.9250</td>\n",
       "      <td>NaN</td>\n",
       "      <td>S</td>\n",
       "      <td>0</td>\n",
       "    </tr>\n",
       "    <tr>\n",
       "      <th>3</th>\n",
       "      <td>4</td>\n",
       "      <td>1</td>\n",
       "      <td>1</td>\n",
       "      <td>Futrelle, Mrs. Jacques Heath (Lily May Peel)</td>\n",
       "      <td>female</td>\n",
       "      <td>35.0</td>\n",
       "      <td>1</td>\n",
       "      <td>0</td>\n",
       "      <td>113803</td>\n",
       "      <td>53.1000</td>\n",
       "      <td>C123</td>\n",
       "      <td>S</td>\n",
       "      <td>1</td>\n",
       "    </tr>\n",
       "    <tr>\n",
       "      <th>4</th>\n",
       "      <td>5</td>\n",
       "      <td>0</td>\n",
       "      <td>3</td>\n",
       "      <td>Allen, Mr. William Henry</td>\n",
       "      <td>male</td>\n",
       "      <td>35.0</td>\n",
       "      <td>0</td>\n",
       "      <td>0</td>\n",
       "      <td>373450</td>\n",
       "      <td>8.0500</td>\n",
       "      <td>NaN</td>\n",
       "      <td>S</td>\n",
       "      <td>0</td>\n",
       "    </tr>\n",
       "  </tbody>\n",
       "</table>\n",
       "</div>"
      ],
      "text/plain": [
       "   PassengerId  Survived  Pclass  \\\n",
       "0            1         0       3   \n",
       "1            2         1       1   \n",
       "2            3         1       3   \n",
       "3            4         1       1   \n",
       "4            5         0       3   \n",
       "\n",
       "                                                Name     Sex   Age  SibSp  \\\n",
       "0                            Braund, Mr. Owen Harris    male  22.0      1   \n",
       "1  Cumings, Mrs. John Bradley (Florence Briggs Th...  female  38.0      1   \n",
       "2                             Heikkinen, Miss. Laina  female  26.0      0   \n",
       "3       Futrelle, Mrs. Jacques Heath (Lily May Peel)  female  35.0      1   \n",
       "4                           Allen, Mr. William Henry    male  35.0      0   \n",
       "\n",
       "   Parch            Ticket     Fare Cabin Embarked  FamilySize  \n",
       "0      0         A/5 21171   7.2500   NaN        S           1  \n",
       "1      0          PC 17599  71.2833   C85        C           1  \n",
       "2      0  STON/O2. 3101282   7.9250   NaN        S           0  \n",
       "3      0            113803  53.1000  C123        S           1  \n",
       "4      0            373450   8.0500   NaN        S           0  "
      ]
     },
     "execution_count": 16,
     "metadata": {},
     "output_type": "execute_result"
    }
   ],
   "source": [
    "train['FamilySize'] = train['SibSp'] + train['Parch']\n",
    "train.head()"
   ]
  },
  {
   "cell_type": "markdown",
   "id": "100b89f7",
   "metadata": {
    "papermill": {
     "duration": 0.054612,
     "end_time": "2021-12-09T06:44:14.901063",
     "exception": false,
     "start_time": "2021-12-09T06:44:14.846451",
     "status": "completed"
    },
    "tags": []
   },
   "source": [
    "또는 나이정보를 나이대 정보로 변환해서 10대, 20대 등의 정보를 구분해서 살펴볼 수도 있습니다\n",
    "\n",
    "이는 apply라는 메서드를 사용해서 바꿀 수 있습니다."
   ]
  },
  {
   "cell_type": "code",
   "execution_count": 17,
   "id": "64754682",
   "metadata": {
    "execution": {
     "iopub.execute_input": "2021-12-09T06:44:15.013426Z",
     "iopub.status.busy": "2021-12-09T06:44:15.012444Z",
     "iopub.status.idle": "2021-12-09T06:44:15.032538Z",
     "shell.execute_reply": "2021-12-09T06:44:15.032068Z",
     "shell.execute_reply.started": "2021-12-09T06:06:29.873743Z"
    },
    "papermill": {
     "duration": 0.077715,
     "end_time": "2021-12-09T06:44:15.032675",
     "exception": false,
     "start_time": "2021-12-09T06:44:14.954960",
     "status": "completed"
    },
    "tags": []
   },
   "outputs": [
    {
     "name": "stdout",
     "output_type": "stream",
     "text": [
      "20 ~ 29\n"
     ]
    },
    {
     "data": {
      "text/html": [
       "<div>\n",
       "<style scoped>\n",
       "    .dataframe tbody tr th:only-of-type {\n",
       "        vertical-align: middle;\n",
       "    }\n",
       "\n",
       "    .dataframe tbody tr th {\n",
       "        vertical-align: top;\n",
       "    }\n",
       "\n",
       "    .dataframe thead th {\n",
       "        text-align: right;\n",
       "    }\n",
       "</style>\n",
       "<table border=\"1\" class=\"dataframe\">\n",
       "  <thead>\n",
       "    <tr style=\"text-align: right;\">\n",
       "      <th></th>\n",
       "      <th>PassengerId</th>\n",
       "      <th>Survived</th>\n",
       "      <th>Pclass</th>\n",
       "      <th>Name</th>\n",
       "      <th>Sex</th>\n",
       "      <th>Age</th>\n",
       "      <th>SibSp</th>\n",
       "      <th>Parch</th>\n",
       "      <th>Ticket</th>\n",
       "      <th>Fare</th>\n",
       "      <th>Cabin</th>\n",
       "      <th>Embarked</th>\n",
       "      <th>FamilySize</th>\n",
       "      <th>AgeBand</th>\n",
       "    </tr>\n",
       "  </thead>\n",
       "  <tbody>\n",
       "    <tr>\n",
       "      <th>0</th>\n",
       "      <td>1</td>\n",
       "      <td>0</td>\n",
       "      <td>3</td>\n",
       "      <td>Braund, Mr. Owen Harris</td>\n",
       "      <td>male</td>\n",
       "      <td>22.0</td>\n",
       "      <td>1</td>\n",
       "      <td>0</td>\n",
       "      <td>A/5 21171</td>\n",
       "      <td>7.2500</td>\n",
       "      <td>NaN</td>\n",
       "      <td>S</td>\n",
       "      <td>1</td>\n",
       "      <td>20 ~ 29</td>\n",
       "    </tr>\n",
       "    <tr>\n",
       "      <th>1</th>\n",
       "      <td>2</td>\n",
       "      <td>1</td>\n",
       "      <td>1</td>\n",
       "      <td>Cumings, Mrs. John Bradley (Florence Briggs Th...</td>\n",
       "      <td>female</td>\n",
       "      <td>38.0</td>\n",
       "      <td>1</td>\n",
       "      <td>0</td>\n",
       "      <td>PC 17599</td>\n",
       "      <td>71.2833</td>\n",
       "      <td>C85</td>\n",
       "      <td>C</td>\n",
       "      <td>1</td>\n",
       "      <td>30 ~ 39</td>\n",
       "    </tr>\n",
       "    <tr>\n",
       "      <th>2</th>\n",
       "      <td>3</td>\n",
       "      <td>1</td>\n",
       "      <td>3</td>\n",
       "      <td>Heikkinen, Miss. Laina</td>\n",
       "      <td>female</td>\n",
       "      <td>26.0</td>\n",
       "      <td>0</td>\n",
       "      <td>0</td>\n",
       "      <td>STON/O2. 3101282</td>\n",
       "      <td>7.9250</td>\n",
       "      <td>NaN</td>\n",
       "      <td>S</td>\n",
       "      <td>0</td>\n",
       "      <td>20 ~ 29</td>\n",
       "    </tr>\n",
       "    <tr>\n",
       "      <th>3</th>\n",
       "      <td>4</td>\n",
       "      <td>1</td>\n",
       "      <td>1</td>\n",
       "      <td>Futrelle, Mrs. Jacques Heath (Lily May Peel)</td>\n",
       "      <td>female</td>\n",
       "      <td>35.0</td>\n",
       "      <td>1</td>\n",
       "      <td>0</td>\n",
       "      <td>113803</td>\n",
       "      <td>53.1000</td>\n",
       "      <td>C123</td>\n",
       "      <td>S</td>\n",
       "      <td>1</td>\n",
       "      <td>30 ~ 39</td>\n",
       "    </tr>\n",
       "    <tr>\n",
       "      <th>4</th>\n",
       "      <td>5</td>\n",
       "      <td>0</td>\n",
       "      <td>3</td>\n",
       "      <td>Allen, Mr. William Henry</td>\n",
       "      <td>male</td>\n",
       "      <td>35.0</td>\n",
       "      <td>0</td>\n",
       "      <td>0</td>\n",
       "      <td>373450</td>\n",
       "      <td>8.0500</td>\n",
       "      <td>NaN</td>\n",
       "      <td>S</td>\n",
       "      <td>0</td>\n",
       "      <td>30 ~ 39</td>\n",
       "    </tr>\n",
       "  </tbody>\n",
       "</table>\n",
       "</div>"
      ],
      "text/plain": [
       "   PassengerId  Survived  Pclass  \\\n",
       "0            1         0       3   \n",
       "1            2         1       1   \n",
       "2            3         1       3   \n",
       "3            4         1       1   \n",
       "4            5         0       3   \n",
       "\n",
       "                                                Name     Sex   Age  SibSp  \\\n",
       "0                            Braund, Mr. Owen Harris    male  22.0      1   \n",
       "1  Cumings, Mrs. John Bradley (Florence Briggs Th...  female  38.0      1   \n",
       "2                             Heikkinen, Miss. Laina  female  26.0      0   \n",
       "3       Futrelle, Mrs. Jacques Heath (Lily May Peel)  female  35.0      1   \n",
       "4                           Allen, Mr. William Henry    male  35.0      0   \n",
       "\n",
       "   Parch            Ticket     Fare Cabin Embarked  FamilySize  AgeBand  \n",
       "0      0         A/5 21171   7.2500   NaN        S           1  20 ~ 29  \n",
       "1      0          PC 17599  71.2833   C85        C           1  30 ~ 39  \n",
       "2      0  STON/O2. 3101282   7.9250   NaN        S           0  20 ~ 29  \n",
       "3      0            113803  53.1000  C123        S           1  30 ~ 39  \n",
       "4      0            373450   8.0500   NaN        S           0  30 ~ 39  "
      ]
     },
     "execution_count": 17,
     "metadata": {},
     "output_type": "execute_result"
    }
   ],
   "source": [
    "def age_band(age):\n",
    "    for i in range(1, 10):\n",
    "        if age < i*10 : \n",
    "            return f'{(i-1)*10} ~ {i*10-1}'\n",
    "\n",
    "print(age_band(20))\n",
    "\n",
    "train['AgeBand'] = train['Age'].apply(age_band)\n",
    "train.head()"
   ]
  },
  {
   "cell_type": "markdown",
   "id": "46ad0d14",
   "metadata": {
    "papermill": {
     "duration": 0.054034,
     "end_time": "2021-12-09T06:44:15.142375",
     "exception": false,
     "start_time": "2021-12-09T06:44:15.088341",
     "status": "completed"
    },
    "tags": []
   },
   "source": [
    "바뀐 데이터셋을 확인해봅시다."
   ]
  },
  {
   "cell_type": "code",
   "execution_count": 18,
   "id": "f01f4cc8",
   "metadata": {
    "execution": {
     "iopub.execute_input": "2021-12-09T06:44:15.263349Z",
     "iopub.status.busy": "2021-12-09T06:44:15.262347Z",
     "iopub.status.idle": "2021-12-09T06:44:15.271839Z",
     "shell.execute_reply": "2021-12-09T06:44:15.272370Z",
     "shell.execute_reply.started": "2021-12-09T06:06:54.214487Z"
    },
    "papermill": {
     "duration": 0.07577,
     "end_time": "2021-12-09T06:44:15.272542",
     "exception": false,
     "start_time": "2021-12-09T06:44:15.196772",
     "status": "completed"
    },
    "tags": []
   },
   "outputs": [
    {
     "data": {
      "text/html": [
       "<div>\n",
       "<style scoped>\n",
       "    .dataframe tbody tr th:only-of-type {\n",
       "        vertical-align: middle;\n",
       "    }\n",
       "\n",
       "    .dataframe tbody tr th {\n",
       "        vertical-align: top;\n",
       "    }\n",
       "\n",
       "    .dataframe thead th {\n",
       "        text-align: right;\n",
       "    }\n",
       "</style>\n",
       "<table border=\"1\" class=\"dataframe\">\n",
       "  <thead>\n",
       "    <tr style=\"text-align: right;\">\n",
       "      <th></th>\n",
       "      <th>PassengerId</th>\n",
       "      <th>Survived</th>\n",
       "      <th>Pclass</th>\n",
       "      <th>Name</th>\n",
       "      <th>Sex</th>\n",
       "      <th>Age</th>\n",
       "      <th>SibSp</th>\n",
       "      <th>Parch</th>\n",
       "      <th>Ticket</th>\n",
       "      <th>Fare</th>\n",
       "      <th>Cabin</th>\n",
       "      <th>Embarked</th>\n",
       "      <th>FamilySize</th>\n",
       "      <th>AgeBand</th>\n",
       "    </tr>\n",
       "  </thead>\n",
       "  <tbody>\n",
       "    <tr>\n",
       "      <th>0</th>\n",
       "      <td>1</td>\n",
       "      <td>0</td>\n",
       "      <td>3</td>\n",
       "      <td>Braund, Mr. Owen Harris</td>\n",
       "      <td>male</td>\n",
       "      <td>22.0</td>\n",
       "      <td>1</td>\n",
       "      <td>0</td>\n",
       "      <td>A/5 21171</td>\n",
       "      <td>7.2500</td>\n",
       "      <td>NaN</td>\n",
       "      <td>S</td>\n",
       "      <td>1</td>\n",
       "      <td>20 ~ 29</td>\n",
       "    </tr>\n",
       "    <tr>\n",
       "      <th>1</th>\n",
       "      <td>2</td>\n",
       "      <td>1</td>\n",
       "      <td>1</td>\n",
       "      <td>Cumings, Mrs. John Bradley (Florence Briggs Th...</td>\n",
       "      <td>female</td>\n",
       "      <td>38.0</td>\n",
       "      <td>1</td>\n",
       "      <td>0</td>\n",
       "      <td>PC 17599</td>\n",
       "      <td>71.2833</td>\n",
       "      <td>C85</td>\n",
       "      <td>C</td>\n",
       "      <td>1</td>\n",
       "      <td>30 ~ 39</td>\n",
       "    </tr>\n",
       "    <tr>\n",
       "      <th>2</th>\n",
       "      <td>3</td>\n",
       "      <td>1</td>\n",
       "      <td>3</td>\n",
       "      <td>Heikkinen, Miss. Laina</td>\n",
       "      <td>female</td>\n",
       "      <td>26.0</td>\n",
       "      <td>0</td>\n",
       "      <td>0</td>\n",
       "      <td>STON/O2. 3101282</td>\n",
       "      <td>7.9250</td>\n",
       "      <td>NaN</td>\n",
       "      <td>S</td>\n",
       "      <td>0</td>\n",
       "      <td>20 ~ 29</td>\n",
       "    </tr>\n",
       "    <tr>\n",
       "      <th>3</th>\n",
       "      <td>4</td>\n",
       "      <td>1</td>\n",
       "      <td>1</td>\n",
       "      <td>Futrelle, Mrs. Jacques Heath (Lily May Peel)</td>\n",
       "      <td>female</td>\n",
       "      <td>35.0</td>\n",
       "      <td>1</td>\n",
       "      <td>0</td>\n",
       "      <td>113803</td>\n",
       "      <td>53.1000</td>\n",
       "      <td>C123</td>\n",
       "      <td>S</td>\n",
       "      <td>1</td>\n",
       "      <td>30 ~ 39</td>\n",
       "    </tr>\n",
       "    <tr>\n",
       "      <th>4</th>\n",
       "      <td>5</td>\n",
       "      <td>0</td>\n",
       "      <td>3</td>\n",
       "      <td>Allen, Mr. William Henry</td>\n",
       "      <td>male</td>\n",
       "      <td>35.0</td>\n",
       "      <td>0</td>\n",
       "      <td>0</td>\n",
       "      <td>373450</td>\n",
       "      <td>8.0500</td>\n",
       "      <td>NaN</td>\n",
       "      <td>S</td>\n",
       "      <td>0</td>\n",
       "      <td>30 ~ 39</td>\n",
       "    </tr>\n",
       "  </tbody>\n",
       "</table>\n",
       "</div>"
      ],
      "text/plain": [
       "   PassengerId  Survived  Pclass  \\\n",
       "0            1         0       3   \n",
       "1            2         1       1   \n",
       "2            3         1       3   \n",
       "3            4         1       1   \n",
       "4            5         0       3   \n",
       "\n",
       "                                                Name     Sex   Age  SibSp  \\\n",
       "0                            Braund, Mr. Owen Harris    male  22.0      1   \n",
       "1  Cumings, Mrs. John Bradley (Florence Briggs Th...  female  38.0      1   \n",
       "2                             Heikkinen, Miss. Laina  female  26.0      0   \n",
       "3       Futrelle, Mrs. Jacques Heath (Lily May Peel)  female  35.0      1   \n",
       "4                           Allen, Mr. William Henry    male  35.0      0   \n",
       "\n",
       "   Parch            Ticket     Fare Cabin Embarked  FamilySize  AgeBand  \n",
       "0      0         A/5 21171   7.2500   NaN        S           1  20 ~ 29  \n",
       "1      0          PC 17599  71.2833   C85        C           1  30 ~ 39  \n",
       "2      0  STON/O2. 3101282   7.9250   NaN        S           0  20 ~ 29  \n",
       "3      0            113803  53.1000  C123        S           1  30 ~ 39  \n",
       "4      0            373450   8.0500   NaN        S           0  30 ~ 39  "
      ]
     },
     "execution_count": 18,
     "metadata": {},
     "output_type": "execute_result"
    }
   ],
   "source": [
    "train.head()"
   ]
  },
  {
   "cell_type": "markdown",
   "id": "df538818",
   "metadata": {
    "papermill": {
     "duration": 0.055049,
     "end_time": "2021-12-09T06:44:15.383073",
     "exception": false,
     "start_time": "2021-12-09T06:44:15.328024",
     "status": "completed"
    },
    "tags": []
   },
   "source": [
    "### 2.3 [Pandas] 데이터에서 정보를 얻어내기 쉬운 테크닉\n",
    "\n",
    "엑셀/스프레드시트처럼 다양한 정보를 뽑아내고 싶다면 다양한 메서드를 사용할 수 있습니다.\n",
    "\n",
    "- `value_counts` : 개수 카운팅\n",
    "    - `mean`, `max`, `min`, `medium` 등의 대푯값도 사용가능\n",
    "- `groupby` : 그룹으로 묶기"
   ]
  },
  {
   "cell_type": "code",
   "execution_count": 19,
   "id": "8fad657f",
   "metadata": {
    "execution": {
     "iopub.execute_input": "2021-12-09T06:44:15.496949Z",
     "iopub.status.busy": "2021-12-09T06:44:15.496023Z",
     "iopub.status.idle": "2021-12-09T06:44:15.503365Z",
     "shell.execute_reply": "2021-12-09T06:44:15.504009Z",
     "shell.execute_reply.started": "2021-12-09T06:07:35.028486Z"
    },
    "papermill": {
     "duration": 0.066074,
     "end_time": "2021-12-09T06:44:15.504193",
     "exception": false,
     "start_time": "2021-12-09T06:44:15.438119",
     "status": "completed"
    },
    "tags": []
   },
   "outputs": [
    {
     "data": {
      "text/plain": [
       "3    491\n",
       "1    216\n",
       "2    184\n",
       "Name: Pclass, dtype: int64"
      ]
     },
     "execution_count": 19,
     "metadata": {},
     "output_type": "execute_result"
    }
   ],
   "source": [
    "train['Pclass'].value_counts()"
   ]
  },
  {
   "cell_type": "code",
   "execution_count": 20,
   "id": "3edddc8d",
   "metadata": {
    "execution": {
     "iopub.execute_input": "2021-12-09T06:44:15.625887Z",
     "iopub.status.busy": "2021-12-09T06:44:15.624944Z",
     "iopub.status.idle": "2021-12-09T06:44:15.629991Z",
     "shell.execute_reply": "2021-12-09T06:44:15.630651Z",
     "shell.execute_reply.started": "2021-12-09T06:08:24.544536Z"
    },
    "papermill": {
     "duration": 0.070595,
     "end_time": "2021-12-09T06:44:15.630821",
     "exception": false,
     "start_time": "2021-12-09T06:44:15.560226",
     "status": "completed"
    },
    "tags": []
   },
   "outputs": [
    {
     "data": {
      "text/plain": [
       "male      577\n",
       "female    314\n",
       "Name: Sex, dtype: int64"
      ]
     },
     "execution_count": 20,
     "metadata": {},
     "output_type": "execute_result"
    }
   ],
   "source": [
    "train['Sex'].value_counts()"
   ]
  },
  {
   "cell_type": "markdown",
   "id": "b3a12e95",
   "metadata": {
    "papermill": {
     "duration": 0.055629,
     "end_time": "2021-12-09T06:44:15.742038",
     "exception": false,
     "start_time": "2021-12-09T06:44:15.686409",
     "status": "completed"
    },
    "tags": []
   },
   "source": [
    "개수에 따라 자동 정렬되고 만약 카테고리별로 정렬하고 싶다면 정렬을 추가로 진행할 수 있습니다."
   ]
  },
  {
   "cell_type": "code",
   "execution_count": 21,
   "id": "b28d2ee7",
   "metadata": {
    "execution": {
     "iopub.execute_input": "2021-12-09T06:44:15.858285Z",
     "iopub.status.busy": "2021-12-09T06:44:15.857134Z",
     "iopub.status.idle": "2021-12-09T06:44:15.866294Z",
     "shell.execute_reply": "2021-12-09T06:44:15.866995Z",
     "shell.execute_reply.started": "2021-12-09T06:08:00.197817Z"
    },
    "papermill": {
     "duration": 0.06948,
     "end_time": "2021-12-09T06:44:15.867250",
     "exception": false,
     "start_time": "2021-12-09T06:44:15.797770",
     "status": "completed"
    },
    "tags": []
   },
   "outputs": [
    {
     "data": {
      "text/plain": [
       "1    216\n",
       "2    184\n",
       "3    491\n",
       "Name: Pclass, dtype: int64"
      ]
     },
     "execution_count": 21,
     "metadata": {},
     "output_type": "execute_result"
    }
   ],
   "source": [
    "train['Pclass'].value_counts().sort_index()"
   ]
  },
  {
   "cell_type": "markdown",
   "id": "35e5d52f",
   "metadata": {
    "papermill": {
     "duration": 0.055302,
     "end_time": "2021-12-09T06:44:15.980334",
     "exception": false,
     "start_time": "2021-12-09T06:44:15.925032",
     "status": "completed"
    },
    "tags": []
   },
   "source": [
    "생존확률을 계산하기 위해 다음과 같이 진행할 수도 있습니다.\n",
    "\n",
    "1. 성별으로 묶는다.\n",
    "2. 생존 여부 데이터를 불러온다.\n",
    "3. 성별에 따라 생존여부의 평균을 구한다."
   ]
  },
  {
   "cell_type": "code",
   "execution_count": 22,
   "id": "08f4393c",
   "metadata": {
    "execution": {
     "iopub.execute_input": "2021-12-09T06:44:16.097758Z",
     "iopub.status.busy": "2021-12-09T06:44:16.096816Z",
     "iopub.status.idle": "2021-12-09T06:44:16.103926Z",
     "shell.execute_reply": "2021-12-09T06:44:16.104481Z",
     "shell.execute_reply.started": "2021-12-09T06:09:48.504077Z"
    },
    "papermill": {
     "duration": 0.067856,
     "end_time": "2021-12-09T06:44:16.104644",
     "exception": false,
     "start_time": "2021-12-09T06:44:16.036788",
     "status": "completed"
    },
    "tags": []
   },
   "outputs": [
    {
     "data": {
      "text/plain": [
       "0.18890814558058924"
      ]
     },
     "execution_count": 22,
     "metadata": {},
     "output_type": "execute_result"
    }
   ],
   "source": [
    "train[train['Sex']=='male']['Survived'].mean()"
   ]
  },
  {
   "cell_type": "code",
   "execution_count": 23,
   "id": "3b611fc8",
   "metadata": {
    "execution": {
     "iopub.execute_input": "2021-12-09T06:44:16.219558Z",
     "iopub.status.busy": "2021-12-09T06:44:16.218589Z",
     "iopub.status.idle": "2021-12-09T06:44:16.225195Z",
     "shell.execute_reply": "2021-12-09T06:44:16.225743Z",
     "shell.execute_reply.started": "2021-12-09T06:09:55.540980Z"
    },
    "papermill": {
     "duration": 0.065589,
     "end_time": "2021-12-09T06:44:16.225923",
     "exception": false,
     "start_time": "2021-12-09T06:44:16.160334",
     "status": "completed"
    },
    "tags": []
   },
   "outputs": [
    {
     "data": {
      "text/plain": [
       "0.7420382165605095"
      ]
     },
     "execution_count": 23,
     "metadata": {},
     "output_type": "execute_result"
    }
   ],
   "source": [
    "train[train['Sex']=='female']['Survived'].mean()"
   ]
  },
  {
   "cell_type": "code",
   "execution_count": 24,
   "id": "0a4ab069",
   "metadata": {
    "execution": {
     "iopub.execute_input": "2021-12-09T06:44:16.343469Z",
     "iopub.status.busy": "2021-12-09T06:44:16.342791Z",
     "iopub.status.idle": "2021-12-09T06:44:16.352111Z",
     "shell.execute_reply": "2021-12-09T06:44:16.351544Z",
     "shell.execute_reply.started": "2021-12-09T06:10:45.114812Z"
    },
    "papermill": {
     "duration": 0.070614,
     "end_time": "2021-12-09T06:44:16.352257",
     "exception": false,
     "start_time": "2021-12-09T06:44:16.281643",
     "status": "completed"
    },
    "tags": []
   },
   "outputs": [
    {
     "data": {
      "text/plain": [
       "Sex\n",
       "female    0.742038\n",
       "male      0.188908\n",
       "Name: Survived, dtype: float64"
      ]
     },
     "execution_count": 24,
     "metadata": {},
     "output_type": "execute_result"
    }
   ],
   "source": [
    "train.groupby('Sex')['Survived'].mean()"
   ]
  },
  {
   "cell_type": "markdown",
   "id": "55fdc197",
   "metadata": {
    "papermill": {
     "duration": 0.056378,
     "end_time": "2021-12-09T06:44:16.465567",
     "exception": false,
     "start_time": "2021-12-09T06:44:16.409189",
     "status": "completed"
    },
    "tags": []
   },
   "source": [
    "좀 더 그룹을 디테일하게 묶을 수도 있습니다."
   ]
  },
  {
   "cell_type": "code",
   "execution_count": 25,
   "id": "e0d67f44",
   "metadata": {
    "execution": {
     "iopub.execute_input": "2021-12-09T06:44:16.585532Z",
     "iopub.status.busy": "2021-12-09T06:44:16.584589Z",
     "iopub.status.idle": "2021-12-09T06:44:16.592361Z",
     "shell.execute_reply": "2021-12-09T06:44:16.592841Z",
     "shell.execute_reply.started": "2021-12-09T06:11:12.522185Z"
    },
    "papermill": {
     "duration": 0.070968,
     "end_time": "2021-12-09T06:44:16.593027",
     "exception": false,
     "start_time": "2021-12-09T06:44:16.522059",
     "status": "completed"
    },
    "tags": []
   },
   "outputs": [
    {
     "data": {
      "text/plain": [
       "Pclass  Sex   \n",
       "1       female    0.968085\n",
       "        male      0.368852\n",
       "2       female    0.921053\n",
       "        male      0.157407\n",
       "3       female    0.500000\n",
       "        male      0.135447\n",
       "Name: Survived, dtype: float64"
      ]
     },
     "execution_count": 25,
     "metadata": {},
     "output_type": "execute_result"
    }
   ],
   "source": [
    "train.groupby(['Pclass', 'Sex'])['Survived'].mean()"
   ]
  },
  {
   "cell_type": "markdown",
   "id": "0521fd36",
   "metadata": {
    "papermill": {
     "duration": 0.057242,
     "end_time": "2021-12-09T06:44:16.708073",
     "exception": false,
     "start_time": "2021-12-09T06:44:16.650831",
     "status": "completed"
    },
    "tags": []
   },
   "source": [
    "위의 정보를 DataFrame으로 묶으면 테이블 형식으로 볼 수 있습니다."
   ]
  },
  {
   "cell_type": "code",
   "execution_count": 26,
   "id": "c39b1aff",
   "metadata": {
    "execution": {
     "iopub.execute_input": "2021-12-09T06:44:16.825021Z",
     "iopub.status.busy": "2021-12-09T06:44:16.824368Z",
     "iopub.status.idle": "2021-12-09T06:44:16.834494Z",
     "shell.execute_reply": "2021-12-09T06:44:16.834999Z",
     "shell.execute_reply.started": "2021-12-09T06:11:48.747602Z"
    },
    "papermill": {
     "duration": 0.070455,
     "end_time": "2021-12-09T06:44:16.835178",
     "exception": false,
     "start_time": "2021-12-09T06:44:16.764723",
     "status": "completed"
    },
    "tags": []
   },
   "outputs": [
    {
     "data": {
      "text/html": [
       "<div>\n",
       "<style scoped>\n",
       "    .dataframe tbody tr th:only-of-type {\n",
       "        vertical-align: middle;\n",
       "    }\n",
       "\n",
       "    .dataframe tbody tr th {\n",
       "        vertical-align: top;\n",
       "    }\n",
       "\n",
       "    .dataframe thead th {\n",
       "        text-align: right;\n",
       "    }\n",
       "</style>\n",
       "<table border=\"1\" class=\"dataframe\">\n",
       "  <thead>\n",
       "    <tr style=\"text-align: right;\">\n",
       "      <th></th>\n",
       "      <th></th>\n",
       "      <th>Survived</th>\n",
       "    </tr>\n",
       "    <tr>\n",
       "      <th>Pclass</th>\n",
       "      <th>Sex</th>\n",
       "      <th></th>\n",
       "    </tr>\n",
       "  </thead>\n",
       "  <tbody>\n",
       "    <tr>\n",
       "      <th rowspan=\"2\" valign=\"top\">1</th>\n",
       "      <th>female</th>\n",
       "      <td>0.968085</td>\n",
       "    </tr>\n",
       "    <tr>\n",
       "      <th>male</th>\n",
       "      <td>0.368852</td>\n",
       "    </tr>\n",
       "    <tr>\n",
       "      <th rowspan=\"2\" valign=\"top\">2</th>\n",
       "      <th>female</th>\n",
       "      <td>0.921053</td>\n",
       "    </tr>\n",
       "    <tr>\n",
       "      <th>male</th>\n",
       "      <td>0.157407</td>\n",
       "    </tr>\n",
       "    <tr>\n",
       "      <th rowspan=\"2\" valign=\"top\">3</th>\n",
       "      <th>female</th>\n",
       "      <td>0.500000</td>\n",
       "    </tr>\n",
       "    <tr>\n",
       "      <th>male</th>\n",
       "      <td>0.135447</td>\n",
       "    </tr>\n",
       "  </tbody>\n",
       "</table>\n",
       "</div>"
      ],
      "text/plain": [
       "               Survived\n",
       "Pclass Sex             \n",
       "1      female  0.968085\n",
       "       male    0.368852\n",
       "2      female  0.921053\n",
       "       male    0.157407\n",
       "3      female  0.500000\n",
       "       male    0.135447"
      ]
     },
     "execution_count": 26,
     "metadata": {},
     "output_type": "execute_result"
    }
   ],
   "source": [
    "pd.DataFrame(train.groupby(['Pclass', 'Sex'])['Survived'].mean())"
   ]
  },
  {
   "cell_type": "markdown",
   "id": "23ed806e",
   "metadata": {
    "papermill": {
     "duration": 0.056832,
     "end_time": "2021-12-09T06:44:16.949211",
     "exception": false,
     "start_time": "2021-12-09T06:44:16.892379",
     "status": "completed"
    },
    "tags": []
   },
   "source": [
    "조금 더 많은 테크닉을 사용하여 pandas의 DataFrame에 디자인을 추가할 수도 있습니다."
   ]
  },
  {
   "cell_type": "code",
   "execution_count": 27,
   "id": "f4ed680a",
   "metadata": {
    "execution": {
     "iopub.execute_input": "2021-12-09T06:44:17.068938Z",
     "iopub.status.busy": "2021-12-09T06:44:17.067920Z",
     "iopub.status.idle": "2021-12-09T06:44:17.133378Z",
     "shell.execute_reply": "2021-12-09T06:44:17.133825Z",
     "shell.execute_reply.started": "2021-12-09T06:12:19.200400Z"
    },
    "papermill": {
     "duration": 0.127823,
     "end_time": "2021-12-09T06:44:17.134007",
     "exception": false,
     "start_time": "2021-12-09T06:44:17.006184",
     "status": "completed"
    },
    "tags": []
   },
   "outputs": [
    {
     "data": {
      "text/html": [
       "<style type=\"text/css\">\n",
       "#T_63b12_row0_col0 {\n",
       "  width: 10em;\n",
       "  height: 80%;\n",
       "  background: linear-gradient(90deg,#205ff2 100.0%, transparent 100.0%);\n",
       "}\n",
       "#T_63b12_row1_col0 {\n",
       "  width: 10em;\n",
       "  height: 80%;\n",
       "  background: linear-gradient(90deg,#205ff2 28.0%, transparent 28.0%);\n",
       "}\n",
       "#T_63b12_row2_col0 {\n",
       "  width: 10em;\n",
       "  height: 80%;\n",
       "  background: linear-gradient(90deg,#205ff2 94.4%, transparent 94.4%);\n",
       "}\n",
       "#T_63b12_row3_col0 {\n",
       "  width: 10em;\n",
       "  height: 80%;\n",
       "  background: linear-gradient(90deg,#205ff2 2.6%, transparent 2.6%);\n",
       "}\n",
       "#T_63b12_row4_col0 {\n",
       "  width: 10em;\n",
       "  height: 80%;\n",
       "  background: linear-gradient(90deg,#205ff2 43.8%, transparent 43.8%);\n",
       "}\n",
       "#T_63b12_row5_col0 {\n",
       "  width: 10em;\n",
       "  height: 80%;\n",
       "}\n",
       "</style>\n",
       "<table id=\"T_63b12_\">\n",
       "  <thead>\n",
       "    <tr>\n",
       "      <th class=\"blank\" >&nbsp;</th>\n",
       "      <th class=\"blank level0\" >&nbsp;</th>\n",
       "      <th class=\"col_heading level0 col0\" >Survived</th>\n",
       "    </tr>\n",
       "    <tr>\n",
       "      <th class=\"index_name level0\" >Pclass</th>\n",
       "      <th class=\"index_name level1\" >Sex</th>\n",
       "      <th class=\"blank col0\" >&nbsp;</th>\n",
       "    </tr>\n",
       "  </thead>\n",
       "  <tbody>\n",
       "    <tr>\n",
       "      <th id=\"T_63b12_level0_row0\" class=\"row_heading level0 row0\" rowspan=\"2\">1</th>\n",
       "      <th id=\"T_63b12_level1_row0\" class=\"row_heading level1 row0\" >female</th>\n",
       "      <td id=\"T_63b12_row0_col0\" class=\"data row0 col0\" >0.968085</td>\n",
       "    </tr>\n",
       "    <tr>\n",
       "      <th id=\"T_63b12_level1_row1\" class=\"row_heading level1 row1\" >male</th>\n",
       "      <td id=\"T_63b12_row1_col0\" class=\"data row1 col0\" >0.368852</td>\n",
       "    </tr>\n",
       "    <tr>\n",
       "      <th id=\"T_63b12_level0_row2\" class=\"row_heading level0 row2\" rowspan=\"2\">2</th>\n",
       "      <th id=\"T_63b12_level1_row2\" class=\"row_heading level1 row2\" >female</th>\n",
       "      <td id=\"T_63b12_row2_col0\" class=\"data row2 col0\" >0.921053</td>\n",
       "    </tr>\n",
       "    <tr>\n",
       "      <th id=\"T_63b12_level1_row3\" class=\"row_heading level1 row3\" >male</th>\n",
       "      <td id=\"T_63b12_row3_col0\" class=\"data row3 col0\" >0.157407</td>\n",
       "    </tr>\n",
       "    <tr>\n",
       "      <th id=\"T_63b12_level0_row4\" class=\"row_heading level0 row4\" rowspan=\"2\">3</th>\n",
       "      <th id=\"T_63b12_level1_row4\" class=\"row_heading level1 row4\" >female</th>\n",
       "      <td id=\"T_63b12_row4_col0\" class=\"data row4 col0\" >0.500000</td>\n",
       "    </tr>\n",
       "    <tr>\n",
       "      <th id=\"T_63b12_level1_row5\" class=\"row_heading level1 row5\" >male</th>\n",
       "      <td id=\"T_63b12_row5_col0\" class=\"data row5 col0\" >0.135447</td>\n",
       "    </tr>\n",
       "  </tbody>\n",
       "</table>\n"
      ],
      "text/plain": [
       "<pandas.io.formats.style.Styler at 0x7efdac195b50>"
      ]
     },
     "execution_count": 27,
     "metadata": {},
     "output_type": "execute_result"
    }
   ],
   "source": [
    "pd.DataFrame(train.groupby(['Pclass', 'Sex'])['Survived'].mean()).style.bar(subset=['Survived'], color='#205ff2')"
   ]
  },
  {
   "cell_type": "markdown",
   "id": "dcf4a13c",
   "metadata": {
    "papermill": {
     "duration": 0.057104,
     "end_time": "2021-12-09T06:44:17.248777",
     "exception": false,
     "start_time": "2021-12-09T06:44:17.191673",
     "status": "completed"
    },
    "tags": []
   },
   "source": [
    "### 2.4 [matplotlib] 시각화해보기\n",
    "\n",
    "위에서 분석한 데이터를 테이블 형태보다 더 좋은 형태로 바꾸면 더 의사소통이 빠를 수 있습니다.\n",
    "\n",
    "시각화에는 정말 다양한 종류의 시각화가 있습니다. 궁금하신 분은 아래의 사이트에서 다양한 시각화를 살펴보시는 것을 추천합니다.\n",
    "\n",
    "- https://datavizproject.com/\n",
    "\n",
    "크게는 3가지 시각화가 대표적입니다.\n",
    "\n",
    "- `plt.plot` : 꺾은선그래프 (선)\n",
    "- `plt.bar` : 막대그래프 (면)\n",
    "- `plt.scatter` : 산점도 (점)"
   ]
  },
  {
   "cell_type": "code",
   "execution_count": 28,
   "id": "428118d1",
   "metadata": {
    "execution": {
     "iopub.execute_input": "2021-12-09T06:44:17.367585Z",
     "iopub.status.busy": "2021-12-09T06:44:17.366615Z",
     "iopub.status.idle": "2021-12-09T06:44:17.616515Z",
     "shell.execute_reply": "2021-12-09T06:44:17.615915Z",
     "shell.execute_reply.started": "2021-12-09T06:14:28.132146Z"
    },
    "papermill": {
     "duration": 0.310286,
     "end_time": "2021-12-09T06:44:17.616679",
     "exception": false,
     "start_time": "2021-12-09T06:44:17.306393",
     "status": "completed"
    },
    "tags": []
   },
   "outputs": [
    {
     "data": {
      "text/plain": [
       "[<matplotlib.lines.Line2D at 0x7efdac14e190>]"
      ]
     },
     "execution_count": 28,
     "metadata": {},
     "output_type": "execute_result"
    },
    {
     "data": {
      "image/png": "[encoded data removed]",
      "text/plain": [
       "<Figure size 432x288 with 1 Axes>"
      ]
     },
     "metadata": {
      "needs_background": "light"
     },
     "output_type": "display_data"
    }
   ],
   "source": [
    "plt.plot([1, 2, 3, 4, 5], [1, 2, 3, 5, 4])"
   ]
  },
  {
   "cell_type": "code",
   "execution_count": 29,
   "id": "442135a2",
   "metadata": {
    "execution": {
     "iopub.execute_input": "2021-12-09T06:44:17.754554Z",
     "iopub.status.busy": "2021-12-09T06:44:17.753526Z",
     "iopub.status.idle": "2021-12-09T06:44:17.938176Z",
     "shell.execute_reply": "2021-12-09T06:44:17.937509Z",
     "shell.execute_reply.started": "2021-12-09T06:15:06.677956Z"
    },
    "papermill": {
     "duration": 0.262147,
     "end_time": "2021-12-09T06:44:17.938320",
     "exception": false,
     "start_time": "2021-12-09T06:44:17.676173",
     "status": "completed"
    },
    "tags": []
   },
   "outputs": [
    {
     "data": {
      "text/plain": [
       "<BarContainer object of 5 artists>"
      ]
     },
     "execution_count": 29,
     "metadata": {},
     "output_type": "execute_result"
    },
    {
     "data": {
      "image/png": "[encoded data removed]",
      "text/plain": [
       "<Figure size 432x288 with 1 Axes>"
      ]
     },
     "metadata": {
      "needs_background": "light"
     },
     "output_type": "display_data"
    }
   ],
   "source": [
    "plt.bar([1, 2, 3, 4, 5], [1, 2, 3, 2, 1])"
   ]
  },
  {
   "cell_type": "code",
   "execution_count": 30,
   "id": "3f16ba94",
   "metadata": {
    "execution": {
     "iopub.execute_input": "2021-12-09T06:44:18.066324Z",
     "iopub.status.busy": "2021-12-09T06:44:18.065338Z",
     "iopub.status.idle": "2021-12-09T06:44:18.298397Z",
     "shell.execute_reply": "2021-12-09T06:44:18.297816Z",
     "shell.execute_reply.started": "2021-12-09T06:14:47.599865Z"
    },
    "papermill": {
     "duration": 0.299756,
     "end_time": "2021-12-09T06:44:18.298537",
     "exception": false,
     "start_time": "2021-12-09T06:44:17.998781",
     "status": "completed"
    },
    "tags": []
   },
   "outputs": [
    {
     "data": {
      "text/plain": [
       "<matplotlib.collections.PathCollection at 0x7efda3ef5890>"
      ]
     },
     "execution_count": 30,
     "metadata": {},
     "output_type": "execute_result"
    },
    {
     "data": {
      "image/png": "[encoded data removed]",
      "text/plain": [
       "<Figure size 432x288 with 1 Axes>"
      ]
     },
     "metadata": {
      "needs_background": "light"
     },
     "output_type": "display_data"
    }
   ],
   "source": [
    "plt.scatter([1, 2, 3, 4, 5], [1, 2, 3, 2, 1])"
   ]
  },
  {
   "cell_type": "markdown",
   "id": "24f75871",
   "metadata": {
    "papermill": {
     "duration": 0.068236,
     "end_time": "2021-12-09T06:44:18.434529",
     "exception": false,
     "start_time": "2021-12-09T06:44:18.366293",
     "status": "completed"
    },
    "tags": []
   },
   "source": [
    "### 2.5 [matplotlib] 막대그래프 점진적 개선\n",
    "\n",
    "종류에 따른 생존 확률을 막대그래프로 그려보도록 하겠습니다."
   ]
  },
  {
   "cell_type": "code",
   "execution_count": 31,
   "id": "723f7cd5",
   "metadata": {
    "execution": {
     "iopub.execute_input": "2021-12-09T06:44:18.581135Z",
     "iopub.status.busy": "2021-12-09T06:44:18.580472Z",
     "iopub.status.idle": "2021-12-09T06:44:18.589506Z",
     "shell.execute_reply": "2021-12-09T06:44:18.589986Z",
     "shell.execute_reply.started": "2021-12-09T06:15:30.105024Z"
    },
    "papermill": {
     "duration": 0.081828,
     "end_time": "2021-12-09T06:44:18.590168",
     "exception": false,
     "start_time": "2021-12-09T06:44:18.508340",
     "status": "completed"
    },
    "tags": []
   },
   "outputs": [
    {
     "data": {
      "text/plain": [
       "Sex\n",
       "female    0.742038\n",
       "male      0.188908\n",
       "Name: Survived, dtype: float64"
      ]
     },
     "execution_count": 31,
     "metadata": {},
     "output_type": "execute_result"
    }
   ],
   "source": [
    "ratio = train.groupby('Sex')['Survived'].mean()\n",
    "ratio"
   ]
  },
  {
   "cell_type": "code",
   "execution_count": 32,
   "id": "f5eab716",
   "metadata": {
    "execution": {
     "iopub.execute_input": "2021-12-09T06:44:18.768221Z",
     "iopub.status.busy": "2021-12-09T06:44:18.767413Z",
     "iopub.status.idle": "2021-12-09T06:44:18.770480Z",
     "shell.execute_reply": "2021-12-09T06:44:18.770989Z",
     "shell.execute_reply.started": "2021-12-09T06:15:51.642121Z"
    },
    "papermill": {
     "duration": 0.098043,
     "end_time": "2021-12-09T06:44:18.771193",
     "exception": false,
     "start_time": "2021-12-09T06:44:18.673150",
     "status": "completed"
    },
    "tags": []
   },
   "outputs": [
    {
     "name": "stdout",
     "output_type": "stream",
     "text": [
      "Index(['female', 'male'], dtype='object', name='Sex')\n",
      "[0.74203822 0.18890815]\n"
     ]
    }
   ],
   "source": [
    "print(ratio.index)\n",
    "print(ratio.values)"
   ]
  },
  {
   "cell_type": "markdown",
   "id": "4cd08a6e",
   "metadata": {
    "papermill": {
     "duration": 0.061555,
     "end_time": "2021-12-09T06:44:18.898116",
     "exception": false,
     "start_time": "2021-12-09T06:44:18.836561",
     "status": "completed"
    },
    "tags": []
   },
   "source": [
    "아까는 plt의 함수를 사용하여 그렸지만 이번에는 객체지향에 더 가깝게 시각화를 그려봅니다.\n",
    "\n",
    "`fig`는 전체 판, `ax`는 차트가 그려지는 공간이라고 생각하면 됩니다."
   ]
  },
  {
   "cell_type": "code",
   "execution_count": 33,
   "id": "89347e73",
   "metadata": {
    "execution": {
     "iopub.execute_input": "2021-12-09T06:44:19.024495Z",
     "iopub.status.busy": "2021-12-09T06:44:19.023484Z",
     "iopub.status.idle": "2021-12-09T06:44:19.174899Z",
     "shell.execute_reply": "2021-12-09T06:44:19.175382Z",
     "shell.execute_reply.started": "2021-12-09T06:17:23.837685Z"
    },
    "papermill": {
     "duration": 0.216116,
     "end_time": "2021-12-09T06:44:19.175560",
     "exception": false,
     "start_time": "2021-12-09T06:44:18.959444",
     "status": "completed"
    },
    "tags": []
   },
   "outputs": [
    {
     "data": {
      "image/png": "[encoded data removed]",
      "text/plain": [
       "<Figure size 360x360 with 1 Axes>"
      ]
     },
     "metadata": {
      "needs_background": "light"
     },
     "output_type": "display_data"
    }
   ],
   "source": [
    "fig, ax = plt.subplots(1, 1, figsize=(5, 5)) # figure, ax\n",
    "ax.bar(ratio.index, ratio.values)\n",
    "plt.show()"
   ]
  },
  {
   "cell_type": "markdown",
   "id": "e1a1236a",
   "metadata": {
    "papermill": {
     "duration": 0.060945,
     "end_time": "2021-12-09T06:44:19.300694",
     "exception": false,
     "start_time": "2021-12-09T06:44:19.239749",
     "status": "completed"
    },
    "tags": []
   },
   "source": [
    "제목을 추가하고, 각 축에 레이블을 달아보겠습니다.\n",
    "\n",
    "- `set_title`\n",
    "- `set_xlabel`\n",
    "- `set_ylabel`"
   ]
  },
  {
   "cell_type": "code",
   "execution_count": 34,
   "id": "5f2b31f7",
   "metadata": {
    "execution": {
     "iopub.execute_input": "2021-12-09T06:44:19.426750Z",
     "iopub.status.busy": "2021-12-09T06:44:19.425788Z",
     "iopub.status.idle": "2021-12-09T06:44:19.591104Z",
     "shell.execute_reply": "2021-12-09T06:44:19.590628Z",
     "shell.execute_reply.started": "2021-12-09T06:18:39.669723Z"
    },
    "papermill": {
     "duration": 0.229312,
     "end_time": "2021-12-09T06:44:19.591257",
     "exception": false,
     "start_time": "2021-12-09T06:44:19.361945",
     "status": "completed"
    },
    "tags": []
   },
   "outputs": [
    {
     "data": {
      "image/png": "[encoded data removed]",
      "text/plain": [
       "<Figure size 360x360 with 1 Axes>"
      ]
     },
     "metadata": {
      "needs_background": "light"
     },
     "output_type": "display_data"
    }
   ],
   "source": [
    "fig, ax = plt.subplots(1, 1, figsize=(5, 5))\n",
    "ax.bar(ratio.index, ratio.values)\n",
    "ax.set_title('Survival Ratio', fontsize=15, fontweight='bold')\n",
    "ax.set_xlabel('Sex', fontsize=12)\n",
    "ax.set_ylabel('Ratio(%)', fontsize=12)\n",
    "plt.show()"
   ]
  },
  {
   "cell_type": "markdown",
   "id": "73e87198",
   "metadata": {
    "papermill": {
     "duration": 0.061533,
     "end_time": "2021-12-09T06:44:19.715332",
     "exception": false,
     "start_time": "2021-12-09T06:44:19.653799",
     "status": "completed"
    },
    "tags": []
   },
   "source": [
    "막대에 색을 추가 및 두께를 조정하고, y축의 범위도 조정해보겠습니다.\n",
    "\n",
    "그리고 상단과 우측 테두리도 제거해보겠습니다.\n",
    "\n",
    "- ax.bar에 color 요소 추가\n",
    "- set_ylim\n",
    "- spines"
   ]
  },
  {
   "cell_type": "code",
   "execution_count": 35,
   "id": "ce166204",
   "metadata": {
    "execution": {
     "iopub.execute_input": "2021-12-09T06:44:19.842329Z",
     "iopub.status.busy": "2021-12-09T06:44:19.841701Z",
     "iopub.status.idle": "2021-12-09T06:44:20.004894Z",
     "shell.execute_reply": "2021-12-09T06:44:20.005451Z",
     "shell.execute_reply.started": "2021-12-09T06:20:50.966300Z"
    },
    "papermill": {
     "duration": 0.22779,
     "end_time": "2021-12-09T06:44:20.005613",
     "exception": false,
     "start_time": "2021-12-09T06:44:19.777823",
     "status": "completed"
    },
    "tags": []
   },
   "outputs": [
    {
     "data": {
      "image/png": "[encoded data removed]",
      "text/plain": [
       "<Figure size 360x360 with 1 Axes>"
      ]
     },
     "metadata": {
      "needs_background": "light"
     },
     "output_type": "display_data"
    }
   ],
   "source": [
    "fig, ax = plt.subplots(1, 1, figsize=(5, 5))\n",
    "ax.bar(ratio.index, ratio.values, \n",
    "       color=['tomato', 'navy'], \n",
    "       width=0.6)\n",
    "\n",
    "ax.set_title('Survival Ratio', fontsize=15, fontweight='bold')\n",
    "ax.set_xlabel('Sex', fontsize=12)\n",
    "ax.set_ylabel('Ratio(%)', fontsize=12)\n",
    "ax.margins(0.2)\n",
    "ax.set_ylim(0, 0.82)\n",
    "ax.spines[['top', 'right']].set_visible(False)\n",
    "\n",
    "plt.show()"
   ]
  },
  {
   "cell_type": "markdown",
   "id": "66b36f9b",
   "metadata": {
    "papermill": {
     "duration": 0.065098,
     "end_time": "2021-12-09T06:44:20.136015",
     "exception": false,
     "start_time": "2021-12-09T06:44:20.070917",
     "status": "completed"
    },
    "tags": []
   },
   "source": [
    "위에는 비교적 초라하지만 이런 시각화를 조금 더 열심히하면 다음과 같이 만들 수 있습니다. \n",
    "\n",
    "아래는 나이대별 시각화의 예시입니다.\n",
    "\n",
    "- [🕶 Awesome Visualization with Titanic Dataset📊](https://www.kaggle.com/subinium/awesome-visualization-with-titanic-dataset)"
   ]
  },
  {
   "cell_type": "code",
   "execution_count": 36,
   "id": "81b1e7b8",
   "metadata": {
    "execution": {
     "iopub.execute_input": "2021-12-09T06:44:20.265682Z",
     "iopub.status.busy": "2021-12-09T06:44:20.264967Z",
     "iopub.status.idle": "2021-12-09T06:44:20.681292Z",
     "shell.execute_reply": "2021-12-09T06:44:20.680784Z",
     "shell.execute_reply.started": "2021-12-09T06:21:25.719770Z"
    },
    "papermill": {
     "duration": 0.482001,
     "end_time": "2021-12-09T06:44:20.681438",
     "exception": false,
     "start_time": "2021-12-09T06:44:20.199437",
     "status": "completed"
    },
    "tags": []
   },
   "outputs": [
    {
     "data": {
      "image/png": "[encoded data removed]",
      "text/plain": [
       "<Figure size 1000x700 with 1 Axes>"
      ]
     },
     "metadata": {
      "needs_background": "light"
     },
     "output_type": "display_data"
    }
   ],
   "source": [
    "def age_band(num):\n",
    "    for i in range(1, 100):\n",
    "        if num < 10*i :  return f'{(i-1) * 10} ~ {i*10}'\n",
    "\n",
    "train['age_band'] = train['Age'].apply(age_band)\n",
    "titanic_age = train[['age_band', 'Survived']].groupby('age_band')['Survived'].mean().sort_index()*100\n",
    "\n",
    "# 시각화 시작\n",
    "fig, ax = plt.subplots(1, 1, figsize=(10, 7), dpi=100)\n",
    "\n",
    "# 막대별 색\n",
    "color_map = ['#d4dddd' for _ in range(9)]\n",
    "color_map[0] = color_map[8] = '#244747' # color highlight\n",
    "\n",
    "# 막대그래프\n",
    "ax.bar(titanic_age.index, titanic_age, \n",
    "       color=color_map, width=0.55, \n",
    "       edgecolor='black', \n",
    "       linewidth=0.7)\n",
    "\n",
    "\n",
    "# 테두리 조정\n",
    "for s in [\"top\",\"right\",\"left\"]:\n",
    "    ax.spines[s].set_visible(False)\n",
    "\n",
    "\n",
    "# 주석처리\n",
    "for i in titanic_age.index:\n",
    "    ax.annotate(f\"{titanic_age[i]:.02f}%\", \n",
    "                   xy=(i, titanic_age[i] + 2.3),\n",
    "                   va = 'center', ha='center',fontweight='light', \n",
    "                   color='#4a4a4a')\n",
    "\n",
    "mean = train['Survived'].mean() * 100\n",
    "\n",
    "# 가로 평균선\n",
    "ax.axhline(mean ,color='black', linewidth=0.4, linestyle='dashdot')\n",
    "ax.annotate(f\"mean : {mean :.4}%\", \n",
    "            xy=('70 ~ 80', mean + 4),\n",
    "            va = 'center', ha='center',\n",
    "            color='#4a4a4a',\n",
    "            bbox=dict(boxstyle='round', pad=0.4, facecolor='#efe8d1', linewidth=0))\n",
    "    \n",
    "\n",
    "# 제목과 부제목\n",
    "fig.text(0.06, 1, 'Age Band & Survival Rate', fontsize=15, fontweight='bold', fontfamily='serif')\n",
    "fig.text(0.06, 0.96, 'It can be seen that the survival rate of young children and the elderly is high.', fontsize=12, fontweight='light', fontfamily='serif')\n",
    "\n",
    "# 격자 그리드\n",
    "grid_y_ticks = np.arange(0, 101, 20)\n",
    "ax.set_yticks(grid_y_ticks)\n",
    "ax.grid(axis='y', linestyle='-', alpha=0.4)\n",
    "\n",
    "plt.tight_layout()\n",
    "plt.show()"
   ]
  },
  {
   "cell_type": "markdown",
   "id": "45728938",
   "metadata": {
    "papermill": {
     "duration": 0.064069,
     "end_time": "2021-12-09T06:44:20.812076",
     "exception": false,
     "start_time": "2021-12-09T06:44:20.748007",
     "status": "completed"
    },
    "tags": []
   },
   "source": [
    "### 2.6 [Seaborn] 디자인을 못해도 알아서 통계 시각화\n",
    "\n",
    "Seaborn은 matplotlib 기반의 시각화라이브러리입니다. 다만 통계 정보를 보기 위해 다양한 편리한 시각화 함수들이 포함되어 있는데 몇 가지 살펴보도록 하겠습니다.\n",
    "\n",
    "- countplot\n",
    "- kdeplot/histplot\n",
    "- displot\n",
    "\n",
    "그 외에도 엄청나게 많습니다.\n",
    "\n",
    "- https://seaborn.pydata.org/index.html"
   ]
  },
  {
   "cell_type": "code",
   "execution_count": 37,
   "id": "552261c3",
   "metadata": {
    "execution": {
     "iopub.execute_input": "2021-12-09T06:44:20.943850Z",
     "iopub.status.busy": "2021-12-09T06:44:20.943240Z",
     "iopub.status.idle": "2021-12-09T06:44:21.116415Z",
     "shell.execute_reply": "2021-12-09T06:44:21.115909Z",
     "shell.execute_reply.started": "2021-12-09T06:23:53.357811Z"
    },
    "papermill": {
     "duration": 0.240326,
     "end_time": "2021-12-09T06:44:21.116560",
     "exception": false,
     "start_time": "2021-12-09T06:44:20.876234",
     "status": "completed"
    },
    "tags": []
   },
   "outputs": [
    {
     "data": {
      "text/plain": [
       "<AxesSubplot:xlabel='Sex', ylabel='count'>"
      ]
     },
     "execution_count": 37,
     "metadata": {},
     "output_type": "execute_result"
    },
    {
     "data": {
      "image/png": "[encoded data removed]",
      "text/plain": [
       "<Figure size 432x288 with 1 Axes>"
      ]
     },
     "metadata": {
      "needs_background": "light"
     },
     "output_type": "display_data"
    }
   ],
   "source": [
    "sns.countplot(x='Sex', data=train)"
   ]
  },
  {
   "cell_type": "code",
   "execution_count": 38,
   "id": "adfc22a6",
   "metadata": {
    "execution": {
     "iopub.execute_input": "2021-12-09T06:44:21.258585Z",
     "iopub.status.busy": "2021-12-09T06:44:21.256987Z",
     "iopub.status.idle": "2021-12-09T06:44:21.472413Z",
     "shell.execute_reply": "2021-12-09T06:44:21.471749Z",
     "shell.execute_reply.started": "2021-12-09T06:24:18.630514Z"
    },
    "papermill": {
     "duration": 0.287825,
     "end_time": "2021-12-09T06:44:21.472557",
     "exception": false,
     "start_time": "2021-12-09T06:44:21.184732",
     "status": "completed"
    },
    "tags": []
   },
   "outputs": [
    {
     "data": {
      "text/plain": [
       "<AxesSubplot:xlabel='Sex', ylabel='count'>"
      ]
     },
     "execution_count": 38,
     "metadata": {},
     "output_type": "execute_result"
    },
    {
     "data": {
      "image/png": "[encoded data removed]",
      "text/plain": [
       "<Figure size 432x288 with 1 Axes>"
      ]
     },
     "metadata": {
      "needs_background": "light"
     },
     "output_type": "display_data"
    }
   ],
   "source": [
    "sns.countplot(x='Sex', data=train, hue='Pclass')"
   ]
  },
  {
   "cell_type": "code",
   "execution_count": 39,
   "id": "4b247fbf",
   "metadata": {
    "execution": {
     "iopub.execute_input": "2021-12-09T06:44:21.628280Z",
     "iopub.status.busy": "2021-12-09T06:44:21.624715Z",
     "iopub.status.idle": "2021-12-09T06:44:21.829492Z",
     "shell.execute_reply": "2021-12-09T06:44:21.828995Z",
     "shell.execute_reply.started": "2021-12-09T06:24:53.147058Z"
    },
    "papermill": {
     "duration": 0.29055,
     "end_time": "2021-12-09T06:44:21.829630",
     "exception": false,
     "start_time": "2021-12-09T06:44:21.539080",
     "status": "completed"
    },
    "tags": []
   },
   "outputs": [
    {
     "data": {
      "text/plain": [
       "<AxesSubplot:xlabel='Age', ylabel='Density'>"
      ]
     },
     "execution_count": 39,
     "metadata": {},
     "output_type": "execute_result"
    },
    {
     "data": {
      "image/png": "[encoded data removed]",
      "text/plain": [
       "<Figure size 432x288 with 1 Axes>"
      ]
     },
     "metadata": {
      "needs_background": "light"
     },
     "output_type": "display_data"
    }
   ],
   "source": [
    "sns.kdeplot(x='Age', data=train, fill=True)"
   ]
  },
  {
   "cell_type": "code",
   "execution_count": 40,
   "id": "678ab2c3",
   "metadata": {
    "execution": {
     "iopub.execute_input": "2021-12-09T06:44:21.968729Z",
     "iopub.status.busy": "2021-12-09T06:44:21.968114Z",
     "iopub.status.idle": "2021-12-09T06:44:22.219356Z",
     "shell.execute_reply": "2021-12-09T06:44:22.218704Z",
     "shell.execute_reply.started": "2021-12-09T06:25:15.702877Z"
    },
    "papermill": {
     "duration": 0.32272,
     "end_time": "2021-12-09T06:44:22.219499",
     "exception": false,
     "start_time": "2021-12-09T06:44:21.896779",
     "status": "completed"
    },
    "tags": []
   },
   "outputs": [
    {
     "data": {
      "text/plain": [
       "<AxesSubplot:xlabel='Age', ylabel='Density'>"
      ]
     },
     "execution_count": 40,
     "metadata": {},
     "output_type": "execute_result"
    },
    {
     "data": {
      "image/png": "[encoded data removed]",
      "text/plain": [
       "<Figure size 432x288 with 1 Axes>"
      ]
     },
     "metadata": {
      "needs_background": "light"
     },
     "output_type": "display_data"
    }
   ],
   "source": [
    "sns.kdeplot(x='Age', data=train, hue='Sex', fill=True)"
   ]
  },
  {
   "cell_type": "code",
   "execution_count": 41,
   "id": "ee4aa504",
   "metadata": {
    "execution": {
     "iopub.execute_input": "2021-12-09T06:44:22.381385Z",
     "iopub.status.busy": "2021-12-09T06:44:22.371245Z",
     "iopub.status.idle": "2021-12-09T06:44:22.718352Z",
     "shell.execute_reply": "2021-12-09T06:44:22.717670Z",
     "shell.execute_reply.started": "2021-12-09T06:26:01.138712Z"
    },
    "papermill": {
     "duration": 0.429754,
     "end_time": "2021-12-09T06:44:22.718496",
     "exception": false,
     "start_time": "2021-12-09T06:44:22.288742",
     "status": "completed"
    },
    "tags": []
   },
   "outputs": [
    {
     "data": {
      "text/plain": [
       "<AxesSubplot:xlabel='Age', ylabel='Count'>"
      ]
     },
     "execution_count": 41,
     "metadata": {},
     "output_type": "execute_result"
    },
    {
     "data": {
      "image/png": "[encoded data removed]",
      "text/plain": [
       "<Figure size 432x288 with 1 Axes>"
      ]
     },
     "metadata": {
      "needs_background": "light"
     },
     "output_type": "display_data"
    }
   ],
   "source": [
    "sns.histplot(x='Age', data=train, hue='Sex')"
   ]
  },
  {
   "cell_type": "code",
   "execution_count": 42,
   "id": "c345be3c",
   "metadata": {
    "execution": {
     "iopub.execute_input": "2021-12-09T06:44:22.868581Z",
     "iopub.status.busy": "2021-12-09T06:44:22.865147Z",
     "iopub.status.idle": "2021-12-09T06:44:24.049445Z",
     "shell.execute_reply": "2021-12-09T06:44:24.048853Z",
     "shell.execute_reply.started": "2021-12-09T06:26:12.140199Z"
    },
    "papermill": {
     "duration": 1.261272,
     "end_time": "2021-12-09T06:44:24.049583",
     "exception": false,
     "start_time": "2021-12-09T06:44:22.788311",
     "status": "completed"
    },
    "tags": []
   },
   "outputs": [
    {
     "data": {
      "text/plain": [
       "<seaborn.axisgrid.FacetGrid at 0x7efda3bb3990>"
      ]
     },
     "execution_count": 42,
     "metadata": {},
     "output_type": "execute_result"
    },
    {
     "data": {
      "image/png": "[encoded data removed]",
      "text/plain": [
       "<Figure size 675.3x288 with 3 Axes>"
      ]
     },
     "metadata": {
      "needs_background": "light"
     },
     "output_type": "display_data"
    }
   ],
   "source": [
    "sns.displot(\n",
    "    data=train, x=\"Age\", hue=\"Sex\", col=\"Pclass\",\n",
    "    kind=\"hist\", height=4, aspect=.7,\n",
    ")"
   ]
  },
  {
   "cell_type": "markdown",
   "id": "3d564120",
   "metadata": {
    "papermill": {
     "duration": 0.070257,
     "end_time": "2021-12-09T06:44:24.192218",
     "exception": false,
     "start_time": "2021-12-09T06:44:24.121961",
     "status": "completed"
    },
    "tags": []
   },
   "source": [
    "## 3. 머신러닝\n",
    "\n",
    "다양한 머신러닝 라이브러리가 존재합니다. 대표적으로 사용하는 라이브러리는 사이킷런(sckit-learn)이고 `sklearn`으로 사용합니다.\n",
    "\n",
    "일반적으로 sklearn을 호출하기보다는 sklearn의 다양한 모듈을 구체적으로 import하는 경우가 많습니다.\n",
    "\n",
    "### 3.1 데이터 불러오기 및 전처리"
   ]
  },
  {
   "cell_type": "code",
   "execution_count": 43,
   "id": "d954b42f",
   "metadata": {
    "execution": {
     "iopub.execute_input": "2021-12-09T06:44:24.339102Z",
     "iopub.status.busy": "2021-12-09T06:44:24.338452Z",
     "iopub.status.idle": "2021-12-09T06:44:24.379319Z",
     "shell.execute_reply": "2021-12-09T06:44:24.378733Z",
     "shell.execute_reply.started": "2021-12-09T06:31:36.651590Z"
    },
    "papermill": {
     "duration": 0.116379,
     "end_time": "2021-12-09T06:44:24.379448",
     "exception": false,
     "start_time": "2021-12-09T06:44:24.263069",
     "status": "completed"
    },
    "tags": []
   },
   "outputs": [
    {
     "data": {
      "text/html": [
       "<div>\n",
       "<style scoped>\n",
       "    .dataframe tbody tr th:only-of-type {\n",
       "        vertical-align: middle;\n",
       "    }\n",
       "\n",
       "    .dataframe tbody tr th {\n",
       "        vertical-align: top;\n",
       "    }\n",
       "\n",
       "    .dataframe thead th {\n",
       "        text-align: right;\n",
       "    }\n",
       "</style>\n",
       "<table border=\"1\" class=\"dataframe\">\n",
       "  <thead>\n",
       "    <tr style=\"text-align: right;\">\n",
       "      <th></th>\n",
       "      <th>PassengerId</th>\n",
       "      <th>Survived</th>\n",
       "      <th>Pclass</th>\n",
       "      <th>Name</th>\n",
       "      <th>Sex</th>\n",
       "      <th>Age</th>\n",
       "      <th>SibSp</th>\n",
       "      <th>Parch</th>\n",
       "      <th>Ticket</th>\n",
       "      <th>Fare</th>\n",
       "      <th>Cabin</th>\n",
       "      <th>Embarked</th>\n",
       "    </tr>\n",
       "  </thead>\n",
       "  <tbody>\n",
       "    <tr>\n",
       "      <th>0</th>\n",
       "      <td>1</td>\n",
       "      <td>0</td>\n",
       "      <td>3</td>\n",
       "      <td>Braund, Mr. Owen Harris</td>\n",
       "      <td>male</td>\n",
       "      <td>22.0</td>\n",
       "      <td>1</td>\n",
       "      <td>0</td>\n",
       "      <td>A/5 21171</td>\n",
       "      <td>7.2500</td>\n",
       "      <td>NaN</td>\n",
       "      <td>S</td>\n",
       "    </tr>\n",
       "    <tr>\n",
       "      <th>1</th>\n",
       "      <td>2</td>\n",
       "      <td>1</td>\n",
       "      <td>1</td>\n",
       "      <td>Cumings, Mrs. John Bradley (Florence Briggs Th...</td>\n",
       "      <td>female</td>\n",
       "      <td>38.0</td>\n",
       "      <td>1</td>\n",
       "      <td>0</td>\n",
       "      <td>PC 17599</td>\n",
       "      <td>71.2833</td>\n",
       "      <td>C85</td>\n",
       "      <td>C</td>\n",
       "    </tr>\n",
       "    <tr>\n",
       "      <th>2</th>\n",
       "      <td>3</td>\n",
       "      <td>1</td>\n",
       "      <td>3</td>\n",
       "      <td>Heikkinen, Miss. Laina</td>\n",
       "      <td>female</td>\n",
       "      <td>26.0</td>\n",
       "      <td>0</td>\n",
       "      <td>0</td>\n",
       "      <td>STON/O2. 3101282</td>\n",
       "      <td>7.9250</td>\n",
       "      <td>NaN</td>\n",
       "      <td>S</td>\n",
       "    </tr>\n",
       "  </tbody>\n",
       "</table>\n",
       "</div>"
      ],
      "text/plain": [
       "   PassengerId  Survived  Pclass  \\\n",
       "0            1         0       3   \n",
       "1            2         1       1   \n",
       "2            3         1       3   \n",
       "\n",
       "                                                Name     Sex   Age  SibSp  \\\n",
       "0                            Braund, Mr. Owen Harris    male  22.0      1   \n",
       "1  Cumings, Mrs. John Bradley (Florence Briggs Th...  female  38.0      1   \n",
       "2                             Heikkinen, Miss. Laina  female  26.0      0   \n",
       "\n",
       "   Parch            Ticket     Fare Cabin Embarked  \n",
       "0      0         A/5 21171   7.2500   NaN        S  \n",
       "1      0          PC 17599  71.2833   C85        C  \n",
       "2      0  STON/O2. 3101282   7.9250   NaN        S  "
      ]
     },
     "metadata": {},
     "output_type": "display_data"
    },
    {
     "data": {
      "text/html": [
       "<div>\n",
       "<style scoped>\n",
       "    .dataframe tbody tr th:only-of-type {\n",
       "        vertical-align: middle;\n",
       "    }\n",
       "\n",
       "    .dataframe tbody tr th {\n",
       "        vertical-align: top;\n",
       "    }\n",
       "\n",
       "    .dataframe thead th {\n",
       "        text-align: right;\n",
       "    }\n",
       "</style>\n",
       "<table border=\"1\" class=\"dataframe\">\n",
       "  <thead>\n",
       "    <tr style=\"text-align: right;\">\n",
       "      <th></th>\n",
       "      <th>PassengerId</th>\n",
       "      <th>Pclass</th>\n",
       "      <th>Name</th>\n",
       "      <th>Sex</th>\n",
       "      <th>Age</th>\n",
       "      <th>SibSp</th>\n",
       "      <th>Parch</th>\n",
       "      <th>Ticket</th>\n",
       "      <th>Fare</th>\n",
       "      <th>Cabin</th>\n",
       "      <th>Embarked</th>\n",
       "    </tr>\n",
       "  </thead>\n",
       "  <tbody>\n",
       "    <tr>\n",
       "      <th>0</th>\n",
       "      <td>892</td>\n",
       "      <td>3</td>\n",
       "      <td>Kelly, Mr. James</td>\n",
       "      <td>male</td>\n",
       "      <td>34.5</td>\n",
       "      <td>0</td>\n",
       "      <td>0</td>\n",
       "      <td>330911</td>\n",
       "      <td>7.8292</td>\n",
       "      <td>NaN</td>\n",
       "      <td>Q</td>\n",
       "    </tr>\n",
       "    <tr>\n",
       "      <th>1</th>\n",
       "      <td>893</td>\n",
       "      <td>3</td>\n",
       "      <td>Wilkes, Mrs. James (Ellen Needs)</td>\n",
       "      <td>female</td>\n",
       "      <td>47.0</td>\n",
       "      <td>1</td>\n",
       "      <td>0</td>\n",
       "      <td>363272</td>\n",
       "      <td>7.0000</td>\n",
       "      <td>NaN</td>\n",
       "      <td>S</td>\n",
       "    </tr>\n",
       "    <tr>\n",
       "      <th>2</th>\n",
       "      <td>894</td>\n",
       "      <td>2</td>\n",
       "      <td>Myles, Mr. Thomas Francis</td>\n",
       "      <td>male</td>\n",
       "      <td>62.0</td>\n",
       "      <td>0</td>\n",
       "      <td>0</td>\n",
       "      <td>240276</td>\n",
       "      <td>9.6875</td>\n",
       "      <td>NaN</td>\n",
       "      <td>Q</td>\n",
       "    </tr>\n",
       "  </tbody>\n",
       "</table>\n",
       "</div>"
      ],
      "text/plain": [
       "   PassengerId  Pclass                              Name     Sex   Age  SibSp  \\\n",
       "0          892       3                  Kelly, Mr. James    male  34.5      0   \n",
       "1          893       3  Wilkes, Mrs. James (Ellen Needs)  female  47.0      1   \n",
       "2          894       2         Myles, Mr. Thomas Francis    male  62.0      0   \n",
       "\n",
       "   Parch  Ticket    Fare Cabin Embarked  \n",
       "0      0  330911  7.8292   NaN        Q  \n",
       "1      0  363272  7.0000   NaN        S  \n",
       "2      0  240276  9.6875   NaN        Q  "
      ]
     },
     "metadata": {},
     "output_type": "display_data"
    }
   ],
   "source": [
    "train = pd.read_csv('../input/titanic/train.csv') # 머신러닝 모델을 훈련\n",
    "test = pd.read_csv('../input/titanic/test.csv') # 머신러닝 채점 데이터\n",
    "\n",
    "display(train.head(3))\n",
    "display(test.head(3))"
   ]
  },
  {
   "cell_type": "markdown",
   "id": "59438824",
   "metadata": {
    "papermill": {
     "duration": 0.07216,
     "end_time": "2021-12-09T06:44:24.525542",
     "exception": false,
     "start_time": "2021-12-09T06:44:24.453382",
     "status": "completed"
    },
    "tags": []
   },
   "source": [
    "머신러닝에서 크게 해야하는 작업 2가지\n",
    "\n",
    "1. 결측치가 있는가?\n",
    "2. 수치형 데이터로 어떻게 변환할 것인가?\n",
    "\n",
    "결측치가 있거나, 범주형데이터가 있어도 되는 머신러닝 라이브러리도 있으나 대부분은 해결해야합니다.\n",
    "\n",
    "또한 머신러닝에 크게 도움이 안될 것 같은 항목도 제거합니다."
   ]
  },
  {
   "cell_type": "code",
   "execution_count": 44,
   "id": "b92888a2",
   "metadata": {
    "execution": {
     "iopub.execute_input": "2021-12-09T06:44:24.678408Z",
     "iopub.status.busy": "2021-12-09T06:44:24.677757Z",
     "iopub.status.idle": "2021-12-09T06:44:24.679997Z",
     "shell.execute_reply": "2021-12-09T06:44:24.679503Z",
     "shell.execute_reply.started": "2021-12-09T06:38:12.908195Z"
    },
    "papermill": {
     "duration": 0.081783,
     "end_time": "2021-12-09T06:44:24.680147",
     "exception": false,
     "start_time": "2021-12-09T06:44:24.598364",
     "status": "completed"
    },
    "tags": []
   },
   "outputs": [],
   "source": [
    "train = train.drop(['PassengerId', 'Name', 'Ticket'], axis=1)\n",
    "test = test.drop(['Name','Ticket'], axis=1)"
   ]
  },
  {
   "cell_type": "markdown",
   "id": "e4291a96",
   "metadata": {
    "papermill": {
     "duration": 0.071499,
     "end_time": "2021-12-09T06:44:24.823778",
     "exception": false,
     "start_time": "2021-12-09T06:44:24.752279",
     "status": "completed"
    },
    "tags": []
   },
   "source": [
    "결측치가 너무 많은 경우는 컬럼을 아에 제거합니다."
   ]
  },
  {
   "cell_type": "code",
   "execution_count": 45,
   "id": "573caded",
   "metadata": {
    "execution": {
     "iopub.execute_input": "2021-12-09T06:44:24.973434Z",
     "iopub.status.busy": "2021-12-09T06:44:24.972738Z",
     "iopub.status.idle": "2021-12-09T06:44:25.981993Z",
     "shell.execute_reply": "2021-12-09T06:44:25.982671Z",
     "shell.execute_reply.started": "2021-12-09T06:35:06.133276Z"
    },
    "papermill": {
     "duration": 1.085523,
     "end_time": "2021-12-09T06:44:25.982850",
     "exception": false,
     "start_time": "2021-12-09T06:44:24.897327",
     "status": "completed"
    },
    "tags": []
   },
   "outputs": [
    {
     "data": {
      "text/plain": [
       "<AxesSubplot:>"
      ]
     },
     "execution_count": 45,
     "metadata": {},
     "output_type": "execute_result"
    },
    {
     "data": {
      "image/png": "[encoded data removed]",
      "text/plain": [
       "<Figure size 1800x720 with 2 Axes>"
      ]
     },
     "metadata": {
      "needs_background": "light"
     },
     "output_type": "display_data"
    },
    {
     "data": {
      "image/png": "[encoded data removed]",
      "text/plain": [
       "<Figure size 1800x720 with 2 Axes>"
      ]
     },
     "metadata": {
      "needs_background": "light"
     },
     "output_type": "display_data"
    }
   ],
   "source": [
    "import missingno as msno\n",
    "msno.matrix(train)\n",
    "msno.matrix(test)"
   ]
  },
  {
   "cell_type": "code",
   "execution_count": 46,
   "id": "ede5c913",
   "metadata": {
    "execution": {
     "iopub.execute_input": "2021-12-09T06:44:26.143254Z",
     "iopub.status.busy": "2021-12-09T06:44:26.142450Z",
     "iopub.status.idle": "2021-12-09T06:44:26.147766Z",
     "shell.execute_reply": "2021-12-09T06:44:26.148314Z",
     "shell.execute_reply.started": "2021-12-09T06:35:36.584596Z"
    },
    "papermill": {
     "duration": 0.087867,
     "end_time": "2021-12-09T06:44:26.148491",
     "exception": false,
     "start_time": "2021-12-09T06:44:26.060624",
     "status": "completed"
    },
    "tags": []
   },
   "outputs": [],
   "source": [
    "train = train.drop(['Cabin'], axis=1)\n",
    "test = test.drop(['Cabin'], axis=1)"
   ]
  },
  {
   "cell_type": "markdown",
   "id": "1770396a",
   "metadata": {
    "papermill": {
     "duration": 0.07556,
     "end_time": "2021-12-09T06:44:26.300530",
     "exception": false,
     "start_time": "2021-12-09T06:44:26.224970",
     "status": "completed"
    },
    "tags": []
   },
   "source": [
    "적당히 빈 값은 합당하다고 생각하는 방법으로 채울 수 있습니다.\n",
    "\n",
    "- 최소/최대로 채우기\n",
    "- 평균 또는 중앙값 등으로 채우기\n",
    "- 최빈값으로 채우기"
   ]
  },
  {
   "cell_type": "code",
   "execution_count": 47,
   "id": "dec05757",
   "metadata": {
    "execution": {
     "iopub.execute_input": "2021-12-09T06:44:26.456795Z",
     "iopub.status.busy": "2021-12-09T06:44:26.456174Z",
     "iopub.status.idle": "2021-12-09T06:44:26.460642Z",
     "shell.execute_reply": "2021-12-09T06:44:26.461173Z",
     "shell.execute_reply.started": "2021-12-09T06:36:41.779944Z"
    },
    "papermill": {
     "duration": 0.084511,
     "end_time": "2021-12-09T06:44:26.461351",
     "exception": false,
     "start_time": "2021-12-09T06:44:26.376840",
     "status": "completed"
    },
    "tags": []
   },
   "outputs": [],
   "source": [
    "train[\"Fare\"].fillna(0, inplace=True)\n",
    "test[\"Fare\"].fillna(0, inplace=True)"
   ]
  },
  {
   "cell_type": "code",
   "execution_count": 48,
   "id": "e2130cf7",
   "metadata": {
    "execution": {
     "iopub.execute_input": "2021-12-09T06:44:26.618371Z",
     "iopub.status.busy": "2021-12-09T06:44:26.617682Z",
     "iopub.status.idle": "2021-12-09T06:44:26.622647Z",
     "shell.execute_reply": "2021-12-09T06:44:26.623144Z",
     "shell.execute_reply.started": "2021-12-09T06:36:42.023830Z"
    },
    "papermill": {
     "duration": 0.084737,
     "end_time": "2021-12-09T06:44:26.623313",
     "exception": false,
     "start_time": "2021-12-09T06:44:26.538576",
     "status": "completed"
    },
    "tags": []
   },
   "outputs": [],
   "source": [
    "train[\"Age\"].fillna(train[\"Age\"].mean() , inplace=True)\n",
    "test[\"Age\"].fillna(train[\"Age\"].mean() , inplace=True)"
   ]
  },
  {
   "cell_type": "code",
   "execution_count": 49,
   "id": "a6fa20e0",
   "metadata": {
    "execution": {
     "iopub.execute_input": "2021-12-09T06:44:26.782040Z",
     "iopub.status.busy": "2021-12-09T06:44:26.781348Z",
     "iopub.status.idle": "2021-12-09T06:44:26.787813Z",
     "shell.execute_reply": "2021-12-09T06:44:26.788279Z",
     "shell.execute_reply.started": "2021-12-09T06:37:22.161715Z"
    },
    "papermill": {
     "duration": 0.087095,
     "end_time": "2021-12-09T06:44:26.788444",
     "exception": false,
     "start_time": "2021-12-09T06:44:26.701349",
     "status": "completed"
    },
    "tags": []
   },
   "outputs": [
    {
     "data": {
      "text/plain": [
       "S    644\n",
       "C    168\n",
       "Q     77\n",
       "Name: Embarked, dtype: int64"
      ]
     },
     "execution_count": 49,
     "metadata": {},
     "output_type": "execute_result"
    }
   ],
   "source": [
    "train['Embarked'].value_counts()"
   ]
  },
  {
   "cell_type": "code",
   "execution_count": 50,
   "id": "87389bbf",
   "metadata": {
    "execution": {
     "iopub.execute_input": "2021-12-09T06:44:26.947713Z",
     "iopub.status.busy": "2021-12-09T06:44:26.946522Z",
     "iopub.status.idle": "2021-12-09T06:44:26.951723Z",
     "shell.execute_reply": "2021-12-09T06:44:26.952220Z",
     "shell.execute_reply.started": "2021-12-09T06:36:42.335842Z"
    },
    "papermill": {
     "duration": 0.087115,
     "end_time": "2021-12-09T06:44:26.952402",
     "exception": false,
     "start_time": "2021-12-09T06:44:26.865287",
     "status": "completed"
    },
    "tags": []
   },
   "outputs": [],
   "source": [
    "train[\"Embarked\"].fillna('S', inplace=True)\n",
    "test[\"Embarked\"].fillna('S', inplace=True)"
   ]
  },
  {
   "cell_type": "code",
   "execution_count": 51,
   "id": "d8f01af2",
   "metadata": {
    "execution": {
     "iopub.execute_input": "2021-12-09T06:44:27.114791Z",
     "iopub.status.busy": "2021-12-09T06:44:27.114174Z",
     "iopub.status.idle": "2021-12-09T06:44:28.014799Z",
     "shell.execute_reply": "2021-12-09T06:44:28.015252Z",
     "shell.execute_reply.started": "2021-12-09T06:36:53.071175Z"
    },
    "papermill": {
     "duration": 0.985639,
     "end_time": "2021-12-09T06:44:28.015429",
     "exception": false,
     "start_time": "2021-12-09T06:44:27.029790",
     "status": "completed"
    },
    "tags": []
   },
   "outputs": [
    {
     "data": {
      "text/plain": [
       "<AxesSubplot:>"
      ]
     },
     "execution_count": 51,
     "metadata": {},
     "output_type": "execute_result"
    },
    {
     "data": {
      "image/png": "[encoded data removed]",
      "text/plain": [
       "<Figure size 1800x720 with 2 Axes>"
      ]
     },
     "metadata": {
      "needs_background": "light"
     },
     "output_type": "display_data"
    },
    {
     "data": {
      "image/png": "[encoded data removed]",
      "text/plain": [
       "<Figure size 1800x720 with 2 Axes>"
      ]
     },
     "metadata": {
      "needs_background": "light"
     },
     "output_type": "display_data"
    }
   ],
   "source": [
    "import missingno as msno\n",
    "msno.matrix(train)\n",
    "msno.matrix(test)"
   ]
  },
  {
   "cell_type": "code",
   "execution_count": 52,
   "id": "38e81b01",
   "metadata": {
    "execution": {
     "iopub.execute_input": "2021-12-09T06:44:28.191662Z",
     "iopub.status.busy": "2021-12-09T06:44:28.181883Z",
     "iopub.status.idle": "2021-12-09T06:44:28.195482Z",
     "shell.execute_reply": "2021-12-09T06:44:28.196008Z",
     "shell.execute_reply.started": "2021-12-09T06:38:20.472891Z"
    },
    "papermill": {
     "duration": 0.101101,
     "end_time": "2021-12-09T06:44:28.196284",
     "exception": false,
     "start_time": "2021-12-09T06:44:28.095183",
     "status": "completed"
    },
    "tags": []
   },
   "outputs": [
    {
     "name": "stdout",
     "output_type": "stream",
     "text": [
      "<class 'pandas.core.frame.DataFrame'>\n",
      "RangeIndex: 891 entries, 0 to 890\n",
      "Data columns (total 8 columns):\n",
      " #   Column    Non-Null Count  Dtype  \n",
      "---  ------    --------------  -----  \n",
      " 0   Survived  891 non-null    int64  \n",
      " 1   Pclass    891 non-null    int64  \n",
      " 2   Sex       891 non-null    object \n",
      " 3   Age       891 non-null    float64\n",
      " 4   SibSp     891 non-null    int64  \n",
      " 5   Parch     891 non-null    int64  \n",
      " 6   Fare      891 non-null    float64\n",
      " 7   Embarked  891 non-null    object \n",
      "dtypes: float64(2), int64(4), object(2)\n",
      "memory usage: 55.8+ KB\n"
     ]
    }
   ],
   "source": [
    "train.info()"
   ]
  },
  {
   "cell_type": "markdown",
   "id": "83ce6df1",
   "metadata": {
    "papermill": {
     "duration": 0.078868,
     "end_time": "2021-12-09T06:44:28.355314",
     "exception": false,
     "start_time": "2021-12-09T06:44:28.276446",
     "status": "completed"
    },
    "tags": []
   },
   "source": [
    "수치형 변환은 다양한 방식으로 할 수 있는데 일부 바꿀 값들이 정해져있다면 `map` 메서드도 좋은 선택지입니다."
   ]
  },
  {
   "cell_type": "code",
   "execution_count": 53,
   "id": "942e6ff2",
   "metadata": {
    "execution": {
     "iopub.execute_input": "2021-12-09T06:44:28.524286Z",
     "iopub.status.busy": "2021-12-09T06:44:28.523381Z",
     "iopub.status.idle": "2021-12-09T06:44:28.526282Z",
     "shell.execute_reply": "2021-12-09T06:44:28.525674Z",
     "shell.execute_reply.started": "2021-12-09T06:39:05.679626Z"
    },
    "papermill": {
     "duration": 0.09193,
     "end_time": "2021-12-09T06:44:28.526420",
     "exception": false,
     "start_time": "2021-12-09T06:44:28.434490",
     "status": "completed"
    },
    "tags": []
   },
   "outputs": [],
   "source": [
    "embarked_dct = {'S':0, 'C':1, 'Q':2}\n",
    "train['Embarked'] = train['Embarked'].map(embarked_dct)\n",
    "test['Embarked'] = test['Embarked'].map(embarked_dct)\n",
    "\n",
    "sex_dct = {'male':0, 'female':1}\n",
    "train['Sex'] = train['Sex'].map(sex_dct)\n",
    "test['Sex'] = test['Sex'].map(sex_dct)"
   ]
  },
  {
   "cell_type": "code",
   "execution_count": 54,
   "id": "74fbb03b",
   "metadata": {
    "execution": {
     "iopub.execute_input": "2021-12-09T06:44:28.691998Z",
     "iopub.status.busy": "2021-12-09T06:44:28.691379Z",
     "iopub.status.idle": "2021-12-09T06:44:28.699647Z",
     "shell.execute_reply": "2021-12-09T06:44:28.700171Z",
     "shell.execute_reply.started": "2021-12-09T06:39:13.898091Z"
    },
    "papermill": {
     "duration": 0.092719,
     "end_time": "2021-12-09T06:44:28.700334",
     "exception": false,
     "start_time": "2021-12-09T06:44:28.607615",
     "status": "completed"
    },
    "tags": []
   },
   "outputs": [
    {
     "data": {
      "text/html": [
       "<div>\n",
       "<style scoped>\n",
       "    .dataframe tbody tr th:only-of-type {\n",
       "        vertical-align: middle;\n",
       "    }\n",
       "\n",
       "    .dataframe tbody tr th {\n",
       "        vertical-align: top;\n",
       "    }\n",
       "\n",
       "    .dataframe thead th {\n",
       "        text-align: right;\n",
       "    }\n",
       "</style>\n",
       "<table border=\"1\" class=\"dataframe\">\n",
       "  <thead>\n",
       "    <tr style=\"text-align: right;\">\n",
       "      <th></th>\n",
       "      <th>Survived</th>\n",
       "      <th>Pclass</th>\n",
       "      <th>Sex</th>\n",
       "      <th>Age</th>\n",
       "      <th>SibSp</th>\n",
       "      <th>Parch</th>\n",
       "      <th>Fare</th>\n",
       "      <th>Embarked</th>\n",
       "    </tr>\n",
       "  </thead>\n",
       "  <tbody>\n",
       "    <tr>\n",
       "      <th>0</th>\n",
       "      <td>0</td>\n",
       "      <td>3</td>\n",
       "      <td>0</td>\n",
       "      <td>22.0</td>\n",
       "      <td>1</td>\n",
       "      <td>0</td>\n",
       "      <td>7.2500</td>\n",
       "      <td>0</td>\n",
       "    </tr>\n",
       "    <tr>\n",
       "      <th>1</th>\n",
       "      <td>1</td>\n",
       "      <td>1</td>\n",
       "      <td>1</td>\n",
       "      <td>38.0</td>\n",
       "      <td>1</td>\n",
       "      <td>0</td>\n",
       "      <td>71.2833</td>\n",
       "      <td>1</td>\n",
       "    </tr>\n",
       "    <tr>\n",
       "      <th>2</th>\n",
       "      <td>1</td>\n",
       "      <td>3</td>\n",
       "      <td>1</td>\n",
       "      <td>26.0</td>\n",
       "      <td>0</td>\n",
       "      <td>0</td>\n",
       "      <td>7.9250</td>\n",
       "      <td>0</td>\n",
       "    </tr>\n",
       "    <tr>\n",
       "      <th>3</th>\n",
       "      <td>1</td>\n",
       "      <td>1</td>\n",
       "      <td>1</td>\n",
       "      <td>35.0</td>\n",
       "      <td>1</td>\n",
       "      <td>0</td>\n",
       "      <td>53.1000</td>\n",
       "      <td>0</td>\n",
       "    </tr>\n",
       "    <tr>\n",
       "      <th>4</th>\n",
       "      <td>0</td>\n",
       "      <td>3</td>\n",
       "      <td>0</td>\n",
       "      <td>35.0</td>\n",
       "      <td>0</td>\n",
       "      <td>0</td>\n",
       "      <td>8.0500</td>\n",
       "      <td>0</td>\n",
       "    </tr>\n",
       "  </tbody>\n",
       "</table>\n",
       "</div>"
      ],
      "text/plain": [
       "   Survived  Pclass  Sex   Age  SibSp  Parch     Fare  Embarked\n",
       "0         0       3    0  22.0      1      0   7.2500         0\n",
       "1         1       1    1  38.0      1      0  71.2833         1\n",
       "2         1       3    1  26.0      0      0   7.9250         0\n",
       "3         1       1    1  35.0      1      0  53.1000         0\n",
       "4         0       3    0  35.0      0      0   8.0500         0"
      ]
     },
     "execution_count": 54,
     "metadata": {},
     "output_type": "execute_result"
    }
   ],
   "source": [
    "train.head()"
   ]
  },
  {
   "cell_type": "markdown",
   "id": "4fb7d57b",
   "metadata": {
    "papermill": {
     "duration": 0.079077,
     "end_time": "2021-12-09T06:44:28.859324",
     "exception": false,
     "start_time": "2021-12-09T06:44:28.780247",
     "status": "completed"
    },
    "tags": []
   },
   "source": [
    "머신러닝을 돌리기 위해서는 정답(target)과 그 외 데이터를 구분해서 사용한다."
   ]
  },
  {
   "cell_type": "code",
   "execution_count": 55,
   "id": "2680214a",
   "metadata": {
    "execution": {
     "iopub.execute_input": "2021-12-09T06:44:29.021293Z",
     "iopub.status.busy": "2021-12-09T06:44:29.020653Z",
     "iopub.status.idle": "2021-12-09T06:44:29.039836Z",
     "shell.execute_reply": "2021-12-09T06:44:29.040590Z",
     "shell.execute_reply.started": "2021-12-09T06:40:09.094894Z"
    },
    "papermill": {
     "duration": 0.101789,
     "end_time": "2021-12-09T06:44:29.040817",
     "exception": false,
     "start_time": "2021-12-09T06:44:28.939028",
     "status": "completed"
    },
    "tags": []
   },
   "outputs": [
    {
     "name": "stdout",
     "output_type": "stream",
     "text": [
      "0      0\n",
      "1      1\n",
      "2      1\n",
      "3      1\n",
      "4      0\n",
      "      ..\n",
      "886    0\n",
      "887    1\n",
      "888    0\n",
      "889    1\n",
      "890    0\n",
      "Name: Survived, Length: 891, dtype: int64\n"
     ]
    },
    {
     "data": {
      "text/html": [
       "<div>\n",
       "<style scoped>\n",
       "    .dataframe tbody tr th:only-of-type {\n",
       "        vertical-align: middle;\n",
       "    }\n",
       "\n",
       "    .dataframe tbody tr th {\n",
       "        vertical-align: top;\n",
       "    }\n",
       "\n",
       "    .dataframe thead th {\n",
       "        text-align: right;\n",
       "    }\n",
       "</style>\n",
       "<table border=\"1\" class=\"dataframe\">\n",
       "  <thead>\n",
       "    <tr style=\"text-align: right;\">\n",
       "      <th></th>\n",
       "      <th>Pclass</th>\n",
       "      <th>Sex</th>\n",
       "      <th>Age</th>\n",
       "      <th>SibSp</th>\n",
       "      <th>Parch</th>\n",
       "      <th>Fare</th>\n",
       "      <th>Embarked</th>\n",
       "    </tr>\n",
       "  </thead>\n",
       "  <tbody>\n",
       "    <tr>\n",
       "      <th>0</th>\n",
       "      <td>3</td>\n",
       "      <td>0</td>\n",
       "      <td>22.000000</td>\n",
       "      <td>1</td>\n",
       "      <td>0</td>\n",
       "      <td>7.2500</td>\n",
       "      <td>0</td>\n",
       "    </tr>\n",
       "    <tr>\n",
       "      <th>1</th>\n",
       "      <td>1</td>\n",
       "      <td>1</td>\n",
       "      <td>38.000000</td>\n",
       "      <td>1</td>\n",
       "      <td>0</td>\n",
       "      <td>71.2833</td>\n",
       "      <td>1</td>\n",
       "    </tr>\n",
       "    <tr>\n",
       "      <th>2</th>\n",
       "      <td>3</td>\n",
       "      <td>1</td>\n",
       "      <td>26.000000</td>\n",
       "      <td>0</td>\n",
       "      <td>0</td>\n",
       "      <td>7.9250</td>\n",
       "      <td>0</td>\n",
       "    </tr>\n",
       "    <tr>\n",
       "      <th>3</th>\n",
       "      <td>1</td>\n",
       "      <td>1</td>\n",
       "      <td>35.000000</td>\n",
       "      <td>1</td>\n",
       "      <td>0</td>\n",
       "      <td>53.1000</td>\n",
       "      <td>0</td>\n",
       "    </tr>\n",
       "    <tr>\n",
       "      <th>4</th>\n",
       "      <td>3</td>\n",
       "      <td>0</td>\n",
       "      <td>35.000000</td>\n",
       "      <td>0</td>\n",
       "      <td>0</td>\n",
       "      <td>8.0500</td>\n",
       "      <td>0</td>\n",
       "    </tr>\n",
       "    <tr>\n",
       "      <th>...</th>\n",
       "      <td>...</td>\n",
       "      <td>...</td>\n",
       "      <td>...</td>\n",
       "      <td>...</td>\n",
       "      <td>...</td>\n",
       "      <td>...</td>\n",
       "      <td>...</td>\n",
       "    </tr>\n",
       "    <tr>\n",
       "      <th>886</th>\n",
       "      <td>2</td>\n",
       "      <td>0</td>\n",
       "      <td>27.000000</td>\n",
       "      <td>0</td>\n",
       "      <td>0</td>\n",
       "      <td>13.0000</td>\n",
       "      <td>0</td>\n",
       "    </tr>\n",
       "    <tr>\n",
       "      <th>887</th>\n",
       "      <td>1</td>\n",
       "      <td>1</td>\n",
       "      <td>19.000000</td>\n",
       "      <td>0</td>\n",
       "      <td>0</td>\n",
       "      <td>30.0000</td>\n",
       "      <td>0</td>\n",
       "    </tr>\n",
       "    <tr>\n",
       "      <th>888</th>\n",
       "      <td>3</td>\n",
       "      <td>1</td>\n",
       "      <td>29.699118</td>\n",
       "      <td>1</td>\n",
       "      <td>2</td>\n",
       "      <td>23.4500</td>\n",
       "      <td>0</td>\n",
       "    </tr>\n",
       "    <tr>\n",
       "      <th>889</th>\n",
       "      <td>1</td>\n",
       "      <td>0</td>\n",
       "      <td>26.000000</td>\n",
       "      <td>0</td>\n",
       "      <td>0</td>\n",
       "      <td>30.0000</td>\n",
       "      <td>1</td>\n",
       "    </tr>\n",
       "    <tr>\n",
       "      <th>890</th>\n",
       "      <td>3</td>\n",
       "      <td>0</td>\n",
       "      <td>32.000000</td>\n",
       "      <td>0</td>\n",
       "      <td>0</td>\n",
       "      <td>7.7500</td>\n",
       "      <td>2</td>\n",
       "    </tr>\n",
       "  </tbody>\n",
       "</table>\n",
       "<p>891 rows × 7 columns</p>\n",
       "</div>"
      ],
      "text/plain": [
       "     Pclass  Sex        Age  SibSp  Parch     Fare  Embarked\n",
       "0         3    0  22.000000      1      0   7.2500         0\n",
       "1         1    1  38.000000      1      0  71.2833         1\n",
       "2         3    1  26.000000      0      0   7.9250         0\n",
       "3         1    1  35.000000      1      0  53.1000         0\n",
       "4         3    0  35.000000      0      0   8.0500         0\n",
       "..      ...  ...        ...    ...    ...      ...       ...\n",
       "886       2    0  27.000000      0      0  13.0000         0\n",
       "887       1    1  19.000000      0      0  30.0000         0\n",
       "888       3    1  29.699118      1      2  23.4500         0\n",
       "889       1    0  26.000000      0      0  30.0000         1\n",
       "890       3    0  32.000000      0      0   7.7500         2\n",
       "\n",
       "[891 rows x 7 columns]"
      ]
     },
     "metadata": {},
     "output_type": "display_data"
    }
   ],
   "source": [
    "X_train = train.drop(\"Survived\",axis=1)\n",
    "Y_train = train[\"Survived\"]\n",
    "X_test  = test.drop(\"PassengerId\",axis=1).copy()\n",
    "\n",
    "print(Y_train)\n",
    "display(X_train)"
   ]
  },
  {
   "cell_type": "markdown",
   "id": "e4c63804",
   "metadata": {
    "papermill": {
     "duration": 0.080483,
     "end_time": "2021-12-09T06:44:29.203815",
     "exception": false,
     "start_time": "2021-12-09T06:44:29.123332",
     "status": "completed"
    },
    "tags": []
   },
   "source": [
    "### 3.2 [sklearn] 머신러닝 라이브러리 사용하기\n",
    "\n",
    "대표적인 알고리즘 2가지를 사용해서 결과를 확인해보겠습니다."
   ]
  },
  {
   "cell_type": "code",
   "execution_count": 56,
   "id": "ac0da63f",
   "metadata": {
    "execution": {
     "iopub.execute_input": "2021-12-09T06:44:29.369689Z",
     "iopub.status.busy": "2021-12-09T06:44:29.369034Z",
     "iopub.status.idle": "2021-12-09T06:44:29.776214Z",
     "shell.execute_reply": "2021-12-09T06:44:29.776737Z",
     "shell.execute_reply.started": "2021-12-09T06:41:43.728481Z"
    },
    "papermill": {
     "duration": 0.492651,
     "end_time": "2021-12-09T06:44:29.776981",
     "exception": false,
     "start_time": "2021-12-09T06:44:29.284330",
     "status": "completed"
    },
    "tags": []
   },
   "outputs": [],
   "source": [
    "from sklearn.ensemble import RandomForestClassifier\n",
    "from sklearn.neighbors import KNeighborsClassifier"
   ]
  },
  {
   "cell_type": "code",
   "execution_count": 57,
   "id": "f4f2c0fd",
   "metadata": {
    "execution": {
     "iopub.execute_input": "2021-12-09T06:44:29.947284Z",
     "iopub.status.busy": "2021-12-09T06:44:29.942560Z",
     "iopub.status.idle": "2021-12-09T06:44:30.158313Z",
     "shell.execute_reply": "2021-12-09T06:44:30.158745Z",
     "shell.execute_reply.started": "2021-12-09T06:41:44.131770Z"
    },
    "papermill": {
     "duration": 0.301119,
     "end_time": "2021-12-09T06:44:30.158945",
     "exception": false,
     "start_time": "2021-12-09T06:44:29.857826",
     "status": "completed"
    },
    "tags": []
   },
   "outputs": [
    {
     "data": {
      "text/plain": [
       "0.9820426487093153"
      ]
     },
     "execution_count": 57,
     "metadata": {},
     "output_type": "execute_result"
    }
   ],
   "source": [
    "random_forest = RandomForestClassifier(n_estimators=100) # model instance\n",
    "random_forest.fit(X_train, Y_train)\n",
    "\n",
    "# Y_pred = random_forest.predict(X_test)\n",
    "random_forest.score(X_train, Y_train)"
   ]
  },
  {
   "cell_type": "code",
   "execution_count": 58,
   "id": "80aaed4c",
   "metadata": {
    "execution": {
     "iopub.execute_input": "2021-12-09T06:44:30.327028Z",
     "iopub.status.busy": "2021-12-09T06:44:30.326343Z",
     "iopub.status.idle": "2021-12-09T06:44:30.375117Z",
     "shell.execute_reply": "2021-12-09T06:44:30.374589Z",
     "shell.execute_reply.started": "2021-12-09T06:41:53.684827Z"
    },
    "papermill": {
     "duration": 0.135448,
     "end_time": "2021-12-09T06:44:30.375277",
     "exception": false,
     "start_time": "2021-12-09T06:44:30.239829",
     "status": "completed"
    },
    "tags": []
   },
   "outputs": [
    {
     "data": {
      "text/plain": [
       "0.8058361391694725"
      ]
     },
     "execution_count": 58,
     "metadata": {},
     "output_type": "execute_result"
    }
   ],
   "source": [
    "knn = KNeighborsClassifier()\n",
    "knn.fit(X_train, Y_train)\n",
    "\n",
    "Y_pred = knn.predict(X_test)\n",
    "knn.score(X_train, Y_train)"
   ]
  },
  {
   "cell_type": "markdown",
   "id": "9b853c59",
   "metadata": {
    "papermill": {
     "duration": 0.081624,
     "end_time": "2021-12-09T06:44:30.539008",
     "exception": false,
     "start_time": "2021-12-09T06:44:30.457384",
     "status": "completed"
    },
    "tags": []
   },
   "source": [
    "### 3.3 최종 제출\n",
    "\n",
    "최종적으로 제출 포맷에 맞춰 제출합니다."
   ]
  },
  {
   "cell_type": "code",
   "execution_count": 59,
   "id": "26462dbe",
   "metadata": {
    "execution": {
     "iopub.execute_input": "2021-12-09T06:44:30.707012Z",
     "iopub.status.busy": "2021-12-09T06:44:30.704017Z",
     "iopub.status.idle": "2021-12-09T06:44:30.727146Z",
     "shell.execute_reply": "2021-12-09T06:44:30.727830Z",
     "shell.execute_reply.started": "2021-12-09T06:43:03.369383Z"
    },
    "papermill": {
     "duration": 0.108277,
     "end_time": "2021-12-09T06:44:30.728078",
     "exception": false,
     "start_time": "2021-12-09T06:44:30.619801",
     "status": "completed"
    },
    "tags": []
   },
   "outputs": [
    {
     "name": "stdout",
     "output_type": "stream",
     "text": [
      "[0 0 0 1 0 0 0 0 1 0 0 0 1 0 1 1 0 1 0 1 1 1 1 1 1 0 1 1 1 0 0 0 1 0 1 1 0\n",
      " 0 0 1 0 1 0 1 1 0 0 0 1 1 0 0 1 1 0 0 0 0 0 1 0 0 0 1 1 1 1 0 0 1 1 0 0 0\n",
      " 1 0 0 1 0 1 1 0 0 0 0 0 1 0 1 1 0 0 1 0 0 0 1 0 0 0 1 0 0 0 1 0 0 0 0 0 0\n",
      " 1 1 1 1 0 0 1 0 1 1 0 1 0 0 1 0 1 0 0 1 0 0 0 0 0 0 0 0 0 0 1 0 0 1 0 0 0\n",
      " 1 0 1 0 0 1 0 0 1 1 1 1 1 1 1 0 0 0 0 0 1 0 0 0 0 0 0 1 1 1 1 1 0 1 1 0 1\n",
      " 0 1 0 0 0 0 0 1 0 1 0 1 0 0 0 1 1 0 1 0 0 0 0 1 0 0 0 0 0 1 0 1 0 1 0 1 0\n",
      " 1 1 1 0 0 1 0 0 0 1 0 0 1 0 1 1 1 1 1 1 0 0 0 0 1 0 1 0 1 0 0 0 0 0 0 0 1\n",
      " 0 0 0 1 1 0 0 0 0 0 0 0 0 1 1 0 1 0 0 0 0 0 1 1 0 1 0 0 0 0 0 0 0 0 0 0 0\n",
      " 1 0 0 0 0 0 0 0 1 1 1 1 0 0 0 1 0 0 1 1 0 0 0 0 0 0 0 1 1 0 1 0 0 0 1 1 0\n",
      " 0 0 0 1 0 0 0 0 0 0 1 0 1 0 1 0 1 1 0 0 0 1 0 1 0 0 1 0 1 1 1 1 0 0 0 1 1\n",
      " 0 1 0 0 1 1 0 0 0 0 0 0 1 0 0 1 0 0 0 0 0 1 0 0 0 1 0 1 0 0 1 0 1 0 0 0 0\n",
      " 0 1 1 1 1 0 0 1 0 0 0]\n"
     ]
    }
   ],
   "source": [
    "Y_pred = random_forest.predict(X_test)\n",
    "print(Y_pred)\n"
   ]
  },
  {
   "cell_type": "code",
   "execution_count": 60,
   "id": "4aade3c3",
   "metadata": {
    "execution": {
     "iopub.execute_input": "2021-12-09T06:44:30.896380Z",
     "iopub.status.busy": "2021-12-09T06:44:30.895771Z",
     "iopub.status.idle": "2021-12-09T06:44:30.904766Z",
     "shell.execute_reply": "2021-12-09T06:44:30.904271Z",
     "shell.execute_reply.started": "2021-12-09T06:43:24.828881Z"
    },
    "papermill": {
     "duration": 0.092855,
     "end_time": "2021-12-09T06:44:30.904957",
     "exception": false,
     "start_time": "2021-12-09T06:44:30.812102",
     "status": "completed"
    },
    "tags": []
   },
   "outputs": [],
   "source": [
    "submission = pd.DataFrame({\n",
    "        \"PassengerId\": test[\"PassengerId\"],\n",
    "        \"Survived\": Y_pred\n",
    "    })\n",
    "submission.to_csv('titanic.csv', index=False)"
   ]
  },
  {
   "cell_type": "code",
   "execution_count": null,
   "id": "7552e21d",
   "metadata": {
    "papermill": {
     "duration": 0.081842,
     "end_time": "2021-12-09T06:44:31.068788",
     "exception": false,
     "start_time": "2021-12-09T06:44:30.986946",
     "status": "completed"
    },
    "tags": []
   },
   "outputs": [],
   "source": []
  }
 ],
 "metadata": {
  "kernelspec": {
   "display_name": "Python 3",
   "language": "python",
   "name": "python3"
  },
  "language_info": {
   "codemirror_mode": {
    "name": "ipython",
    "version": 3
   },
   "file_extension": ".py",
   "mimetype": "text/x-python",
   "name": "python",
   "nbconvert_exporter": "python",
   "pygments_lexer": "ipython3",
   "version": "3.7.12"
  },
  "papermill": {
   "default_parameters": {},
   "duration": 33.716164,
   "end_time": "2021-12-09T06:44:31.962571",
   "environment_variables": {},
   "exception": null,
   "input_path": "__notebook__.ipynb",
   "output_path": "__notebook__.ipynb",
   "parameters": {},
   "start_time": "2021-12-09T06:43:58.246407",
   "version": "2.3.3"
  }
 },
 "nbformat": 4,
 "nbformat_minor": 5
}
