{
  "nbformat": 4,
  "nbformat_minor": 0,
  "metadata": {
    "colab": {
      "name": "lab04-practice.ipynb",
      "provenance": []
    },
    "kernelspec": {
      "name": "python3",
      "display_name": "Python 3"
    },
    "language_info": {
      "name": "python"
    }
  },
  "cells": [
    {
      "cell_type": "code",
      "metadata": {
        "id": "bXIvRMd3qPIw"
      },
      "source": [
        "# input n\n",
        "# check n"
      ],
      "execution_count": null,
      "outputs": []
    },
    {
      "cell_type": "code",
      "metadata": {
        "colab": {
          "base_uri": "https://localhost:8080/"
        },
        "id": "yeqPQ4chqnDe",
        "outputId": "bf9eec98-c87d-43ee-8f14-aab3db8b3971"
      },
      "source": [
        "#solution 1\n",
        "n = int(input())\n",
        "\n",
        "if not 1<=n<=5: #1<=n and n<=5\n",
        "  print('No valid number')\n",
        "else:\n",
        "  # n games\n",
        "  for i in range(n):\n",
        "    # input s1, s2\n",
        "    choice, result = input().split()\n",
        "\n",
        "    # print opponent choice\n",
        "    if result=='승':\n",
        "      if choice=='가위':\n",
        "        print('보')\n",
        "      elif choice=='바위':\n",
        "        print('가위')\n",
        "      else: #choice=='보'\n",
        "        print('바위')\n",
        "    elif result=='패':\n",
        "      if choice=='가위':\n",
        "        print('바위')\n",
        "      elif choice=='바위':\n",
        "        print('보')\n",
        "      else: #choice=='보'\n",
        "        print('가위')\n",
        "    else: # result=='비김'\n",
        "      if choice=='가위':\n",
        "        print('가위')\n",
        "      elif choice=='바위':\n",
        "        print('바위')\n",
        "      else: #choice=='보'\n",
        "        print('보')\n"
      ],
      "execution_count": null,
      "outputs": [
        {
          "output_type": "stream",
          "name": "stdout",
          "text": [
            "4\n",
            "보 패\n",
            "가위\n",
            "가위 비김\n",
            "가위\n",
            "바위 비김\n",
            "바위\n",
            "보 비김\n",
            "보\n"
          ]
        }
      ]
    },
    {
      "cell_type": "code",
      "metadata": {
        "colab": {
          "base_uri": "https://localhost:8080/"
        },
        "id": "0dUPPP5QrOIP",
        "outputId": "9b2e4345-a574-40bf-98d2-954341117706"
      },
      "source": [
        "#solution 2\n",
        "n = int(input())\n",
        "\n",
        "if not 1<=n<=5: #1<=n and n<=5\n",
        "  print('No valid number')\n",
        "else:\n",
        "  # n games\n",
        "  for i in range(n):\n",
        "    # input s1, s2\n",
        "    choice, result = input().split()\n",
        "    rsp = ['가위','바위','보']\n",
        "\n",
        "    # print opponent choice\n",
        "    if result=='승':\n",
        "      opponent_idx = (rsp.index(choice)+2)%3\n",
        "      print(rsp[opponent_idx])\n",
        "    elif result=='패':\n",
        "      opponent_idx = (rsp.index(choice)+1)%3\n",
        "      print(rsp[opponent_idx])\n",
        "    else: # result=='비김'\n",
        "      opponent_idx = (rsp.index(choice)+0)%3\n",
        "      print(rsp[opponent_idx])\n"
      ],
      "execution_count": null,
      "outputs": [
        {
          "output_type": "stream",
          "name": "stdout",
          "text": [
            "1\n",
            "보 비김\n",
            "보\n"
          ]
        }
      ]
    },
    {
      "cell_type": "code",
      "metadata": {
        "colab": {
          "base_uri": "https://localhost:8080/"
        },
        "id": "y6CTlVP2u07d",
        "outputId": "a438527a-4fbd-4a2d-d3dc-7b0315e40e51"
      },
      "source": [
        "#solution 3\n",
        "n = int(input())\n",
        "\n",
        "if not 1<=n<=5: #1<=n and n<=5\n",
        "  print('No valid number')\n",
        "else:\n",
        "  # n games\n",
        "  for i in range(n):\n",
        "    # input s1, s2\n",
        "    choice, result = input().split()\n",
        "    rsp = ['가위','바위','보']\n",
        "    strategy_dict = {\n",
        "        '승':2,\n",
        "        '패':1,\n",
        "        '비김':0\n",
        "    }\n",
        "\n",
        "    # print opponent choice\n",
        "    opponent_idx = (rsp.index(choice)+strategy_dict[result])%3\n",
        "    print(rsp[opponent_idx])"
      ],
      "execution_count": null,
      "outputs": [
        {
          "output_type": "stream",
          "name": "stdout",
          "text": [
            "4\n",
            "보 패\n",
            "가위\n",
            "가위 비김\n",
            "가위\n",
            "바위 비김\n",
            "바위\n",
            "보 비김\n",
            "보\n"
          ]
        }
      ]
    },
    {
      "cell_type": "code",
      "metadata": {
        "id": "e8nci3U5vyxy"
      },
      "source": [
        ""
      ],
      "execution_count": null,
      "outputs": []
    }
  ]
}