{
  "nbformat": 4,
  "nbformat_minor": 0,
  "metadata": {
    "kernelspec": {
      "display_name": "Python 3 (ipykernel)",
      "language": "python",
      "name": "python3"
    },
    "language_info": {
      "codemirror_mode": {
        "name": "ipython",
        "version": 3
      },
      "file_extension": ".py",
      "mimetype": "text/x-python",
      "name": "python",
      "nbconvert_exporter": "python",
      "pygments_lexer": "ipython3",
      "version": "3.8.10"
    },
    "colab": {
      "name": "practice-5.ipynb",
      "provenance": [],
      "toc_visible": true
    }
  },
  "cells": [
    {
      "cell_type": "markdown",
      "metadata": {
        "id": "-pNlMfKHiXL4"
      },
      "source": [
        "\n",
        "#### 035.001.008 컴퓨터의 개념 및 실습\n",
        "\n"
      ]
    },
    {
      "cell_type": "markdown",
      "metadata": {
        "id": "OX-WGSYAiXL9"
      },
      "source": [
        "\n",
        "\n",
        "# Practice Session #5\n",
        "\n"
      ]
    },
    {
      "cell_type": "markdown",
      "metadata": {
        "id": "ZOfjtQNliXL9"
      },
      "source": [
        "\n",
        "\n",
        "\n",
        "## Review : 반복문\n",
        "\n",
        "\n"
      ]
    },
    {
      "cell_type": "markdown",
      "metadata": {
        "id": "khjgDnDBiXL-"
      },
      "source": [
        "\n",
        "### `while` Loop\n",
        "\n",
        "```python3\n",
        "while condition:\n",
        "      statements\n",
        "```\n",
        "- `condition`이 `True`값을 가지는 동안 `statements`가 실행됩니다.\n",
        "\n",
        "\n"
      ]
    },
    {
      "cell_type": "markdown",
      "metadata": {
        "id": "EDEAcYywiXL_"
      },
      "source": [
        "\n",
        "### `for` loop\n",
        "- iteratble한 요소를 순서대로 변수에 대입하여 `statements`를 반복 실행합니다.\n",
        "\n"
      ]
    },
    {
      "cell_type": "code",
      "metadata": {
        "id": "TykotTz_iXL_"
      },
      "source": [
        "for i in range(10):\n",
        "    print(i)\n"
      ],
      "execution_count": null,
      "outputs": []
    },
    {
      "cell_type": "code",
      "metadata": {
        "id": "LY_6NPH3iXMA"
      },
      "source": [
        "for c in 'hello world':\n",
        "    print(c)\n"
      ],
      "execution_count": null,
      "outputs": []
    },
    {
      "cell_type": "markdown",
      "metadata": {
        "id": "kdo0Y-b9iXMA"
      },
      "source": [
        "\n"
      ]
    },
    {
      "cell_type": "code",
      "metadata": {
        "id": "ErNxbBOKiXMA"
      },
      "source": [
        "for d in ['mon', 'tue', 'wed', 'thu']:\n",
        "    print(d)\n"
      ],
      "execution_count": null,
      "outputs": []
    },
    {
      "cell_type": "code",
      "metadata": {
        "id": "U3WEYlW8iXMA"
      },
      "source": [
        "dct = {1:'one', 2:'two', 3:'three'}\n",
        "for v in dct.values():\n",
        "    print(v)\n"
      ],
      "execution_count": null,
      "outputs": []
    },
    {
      "cell_type": "markdown",
      "metadata": {
        "id": "9CJZz_liiXMB"
      },
      "source": [
        "\n",
        "### range()\n",
        "\n",
        "```python3\n",
        "class range(stop)\n",
        "class range(start, stop[, step])\n",
        "\n",
        "```\n"
      ]
    },
    {
      "cell_type": "code",
      "metadata": {
        "id": "PNYqZeHAiXMB"
      },
      "source": [
        "print(range(6))\n",
        "print(range(0, 7, 3))\n",
        "print(range(3, 0))\n"
      ],
      "execution_count": null,
      "outputs": []
    },
    {
      "cell_type": "code",
      "metadata": {
        "id": "FwN9jUAUiXMB"
      },
      "source": [
        "print(list(range(6)))\n",
        "print(list(range(0, 7, 3)))\n",
        "print(list(range(3, 0)))\n"
      ],
      "execution_count": null,
      "outputs": []
    },
    {
      "cell_type": "markdown",
      "metadata": {
        "id": "2x2kkgOviXMB"
      },
      "source": [
        "\n",
        " [Python Docs](https://docs.python.org/3/library/stdtypes.html?highlight=range#range)\n",
        "\n"
      ]
    },
    {
      "cell_type": "markdown",
      "metadata": {
        "id": "9VgTQf4kiXMC"
      },
      "source": [
        "\n",
        "\n",
        "\n",
        "## 자료형 응용\n",
        "\n",
        "\n"
      ]
    },
    {
      "cell_type": "markdown",
      "metadata": {
        "id": "BUUmzFQSiXMC"
      },
      "source": [
        "### int, bool\n",
        "\n",
        "- int <-> bool 자료형간 변환\n",
        "\n"
      ]
    },
    {
      "cell_type": "code",
      "metadata": {
        "id": "1syhAFw2iXMC"
      },
      "source": [
        "print(bool(3)) # True\n",
        "print(bool(0)) # False\n",
        "print(int(True)) # 1\n",
        "print(int(False)) # 0"
      ],
      "execution_count": null,
      "outputs": []
    },
    {
      "cell_type": "code",
      "metadata": {
        "id": "Yn2dHWL-iXMC"
      },
      "source": [
        "print(True > 2) # False\n",
        "print(True == 1) #True\n",
        "print(True == 2) # False\n",
        "print(True == bool(2)) # True"
      ],
      "execution_count": null,
      "outputs": []
    },
    {
      "cell_type": "markdown",
      "metadata": {
        "tags": [],
        "id": "LJvt6rIciXMC"
      },
      "source": [
        "\n",
        "### Decimal\n",
        "\n",
        "- A Few Words About Using Floating-point Numbers\n",
        "- Float형은 Floating Point(부동소수점) 방식을 사용해 소수를 저장합니다.\n",
        "\n"
      ]
    },
    {
      "cell_type": "code",
      "metadata": {
        "id": "Htr-hGNYiXMC"
      },
      "source": [
        "x = 0.0\n",
        "\n",
        "for i in range(10):\n",
        "    x += 0.1    # 0.1 = 0.00011001100110011001100.... in binary representation\n",
        "\n",
        "if x == 1.0:\n",
        "    print(x, '= 1.0')\n",
        "else:\n",
        "    print(x, 'is not 1.0')\n",
        "    \n",
        "\n",
        "print(0.2 + 0.7, ' expected 0.9')\n"
      ],
      "execution_count": null,
      "outputs": []
    },
    {
      "cell_type": "markdown",
      "metadata": {
        "id": "Zm7j38ndiXMD"
      },
      "source": [
        "\n",
        "- 오차를 줄이기 위해 Decimal 라이브러리를 사용할 수 있습니다\n",
        "- https://www.python.org/dev/peps/pep-0327/\n",
        "- 소수를 입력하기 위해서는 string 으로 입력하여야 합니다."
      ]
    },
    {
      "cell_type": "code",
      "metadata": {
        "id": "Neepi6uPiXMD"
      },
      "source": [
        "from decimal import Decimal\n",
        "\n",
        "Decimal(1) # Decimal('1')\n",
        "Decimal(0.1) # Decimal('0.1000000000000000055511151231257827021181583404541015625')\n",
        "Decimal('0.1') # Decimal('0.1')\n",
        "1 + Decimal(0.1) # Decimal ('1.1')"
      ],
      "execution_count": null,
      "outputs": []
    },
    {
      "cell_type": "code",
      "metadata": {
        "id": "trSOK2geiXMD"
      },
      "source": [
        "from decimal import Decimal\n",
        "\n",
        "Decimal(1) + 0.1 # Error!"
      ],
      "execution_count": null,
      "outputs": []
    },
    {
      "cell_type": "markdown",
      "metadata": {
        "tags": [],
        "id": "PjCtDsWoiXMD"
      },
      "source": [
        "\n",
        "\n",
        "## 반복문 응용\n",
        "\n",
        "\n"
      ]
    },
    {
      "cell_type": "markdown",
      "metadata": {
        "tags": [],
        "id": "D1xnrCV-iXMD"
      },
      "source": [
        "\n",
        "\n",
        "### nested loop\n",
        "\n",
        "- 중첩하여 `if`, `while` 반복문을 사용할 수 있습니다.\n",
        "- 인덱스 변수는 index의 첫 글자를 따서 `i`를 자주 사용합니다.\n",
        "    - `i`, `j`, `k`, ...\n",
        "\n"
      ]
    },
    {
      "cell_type": "code",
      "metadata": {
        "id": "wMxnI-j0iXMD"
      },
      "source": [
        "for i in range(5):\n",
        "    for j in range(5):\n",
        "        print('j:', j, sep='', end=' ')\n",
        "    print('i:', i, '\\\\n', sep='') "
      ],
      "execution_count": null,
      "outputs": []
    },
    {
      "cell_type": "markdown",
      "metadata": {
        "id": "St5nsbFRiXMD"
      },
      "source": [
        "\n",
        "- Practice #1 연습문제를 nested loop를 사용해 풀어봅시다.\n",
        "    * 계단식으로 별이 하나씩 증가하게 출력하려면 어떻게 해야 할까요?\n",
        "    \n",
        "```\n",
        "*\n",
        "**\n",
        "***\n",
        "****\n",
        "*****\n",
        "******\n",
        "*******\n",
        "********\n",
        "*********\n",
        "**********\n",
        "```\n",
        "\n",
        "\n",
        "\n"
      ]
    },
    {
      "cell_type": "code",
      "metadata": {
        "id": "SA-gn57miXME"
      },
      "source": [
        "N = int(input())\n",
        "for i in range(N):\n",
        "    for j in range(i+1):\n",
        "            print('*', end='')\n",
        "    print()\n"
      ],
      "execution_count": null,
      "outputs": []
    },
    {
      "cell_type": "markdown",
      "metadata": {
        "id": "MMelMHE6iXME"
      },
      "source": [
        "### break, continue\n",
        "\n",
        "- `break`는 반복문에서 빠져나가기 위해 사용됩니다. \n",
        "- `continue`는 반복문의 일부를 생략하고 다음 iteration을 실행하기 위해 사용됩니다.\n"
      ]
    },
    {
      "cell_type": "code",
      "metadata": {
        "id": "KDVOW9FFiXME"
      },
      "source": [
        "for i in range(10):\n",
        "    print(i, end='')\n",
        "    if (i >= 3):\n",
        "        break\n",
        "    print(' is smaller than 3')\n"
      ],
      "execution_count": null,
      "outputs": []
    },
    {
      "cell_type": "code",
      "metadata": {
        "id": "gJKNEPxtiXME"
      },
      "source": [
        "for i in range(10):\n",
        "    print(i, end='')\n",
        "    if (i >= 3):\n",
        "        continue\n",
        "    print(' is smaller than 3')"
      ],
      "execution_count": null,
      "outputs": []
    },
    {
      "cell_type": "markdown",
      "metadata": {
        "id": "U20BeAfMiXMF"
      },
      "source": [
        "\n",
        "### for-else\n",
        "\n",
        "- `else`는 `if` 외에도 `for`, `while`과도 함께 쓰일 수 있습니다.\n",
        "- **indentation** 을 통하여 else가 어디에 대응되는지를 알 수 있습니다.\n",
        "- `for`: 모든 iterable한 원소에 대해 statement를 실행한 이후에 `else` 구문이 실행됩니다.\n",
        "- **break** 로 반복문이 종료된 경우 실행하지 않습니다.\n",
        "\n"
      ]
    },
    {
      "cell_type": "code",
      "metadata": {
        "id": "dH5tqynwiXMF"
      },
      "source": [
        "for i in range(6):\n",
        "    print(i)\n",
        "else:\n",
        "    print('else')"
      ],
      "execution_count": null,
      "outputs": []
    },
    {
      "cell_type": "code",
      "metadata": {
        "id": "g6EfXXzxiXMF"
      },
      "source": [
        "for i in range(6):\n",
        "    print(i)\n",
        "    if (i == 5):\n",
        "        break\n",
        "else:\n",
        "    print('else')"
      ],
      "execution_count": null,
      "outputs": []
    },
    {
      "cell_type": "code",
      "metadata": {
        "id": "OmDlncgliXMF"
      },
      "source": [
        "for i in range(6):\n",
        "    print(i)\n",
        "    if (i == 5):\n",
        "        break\n",
        "    else:\n",
        "        print('else')"
      ],
      "execution_count": null,
      "outputs": []
    },
    {
      "cell_type": "markdown",
      "metadata": {
        "id": "PcUwka9TiXMF"
      },
      "source": [
        "\n",
        "### while-else\n",
        "\n",
        "- `while`: 조건이 False가 되어 while문의 실행이 종료된 이후에 `else` 구문이 실행됩니다. \n",
        "\n"
      ]
    },
    {
      "cell_type": "code",
      "metadata": {
        "id": "ccI70nKriXMF"
      },
      "source": [
        "i = 0\n",
        "while i < 5:\n",
        "    print(i)\n",
        "    i += 1\n",
        "else:\n",
        "    print('else')"
      ],
      "execution_count": null,
      "outputs": []
    },
    {
      "cell_type": "code",
      "metadata": {
        "id": "wWYWTcYgiXMG"
      },
      "source": [
        "i = 0\n",
        "while True:\n",
        "    if (i == 5):\n",
        "        break\n",
        "    else:\n",
        "        print(i)\n",
        "        i += 1\n",
        "else:\n",
        "    print('else')"
      ],
      "execution_count": null,
      "outputs": []
    }
  ]
}