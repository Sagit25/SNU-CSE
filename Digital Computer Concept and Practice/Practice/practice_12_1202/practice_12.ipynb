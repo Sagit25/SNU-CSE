{
  "nbformat": 4,
  "nbformat_minor": 0,
  "metadata": {
    "kernelspec": {
      "display_name": "Python 3",
      "language": "python",
      "name": "python3"
    },
    "language_info": {
      "codemirror_mode": {
        "name": "ipython",
        "version": 3
      },
      "file_extension": ".py",
      "mimetype": "text/x-python",
      "name": "python",
      "nbconvert_exporter": "python",
      "pygments_lexer": "ipython3",
      "version": "3.6.9"
    },
    "colab": {
      "name": "practice-12.ipynb",
      "provenance": [],
      "collapsed_sections": [
        "AkFn7BaxDKuP"
      ],
      "toc_visible": true
    }
  },
  "cells": [
    {
      "cell_type": "markdown",
      "metadata": {
        "id": "Ax4cOdUuDKt8"
      },
      "source": [
        "\n",
        "#### 035.001.008 컴퓨터의 개념 및 실습\n",
        "\n"
      ]
    },
    {
      "cell_type": "markdown",
      "metadata": {
        "id": "Us9UwOQaDKuC"
      },
      "source": [
        "\n",
        "\n",
        "# Practice Session #12\n",
        "\n"
      ]
    },
    {
      "cell_type": "markdown",
      "metadata": {
        "id": "Rv6dpWSJDKuF"
      },
      "source": [
        "\n",
        "## Table of Contents\n",
        "- Linear Algebra\n",
        "- Data Science Library\n",
        "    - numpy\n",
        "    - pandas\n"
      ]
    },
    {
      "cell_type": "markdown",
      "metadata": {
        "id": "xNMlWMYfDKuH"
      },
      "source": [
        "## Linear Algebra\n",
        "\n",
        "\n"
      ]
    },
    {
      "cell_type": "markdown",
      "metadata": {
        "id": "07aTjTeiDKuI"
      },
      "source": [
        "\n",
        "\n",
        "* **scalar**: a single number; 0 rank tensor\n",
        "* **vector**: first rank (or order) tensor\n",
        "* **2D matrix**: second rank tensor\n",
        "* **n-dimensional matrix**: n-th rank tensor\n",
        "\n",
        "\n",
        "\n",
        "<img src=\"https://miro.medium.com/max/1016/0*l8fRljVSisnV_UtR.jpg\" width=350/>\n",
        "\n",
        "[image source](https://medium.com/analytics-vidhya/tensor-networks-intro-5bfb2c770f85)\n",
        "\n",
        "\n",
        "\n"
      ]
    },
    {
      "cell_type": "markdown",
      "metadata": {
        "id": "zdbt40H1DKuJ"
      },
      "source": [
        "\n",
        "### Basic Operations\n",
        "\n",
        "* Addition  \n",
        "\n",
        "<img src=\"https://wikimedia.org/api/rest_v1/media/math/render/svg/9e600aa691a93ceb33f0fdac290002d1391d6688\"/>\n",
        "\n",
        "<br/>\n",
        "\n",
        "* Scalar multiplication  \n",
        "\n",
        "<img src=\"https://wikimedia.org/api/rest_v1/media/math/render/svg/cf7fe1075c8c575225e74096007bef9205c88964\"/>\n",
        "\n",
        "<br/>\n",
        "\n",
        "\n",
        "* Transposition  \n",
        "\n",
        "<img src=\"https://wikimedia.org/api/rest_v1/media/math/render/svg/51f6dba024e104b412ed0562163ca9a11fcb9463\"/>\n",
        "\n",
        "\n"
      ]
    },
    {
      "cell_type": "markdown",
      "metadata": {
        "id": "e2x9ApNoDKuM"
      },
      "source": [
        "* Matrix Multiplication\n",
        "* multiply each row by each column\n",
        "    \n",
        "    <img src=\"https://wikimedia.org/api/rest_v1/media/math/render/svg/c903c2c14d249005ce9ebaa47a8d6c6710c1c29e\"/>\n",
        "\n",
        "For exmaple, <img src=\"https://wikimedia.org/api/rest_v1/media/math/render/svg/8435ba88efca5a73e7d1b122bb19f99ef136d71e\" width=300/>\n",
        "\n",
        "<img src=\"https://upload.wikimedia.org/wikipedia/commons/e/e5/MatrixMultiplication.png\" width=350/>\n",
        "\n",
        "\n"
      ]
    },
    {
      "cell_type": "markdown",
      "metadata": {
        "id": "AkFn7BaxDKuP"
      },
      "source": [
        "\n",
        "### Examples with Python\n",
        "\n",
        "\n"
      ]
    },
    {
      "cell_type": "markdown",
      "metadata": {
        "id": "pXiVtDvMDKuU"
      },
      "source": [
        "#### List\n",
        "\n",
        "* Creating a 2D List\n",
        "\n"
      ]
    },
    {
      "cell_type": "code",
      "metadata": {
        "id": "PgRJkIq8DKuW"
      },
      "source": [
        "rows = 3\n",
        "cols = 2\n",
        "\n",
        "# \"list comprehension\"\n",
        "a = [ ([0] * cols) for row in range(rows) ]\n",
        "\n",
        "print(\"This IS ok.   At first:\")\n",
        "print(\"   a =\", a)\n",
        "\n",
        "a[0][0] = 42\n",
        "print(\"And now see what happens after a[0][0]=42\")\n",
        "print(\"   a =\", a)\n"
      ],
      "execution_count": null,
      "outputs": []
    },
    {
      "cell_type": "markdown",
      "metadata": {
        "id": "Qt43x43GDKuY"
      },
      "source": [
        "\n",
        "\n",
        "* Tracing a 2D List\n",
        "\n"
      ]
    },
    {
      "cell_type": "code",
      "metadata": {
        "id": "QsK1pBmrDKuZ"
      },
      "source": [
        "matrix = [ [ 1, 2, 3, 4 ],\n",
        "           [ 5, 6, 7, 8 ],\n",
        "           [ 9, 10, 11, 12 ]]\n",
        "print(sum([elem for row in matrix for elem in row]))\n"
      ],
      "execution_count": null,
      "outputs": []
    },
    {
      "cell_type": "markdown",
      "metadata": {
        "id": "aRlsrx_gDKua"
      },
      "source": [
        "\n",
        "\n",
        "\n",
        "https://www.cs.cmu.edu/~112/notes/notes-2d-lists.html\n",
        "\n",
        "\n"
      ]
    },
    {
      "cell_type": "markdown",
      "metadata": {
        "id": "kkhhOKOVDKub"
      },
      "source": [
        "\n",
        "\n",
        "#### Vector Operations\n",
        "\n",
        "\n",
        "* Add\n",
        "\n"
      ]
    },
    {
      "cell_type": "code",
      "metadata": {
        "id": "4W5Cs65uDKuc"
      },
      "source": [
        "x = [1, 2]\n",
        "y = [2, 3]\n",
        "z = [3, 4]\n",
        "print([e for e in zip(x, y, z)])\n",
        "resV = [sum(e) for e in zip(x, y, z)]\n",
        "print(resV)\n"
      ],
      "execution_count": null,
      "outputs": []
    },
    {
      "cell_type": "markdown",
      "metadata": {
        "id": "ewwm5q-CDKuc"
      },
      "source": [
        "\n",
        "\n",
        "* Scalar multiplication\n",
        "\n"
      ]
    },
    {
      "cell_type": "code",
      "metadata": {
        "id": "aYO5Bo8yDKue"
      },
      "source": [
        "# a(x+y)\n",
        "x = [1, 2, 3]\n",
        "y = [4, 5, 6]\n",
        "alpha = 3\n",
        "print([e for e in zip(x, y)])\n",
        "\n",
        "resV = [alpha * sum(e) for e in zip(x, y)]\n",
        "print(resV)\n"
      ],
      "execution_count": null,
      "outputs": []
    },
    {
      "cell_type": "markdown",
      "metadata": {
        "id": "OC2KUwc2DKue"
      },
      "source": [
        "\n",
        "\n",
        "\n",
        "https://www.cs.cmu.edu/~112/notes/notes-2d-lists.html\n",
        "\n",
        "\n"
      ]
    },
    {
      "cell_type": "markdown",
      "metadata": {
        "id": "OJlMJeXaDKuf"
      },
      "source": [
        "\n",
        "#### Matrix Operations\n",
        "* Add, Mul\n",
        "\n"
      ]
    },
    {
      "cell_type": "code",
      "metadata": {
        "id": "NoIL-lxWDKuh"
      },
      "source": [
        "matrixA = [[3, 6], [4, 5]]\n",
        "matrixB = [[5, 8], [6, 7]]\n",
        "addM = [[sum(pair) for pair in zip(*rows)] for rows in zip(matrixA, matrixB)]\n",
        "mulM = [[sum(a*b for a,b in zip(rowA, colB)) for colB in zip(*matrixB)] for rowA in matrixA]\n",
        "print(addM, mulM)\n"
      ],
      "execution_count": null,
      "outputs": []
    },
    {
      "cell_type": "markdown",
      "metadata": {
        "id": "hCcyXPS2DKuj"
      },
      "source": [
        "\n",
        "\n",
        "\n",
        "* Equality testing\n",
        "\n"
      ]
    },
    {
      "cell_type": "code",
      "metadata": {
        "id": "gla0jq8qDKuj"
      },
      "source": [
        "matrixA = [[1,2,3], [3,4,5]]\n",
        "matrixB = [[1,2,5], [7,4,5]]\n",
        "print(all([pair[0] == pair[1] for rows in zip(matrixA, matrixB) for pair in zip(*rows)]))\n"
      ],
      "execution_count": null,
      "outputs": []
    },
    {
      "cell_type": "markdown",
      "metadata": {
        "id": "gx1qNaPdDKum"
      },
      "source": [
        "## Library 소개, 설치\n",
        "\n",
        "\n"
      ]
    },
    {
      "cell_type": "markdown",
      "metadata": {
        "id": "zgMIYZkQV68V"
      },
      "source": [
        "### Numpy\n",
        "\n",
        "<img src=\"https://upload.wikimedia.org/wikipedia/commons/thumb/3/31/NumPy_logo_2020.svg/2560px-NumPy_logo_2020.svg.png\" width=175>\n",
        "\n"
      ]
    },
    {
      "cell_type": "markdown",
      "metadata": {
        "id": "uKYc1PYfDKum"
      },
      "source": [
        "\n",
        "\n",
        "- **Num**erical **Py**thon\n",
        "- Python에서 array, vector, matrix 등의 연산을 편리하게 해주는 library.\n",
        "- 고성능 multi-dimensional array와 다양한 수치 연산 메소드 제공하여 Matlab, R 과 같이 사용할 수 있도록 함.\n",
        "- List와 비슷한 자체 데이터 구조 Array를 제공한다.\n",
        "    - 다양한 메소드( `mean()`, `std()`, `log()`... )를 통해 계산을 편리하게 할 수 있다.\n",
        "    - 같은 종류의 데이터로만 구성할 수 있다.\n",
        "\n",
        "\n",
        "- https://numpy.org\n",
        "\n"
      ]
    },
    {
      "cell_type": "markdown",
      "metadata": {
        "id": "eTWWBfwvDKum"
      },
      "source": [
        "\n",
        "- 설치\n",
        "    - `$ pip install numpy`\n",
        "    - `$ pip3 install numpy`\n",
        "    \n",
        "        혹은 conda 사용 시\n",
        "    - `$ conda install numpy`\n",
        "    \n",
        "\n",
        "- import"
      ]
    },
    {
      "cell_type": "code",
      "metadata": {
        "id": "xbLULlTQG3Cc"
      },
      "source": [
        "import numpy as np"
      ],
      "execution_count": null,
      "outputs": []
    },
    {
      "cell_type": "markdown",
      "metadata": {
        "id": "ys_TxDeeDKun"
      },
      "source": [
        "#### Pandas\n",
        "\n",
        "## <img src=\"https://upload.wikimedia.org/wikipedia/commons/thumb/e/ed/Pandas_logo.svg/2560px-Pandas_logo.svg.png\" width=175>\n",
        "\n",
        "\n",
        "\n"
      ]
    },
    {
      "cell_type": "markdown",
      "metadata": {
        "id": "LjdFn8M3DKun"
      },
      "source": [
        "\n",
        "- Data analysis and manipulation tool\n",
        "- NumPy 기반으로 개발된 자료구조\n",
        "- 1차원 데이터 타입인 Series와, 테이블 형태의 DataFrame 이라는 자료 구조 제공\n",
        "\n",
        "\n"
      ]
    },
    {
      "cell_type": "markdown",
      "metadata": {
        "id": "4cI0kPQ2DKun"
      },
      "source": [
        "\n",
        "- 설치\n",
        "    - `$ pip install pandas`\n",
        "    - `$ pip3 install pandas`\n",
        "    \n",
        "        혹은 conda 사용 시\n",
        "    - `$ conda install pandas`\n",
        "    \n",
        "\n",
        "- import\n",
        "    \n"
      ]
    },
    {
      "cell_type": "code",
      "metadata": {
        "id": "ylwGA7wwG74X"
      },
      "source": [
        "import pandas as pd"
      ],
      "execution_count": null,
      "outputs": []
    },
    {
      "cell_type": "markdown",
      "metadata": {
        "id": "G0P_VbDebgnF"
      },
      "source": [
        "- numpy, pandas는 사용방법도 다양하고 문법도 방대하므로 모든 내용을 커버할 수 없습니다. \n",
        "- **실행결과에 관련하여 의문이 있는경우 먼저 공식 문서를 먼저 찾아보시길 바랍니다.**\n",
        "- 함수의 사용법 등도 아래의 문서에 대부분 기재되어 있습니다\n",
        "  - https://pandas.pydata.org/docs/\n",
        "  - https://numpy.org/doc/stable/"
      ]
    },
    {
      "cell_type": "markdown",
      "metadata": {
        "id": "C09VJ-gabXM4"
      },
      "source": [
        "### Jupyter Notebook 관련 reference\n",
        "- 출력관련 : https://financedata.github.io/posts/display-all-values-in-cell-jupyter-notebook.html#\n"
      ]
    },
    {
      "cell_type": "markdown",
      "metadata": {
        "id": "owkwqRp8DKuo"
      },
      "source": [
        "## Numpy\n",
        "\n",
        "## <img src=\"https://upload.wikimedia.org/wikipedia/commons/thumb/3/31/NumPy_logo_2020.svg/2560px-NumPy_logo_2020.svg.png\" width=175>\n",
        "\n",
        "\n"
      ]
    },
    {
      "cell_type": "markdown",
      "metadata": {
        "id": "yf63wufCDKuo"
      },
      "source": [
        "\n",
        "### Array 생성\n"
      ]
    },
    {
      "cell_type": "markdown",
      "metadata": {
        "id": "Idb4AaqGHA2A"
      },
      "source": [
        "- `np.array()` 로 array를 선언할 수 있다. \n",
        "- python의 list와 유사하나 numpy에서 지원하는 다양한 내장 method를 사용할 수 있다\n",
        "- `np.array()` 의 인자로 생성하고 싶은 어레이의 모양을 넣어준다. \n",
        "- 이미 생성된 어레이의 경우 `numpy.shape()` 를 이용해 모양을 확인할 수 있다."
      ]
    },
    {
      "cell_type": "code",
      "metadata": {
        "id": "ksRFNlddHjYE"
      },
      "source": [
        "scalar = np.array(10) \n",
        "print(np.shape(scalar))\n",
        "print(scalar.shape) #(): rank-0인 scalar 값이다.\n",
        "\n",
        "arr1 = np.array([1, 2, 3]) # 1차원 array를 만든다.\n",
        "print(np.shape(arr1))\n",
        "print(arr1.shape) #(3, ) : 1D array\n",
        "\n",
        "arr2 = np.array([[1,2,3],[4,5,6]])\n",
        "print(np.shape(arr2))\n",
        "print"
      ],
      "execution_count": null,
      "outputs": []
    },
    {
      "cell_type": "markdown",
      "metadata": {
        "id": "8OvMmCFhIU4h"
      },
      "source": [
        "- list 로 선언 후 np.array()의 인자로 넣어 사용할 수 도 있다."
      ]
    },
    {
      "cell_type": "code",
      "metadata": {
        "id": "94QMZ7dIGyVe"
      },
      "source": [
        "matA = [[3, 6], [4, 5]]\n",
        "matB = [[5, 8], [6, 7]]\n",
        "matA = np.array(matA)\n",
        "matB = np.array(matB)\n",
        "\n"
      ],
      "execution_count": null,
      "outputs": []
    },
    {
      "cell_type": "markdown",
      "metadata": {
        "id": "zO2WD9eeLnRL"
      },
      "source": [
        "- `np.zeros(shape)`, `np.ones(shape)`, `np.empty()`\n",
        "- 각각 shape의 모양을 가진 numpy array를 만든다. \n",
        "- 각각 모든 원소가 0.0, 1.0, 혹은 초기화되지 않은 값을 반환한다. \n"
      ]
    },
    {
      "cell_type": "code",
      "metadata": {
        "id": "dK-IzFjFIaDm"
      },
      "source": [
        "arrZeros = np.zeros(10)\n",
        "arrOnes = np.ones((2, 10))\n",
        "arrEmpty = np.empty(10)\n",
        "arrFive = np.arange(5)\n",
        "arrTen = np.arange(3, 10)"
      ],
      "execution_count": null,
      "outputs": []
    },
    {
      "cell_type": "markdown",
      "metadata": {
        "id": "5P0D_0YgVoBh"
      },
      "source": [
        "### Vector 연산\n",
        "\n",
        "- 기본적으로 element-wise 하게 연산을 한다.\n",
        "- element-wise하다는 것은 동일한 위치의 원소들간에 연산을 한다는 의미이다."
      ]
    },
    {
      "cell_type": "markdown",
      "metadata": {
        "id": "5MLuVh_uV4iu"
      },
      "source": [
        "- Add\n",
        "\n"
      ]
    },
    {
      "cell_type": "code",
      "metadata": {
        "id": "kTyZvpRcVnZf"
      },
      "source": [
        "x = np.array([1, 2])\n",
        "y = np.array([2, 3])\n",
        "z = np.array([3, 4])\n",
        "resV = x + y + z\n",
        "print(resV)"
      ],
      "execution_count": null,
      "outputs": []
    },
    {
      "cell_type": "markdown",
      "metadata": {
        "id": "MjDfB41vDKuo"
      },
      "source": [
        "\n",
        "* Scalar multiplication\n"
      ]
    },
    {
      "cell_type": "code",
      "metadata": {
        "id": "Fh9V6v6NWRj2"
      },
      "source": [
        "# a(x+y)\n",
        "x = np.array([1, 2, 3])\n",
        "y = np.array([4, 5, 6])\n",
        "alpha = 3\n",
        "resV = alpha * (x+y)\n",
        "print(resV)"
      ],
      "execution_count": null,
      "outputs": []
    },
    {
      "cell_type": "markdown",
      "metadata": {
        "id": "SHIaZVbIDKuo"
      },
      "source": [
        "### Matrix 연산\n",
        "\n",
        "- matrix 연산도 동일한 방법으로 가능하다"
      ]
    },
    {
      "cell_type": "markdown",
      "metadata": {
        "id": "UXmUVOv1WiFk"
      },
      "source": [
        "- Add, Mul\n",
        "    - `+` `*` 연산자는 element-wise하게 연산을 진행한다. \n",
        "    - 위의 예시처럼 행렬간 곱셈을 하고 싶다면, `dot()` 함수를 사용해야 한다"
      ]
    },
    {
      "cell_type": "code",
      "metadata": {
        "id": "EYRz50YoWbdu"
      },
      "source": [
        "matrixA = np.array([[3, 6], [4, 5]])\n",
        "matrixB = np.array([[5, 8], [6, 7]])\n",
        "\n",
        "addM = matrixA + matrixB\n",
        "mulM = matrixA * matrixB #element-wise operation\n",
        "dotM = matrixA.dot(matrixB) #dot operation\n",
        "\n",
        "# vector-matrix mulplication\n",
        "vectorA = np.array([1, 0])\n",
        "mulVM = vectorA * matrixA #element-wise operation\n",
        "dotVM = vectorA.dot(matrixA) #dot operation"
      ],
      "execution_count": null,
      "outputs": []
    },
    {
      "cell_type": "markdown",
      "metadata": {
        "id": "Ds27PoeaDKuo"
      },
      "source": [
        "- Equality testing (element-wise)\n",
        "  - 모든 자리를 비교해 각 위치의 원소가 같은지 확인한다.\n",
        "  - 비교하는 행렬과 동일한 크기의 array를 반환한다"
      ]
    },
    {
      "cell_type": "code",
      "metadata": {
        "id": "29K_fFa8Wf3e"
      },
      "source": [
        "matrixA = np.array([[1,2,3], [3,4,5]])\n",
        "matrixB = np.array([[1,2,5], [7,4,5]])\n",
        "matrixC = np.array([[1,2,3], [3,4,5]])"
      ],
      "execution_count": null,
      "outputs": []
    },
    {
      "cell_type": "code",
      "metadata": {
        "id": "DdxXx6uwWo0x"
      },
      "source": [
        "matrixA == matrixB\n",
        "matrixA == matrixC"
      ],
      "execution_count": null,
      "outputs": []
    },
    {
      "cell_type": "markdown",
      "metadata": {
        "id": "gYXKLGZsWsi3"
      },
      "source": [
        "- Equality testing\n",
        "  - 행렬의 모든 원소가 같은지 검사하여 `True`, `False`를 반환한다"
      ]
    },
    {
      "cell_type": "code",
      "metadata": {
        "id": "u46q7fNHWzVO"
      },
      "source": [
        "np.array_equal(matrixA, matrixB)\n",
        "np.array_equal(matrixA, matrixC)"
      ],
      "execution_count": null,
      "outputs": []
    },
    {
      "cell_type": "markdown",
      "metadata": {
        "id": "iHkV74jjDKuo"
      },
      "source": [
        "\n",
        "### Array Methods (Slicing)\n",
        "- Python list의 slicing과 유사\n",
        "- 행과 열 (2차원의 경우) 별로 slicing을 할 수 있다"
      ]
    },
    {
      "cell_type": "code",
      "metadata": {
        "id": "DQTuljmdW9S_"
      },
      "source": [
        "a = np.array([[1,2,3,4], [5,6,7,8], [9,10,11,12]])\n",
        "\n",
        "b = a[:2, 1:3] #a의 ~1행, 1~2열\n",
        "\n",
        "a1 = a[1, :] #a의 1행, 모든 열\n",
        "a2 = a[:2, :] #a의 ~1행, 모든 열"
      ],
      "execution_count": null,
      "outputs": []
    },
    {
      "cell_type": "markdown",
      "metadata": {
        "id": "NJDZ4WuLDKup"
      },
      "source": [
        "### Array 연산 (Aggregation)\n",
        "\n",
        "- array의 통계 (sum, mean, max, min, std)를 계산하는 함수\n",
        "- axis를 지정하여 집계의 기준이 되는 차원을 바꿀 수 있다. \n",
        "- axis를 지정하지 않는 경우만 다루며, 이 경우 array의 모든 원소를 대상으로 통계값을 계산한다\n"
      ]
    },
    {
      "cell_type": "code",
      "metadata": {
        "id": "T6-9346WXHd5"
      },
      "source": [
        "x = np.array([[1,2],[3,4],[5,6],[7,8]])\n",
        "\n",
        "print(np.mean(x))\n",
        "print(np.std(x))\n",
        "print(np.max(x))\n",
        "print(np.min(x))"
      ],
      "execution_count": null,
      "outputs": []
    },
    {
      "cell_type": "markdown",
      "metadata": {
        "id": "xelJU424DKuq"
      },
      "source": [
        "\n",
        "### Array 정렬\n",
        "\n",
        "- array의 모든 값을 오름차순 or 내림차순으로 정렬할 수 있다. "
      ]
    },
    {
      "cell_type": "code",
      "metadata": {
        "id": "HuLHSw5GXJ81"
      },
      "source": [
        "arr = np.array([0, 10, 3, -1, 1]) \n",
        "np.sort(arr) #오름차순 정렬\n",
        "np.sort(arr)[::-1] #내림차순\n",
        "\n",
        "# 위 함수를 실행해도 arr list 자체가 바뀌는 것은 아니며, 정렬한 결과를 return한다.\n",
        "# 즉 정렬한 결과를 저장하기 위해서는 아래와 같이 실행해야 한다\n",
        "arr = np.sort(arr)\n",
        "arr = np.sort(arr)[::-1]"
      ],
      "execution_count": null,
      "outputs": []
    },
    {
      "cell_type": "markdown",
      "metadata": {
        "id": "NDcEj3WADKur"
      },
      "source": [
        "## Pandas\n",
        "\n",
        "<img src=\"https://upload.wikimedia.org/wikipedia/commons/thumb/e/ed/Pandas_logo.svg/2560px-Pandas_logo.svg.png\" width=175>\n",
        "\n",
        "\n",
        "\n"
      ]
    },
    {
      "cell_type": "markdown",
      "metadata": {
        "id": "mfaBvDbtDKur"
      },
      "source": [
        "### 자료 공지\n",
        "\n",
        "- etl에 압축파일로 주피터 노트북과 데이터가 올라와 있습니다. \n",
        "- 다운 받아서 해당 노트북에서 실습을 진행하시면 됩니다. \n",
        "- 데이터폴더와 노트북은 같은 경로안에 위치해야 합니다. \n",
        "\n",
        "**Colab 관련 추가**\n",
        "- Google Colab에서 실행을 하는 경우 좌측 파일을 통해서 직접 업로드 후 사용해야 합니다. \n",
        "  - 좌측 메뉴 세션 저장소에 업로드 혹은, 드라이브 마운트 사용\n",
        "    -  ![image.png](https://user-images.githubusercontent.com/37105201/144702017-25fa4bf9-d8d8-4923-b89c-65279961b43f.png)\n",
        "    \n",
        "  - 혹은 `google.colabs` 패키지 사용\n",
        "\n",
        "  - 참고) https://grooot.tistory.com/7\n",
        "\n"
      ]
    },
    {
      "cell_type": "code",
      "metadata": {
        "id": "zNV8lDDJZAD9"
      },
      "source": [
        "import pandas as pd\n",
        "import numpy as np #pandas 는 주로 numpy와 함께 쓰이니 같이 import 해줍니다."
      ],
      "execution_count": null,
      "outputs": []
    },
    {
      "cell_type": "markdown",
      "metadata": {
        "id": "-ukr53YdDKur"
      },
      "source": [
        "\n",
        "### Series\n",
        "\n",
        "- object를 담을 수 있는 1D array\n"
      ]
    },
    {
      "cell_type": "code",
      "metadata": {
        "id": "DuO-0qlZaxas"
      },
      "source": [
        "s = pd.Series([1, 3, 5, np.nan, 6, 8])\n",
        "s"
      ],
      "execution_count": null,
      "outputs": []
    },
    {
      "cell_type": "code",
      "metadata": {
        "id": "hvRHjwfua1vt"
      },
      "source": [
        "s.values"
      ],
      "execution_count": null,
      "outputs": []
    },
    {
      "cell_type": "code",
      "metadata": {
        "id": "ew4Mu_Toa2gz"
      },
      "source": [
        "s.index"
      ],
      "execution_count": null,
      "outputs": []
    },
    {
      "cell_type": "markdown",
      "metadata": {
        "id": "_dZ92TPGDKur"
      },
      "source": [
        "\n",
        "### DataFrame\n",
        "\n",
        "- Row, Column 으로 이루어진 테이블 형테의 자료 구조 (2D)\n",
        "- 각 Column은 다른 형태의 데이터를 담을 수 있다\n"
      ]
    },
    {
      "cell_type": "code",
      "metadata": {
        "colab": {
          "base_uri": "https://localhost:8080/",
          "height": 112
        },
        "id": "STB0AmOea6dT",
        "outputId": "1e0f7d2a-edf5-4e1f-ac8b-784295ec2332"
      },
      "source": [
        "d = {'col1': [1, 2], 'col2': ['a', 'b']}\n",
        "df = pd.DataFrame(data=d)\n",
        "df"
      ],
      "execution_count": null,
      "outputs": [
        {
          "output_type": "execute_result",
          "data": {
            "text/html": [
              "<div>\n",
              "<style scoped>\n",
              "    .dataframe tbody tr th:only-of-type {\n",
              "        vertical-align: middle;\n",
              "    }\n",
              "\n",
              "    .dataframe tbody tr th {\n",
              "        vertical-align: top;\n",
              "    }\n",
              "\n",
              "    .dataframe thead th {\n",
              "        text-align: right;\n",
              "    }\n",
              "</style>\n",
              "<table border=\"1\" class=\"dataframe\">\n",
              "  <thead>\n",
              "    <tr style=\"text-align: right;\">\n",
              "      <th></th>\n",
              "      <th>col1</th>\n",
              "      <th>col2</th>\n",
              "    </tr>\n",
              "  </thead>\n",
              "  <tbody>\n",
              "    <tr>\n",
              "      <th>0</th>\n",
              "      <td>1</td>\n",
              "      <td>a</td>\n",
              "    </tr>\n",
              "    <tr>\n",
              "      <th>1</th>\n",
              "      <td>2</td>\n",
              "      <td>b</td>\n",
              "    </tr>\n",
              "  </tbody>\n",
              "</table>\n",
              "</div>"
            ],
            "text/plain": [
              "   col1 col2\n",
              "0     1    a\n",
              "1     2    b"
            ]
          },
          "metadata": {},
          "execution_count": 10
        }
      ]
    },
    {
      "cell_type": "code",
      "metadata": {
        "colab": {
          "base_uri": "https://localhost:8080/"
        },
        "id": "UUs9FtbkfMmM",
        "outputId": "be95eeac-d78c-42bc-f671-27568f6e2890"
      },
      "source": [
        "df.index #각 row들의 index 반환, 따로 지정하지 않는 경우 번호로 들어간다."
      ],
      "execution_count": null,
      "outputs": [
        {
          "output_type": "execute_result",
          "data": {
            "text/plain": [
              "RangeIndex(start=0, stop=2, step=1)"
            ]
          },
          "metadata": {},
          "execution_count": 33
        }
      ]
    },
    {
      "cell_type": "markdown",
      "metadata": {
        "id": "id9iFAV3DKus"
      },
      "source": [
        "\n",
        "### 데이터 불러오기\n",
        "- read_csv(), ExcelFile(), read_excel() 등의 함수를 통해서 파일에 저장된 데이터를 읽어온다"
      ]
    },
    {
      "cell_type": "code",
      "metadata": {
        "id": "Kb0_2BjgcRWB"
      },
      "source": [
        "data = pd.read_csv(\"data/weather_year.csv\") # 이 코드는 저장소에 업로드하였을 경우에만 실행됩니다. \n",
        "\n",
        "data.head() #데이터 상단 확인  (잘 불려왔는지 일부만 확인)\n",
        "data.tail()"
      ],
      "execution_count": null,
      "outputs": []
    },
    {
      "cell_type": "markdown",
      "metadata": {
        "id": "up_Fp5fwDKus"
      },
      "source": [
        "\n",
        "### 데이터 접근하기 (Column)\n",
        "\n"
      ]
    },
    {
      "cell_type": "code",
      "metadata": {
        "id": "x75ouuwacoCS"
      },
      "source": [
        "data.columns # 모든 column\n",
        "data['EDT'] # 특정 column\n",
        "data[['EDT', 'Max TemperatureF', 'Mean TemperatureF']] # 다수의 Columns\n",
        "data[['EDT', 'Max TemperatureF', 'Mean TemperatureF']].describe() \n",
        "#기초 통계 (개수, 평균, 표준편차, 최대,..), \n",
        "\n",
        "data.columns = [\"date\", \"max_temp\", \"mean_temp\", \"min_temp\", \"max_dew\",\n",
        "                \"mean_dew\", \"min_dew\", \"max_humidity\", \"mean_humidity\",\n",
        "                \"min_humidity\", \"max_pressure\", \"mean_pressure\",\n",
        "                \"min_pressure\", \"max_visibilty\", \"mean_visibility\",\n",
        "                \"min_visibility\", \"max_wind\", \"mean_wind\", \"min_wind\",\n",
        "                \"precipitation\", \"cloud_cover\", \"events\", \"wind_dir\"] \n",
        "#Column 이름 변경 (공백제거)"
      ],
      "execution_count": null,
      "outputs": []
    },
    {
      "cell_type": "code",
      "metadata": {
        "id": "5j9FlOfHcq3A"
      },
      "source": [
        "data = data.drop([\"mean_humidity\"], axis=1)\n",
        "#행 제거 (axis=1 반드시 사용)\n",
        "\n",
        "data[\"mean_humidity\"] = (data[\"min_humidity\"] + data[\"max_humidity\"]) / 2 \n",
        "#새로운 행 생성\n",
        "\n",
        "data.mean_humidity = data.mean_humidity.apply(lambda h: int(h)) \n",
        "#apply(), lambda 함수를 통해 column의 모든 데이터에 동일한 연산 수행\n",
        "#행간 연산\n"
      ],
      "execution_count": null,
      "outputs": []
    },
    {
      "cell_type": "markdown",
      "metadata": {
        "id": "NUd6MkWUdh-5"
      },
      "source": [
        "### 데이터 전처리하기"
      ]
    },
    {
      "cell_type": "code",
      "metadata": {
        "id": "A3jxKqoJdByk"
      },
      "source": [
        "# missing data에 대해 빈 문자열 채워넣기\n",
        "data.events = data.events.fillna(\"\")\n",
        "data.events.head(10)"
      ],
      "execution_count": null,
      "outputs": []
    },
    {
      "cell_type": "markdown",
      "metadata": {
        "id": "mktTXdbWDKus"
      },
      "source": [
        "### 데이터 접근하기 (Row)"
      ]
    },
    {
      "cell_type": "code",
      "metadata": {
        "colab": {
          "base_uri": "https://localhost:8080/",
          "height": 35
        },
        "id": "6xCj8Dy6c-3S",
        "outputId": "8db68893-c41c-4ee2-80e7-366fca4517c7"
      },
      "source": [
        "data.iloc[0]\n",
        "data.iloc[3:9]\n",
        "\n",
        "num_rain = 0\n",
        "for idx, row in data.iterrows():\n",
        "    if \"Rain\" in row[\"events\"]:\n",
        "        num_rain += 1\n",
        "\n",
        "f\"Days with rain: {num_rain}\""
      ],
      "execution_count": null,
      "outputs": [
        {
          "output_type": "execute_result",
          "data": {
            "application/vnd.google.colaboratory.intrinsic+json": {
              "type": "string"
            },
            "text/plain": [
              "'Days with rain: 121'"
            ]
          },
          "metadata": {},
          "execution_count": 28
        }
      ]
    },
    {
      "cell_type": "markdown",
      "metadata": {
        "id": "UeNl2vUWDKut"
      },
      "source": [
        "\n",
        "### 데이터 필터링하기\n",
        "- 데이터를 살펴보고, 분석하기 위해 필수적\n",
        "\n"
      ]
    },
    {
      "cell_type": "code",
      "metadata": {
        "id": "57ZKFquoeD4Q"
      },
      "source": [
        "freezing_days = data[data.max_temp <= 32] #data중 max_temp가 32 이하인 row만 필터링\n",
        "freezing_days = freezing_days[freezing_days.min_temp >= 20]\n",
        "freezing_days"
      ],
      "execution_count": null,
      "outputs": []
    },
    {
      "cell_type": "code",
      "metadata": {
        "id": "gtMF_6RbeMPa"
      },
      "source": [
        "freezing_days = data[(data.max_temp <= 32) & (data.min_temp >= 20)] # 두 개 이상의 조건을 함께 사용할 수 도 있다."
      ],
      "execution_count": null,
      "outputs": []
    },
    {
      "cell_type": "markdown",
      "metadata": {
        "id": "bVA0grK1eViG"
      },
      "source": [
        "- 숫자가 아닌 경우 lambda와 apply함수를 활용해 필터링 해야한다."
      ]
    },
    {
      "cell_type": "code",
      "metadata": {
        "id": "rcZbiyjbeQWj"
      },
      "source": [
        "data[\"Rain\" in data.events] #Error!\n",
        "data[data.events.apply(lambda e: \"Rain\" in e)]"
      ],
      "execution_count": null,
      "outputs": []
    },
    {
      "cell_type": "markdown",
      "metadata": {
        "id": "4ec_Ma--DKut"
      },
      "source": [
        "### 데이터 Grouping하기\n",
        "\n",
        "- groupby()\n",
        "    - 같은 값을 가지는 데이터 포인트를 찾아서 묶어준다.\n",
        "    - 결과는 tuple로 출력\n",
        "      - tuple의 첫번째 원소는 groupby()의 기준인 cloud_cover의 값, 두번째 원소는 각 level에 해당되는 모든 row이다\n",
        "\n"
      ]
    },
    {
      "cell_type": "code",
      "metadata": {
        "id": "22Kpz0YXeYw3"
      },
      "source": [
        "for d in data.groupby(\"cloud_cover\"):\n",
        "    print(d[0], d[1])\n",
        "    \"\"\"\n",
        "    d[0] : cloud_cover level\n",
        "    d[1] : cloud_cover level이 포함된 data row\n",
        "    loop는 각 data row의 iteration이 아닌 group의 iteration이다. \n",
        "    \"\"\""
      ],
      "execution_count": null,
      "outputs": []
    },
    {
      "cell_type": "markdown",
      "metadata": {
        "id": "EXinsmKmDKut"
      },
      "source": [
        "\n",
        "#### 데이터 Grouping하기\n",
        "\n",
        "- groupby()를 활용해 각 그룹별 데이터들의 특징을 알아낼 수 있다.\n"
      ]
    },
    {
      "cell_type": "code",
      "metadata": {
        "id": "rsGjp6vbecPo"
      },
      "source": [
        "cover_temps = {}\n",
        "for cover, cover_data in data.groupby(\"cloud_cover\"):\n",
        "    cover_temps[cover] = cover_data.mean_temp.mean()\n",
        "cover_temps"
      ],
      "execution_count": null,
      "outputs": []
    },
    {
      "cell_type": "markdown",
      "metadata": {
        "id": "lGPvQM_4DKut"
      },
      "source": [
        "\n",
        "\n",
        "## 오늘의 실습\n",
        "\n",
        "\n"
      ]
    },
    {
      "cell_type": "markdown",
      "metadata": {
        "id": "Uqnmtb2LDKut"
      },
      "source": [
        "\n",
        "### 연습문제\n",
        "\n",
        "- numpy와 pandas를 활용하여 문제를 풀어봅시다. \n",
        "- https://forms.gle/E7EoXsDXF4Wm4ZHo8\n",
        "- Numpy 01 (countries) : Bahrain의 employment (소수점 전체 입력)\n",
        "- Numpy 02 (countries) : Cameroon의 overall competition rate (소수점 아래 두자리까지)\n",
        "- Pandas 01 (gm_data) : gdp의 최대, 최소, 평균을 쉼표로 구분하여 입력 (소수점 아래 버림)\n",
        "\n"
      ]
    },
    {
      "cell_type": "markdown",
      "metadata": {
        "id": "NH5FD9aADKuu"
      },
      "source": [
        "\n",
        "### 실습문제\n",
        "- https://forms.gle/NiV3wokHZcoRM5Qt7\n",
        "- Pandas 01 (gm_data) : gdp 상위 10개 국가의 평균과 하위 10개 국가의 평균의 차이 (소수점 아래 버림)\n",
        "- Pandas 02 (gm_data) : employment가 최대인 나라의 이름\n",
        "- Pandas 03 (gm_data) : Switzerland보다 기대수명 (life_exp)이 바로 위인 나라의 이름\n",
        "\n"
      ]
    },
    {
      "cell_type": "markdown",
      "metadata": {
        "id": "vMRicMAsfbGS"
      },
      "source": [
        "### **실습과제가 로컬환경에서 실행이 안 되는 경우, 코랩에서 시행 전 파일을 업로드 해주셔야 합니다.**"
      ]
    },
    {
      "cell_type": "markdown",
      "metadata": {
        "id": "Pht67BwXfrN2"
      },
      "source": [
        "#### 실행 전처리 과정"
      ]
    },
    {
      "cell_type": "code",
      "metadata": {
        "id": "G8_jB6Lhfa5V"
      },
      "source": [
        "def read_gapminder_data(filename, colname):\n",
        "    data = pd.read_csv(\"data/gapminder/{}\".format(filename), header=None)\n",
        "    data.columns = [\"country\", colname]\n",
        "    data.index = data.country\n",
        "    data = data.drop(['country'], axis=1)\n",
        "    return data"
      ],
      "execution_count": null,
      "outputs": []
    },
    {
      "cell_type": "code",
      "metadata": {
        "id": "Z-JqPxFbf1dC"
      },
      "source": [
        "employment = read_gapminder_data(\"employment.csv\", \"employment\") \n",
        "#FileNotFoundError가 날 경우 colab환경의 올바른 경로 data/gapminder/**.csv를 업로드했는지 확인하세요\n",
        "life_exp = read_gapminder_data(\"life_expectancy.csv\", \"life_exp\")\n",
        "gdp = read_gapminder_data(\"gdp_per_capita.csv\", \"gdp\")\n",
        "\n",
        "frames = [employment, life_exp, gdp]\n",
        "gm_data = pd.concat(frames, axis=1)\n",
        "gm_data"
      ],
      "execution_count": null,
      "outputs": []
    },
    {
      "cell_type": "code",
      "metadata": {
        "id": "-9TpHpBygDks"
      },
      "source": [
        "# 데이터 정렬 \n",
        "gm_data.sort_values(['gdp', 'employment'], ascending=False)"
      ],
      "execution_count": null,
      "outputs": []
    }
  ]
}