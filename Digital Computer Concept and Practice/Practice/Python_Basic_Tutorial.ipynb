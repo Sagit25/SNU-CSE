{
  "nbformat": 4,
  "nbformat_minor": 5,
  "metadata": {
    "kernelspec": {
      "display_name": "Python 3",
      "language": "python",
      "name": "python3"
    },
    "language_info": {
      "codemirror_mode": {
        "name": "ipython",
        "version": 3
      },
      "file_extension": ".py",
      "mimetype": "text/x-python",
      "name": "python",
      "nbconvert_exporter": "python",
      "pygments_lexer": "ipython3",
      "version": "3.8.6"
    },
    "colab": {
      "name": "Python Basic Tutorial.ipynb",
      "provenance": [],
      "collapsed_sections": [
        "presidential-science",
        "north-reading",
        "seven-diameter",
        "paperback-eclipse",
        "italic-maria",
        "armed-dynamics",
        "blind-essay",
        "weekly-blowing",
        "naughty-lease",
        "lesser-component",
        "published-imagination",
        "virtual-bracket",
        "persistent-basics",
        "extended-magnitude",
        "improving-spring",
        "departmental-roberts",
        "dying-arabic"
      ]
    }
  },
  "cells": [
    {
      "cell_type": "markdown",
      "metadata": {
        "id": "dress-finish"
      },
      "source": [
        "# Python Basic Tutorial\n",
        "\n",
        "> made by Subin An (TA)\n",
        "\n",
        "\n",
        "- 해당 노트북은 **컴퓨터 이론 및 개론과 실습(서진욱 교수님)** 수업을 수강하는 학생을 대상으로 제공하는 파이썬 기초 문법 정리 파일입니다.\n",
        "- 중간고사 이전의 대부분에 필요한 문법을 포함하고 있습니다.\n",
        "- `ctrl+Enter` 또는 `cmd+Enter`를 사용하면 해당 셀을 실행할 수 있습니다.\n",
        "\n",
        "목차는 다음과 같습니다.\n",
        "\n",
        "1. **입출력과 기본팁**\n",
        "    - 주석과 코드\n",
        "    - 출력의 print\n",
        "    - 입력의 input\n",
        "2. **자료형과 연산**\n",
        "    - int / float \n",
        "    - str\n",
        "    - bool\n",
        "    - 변수(Variable)\n",
        "3. **조건문**\n",
        "    - if\n",
        "    - elif\n",
        "    - else\n",
        "4. **반복문**\n",
        "    - for문(1)과 range\n",
        "    - while\n",
        "    - break와 continue\n",
        "5. **여러 자료를 담고 있는 자료형**\n",
        "    - str\n",
        "    - list\n",
        "    - tuple\n",
        "    - dict \n",
        "    - set\n",
        "    - 자료형 공통\n",
        "    - for문(2)\n",
        "\n",
        "실습을 진행하기 전에 반드시 다음 코드를 실행하여 Python 버전이 3.7 이상임을 확인해주세요.\n",
        "\n",
        "아니라면 3.7 이상 버전으로 설치를 해야합니다."
      ],
      "id": "dress-finish"
    },
    {
      "cell_type": "code",
      "metadata": {
        "colab": {
          "base_uri": "https://localhost:8080/"
        },
        "id": "modular-warning",
        "outputId": "40f6a223-bf0f-431a-d824-d9cc7d1a7dcd"
      },
      "source": [
        "!python -V"
      ],
      "id": "modular-warning",
      "execution_count": null,
      "outputs": [
        {
          "output_type": "stream",
          "name": "stdout",
          "text": [
            "Python 3.7.11\n"
          ]
        }
      ]
    },
    {
      "cell_type": "markdown",
      "metadata": {
        "id": "presidential-science"
      },
      "source": [
        "## 1. 입출력과 기본팁\n",
        "\n",
        "### 1-1. 주석과 코드\n",
        "\n",
        "- 코드 앞에 `#`을 사용하면 해당 뒷 부분 코드는 실행되지 않습니다.\n",
        "- 추가적인 설명을 적거나 아니면 잠시 실행을 하지 않는 코드 등에 사용하며 이를 **주석**이라고 합니다.\n",
        "- 또는 '''를 사용하여 긴 주석을 쓸 수도 있습니다."
      ],
      "id": "presidential-science"
    },
    {
      "cell_type": "code",
      "metadata": {
        "colab": {
          "base_uri": "https://localhost:8080/",
          "height": 52
        },
        "id": "indoor-hands",
        "outputId": "82e0ad38-0849-45e9-89f0-a3c7e5f7fe27"
      },
      "source": [
        "# print('hello world')\n",
        "print('hello world') # 이렇게 코드 뒤에 추가 설명하는 경우도 있음\n",
        "\n",
        "'''\n",
        "이렇게도 주석 가능\n",
        "'''"
      ],
      "id": "indoor-hands",
      "execution_count": null,
      "outputs": [
        {
          "output_type": "stream",
          "name": "stdout",
          "text": [
            "hello world\n"
          ]
        },
        {
          "output_type": "execute_result",
          "data": {
            "application/vnd.google.colaboratory.intrinsic+json": {
              "type": "string"
            },
            "text/plain": [
              "'\\n이렇게도 주석 가능\\n'"
            ]
          },
          "metadata": {},
          "execution_count": 1
        }
      ]
    },
    {
      "cell_type": "markdown",
      "metadata": {
        "id": "turned-copper"
      },
      "source": [
        "### 1-2. 출력의 print()\n",
        "\n",
        "- Python은 인터프리터이기 때문에 한 줄, 한 줄 결과를 출력할 수 있습니다.\n",
        "- 2+3, 3*4 등의 연산을 한 셀에만 넣고 실행해보세요.\n",
        "- 주피터노트북 환경에서는 셀의 마지막 값을 출력해주지만, 중간 과정은 출력해주지 않습닌다."
      ],
      "id": "turned-copper"
    },
    {
      "cell_type": "code",
      "metadata": {
        "colab": {
          "base_uri": "https://localhost:8080/"
        },
        "id": "honey-thumbnail",
        "outputId": "257f100b-f790-46a9-9af7-3a5bd9548c14"
      },
      "source": [
        "2+3"
      ],
      "id": "honey-thumbnail",
      "execution_count": null,
      "outputs": [
        {
          "output_type": "execute_result",
          "data": {
            "text/plain": [
              "5"
            ]
          },
          "metadata": {},
          "execution_count": 3
        }
      ]
    },
    {
      "cell_type": "code",
      "metadata": {
        "colab": {
          "base_uri": "https://localhost:8080/"
        },
        "id": "sublime-video",
        "outputId": "1fc1b1a0-4144-4bb8-d3f8-eb0ced7e3886"
      },
      "source": [
        "2+3 # 결과 5는 맨 마지막 결과가 아니니까 출력하지 않음\n",
        "3*4"
      ],
      "id": "sublime-video",
      "execution_count": null,
      "outputs": [
        {
          "output_type": "execute_result",
          "data": {
            "text/plain": [
              "12"
            ]
          },
          "metadata": {},
          "execution_count": 4
        }
      ]
    },
    {
      "cell_type": "markdown",
      "metadata": {
        "id": "specified-collectible"
      },
      "source": [
        "- 하지만 `xxx.py`의 `.py`의 python 포맷에 파일을 할 때는 출력이 따로 나오지 않습니다.\n",
        "\n",
        "- 원하는 출력을 하기 위해서는 print함수를 사용해야합니다.\n",
        "\n",
        "<div class=\"alert alert-block alert-info\">\n",
        "    <b>Tip: </b> 함수는 입력을 받아 특정 작업을 수행하는 코드를 의미합니다. `함수명(매개변수1, 매개변수2..)`의 형태로 사용하며, 매개변수(parameter)의 개수는 0개도 가능합니다. 프로그래밍의 대부분은 이런 함수 단위로 작업을 진행합니다.\n",
        "</div> \n",
        "\n",
        "`print(인자)`를 사용하여 출력할 수 있습니다."
      ],
      "id": "specified-collectible"
    },
    {
      "cell_type": "code",
      "metadata": {
        "colab": {
          "base_uri": "https://localhost:8080/"
        },
        "id": "similar-contrary",
        "outputId": "84286f99-90ad-4642-fac8-cafef4a55ee4"
      },
      "source": [
        "print(1)\n",
        "print('hello world!')"
      ],
      "id": "similar-contrary",
      "execution_count": null,
      "outputs": [
        {
          "output_type": "stream",
          "name": "stdout",
          "text": [
            "1\n",
            "hello world!\n"
          ]
        }
      ]
    },
    {
      "cell_type": "markdown",
      "metadata": {
        "id": "pursuant-dispatch"
      },
      "source": [
        "- print로 출력하는 문장은 항상 `\\n`이라는 개행 문자가 포함됩니다. 개행, 즉 한 줄씩 출력된다는 의미입니다.\n",
        "- 만약 한 줄 씩 따로 출력하는 것이 아닌 연속해서 출력하고 싶다면 end라는 인자를 조정할 수 있습니다. \n",
        "    - `end=''`를 print문 안에 넣어주시면 됩니다."
      ],
      "id": "pursuant-dispatch"
    },
    {
      "cell_type": "code",
      "metadata": {
        "colab": {
          "base_uri": "https://localhost:8080/"
        },
        "id": "sized-sponsorship",
        "outputId": "28e760e7-379a-4ef2-c4af-f42b088ec2ff"
      },
      "source": [
        "print(1, end='')\n",
        "print('hello world')"
      ],
      "id": "sized-sponsorship",
      "execution_count": null,
      "outputs": [
        {
          "output_type": "stream",
          "name": "stdout",
          "text": [
            "1hello world\n"
          ]
        }
      ]
    },
    {
      "cell_type": "markdown",
      "metadata": {
        "id": "flush-scroll"
      },
      "source": [
        "`print`안에 `,`로 구분하여 여러 값을 출력할 수도 있습니다."
      ],
      "id": "flush-scroll"
    },
    {
      "cell_type": "code",
      "metadata": {
        "colab": {
          "base_uri": "https://localhost:8080/"
        },
        "id": "atomic-anniversary",
        "outputId": "3f163810-e3a8-451a-f878-1452c485adbd"
      },
      "source": [
        "print('hello', 'world', 123)"
      ],
      "id": "atomic-anniversary",
      "execution_count": null,
      "outputs": [
        {
          "output_type": "stream",
          "name": "stdout",
          "text": [
            "hello world 123\n"
          ]
        }
      ]
    },
    {
      "cell_type": "markdown",
      "metadata": {
        "id": "checked-puppy"
      },
      "source": [
        "`,`로 구분된 값은 공백(` `)으로 출력되며 `sep` 인자를 사용해서 공백대신 다른 내용을 사용할 수 도 있습니다."
      ],
      "id": "checked-puppy"
    },
    {
      "cell_type": "code",
      "metadata": {
        "colab": {
          "base_uri": "https://localhost:8080/"
        },
        "id": "valid-professor",
        "outputId": "15bbacfb-c59a-449a-e6ec-3dfad57fc223"
      },
      "source": [
        "print(12, 30, 20, sep=':')"
      ],
      "id": "valid-professor",
      "execution_count": null,
      "outputs": [
        {
          "output_type": "stream",
          "name": "stdout",
          "text": [
            "12:30:20\n"
          ]
        }
      ]
    },
    {
      "cell_type": "markdown",
      "metadata": {
        "id": "north-reading"
      },
      "source": [
        "### 1-3. 입력의 input() \n",
        "\n",
        "출력이 있다면 입력도 함수가 있습니다.\n",
        "\n",
        "- input()은 프롬프트에서 입력을 한 줄 받는 함수입니다.\n",
        "- 여러 줄의 입력을 받고 싶다면 input()을 여러번 쓰거나, 다른 함수를 사용해야 합니다."
      ],
      "id": "north-reading"
    },
    {
      "cell_type": "code",
      "metadata": {
        "colab": {
          "base_uri": "https://localhost:8080/"
        },
        "id": "warming-economics",
        "outputId": "202ea24a-7869-4e18-ad76-3d317fb12040"
      },
      "source": [
        "# 여기서 x는 변수라는 것으로 특정 내용을 저장하고 변경할 수 있는 코드입니다. \n",
        "# 변수명은 숫자로 시작하지 않기, 띄어쓰기 없음 등의 몇 가지 규칙을 지키면 모든 이름을 변수로 할 수 있습니다.\n",
        "x = input() # 실행하고 hello 라고 써보세요.\n",
        "print(x)"
      ],
      "id": "warming-economics",
      "execution_count": null,
      "outputs": [
        {
          "output_type": "stream",
          "name": "stdout",
          "text": [
            "hello\n",
            "hello\n"
          ]
        }
      ]
    },
    {
      "cell_type": "markdown",
      "metadata": {
        "id": "rising-promotion"
      },
      "source": [
        "입력은 반드시 문자열로 입력이 들어옵니다. 이를 정수로 바꾸고 싶다면 `int()` 등을 사용해야 합니다."
      ],
      "id": "rising-promotion"
    },
    {
      "cell_type": "markdown",
      "metadata": {
        "id": "enhanced-internship"
      },
      "source": [
        "## 2. 자료형과 연산\n",
        "\n",
        "- Python을 포함한 모든 programming 언어는 컴퓨터가 이해할 수 있는 데이터를 연산하여 원하는 값을 구합니다.\n",
        "    - 2진법을 사용하니 0과 1로 표현할 수 있으면 됩니다.\n",
        "- Python은 그럼 어떤 데이터를 사용할까요?\n",
        "    1. 수\n",
        "        - `int` : 정수\n",
        "        - `float` : 실수\n",
        "        - `complex` : 복소수 \n",
        "    2. 문자열 : `str`\n",
        "    3. 참/거짓 : `bool`\n",
        " \n",
        "자료형을 확인할 때는 `type()`을 사용하여 확인할 수 있습니다."
      ],
      "id": "enhanced-internship"
    },
    {
      "cell_type": "code",
      "metadata": {
        "colab": {
          "base_uri": "https://localhost:8080/"
        },
        "id": "imported-president",
        "outputId": "34ff066d-cff6-4dff-c99f-871b0fa19770"
      },
      "source": [
        "print(type(1))\n",
        "print(type(2.0))\n",
        "print(type('hello'))\n",
        "print(type(True))"
      ],
      "id": "imported-president",
      "execution_count": null,
      "outputs": [
        {
          "output_type": "stream",
          "name": "stdout",
          "text": [
            "<class 'int'>\n",
            "<class 'float'>\n",
            "<class 'str'>\n",
            "<class 'bool'>\n"
          ]
        }
      ]
    },
    {
      "cell_type": "markdown",
      "metadata": {
        "id": "popular-citizenship"
      },
      "source": [
        "type에 따라 연산의 의미가 달라질 수 있으니 꼭 알아두시기 바랍니다."
      ],
      "id": "popular-citizenship"
    },
    {
      "cell_type": "markdown",
      "metadata": {
        "id": "charged-shoulder"
      },
      "source": [
        "### 2-1. 수와 연산\n",
        "\n",
        "수는 기본으로 3가지가 있습니다.\n",
        "\n",
        "- 정수\n",
        "- 실수\n",
        "- 복소수 (복소수는 일반적인 개발에서는 사용하지 않습니다.)"
      ],
      "id": "charged-shoulder"
    },
    {
      "cell_type": "code",
      "metadata": {
        "colab": {
          "base_uri": "https://localhost:8080/"
        },
        "id": "conceptual-stretch",
        "outputId": "611c44e8-f82d-484e-ba16-3d1ffcc49c96"
      },
      "source": [
        "print(1)\n",
        "print(1.0)\n",
        "print(1+0j) # 수 뒤에 j를 붙여 사용합니다."
      ],
      "id": "conceptual-stretch",
      "execution_count": null,
      "outputs": [
        {
          "output_type": "stream",
          "name": "stdout",
          "text": [
            "1\n",
            "1.0\n",
            "(1+0j)\n"
          ]
        }
      ]
    },
    {
      "cell_type": "markdown",
      "metadata": {
        "id": "subject-darwin"
      },
      "source": [
        "- 수는 덧셈을 포함하여 다양한 연산이 가능합니다. \n",
        "\n",
        "<div class=\"alert alert-block alert-warning\">\n",
        "    <b>Tip: </b> 실수와 복소수도 연산이 거의 같은 연산이 가능하므로 정수를 기준으로 연산을 소개하겠습니다.\n",
        "</div> \n",
        "\n",
        "- **연산(operation)**은 1개 이상의 수가 **연산자(operator)**(e.g., +, -, *, /)와 함께 이뤄집니다.\n",
        "- 연산에 필요한 수의 개수에 따라 단항연산자, 이항연산자 등으로도 나눌 수 있습니다.\n",
        "    - 단항연산자의 대표 예시는 -입니다. 수 앞에 -를 붙이면 수의 부호가 바뀝니다."
      ],
      "id": "subject-darwin"
    },
    {
      "cell_type": "code",
      "metadata": {
        "colab": {
          "base_uri": "https://localhost:8080/"
        },
        "id": "arabic-neutral",
        "outputId": "2155a3b3-949a-4aa7-c038-5343faeef1aa"
      },
      "source": [
        "print(-5)\n",
        "print(--5) # 좋은 예시는 아닙니다.\n",
        "print(---5) # 마찬가지로 일반적으로 코딩에 사용하지는 않습니다."
      ],
      "id": "arabic-neutral",
      "execution_count": null,
      "outputs": [
        {
          "output_type": "stream",
          "name": "stdout",
          "text": [
            "-5\n",
            "5\n",
            "-5\n"
          ]
        }
      ]
    },
    {
      "cell_type": "markdown",
      "metadata": {
        "id": "comprehensive-airfare"
      },
      "source": [
        "이항 연산자의 대표 예시는 사칙연산입니다.\n",
        "\n",
        "- `+` : 덧셈\n",
        "- `-` : 뺄셈\n",
        "- `*` : 곱셈\n",
        "- `/` : 나눗셈"
      ],
      "id": "comprehensive-airfare"
    },
    {
      "cell_type": "code",
      "metadata": {
        "colab": {
          "base_uri": "https://localhost:8080/"
        },
        "id": "increasing-mongolia",
        "outputId": "88b1cac2-0726-412c-ea88-5b038cb301ac"
      },
      "source": [
        "print(1+2)\n",
        "print(10-1)\n",
        "print(2*3)\n",
        "print(10/2)"
      ],
      "id": "increasing-mongolia",
      "execution_count": null,
      "outputs": [
        {
          "output_type": "stream",
          "name": "stdout",
          "text": [
            "3\n",
            "9\n",
            "6\n",
            "5.0\n"
          ]
        }
      ]
    },
    {
      "cell_type": "markdown",
      "metadata": {
        "id": "removable-highway"
      },
      "source": [
        "하지만 `/`의 결과는 소수점이 있는 실수로 나오게 됩니다.\n",
        "\n",
        "Python에서는 몫과 나머지 연산을 제공합니다.\n",
        "\n",
        "- `//` : 몫 연산\n",
        "- `%` : 나머지 연산\n",
        "\n",
        "파이썬에서 몫과 나머지는 매우 많이 사용되므로 꼭 외웁시다."
      ],
      "id": "removable-highway"
    },
    {
      "cell_type": "code",
      "metadata": {
        "colab": {
          "base_uri": "https://localhost:8080/"
        },
        "id": "premier-renewal",
        "outputId": "17b300f6-3c95-428c-c1b0-114885446ae7"
      },
      "source": [
        "# 13 / 5 = 2 ... 3 이므로\n",
        "print(13//5) \n",
        "print(13%5)"
      ],
      "id": "premier-renewal",
      "execution_count": null,
      "outputs": [
        {
          "output_type": "stream",
          "name": "stdout",
          "text": [
            "2\n",
            "3\n"
          ]
        }
      ]
    },
    {
      "cell_type": "markdown",
      "metadata": {
        "id": "twenty-louis"
      },
      "source": [
        "이를 한 번에 구해주는 `divmod`라는 함수도 존재합니다."
      ],
      "id": "twenty-louis"
    },
    {
      "cell_type": "code",
      "metadata": {
        "colab": {
          "base_uri": "https://localhost:8080/"
        },
        "id": "popular-knock",
        "outputId": "8bb3c813-3215-4365-84a0-a659c1d8ec59"
      },
      "source": [
        "print(divmod(13, 5))"
      ],
      "id": "popular-knock",
      "execution_count": null,
      "outputs": [
        {
          "output_type": "stream",
          "name": "stdout",
          "text": [
            "(2, 3)\n"
          ]
        }
      ]
    },
    {
      "cell_type": "markdown",
      "metadata": {
        "id": "controlling-rubber"
      },
      "source": [
        "그 외에도 python은 거듭제곱 연산을 제공합니다.\n",
        "\n",
        "- `**` : 거듭제곱 "
      ],
      "id": "controlling-rubber"
    },
    {
      "cell_type": "code",
      "metadata": {
        "colab": {
          "base_uri": "https://localhost:8080/"
        },
        "id": "prepared-reset",
        "outputId": "614277f7-493f-467e-f611-744777f76967"
      },
      "source": [
        "print(2**10)"
      ],
      "id": "prepared-reset",
      "execution_count": null,
      "outputs": [
        {
          "output_type": "stream",
          "name": "stdout",
          "text": [
            "1024\n"
          ]
        }
      ]
    },
    {
      "cell_type": "markdown",
      "metadata": {
        "id": "sustainable-ethiopia"
      },
      "source": [
        "정수와 유사한 자료형을 정수로 바꾸고 싶다면 `int()`를 사용해주시면 됩니다.\n",
        "\n",
        "유사한 자료형의 예시에는 다음이 있습니다.\n",
        "\n",
        "- float : `3.14` 소수점을 때고 연산됨\n",
        "- 문자열 중에 아라비아숫자만으로 구성된 문자열 `'123'`"
      ],
      "id": "sustainable-ethiopia"
    },
    {
      "cell_type": "code",
      "metadata": {
        "colab": {
          "base_uri": "https://localhost:8080/"
        },
        "id": "random-joshua",
        "outputId": "5425b8e1-a858-4ded-dbe9-4c9637be0fdb"
      },
      "source": [
        "print(int(3.14))\n",
        "print(int('123'))"
      ],
      "id": "random-joshua",
      "execution_count": null,
      "outputs": [
        {
          "output_type": "stream",
          "name": "stdout",
          "text": [
            "3\n",
            "123\n"
          ]
        }
      ]
    },
    {
      "cell_type": "markdown",
      "metadata": {
        "id": "seven-diameter"
      },
      "source": [
        "### 2-2. 문자열과 연산\n",
        "\n",
        "문자열(string)은 `'`, `\"`, `'''`, `\"\"\"`를 양쪽에 씌운 문자들의 집합을 의미합니다."
      ],
      "id": "seven-diameter"
    },
    {
      "cell_type": "code",
      "metadata": {
        "colab": {
          "base_uri": "https://localhost:8080/"
        },
        "id": "processed-jewelry",
        "outputId": "c86528c0-1f19-40d7-b2de-2df695ff0b31"
      },
      "source": [
        "print('hello world')\n",
        "print(\"hello world\") # ''와 차이 없음 (취향 및 개발 문화(회사, 개발 팀) 차이)\n",
        "print('''hello world''')\n",
        "print(\"\"\"hello world\"\"\") # ''''''와 차이 없음"
      ],
      "id": "processed-jewelry",
      "execution_count": null,
      "outputs": [
        {
          "output_type": "stream",
          "name": "stdout",
          "text": [
            "hello world\n",
            "hello world\n",
            "hello world\n",
            "hello world\n"
          ]
        }
      ]
    },
    {
      "cell_type": "markdown",
      "metadata": {
        "id": "concerned-interface"
      },
      "source": [
        "1개의 따옴표와 3개의 따옴표는 여러 문장 표현의 차이입니다.\n",
        "\n",
        "3개의 따옴표를 사용하면 개행(`\\n`, 줄 띄움)이 포함된 문자열을 쓸 수 있습니다."
      ],
      "id": "concerned-interface"
    },
    {
      "cell_type": "code",
      "metadata": {
        "colab": {
          "base_uri": "https://localhost:8080/"
        },
        "id": "balanced-heaven",
        "outputId": "2ef10015-ba31-434e-8915-1e2ddb472dc6"
      },
      "source": [
        "print('''hello\n",
        "world''')"
      ],
      "id": "balanced-heaven",
      "execution_count": null,
      "outputs": [
        {
          "output_type": "stream",
          "name": "stdout",
          "text": [
            "hello\n",
            "world\n"
          ]
        }
      ]
    },
    {
      "cell_type": "markdown",
      "metadata": {
        "id": "specialized-boost"
      },
      "source": [
        "단일 따옴표만으로 개행을 포함시키기 위해서는 직접적으로 개행 문자를 포함해야합니다."
      ],
      "id": "specialized-boost"
    },
    {
      "cell_type": "code",
      "metadata": {
        "colab": {
          "base_uri": "https://localhost:8080/"
        },
        "id": "conditional-murray",
        "outputId": "b6dd1c66-1c20-4b7e-90af-19a7c7a60ddc"
      },
      "source": [
        "print('hello\\nworld')"
      ],
      "id": "conditional-murray",
      "execution_count": null,
      "outputs": [
        {
          "output_type": "stream",
          "name": "stdout",
          "text": [
            "hello\n",
            "world\n"
          ]
        }
      ]
    },
    {
      "cell_type": "markdown",
      "metadata": {
        "id": "regulation-defendant"
      },
      "source": [
        "문자열은 `+`와 `*` 연산을 제공합니다.\n",
        "\n",
        "- `+` : 문자열 연결\n",
        "- `*` : 문자열 반복"
      ],
      "id": "regulation-defendant"
    },
    {
      "cell_type": "code",
      "metadata": {
        "colab": {
          "base_uri": "https://localhost:8080/"
        },
        "id": "convinced-rolling",
        "outputId": "ed392a41-541d-4aa6-853c-2c6e74a5aa5d"
      },
      "source": [
        "print('abc'+'def'+'gf')\n",
        "print('abc'*3)\n",
        "print('a'*2 + 'b'*3) # +, * 복합 연산"
      ],
      "id": "convinced-rolling",
      "execution_count": null,
      "outputs": [
        {
          "output_type": "stream",
          "name": "stdout",
          "text": [
            "abcdefgf\n",
            "abcabcabc\n",
            "aabbb\n"
          ]
        }
      ]
    },
    {
      "cell_type": "markdown",
      "metadata": {
        "id": "speaking-animation"
      },
      "source": [
        "문자열의 길이는 `len()` 함수를 사용하여 구할 수 있습니다."
      ],
      "id": "speaking-animation"
    },
    {
      "cell_type": "code",
      "metadata": {
        "colab": {
          "base_uri": "https://localhost:8080/"
        },
        "id": "unexpected-backup",
        "outputId": "0bb7d893-ef5a-43c2-a186-c25265d1b390"
      },
      "source": [
        "print(len('abcde'))"
      ],
      "id": "unexpected-backup",
      "execution_count": null,
      "outputs": [
        {
          "output_type": "stream",
          "name": "stdout",
          "text": [
            "5\n"
          ]
        }
      ]
    },
    {
      "cell_type": "markdown",
      "metadata": {
        "id": "attended-album"
      },
      "source": [
        "### 2-3. 불과 연산\n",
        "\n",
        "- 불(bool)은 참과 거짓을 가지는 값입니다. \n",
        "- 컴퓨터는 참(`True`, 1)과 거짓(`False`, 0)을 기준으로 특정 동작의 실행 여부를 결정하기에 컴퓨터에서는 가장 중요한 자료형 중 하나입니다.\n",
        "- 언어에 따라 대소문자가 다릅니다. Python에서는 첫 글자가 대문자임을 기억합시다.\n",
        "\n"
      ],
      "id": "attended-album"
    },
    {
      "cell_type": "code",
      "metadata": {
        "colab": {
          "base_uri": "https://localhost:8080/"
        },
        "id": "painful-columbia",
        "outputId": "d8eed753-e923-4873-b261-bf5ad82d43ef"
      },
      "source": [
        "print(True)\n",
        "print(False)"
      ],
      "id": "painful-columbia",
      "execution_count": null,
      "outputs": [
        {
          "output_type": "stream",
          "name": "stdout",
          "text": [
            "True\n",
            "False\n"
          ]
        }
      ]
    },
    {
      "cell_type": "markdown",
      "metadata": {
        "id": "alive-traveler"
      },
      "source": [
        "불 자료형의 연산은 부정연산(`not`)과 논리연산자입니다.\n",
        "\n",
        "- `not` : True는 False로, False는 True로"
      ],
      "id": "alive-traveler"
    },
    {
      "cell_type": "code",
      "metadata": {
        "colab": {
          "base_uri": "https://localhost:8080/"
        },
        "id": "finite-kidney",
        "outputId": "b8a1ecdd-63ba-43a7-ad84-148cfc5f333e"
      },
      "source": [
        "print(not True)\n",
        "print(not False)"
      ],
      "id": "finite-kidney",
      "execution_count": null,
      "outputs": [
        {
          "output_type": "stream",
          "name": "stdout",
          "text": [
            "False\n",
            "True\n"
          ]
        }
      ]
    },
    {
      "cell_type": "markdown",
      "metadata": {
        "id": "representative-space"
      },
      "source": [
        "그 외에는 논리 간 연산이 있습니다.\n",
        "\n",
        "- `and` : 둘 모두 참이어야 참\n",
        "- `or` : 둘 중 하나만 참이어도 참"
      ],
      "id": "representative-space"
    },
    {
      "cell_type": "code",
      "metadata": {
        "colab": {
          "base_uri": "https://localhost:8080/"
        },
        "id": "anticipated-disorder",
        "outputId": "0fd054a6-24b1-438b-997f-bf3bca72c591"
      },
      "source": [
        "# and\n",
        "print('and')\n",
        "print('------------')\n",
        "print(True and True)\n",
        "print(True and False)\n",
        "print(False and True)\n",
        "print(False and False)\n",
        "\n",
        "# or\n",
        "print('\\nor')\n",
        "print('------------')\n",
        "print(True or True)\n",
        "print(True or False)\n",
        "print(False or True)\n",
        "print(False or False)"
      ],
      "id": "anticipated-disorder",
      "execution_count": null,
      "outputs": [
        {
          "output_type": "stream",
          "name": "stdout",
          "text": [
            "and\n",
            "------------\n",
            "True\n",
            "False\n",
            "False\n",
            "False\n",
            "\n",
            "or\n",
            "------------\n",
            "True\n",
            "True\n",
            "True\n",
            "False\n"
          ]
        }
      ]
    },
    {
      "cell_type": "markdown",
      "metadata": {
        "id": "abandoned-enhancement"
      },
      "source": [
        "다른 자료의 연산의 결과로 True나 False가 나오는 경우가 있습니다.\n",
        "\n",
        "대표적으로 비교연산입니다. \n",
        "\n",
        "비교는 다음과 같은 비교가 있습니다.\n",
        "\n",
        "- `==` : 같다\n",
        "- `!=` : 같지 않다.\n",
        "- `<`\n",
        "- `>`\n",
        "- `<=`\n",
        "- `>=`"
      ],
      "id": "abandoned-enhancement"
    },
    {
      "cell_type": "code",
      "metadata": {
        "colab": {
          "base_uri": "https://localhost:8080/"
        },
        "id": "conscious-princeton",
        "outputId": "cce82dc0-78f8-4e40-f9a2-ab24414d4cb9"
      },
      "source": [
        "print(2==2)\n",
        "print('A'!='B')\n",
        "print(1<2)\n",
        "print(2>1)\n",
        "print(2<=3)\n",
        "print(2>=2)\n",
        "\n",
        "# 문자열 비교는 사전순입니다.\n",
        "print('abc'<'def')"
      ],
      "id": "conscious-princeton",
      "execution_count": null,
      "outputs": [
        {
          "output_type": "stream",
          "name": "stdout",
          "text": [
            "True\n",
            "True\n",
            "True\n",
            "True\n",
            "True\n",
            "True\n",
            "True\n"
          ]
        }
      ]
    },
    {
      "cell_type": "markdown",
      "metadata": {
        "id": "divine-archive"
      },
      "source": [
        "- 추후에 배우겠지만 모든 연산은 순서를 가집니다. \n",
        "- 이 순서는 **연산자 우선순위**에 따라 결정되며 다음과 같은 표를 참고하시면 됩니다.\n",
        "- 표의 순서에 따라 연산이 먼저 진행됩니다. (e.g., `*`, `/`이 `+`, `-`보다 먼저 계산되어 진행됨.)\n",
        "- 우선순위를 강제하고 싶다면 `()` 괄호를 사용하여 묶으면 됩니다.\n",
        "\n",
        "![](https://study.com/cimages/multimages/16/precedence_table.png)"
      ],
      "id": "divine-archive"
    },
    {
      "cell_type": "markdown",
      "metadata": {
        "id": "rough-evans"
      },
      "source": [
        "### 2-4. 변수\n",
        "\n",
        "- 자료들은 직접적으로 값을 적어 사용할 수 있습니다.\n",
        "- 하지만 바뀌어야 하는 값이나 여러 연산에 사용되는 값들이라면 저장해두고 반복적으로 사용하는 것이 효율적입니다.\n",
        "- 이를 컴퓨터에서는 **변수(variable)** 이라는 명칭으로 사용합니다.\n",
        "\n",
        "다음 예시처럼 사용합니다."
      ],
      "id": "rough-evans"
    },
    {
      "cell_type": "code",
      "metadata": {
        "colab": {
          "base_uri": "https://localhost:8080/"
        },
        "id": "primary-convention",
        "outputId": "2b3b7540-c71e-48fa-8202-431ce2852a3f"
      },
      "source": [
        "x = 123\n",
        "print(x)"
      ],
      "id": "primary-convention",
      "execution_count": null,
      "outputs": [
        {
          "output_type": "stream",
          "name": "stdout",
          "text": [
            "123\n"
          ]
        }
      ]
    },
    {
      "cell_type": "markdown",
      "metadata": {
        "id": "governmental-damages"
      },
      "source": [
        "- 여기서 사용하는 `=`은 대입연산자(assignment operator)입니다. \n",
        "- 오른쪽에 있는 값을 왼쪽 변수에 대입하는 역할을 합니다.\n",
        "- 그리고 변수에 해당하는 값 그 자체 `123` 같은 값을 리터럴(literal)이라고 표현합니다.\n",
        "- 처음에 값을 대입할 때, 흔히 *변수를 선언한다.* 라고 표현합니다.\n",
        "- 변수는 처음에 `=`을 사용하여 값을 만들고 변경할 수 있습니다."
      ],
      "id": "governmental-damages"
    },
    {
      "cell_type": "code",
      "metadata": {
        "colab": {
          "base_uri": "https://localhost:8080/"
        },
        "id": "sporting-athens",
        "outputId": "bf58fd83-8ebb-4832-c49e-72b3730c685a"
      },
      "source": [
        "var = 9\n",
        "print(var)\n",
        "var = 3\n",
        "print(var)"
      ],
      "id": "sporting-athens",
      "execution_count": null,
      "outputs": [
        {
          "output_type": "stream",
          "name": "stdout",
          "text": [
            "9\n",
            "3\n"
          ]
        }
      ]
    },
    {
      "cell_type": "markdown",
      "metadata": {
        "id": "dominant-functionality"
      },
      "source": [
        "변수는 변수명으로 연산할 수 있고, 선언되지 않은 변수를 사용하면 에러가 발생합니다."
      ],
      "id": "dominant-functionality"
    },
    {
      "cell_type": "code",
      "metadata": {
        "colab": {
          "base_uri": "https://localhost:8080/"
        },
        "id": "necessary-flexibility",
        "outputId": "346c42bb-3cfc-4c87-d18c-20428ab8c549"
      },
      "source": [
        "# 위에서 var을 선언했기 때문에\n",
        "print(var)\n",
        "print(var+1)\n",
        "print(var*5)"
      ],
      "id": "necessary-flexibility",
      "execution_count": null,
      "outputs": [
        {
          "output_type": "stream",
          "name": "stdout",
          "text": [
            "3\n",
            "4\n",
            "15\n"
          ]
        }
      ]
    },
    {
      "cell_type": "markdown",
      "metadata": {
        "id": "accompanied-shock"
      },
      "source": [
        "변수명은 몇 가지 규칙이 있습니다.\n",
        "\n",
        "- 알파벳 소문자(a-z), 알파벳 대문자(A-Z), 아라비아 숫자(0-9), `_`(언더바)로만 작성할 수 있습니다.\n",
        "- 띄어쓰기는 포함할 수 없습니다.\n",
        "- 숫자로는 시작할 수 없습니다.\n",
        "- 내장된 명령어는 변수명으로 할 수 없습니다. (and, or 등 연산자 명칭 등 내장되어 있는 명령어 명칭)"
      ],
      "id": "accompanied-shock"
    },
    {
      "cell_type": "code",
      "metadata": {
        "id": "textile-germany"
      },
      "source": [
        "# 다양한 방식으로 변수 명칭을 작성합니다.\n",
        "doIt = 1 \n",
        "DoIt = 1\n",
        "do_it = 1\n",
        "_doit = 1\n",
        "doit1 = 1"
      ],
      "id": "textile-germany",
      "execution_count": null,
      "outputs": []
    },
    {
      "cell_type": "markdown",
      "metadata": {
        "id": "based-london"
      },
      "source": [
        "변수를 사용하면 재미있는 연산이 가능합니다.\n",
        "\n",
        "바로 복합대입연산자를 사용한 연산입니다.\n",
        "\n",
        "예를 들면 `var=3`에서 var에 3을 더한 값을 저장하려면 어떻게 할 수 있을까요?\n",
        "\n",
        "기본적으로는 다음과 같습니다."
      ],
      "id": "based-london"
    },
    {
      "cell_type": "code",
      "metadata": {
        "colab": {
          "base_uri": "https://localhost:8080/"
        },
        "id": "south-heading",
        "outputId": "c0405599-799c-4f97-9ffa-bbe0c50f2994"
      },
      "source": [
        "var = 3 \n",
        "print(var)\n",
        "var = var + 3\n",
        "print(var)"
      ],
      "id": "south-heading",
      "execution_count": null,
      "outputs": [
        {
          "output_type": "stream",
          "name": "stdout",
          "text": [
            "3\n",
            "6\n"
          ]
        }
      ]
    },
    {
      "cell_type": "markdown",
      "metadata": {
        "id": "published-animation"
      },
      "source": [
        "하지만 복합연산자를 사용하면 값을 다음과 같이 변동할 수 있습니다.\n",
        "\n",
        "- `+=` a : 좌측 변수에 a를 더함\n",
        "- `-=` a : 좌측 변수에 a를 뺌\n",
        "- `*=` a : 좌측 변수에 a를 곱합\n",
        "- `/=` a : 좌측 변수에 a를 나눔\n",
        "- `//=` a : 좌측 변수의 a를 나눈 몫으로 변경\n",
        "- `%=` a : 좌측 변수를 a로 나눈 나머지\n",
        "- `**=` a : 좌측 변수에 a 거듭제곱"
      ],
      "id": "published-animation"
    },
    {
      "cell_type": "code",
      "metadata": {
        "colab": {
          "base_uri": "https://localhost:8080/"
        },
        "id": "impressed-pioneer",
        "outputId": "68bce2f5-399c-434e-e0a8-938664e3c64d"
      },
      "source": [
        "var = 3\n",
        "print(var)\n",
        "var += 3 \n",
        "print(var)\n",
        "var -= 1\n",
        "print(var)"
      ],
      "id": "impressed-pioneer",
      "execution_count": null,
      "outputs": [
        {
          "output_type": "stream",
          "name": "stdout",
          "text": [
            "3\n",
            "6\n",
            "5\n"
          ]
        }
      ]
    },
    {
      "cell_type": "markdown",
      "metadata": {
        "id": "minimal-encyclopedia"
      },
      "source": [
        "## 3. 조건문\n",
        "\n",
        "### 3-1. if문\n",
        "\n",
        "- 조건문은 특정 조건에 따라 코드의 실행을 조정할 수 있는 문법입니다.\n",
        "- `if`를 사용하며 흔히 **if문, 조건문, 제어문** 이라고 부릅니다.\n",
        "\n",
        "``` py\n",
        "if statement:\n",
        "    # 코드 영역\n",
        "```\n",
        "\n",
        "- 영어 문법 가정법처럼 읽으면 좋습니다.\n",
        "    - 만약 statement가 참(True)이라면, 코드 영역을 실행하여라\n",
        "- 코드 영역은 indent(들여쓰기)로 구분됩니다. (다른 언어는 `{}`로 구분하기도 합니다.)\n",
        "    - 들여쓰기는 `tab`이나 `space 2개`, `space 4개`로 사용할 수 있습니다.\n",
        "- indent와 `:`를 꼭 신경쓰세요."
      ],
      "id": "minimal-encyclopedia"
    },
    {
      "cell_type": "code",
      "metadata": {
        "colab": {
          "base_uri": "https://localhost:8080/"
        },
        "id": "accurate-stations",
        "outputId": "a3e5c2a0-5666-47d6-c2f0-da28e8b45924"
      },
      "source": [
        "if True:\n",
        "    print('참이면 출력합니다.') # 출력됨\n",
        "if False:\n",
        "    print('거짓이면 출력하지 않습니다.') # 출력되지 않음\n",
        "print('if문은 들여쓰기로 구분합니다.') # 출력됨"
      ],
      "id": "accurate-stations",
      "execution_count": null,
      "outputs": [
        {
          "output_type": "stream",
          "name": "stdout",
          "text": [
            "참이면 출력합니다.\n",
            "if문은 들여쓰기로 구분합니다.\n"
          ]
        }
      ]
    },
    {
      "cell_type": "markdown",
      "metadata": {
        "id": "cleared-publisher"
      },
      "source": [
        "### 3-2. else문\n",
        "\n",
        "- 조건문의 조건은 2가지 중 하나입니다. 참이거나 거짓입니다.\n",
        "- 이번에는 거짓인 경우에 대해서 사용하는 else를 살펴보겠습니다.\n",
        "\n",
        "> 만약 주어진 정수 N이 짝수라면 '짝수'를 출력하고, 홀수라면 '홀수'를 출력하시오."
      ],
      "id": "cleared-publisher"
    },
    {
      "cell_type": "code",
      "metadata": {
        "colab": {
          "base_uri": "https://localhost:8080/"
        },
        "id": "changing-button",
        "outputId": "71d3a43c-c978-448f-acfc-543c61d10103"
      },
      "source": [
        "N = 10 # N을 바꿔가며 해보세요.\n",
        "\n",
        "# 일반적으로 N의 배수는 나머지를 사용하여 배수를 판정합니다.\n",
        "if N%2 == 0: \n",
        "    print('짝수')\n",
        "if N%2 != 0: # 또는 N%2 == 1 도 가능합니다.\n",
        "    print('홀수')"
      ],
      "id": "changing-button",
      "execution_count": null,
      "outputs": [
        {
          "output_type": "stream",
          "name": "stdout",
          "text": [
            "짝수\n"
          ]
        }
      ]
    },
    {
      "cell_type": "markdown",
      "metadata": {
        "id": "convertible-driving"
      },
      "source": [
        "- 조건문의 조건을 참인지 확인하고, 다시 반대의 조건이 참인지 체크하는 것은 비효율적입니다.\n",
        "- 그렇기 때문에 python은 조건을 체크하고, 조건이 참이 아닌 경우에 대해서도 특정 코드를 실행할 수 있습니다.\n",
        "\n",
        "``` py\n",
        "if statement:\n",
        "    # statement가 참일 때 실행\n",
        "else:\n",
        "    # statement가 참이 아닐 때(거짓일때) 실행\n",
        "```\n",
        "\n",
        "- 마찬가지로 indent에 신경쓰세요."
      ],
      "id": "convertible-driving"
    },
    {
      "cell_type": "code",
      "metadata": {
        "colab": {
          "base_uri": "https://localhost:8080/"
        },
        "id": "smaller-southwest",
        "outputId": "e9348d14-6891-46d3-c488-8629f12cd0fe"
      },
      "source": [
        "N = 10 # N을 바꿔가며 해보세요.\n",
        "\n",
        "if N%2 == 0: \n",
        "    print('짝수')\n",
        "else:\n",
        "    print('홀수')"
      ],
      "id": "smaller-southwest",
      "execution_count": null,
      "outputs": [
        {
          "output_type": "stream",
          "name": "stdout",
          "text": [
            "짝수\n"
          ]
        }
      ]
    },
    {
      "cell_type": "markdown",
      "metadata": {
        "id": "criminal-joshua"
      },
      "source": [
        "### 3-3. elif문\n",
        "\n",
        "- 이런 조건이 있다면 어떻게 하면 될까요?\n",
        "- grade가 90점이 이상이면 A,  80점이 이상이면 B를 출력하고, 70점 이상이면 C, 60점이상이면 D, 그 외에는 F\n",
        "- if문 만으로 쓰면 다음과 같습니다."
      ],
      "id": "criminal-joshua"
    },
    {
      "cell_type": "code",
      "metadata": {
        "colab": {
          "base_uri": "https://localhost:8080/"
        },
        "id": "prostate-portfolio",
        "outputId": "e8c53e53-cacb-439d-e7e1-2dbeb808aa69"
      },
      "source": [
        "grade = 96\n",
        "if grade>=90:\n",
        "    print('A')\n",
        "else:\n",
        "    # 이렇게 조건문 안에 조건문을 넣을 수 있습니다.\n",
        "    # 이럴 때는 항상 indent에 꼭 신경쓰셔야 합니다.\n",
        "    if grade>=80:\n",
        "        print('B')\n",
        "    else:\n",
        "        if grade>=70:\n",
        "            print('C')\n",
        "        else:\n",
        "            if grad>=60:\n",
        "                print('D')\n",
        "            else:\n",
        "                print('F')"
      ],
      "id": "prostate-portfolio",
      "execution_count": null,
      "outputs": [
        {
          "output_type": "stream",
          "name": "stdout",
          "text": [
            "A\n"
          ]
        }
      ]
    },
    {
      "cell_type": "markdown",
      "metadata": {
        "id": "acknowledged-polish"
      },
      "source": [
        "- indent가 많아질 수록 코드의 가독성이 떨어집니다.\n",
        "- 효율적인 코딩을 위해 조건이 참이 아닌 경우에 다시 나머지 케이스에 대해 조건을 걸어 확인할 수 있습니다.\n",
        "\n",
        "``` py\n",
        "if statement1:\n",
        "    # statement1가 참일 때 실행\n",
        "elif statement2:\n",
        "    # statement1이 거짓이고, statement2가 참일 때 실행\n",
        "elif statement3:\n",
        "    # statement1, 2가 거짓이고, statement3이 참일 때 실행\n",
        "...\n",
        "else:\n",
        "    # 위의 모든 조건이 거짓일 때, 실행\n",
        "```\n",
        "\n",
        "- elif는 원하는 개수만큼 추가할 수 있습니다.\n",
        "- elif의 순서에 따라 케이스가 필터링된다고 보시면 됩니다.\n",
        "- elif를 사용하면 훨씬 간결하게 코딩을 진행할 수 있습니다."
      ],
      "id": "acknowledged-polish"
    },
    {
      "cell_type": "code",
      "metadata": {
        "colab": {
          "base_uri": "https://localhost:8080/"
        },
        "id": "vertical-raise",
        "outputId": "0fb9c59c-5133-4bab-f6f4-91c19f69d619"
      },
      "source": [
        "grade = 96\n",
        "if grade>=90:\n",
        "    print('A')\n",
        "elif grade>=80:\n",
        "    print('B')\n",
        "elif grade>=70:\n",
        "    print('C')\n",
        "elif grade>=60:\n",
        "    print('D')\n",
        "else:\n",
        "    print('F')"
      ],
      "id": "vertical-raise",
      "execution_count": null,
      "outputs": [
        {
          "output_type": "stream",
          "name": "stdout",
          "text": [
            "A\n"
          ]
        }
      ]
    },
    {
      "cell_type": "markdown",
      "metadata": {
        "id": "controlling-chain"
      },
      "source": [
        "## 4. 반복문\n",
        "\n",
        "- 반복문은 특정 동작을 반복하는 코드를 의미합니다.\n",
        "- 일반적으로 반복은 3가지 상황에서 진행됩니다.\n",
        "    1. 횟수만큼 반복하기\n",
        "        - *10번 출력하기*\n",
        "    2. 조건을 만족할 때까지 반복하기\n",
        "        - *돈을 다 쓸 때까지 1000원씩 탕진하기*\n",
        "    3. 주어진 목록이 있을 때, 목록의 원소를 하나씩 보기\n",
        "        - *목록에 있는 리스트 하나씩 출력하기*\n",
        "        \n",
        "- 우선은 케이스 1, 2만 살펴보겠습니다.\n",
        "\n",
        "### 4-1. For문 (with range함수)\n",
        "\n",
        "- 우선 N번 반복을 실행하는 반복문입니다.\n",
        "- for과 range()를 사용하는 방법입니다.\n",
        "\n",
        "``` py\n",
        "for i in range(N):\n",
        "    # 반복할 동작\n",
        "```\n",
        "\n",
        "- range(N)안에는 0부터 N-1까지의 정수가 순서대로 들어가 있습니다.\n",
        "- 그래서 0일 때, 1일 때, ... N-1일 때 총 N번 반복합니다.\n",
        "- 여기서 0, 1 숫자는 i에 들어가고, i는 꼭 i일 필요는 없으며 변수처럼 사용됩니다.\n",
        "    - 즉 j, idx 등 변수명 규칙에만 잘 맞으면 아무 이름이나 괜찬습니다."
      ],
      "id": "controlling-chain"
    },
    {
      "cell_type": "code",
      "metadata": {
        "colab": {
          "base_uri": "https://localhost:8080/"
        },
        "id": "worst-darwin",
        "outputId": "b51e41f1-ae70-4c2a-e219-89712e66bf75"
      },
      "source": [
        "N = 3\n",
        "for i in range(N):\n",
        "    print(i)"
      ],
      "id": "worst-darwin",
      "execution_count": null,
      "outputs": [
        {
          "output_type": "stream",
          "name": "stdout",
          "text": [
            "0\n",
            "1\n",
            "2\n"
          ]
        }
      ]
    },
    {
      "cell_type": "markdown",
      "metadata": {
        "id": "electoral-gazette"
      },
      "source": [
        "- range()는 다양한 방식의 반복을 제공합니다. \n",
        "    - 시작을 0외의 수로 하는 법\n",
        "    - i가 커지는 간격을 1외의 수로 하는 법\n",
        "- 예시로 살펴보겠습니다."
      ],
      "id": "electoral-gazette"
    },
    {
      "cell_type": "code",
      "metadata": {
        "colab": {
          "base_uri": "https://localhost:8080/"
        },
        "id": "cleared-volunteer",
        "outputId": "9544414f-6fa9-4f34-881c-063cca7601c0"
      },
      "source": [
        "print('시작 숫자 정하기')\n",
        "for i in range(1, 5):\n",
        "    print(i)\n",
        "\n",
        "print('간격 정하기')\n",
        "for i in range(0, 10, 2): # 0부터 10미만을 2간격으로\n",
        "    print(i)\n",
        "    \n",
        "print('역순으로 하기')\n",
        "for i in range(5, 0, -1): # 간격이 음수라면 반대로도 미만이 아닌 초과까지.\n",
        "    print(i)"
      ],
      "id": "cleared-volunteer",
      "execution_count": null,
      "outputs": [
        {
          "output_type": "stream",
          "name": "stdout",
          "text": [
            "시작 숫자 정하기\n",
            "1\n",
            "2\n",
            "3\n",
            "4\n",
            "간격 정하기\n",
            "0\n",
            "2\n",
            "4\n",
            "6\n",
            "8\n",
            "역순으로 하기\n",
            "5\n",
            "4\n",
            "3\n",
            "2\n",
            "1\n"
          ]
        }
      ]
    },
    {
      "cell_type": "markdown",
      "metadata": {
        "id": "periodic-duration"
      },
      "source": [
        "### 4.2 while문\n",
        "\n",
        "- while문은 조건이 참이면 계속 반복하는 반복문입니다.\n",
        "- 다음 형태로 작성합니다.\n",
        "\n",
        "```py\n",
        "    while statement:\n",
        "        # statement가 참이면 실행\n",
        "```\n",
        "\n",
        "- if문의 반복으로 볼 수도 있습니다."
      ],
      "id": "periodic-duration"
    },
    {
      "cell_type": "code",
      "metadata": {
        "colab": {
          "base_uri": "https://localhost:8080/"
        },
        "id": "superior-advertiser",
        "outputId": "46692083-2a39-4338-c63e-8e597d900a7d"
      },
      "source": [
        "money = 5300\n",
        "\n",
        "while money > 1000: # 1000원이 넘는게 참일 때 실행을 반복\n",
        "    money -= 1000\n",
        "    print(money)\n",
        "    \n",
        "print('남은돈 :',money)"
      ],
      "id": "superior-advertiser",
      "execution_count": null,
      "outputs": [
        {
          "output_type": "stream",
          "name": "stdout",
          "text": [
            "4300\n",
            "3300\n",
            "2300\n",
            "1300\n",
            "300\n",
            "남은돈 : 300\n"
          ]
        }
      ]
    },
    {
      "cell_type": "markdown",
      "metadata": {
        "id": "ultimate-chorus"
      },
      "source": [
        "<div class=\"alert alert-block alert-warning\">\n",
        "    <b>Tip: </b> while문 안의 조건이 항상 True라면 반복문은 강제종료를 하지 않는 한 무한반복합니다. 이를 무한루프(Infinite loop)라고 부릅니다.\n",
        "</div> "
      ],
      "id": "ultimate-chorus"
    },
    {
      "cell_type": "markdown",
      "metadata": {
        "id": "paperback-eclipse"
      },
      "source": [
        "### 4.3 break와 continue\n",
        "\n",
        "- break는 반복문을 특정 상태에서 종료하고 싶은 경우에 사용합니다.\n",
        "    - 예시1) *100원씩 쓰기를 100번을 반복하는데 돈이 5000원 이하가 되면 반복문을 종료한다.*\n",
        "    - 예시2) *100원씩 쓰기를 5000원 이하 될 때까지 반복하는데, 5번 넘게 하면 반복문을 종료한다.*\n",
        "- 일반적으로는 조건문 안에 들어가고, 해당 반복문을 탈출합니다."
      ],
      "id": "paperback-eclipse"
    },
    {
      "cell_type": "code",
      "metadata": {
        "colab": {
          "base_uri": "https://localhost:8080/"
        },
        "id": "armed-abuse",
        "outputId": "2c6fdfa1-16df-42d2-f3c2-ecfdcda63149"
      },
      "source": [
        "# for와 break\n",
        "money = 5500\n",
        "\n",
        "for i in range(100):\n",
        "    money -= 100\n",
        "    if money <= 5000:\n",
        "        break\n",
        "        \n",
        "print(money)"
      ],
      "id": "armed-abuse",
      "execution_count": null,
      "outputs": [
        {
          "output_type": "stream",
          "name": "stdout",
          "text": [
            "5000\n"
          ]
        }
      ]
    },
    {
      "cell_type": "code",
      "metadata": {
        "colab": {
          "base_uri": "https://localhost:8080/"
        },
        "id": "incorrect-specific",
        "outputId": "ee120e7d-0cc5-4cc0-c5a6-5d7c1becf111"
      },
      "source": [
        "# while과 break\n",
        "money = 5700\n",
        "count = 0\n",
        "\n",
        "while money > 5000:\n",
        "    money -= 100\n",
        "    count += 1\n",
        "    print(money, count)\n",
        "    if count == 5:\n",
        "        break\n",
        "        \n",
        "print(money, count)"
      ],
      "id": "incorrect-specific",
      "execution_count": null,
      "outputs": [
        {
          "output_type": "stream",
          "name": "stdout",
          "text": [
            "5600 1\n",
            "5500 2\n",
            "5400 3\n",
            "5300 4\n",
            "5200 5\n",
            "5200 5\n"
          ]
        }
      ]
    },
    {
      "cell_type": "markdown",
      "metadata": {
        "id": "bridal-schema"
      },
      "source": [
        "- continue는 아래 문장을 실행하지 않기 위해 사용합니다. \n",
        "- 생략을 위한 문장이기도 합니다.\n",
        "\n",
        "이번에는 반복문에서만 살펴보겠습니다."
      ],
      "id": "bridal-schema"
    },
    {
      "cell_type": "code",
      "metadata": {
        "colab": {
          "base_uri": "https://localhost:8080/"
        },
        "id": "popular-simpson",
        "outputId": "b8d41323-7b0f-46ca-f96f-b27fc4a71da0"
      },
      "source": [
        "for i in range(10):\n",
        "    if i%2==0: # 짝수인케이스는 출력할 필요 없으므로\n",
        "        continue\n",
        "    print(i,'는 홀수입니다.')"
      ],
      "id": "popular-simpson",
      "execution_count": null,
      "outputs": [
        {
          "output_type": "stream",
          "name": "stdout",
          "text": [
            "1 는 홀수입니다.\n",
            "3 는 홀수입니다.\n",
            "5 는 홀수입니다.\n",
            "7 는 홀수입니다.\n",
            "9 는 홀수입니다.\n"
          ]
        }
      ]
    },
    {
      "cell_type": "markdown",
      "metadata": {
        "id": "expressed-johnson"
      },
      "source": [
        "## 5. 다양한 자료형\n",
        "\n",
        "- 프로그래밍 언어에서는 자료를 한 개 이상으로 담는 자료형이 존재합니다.\n",
        "    - 예를 들면 문자열은 문자의 여러개를 포함한 자료형입니다.    \n",
        "- Python에서는 기본적으로 많이 사용하는 자료형은 다음과 같습니다.\n",
        "    - str : 문자열, `\"hello world\"`\n",
        "    - list : 리스트, `[1, 2, 3]`\n",
        "    - tuple : 튜플, `(1, 2, 3)`\n",
        "    - dict : 딕셔너리, `{1:'one', 2:'two'}`\n",
        "    - set : 셋(집합), `{1, 2, 3}`\n",
        "\n",
        "하나씩 차례로 살펴보도록 하겠습니다.\n",
        "\n",
        "### 5-1. 문자열(string)\n",
        "\n",
        "#### 5-1-1. 문자열의 접근 ([] 사용하기)\n",
        "\n",
        "- 문자열에서 특정 문자를 접근하기 위해서는 `[]`를 사용합니다.\n",
        "- 예시로 `'hello world'`라는 문자열에 첫 글자를 불러오겠습니다."
      ],
      "id": "expressed-johnson"
    },
    {
      "cell_type": "code",
      "metadata": {
        "colab": {
          "base_uri": "https://localhost:8080/"
        },
        "id": "single-madness",
        "outputId": "d4501fa9-fee8-4566-8bbe-ab3565ada960"
      },
      "source": [
        "print('hello world'[0])"
      ],
      "id": "single-madness",
      "execution_count": null,
      "outputs": [
        {
          "output_type": "stream",
          "name": "stdout",
          "text": [
            "h\n"
          ]
        }
      ]
    },
    {
      "cell_type": "markdown",
      "metadata": {
        "id": "charged-treaty"
      },
      "source": [
        "- 문자열의 특정 원소를 불러오기 위해서는 몇 번째 문자인지 알아야하며, 이를 문자열의 **인덱스(index)** 라고 합니다.\n",
        "- 문자열의 인덱스는 다음과 같이 순서가 매겨집니다.\n",
        "\n",
        "|0|1|2|3|4|5|6|7|8|9|10|\n",
        "|-|-|-|-|-|-|-|-|-|-|-|\n",
        "|h|e|l|l|o| |w|o|r|l|d|\n",
        "\n",
        "- 인덱스는 `0`부터 시작하며 `전체길이-1`이 마지막 인덱스입니다.\n",
        "- 원하는 인덱스의 문자를 불러올 수 있습니다."
      ],
      "id": "charged-treaty"
    },
    {
      "cell_type": "code",
      "metadata": {
        "colab": {
          "base_uri": "https://localhost:8080/"
        },
        "id": "continental-difference",
        "outputId": "ed7d4a14-eecf-4803-ca6a-6532ae4fe22a"
      },
      "source": [
        "s = 'hello world'\n",
        "print(s[0], s[10]) #위의 표와 비교해보면서 수를 바꿔보세요.\n",
        "print(s[len(s)-1]) # 마지막 원소 가져오기"
      ],
      "id": "continental-difference",
      "execution_count": null,
      "outputs": [
        {
          "output_type": "stream",
          "name": "stdout",
          "text": [
            "h d\n",
            "d\n"
          ]
        }
      ]
    },
    {
      "cell_type": "markdown",
      "metadata": {
        "id": "arbitrary-english"
      },
      "source": [
        "- 음수 인덱스를 사용할 수 있습니다.\n",
        "- 문자열의 인덱스는 다음과 같이 순서가 매겨집니다.\n",
        "\n",
        "|-11|-10|-9|-8|-7|-6|-5|-4|-3|-2|-1|\n",
        "|-|-|-|-|-|-|-|-|-|-|-|\n",
        "|h|e|l|l|o| |w|o|r|l|d|\n",
        "\n",
        "- 마지막에서 i번째로 외우면 편합니다."
      ],
      "id": "arbitrary-english"
    },
    {
      "cell_type": "code",
      "metadata": {
        "colab": {
          "base_uri": "https://localhost:8080/"
        },
        "id": "beautiful-counter",
        "outputId": "19b56fcc-fd3f-4aca-e5ca-ac9aba86d00a"
      },
      "source": [
        "print(s[-1]) # 마지막에서 1번째"
      ],
      "id": "beautiful-counter",
      "execution_count": null,
      "outputs": [
        {
          "output_type": "stream",
          "name": "stdout",
          "text": [
            "d\n"
          ]
        }
      ]
    },
    {
      "cell_type": "markdown",
      "metadata": {
        "id": "italic-maria"
      },
      "source": [
        "#### 5-1-2. 문자열 슬라이싱\n",
        "\n",
        "- 문자열은 특정 부분을 바꿀 수는 없습니다. \n",
        "    - 특정 부분을 바꾸고 싶다면, 새로운 문자열을 만들어야 합니다.\n",
        "- 하지만 문자열의 특정 부분을 가져올 수는 있습니다.\n",
        "- 인덱스의 시작과 끝을 사용해서 불러오는 방법입니다. 기본적으로는 3가지가 있습니다.\n",
        "    - `[st:]` : st부터 마지막까지\n",
        "    - `[:ed]` : 처음부터 ed 이전까지\n",
        "    - `[st:ed]` : st부터 ed 이전까지"
      ],
      "id": "italic-maria"
    },
    {
      "cell_type": "code",
      "metadata": {
        "colab": {
          "base_uri": "https://localhost:8080/"
        },
        "id": "stock-circular",
        "outputId": "e72b24bd-ea7e-4df2-857a-c558d8a56522"
      },
      "source": [
        "s = '0123456'\n",
        "print(s[2:])\n",
        "print(s[:2])\n",
        "print(s[1:3])"
      ],
      "id": "stock-circular",
      "execution_count": null,
      "outputs": [
        {
          "output_type": "stream",
          "name": "stdout",
          "text": [
            "23456\n",
            "01\n",
            "12\n"
          ]
        }
      ]
    },
    {
      "cell_type": "markdown",
      "metadata": {
        "id": "military-rabbit"
      },
      "source": [
        "range()와 유사하게 step을 정할 수도 있습니다. \n",
        "\n",
        "- `[::step]` : step 간격으로"
      ],
      "id": "military-rabbit"
    },
    {
      "cell_type": "code",
      "metadata": {
        "colab": {
          "base_uri": "https://localhost:8080/"
        },
        "id": "close-coral",
        "outputId": "c6a5ae8e-6198-44b9-c7ab-9a47512a66a9"
      },
      "source": [
        "print(s[::2]) # 처음부터 2간격으로\n",
        "print(s[1::2]) # index 1부터 2간격으로"
      ],
      "id": "close-coral",
      "execution_count": null,
      "outputs": [
        {
          "output_type": "stream",
          "name": "stdout",
          "text": [
            "0246\n",
            "135\n"
          ]
        }
      ]
    },
    {
      "cell_type": "markdown",
      "metadata": {
        "id": "serial-screen"
      },
      "source": [
        "#### 5-1-3. 문자열에서 사용할 수 있는 메서드\n",
        "\n",
        "- 메서드는 함수와 비슷한 기능입니다.\n",
        "- 메서드는 특정 객체(e.g., 자료형)에 대해 사용하는 명령어이며 `객체.메서드명()`처럼 실행할 수 있습니다.\n",
        "- 다음과 같은 기능이 있습니다.\n",
        "    - 문자열에서 문자열 찾기\n",
        "    - 문자열 나누기\n",
        "- 문자열 자체를 바꾸는 게 아니라, 문자열을 사용하여 새로운 문자열을 만들어줍니다."
      ],
      "id": "serial-screen"
    },
    {
      "cell_type": "code",
      "metadata": {
        "colab": {
          "base_uri": "https://localhost:8080/"
        },
        "id": "balanced-mayor",
        "outputId": "bf88dab8-65c4-439e-d061-14d7cf70baa5"
      },
      "source": [
        "# find\n",
        "s = '안녕하세요,TA입니다. '\n",
        "print(s.find('안녕')) # 처음으로 '안녕'이 나오는 인덱스, 없다면 -1\n",
        "\n",
        "# split (바로 다음에 나오는 리스트 자료형)\n",
        "s = 'hi,TA,bye,TA'\n",
        "print(s.split(',')) # 특정 문자(예시에선 ,로 구분)를 기준으로 구분\n",
        "print('1 2 3'.split()) # split안에 아무것도 없다면 공백을 기준으로 나눠줌\n",
        "\n",
        "# strip\n",
        "s = ' 앞뒤에 여백이 있는 문자열 '\n",
        "print(s.strip()) # 앞/뒤 여백 모두 삭제\n",
        "print(s.lstrip()) # 왼쪽 여백 삭제\n",
        "print(s.rstrip()) # 오른쪽 여백 삭제\n",
        "print(s) # 기존 s는 변경되지 않음"
      ],
      "id": "balanced-mayor",
      "execution_count": null,
      "outputs": [
        {
          "output_type": "stream",
          "name": "stdout",
          "text": [
            "0\n",
            "['hi', 'TA', 'bye', 'TA']\n",
            "['1', '2', '3']\n",
            "앞뒤에 여백이 있는 문자열\n",
            "앞뒤에 여백이 있는 문자열 \n",
            " 앞뒤에 여백이 있는 문자열\n",
            " 앞뒤에 여백이 있는 문자열 \n"
          ]
        }
      ]
    },
    {
      "cell_type": "markdown",
      "metadata": {
        "id": "armed-dynamics"
      },
      "source": [
        "### 5-2. 리스트(list)\n",
        "\n",
        "#### 5-2-1. 리스트의 선언, 원소 접근 그리고 수정\n",
        "\n",
        "- 리스트는 자료를 순서대로 담는 자료형입니다. `[]`로 여러 자료를 담아서 만들 수 있습니다.\n",
        "- 빈 리스트를 만들거나 다른 자료형을 리스트로 바꿀 때는 `list()`로 감싸면 됩니다.\n",
        "- 순서대로 담는다는 말에서 알 수 있듯이 순서가 보장되는 자료형입니다.\n",
        "- 문자열과 같이 인덱스와 슬라이싱을 사용할 수 있습니다."
      ],
      "id": "armed-dynamics"
    },
    {
      "cell_type": "code",
      "metadata": {
        "colab": {
          "base_uri": "https://localhost:8080/"
        },
        "id": "ranging-story",
        "outputId": "ba6b005c-dff6-4e4f-f86f-a1756ee0e9fd"
      },
      "source": [
        "lst = [0, 1, 2, 3, 4, 'hello', 'world']\n",
        "print(lst)\n",
        "print(lst[4])\n",
        "print(lst[-1])\n",
        "print(lst[0:4])\n",
        "print(lst[-2:])"
      ],
      "id": "ranging-story",
      "execution_count": null,
      "outputs": [
        {
          "output_type": "stream",
          "name": "stdout",
          "text": [
            "[0, 1, 2, 3, 4, 'hello', 'world']\n",
            "4\n",
            "world\n",
            "[0, 1, 2, 3]\n",
            "['hello', 'world']\n"
          ]
        }
      ]
    },
    {
      "cell_type": "markdown",
      "metadata": {
        "id": "lucky-posting"
      },
      "source": [
        "- 리스트는 특정 원소를 바꿀 수 있습니다.\n",
        "    - 슬라이싱을 사용하여 바꿀 수도 있지만 비교적 index를 따지는 게 복잡하기 때문에 일반적으로 사용하지 않습니다."
      ],
      "id": "lucky-posting"
    },
    {
      "cell_type": "code",
      "metadata": {
        "colab": {
          "base_uri": "https://localhost:8080/"
        },
        "id": "closing-teens",
        "outputId": "2956b1fe-0039-4b84-f4c4-6e5fda666eeb"
      },
      "source": [
        "lst = [0, 1, 2, 3, 4, 5, 6]\n",
        "lst[0] = 10\n",
        "print(lst)\n",
        "lst[4:6] = [7, 7] # 슬라이스로\n",
        "print(lst)"
      ],
      "id": "closing-teens",
      "execution_count": null,
      "outputs": [
        {
          "output_type": "stream",
          "name": "stdout",
          "text": [
            "[10, 1, 2, 3, 4, 5, 6]\n",
            "[10, 1, 2, 3, 7, 7, 6]\n"
          ]
        }
      ]
    },
    {
      "cell_type": "markdown",
      "metadata": {
        "id": "blind-essay"
      },
      "source": [
        "#### 5-2-3. 리스트 원소 추가\n",
        "\n",
        "- 리스트에서는 원소를 추가하는 방법이 3가지 있습니다.\n",
        "    - `append` : 원소를 하나씩 추가\n",
        "    - `extend`\n",
        "    - `+`로 더하기 연산"
      ],
      "id": "blind-essay"
    },
    {
      "cell_type": "code",
      "metadata": {
        "colab": {
          "base_uri": "https://localhost:8080/"
        },
        "id": "bearing-ending",
        "outputId": "0d31c54f-9fb6-461a-f803-64bd0b88e32c"
      },
      "source": [
        "lst = [0]\n",
        "lst.append(1) # 원소 한 개 추가 \n",
        "print(lst)\n",
        "lst.extend([2, 3]) # 묶음으로 추가\n",
        "print(lst)\n",
        "lst += [4, 5, 6] # 덧셈으로 추가 (덧셈연산으로 리스트와 리스트 간의 연결 가능)\n",
        "print(lst)"
      ],
      "id": "bearing-ending",
      "execution_count": null,
      "outputs": [
        {
          "output_type": "stream",
          "name": "stdout",
          "text": [
            "[0, 1]\n",
            "[0, 1, 2, 3]\n",
            "[0, 1, 2, 3, 4, 5, 6]\n"
          ]
        }
      ]
    },
    {
      "cell_type": "markdown",
      "metadata": {
        "id": "curious-scott"
      },
      "source": [
        "부가적으로 리스트는 곱셈연산도 가능합니다. 곱셈 연산의 결과는 같은 리스트를 이어붙인 형태가 됩니다."
      ],
      "id": "curious-scott"
    },
    {
      "cell_type": "code",
      "metadata": {
        "colab": {
          "base_uri": "https://localhost:8080/"
        },
        "id": "every-bicycle",
        "outputId": "9a2855ca-cdbd-4cbd-9854-b0a154fd131a"
      },
      "source": [
        "lst = [1,2,3]\n",
        "print(lst * 3)"
      ],
      "id": "every-bicycle",
      "execution_count": null,
      "outputs": [
        {
          "output_type": "stream",
          "name": "stdout",
          "text": [
            "[1, 2, 3, 1, 2, 3, 1, 2, 3]\n"
          ]
        }
      ]
    },
    {
      "cell_type": "markdown",
      "metadata": {
        "id": "weekly-blowing"
      },
      "source": [
        "#### 5-2-4. 리스트 원소의 삭제\n",
        "\n",
        "- 원소의 삭제는 `pop`을 사용하여 할 수 있습니다.\n",
        "- index를 설정하여 제거할 수 있습니다.\n",
        "- `pop`을 사용하여 삭제한 원소는 그 값을 따로 사용할 수 있습니다."
      ],
      "id": "weekly-blowing"
    },
    {
      "cell_type": "code",
      "metadata": {
        "colab": {
          "base_uri": "https://localhost:8080/"
        },
        "id": "sized-chorus",
        "outputId": "0b902c56-debe-4fa7-e4fd-276a2fbbb623"
      },
      "source": [
        "lst = ['zero', 'one', 'two', 'three', 'four']\n",
        "var = lst.pop(2)\n",
        "print(lst)\n",
        "print(var)"
      ],
      "id": "sized-chorus",
      "execution_count": null,
      "outputs": [
        {
          "output_type": "stream",
          "name": "stdout",
          "text": [
            "['zero', 'one', 'three', 'four']\n",
            "two\n"
          ]
        }
      ]
    },
    {
      "cell_type": "markdown",
      "metadata": {
        "id": "virgin-damage"
      },
      "source": [
        "`pop`에 index를 넣지 않으면 자동으로 마지막 원소를 없앱니다."
      ],
      "id": "virgin-damage"
    },
    {
      "cell_type": "code",
      "metadata": {
        "colab": {
          "base_uri": "https://localhost:8080/"
        },
        "id": "mounted-soldier",
        "outputId": "9691dabd-f753-4cce-a358-1e2dfd41ad49"
      },
      "source": [
        "lst = ['zero', 'one', 'two', 'three', 'four']\n",
        "var = lst.pop()\n",
        "print(lst)\n",
        "print(var)"
      ],
      "id": "mounted-soldier",
      "execution_count": null,
      "outputs": [
        {
          "output_type": "stream",
          "name": "stdout",
          "text": [
            "['zero', 'one', 'two', 'three']\n",
            "four\n"
          ]
        }
      ]
    },
    {
      "cell_type": "markdown",
      "metadata": {
        "id": "naughty-lease"
      },
      "source": [
        "#### 5-2-5. 2차원 리스트\n",
        "\n",
        "- 리스트를 포함한 튜플, 딕셔너리, 셋 모두 원소로 모든 자료형을 넣을 수 있습니다.\n",
        "- 리스트 안에 리스트를 넣는 것을 2차원 리스트라고 흔히 부릅니다."
      ],
      "id": "naughty-lease"
    },
    {
      "cell_type": "code",
      "metadata": {
        "colab": {
          "base_uri": "https://localhost:8080/"
        },
        "id": "potential-shanghai",
        "outputId": "ca488c93-3b78-47c4-e985-4c1672e2bf3e"
      },
      "source": [
        "arr_2d = [[1, 2, 3], [4, 5, 6]]\n",
        "print(arr_2d)"
      ],
      "id": "potential-shanghai",
      "execution_count": null,
      "outputs": [
        {
          "output_type": "stream",
          "name": "stdout",
          "text": [
            "[[1, 2, 3], [4, 5, 6]]\n"
          ]
        }
      ]
    },
    {
      "cell_type": "markdown",
      "metadata": {
        "id": "ambient-palestinian"
      },
      "source": [
        "이런 리스트의 원소는 리스트입니다."
      ],
      "id": "ambient-palestinian"
    },
    {
      "cell_type": "code",
      "metadata": {
        "colab": {
          "base_uri": "https://localhost:8080/"
        },
        "id": "going-netherlands",
        "outputId": "d23566bc-dceb-4a0e-a297-2c082cee4f0c"
      },
      "source": [
        "print(arr_2d[0])"
      ],
      "id": "going-netherlands",
      "execution_count": null,
      "outputs": [
        {
          "output_type": "stream",
          "name": "stdout",
          "text": [
            "[1, 2, 3]\n"
          ]
        }
      ]
    },
    {
      "cell_type": "markdown",
      "metadata": {
        "id": "after-warren"
      },
      "source": [
        "리스트의 원소 리스트의 원소를 뽑기 위해서는 `[]`를 한 번 더 사용해주면 됩니다."
      ],
      "id": "after-warren"
    },
    {
      "cell_type": "code",
      "metadata": {
        "colab": {
          "base_uri": "https://localhost:8080/"
        },
        "id": "scenic-arnold",
        "outputId": "ddd8fd76-2da5-441c-fed6-7423d0a65dbb"
      },
      "source": [
        "print(arr_2d[0][0])"
      ],
      "id": "scenic-arnold",
      "execution_count": null,
      "outputs": [
        {
          "output_type": "stream",
          "name": "stdout",
          "text": [
            "1\n"
          ]
        }
      ]
    },
    {
      "cell_type": "markdown",
      "metadata": {
        "id": "formed-diameter"
      },
      "source": [
        "### 5-3. 튜플(tuple)\n",
        "\n",
        "#### 5-3-1. 튜플의 선언 및 접근\n",
        "\n",
        "- 튜플은 리스트와 거의 형태가 같은 자료형입니다. 특정 자료를 묶어서 표현할 때 사용합니다.\n",
        "    - 예를 들어 *평면 좌표계의 점*을 표현하기 위해 *(x좌표, y좌표)*로 묶을 때 사용.\n",
        "- `()`로 자료를 표현하고, `tuple()`을 사용하여 변환할 수 있습니다.\n",
        "- 순서가 있고, index 접근과 슬라이싱이 가능합니다.\n",
        "- 다만 **튜플은 수정할 수 없습니다. 대신 리스트보다 빠릅니다.**\n"
      ],
      "id": "formed-diameter"
    },
    {
      "cell_type": "code",
      "metadata": {
        "colab": {
          "base_uri": "https://localhost:8080/"
        },
        "id": "alone-special",
        "outputId": "df7f00f9-ce10-4faa-ae5a-a17cad2ddd32"
      },
      "source": [
        "tp = (0, 1, 2, 3, 'hello')\n",
        "print(tp)\n",
        "print(tp[0])\n",
        "print(tp[-1])\n",
        "print(tp[1:]) # 슬라이싱 가능하며, 튜플의 슬라이싱 결과는 튜플"
      ],
      "id": "alone-special",
      "execution_count": null,
      "outputs": [
        {
          "output_type": "stream",
          "name": "stdout",
          "text": [
            "(0, 1, 2, 3, 'hello')\n",
            "0\n",
            "hello\n",
            "(1, 2, 3, 'hello')\n"
          ]
        }
      ]
    },
    {
      "cell_type": "markdown",
      "metadata": {
        "id": "lesser-component"
      },
      "source": [
        "#### 5-3-2. 튜플의 연산\n",
        "\n",
        "- 튜플은 `+` 연산과 `*` 연산을 제공합니다.\n",
        "- `+`은 연결(concatenate), `*`은 반복된 연결을 의미합니다."
      ],
      "id": "lesser-component"
    },
    {
      "cell_type": "code",
      "metadata": {
        "colab": {
          "base_uri": "https://localhost:8080/"
        },
        "id": "decent-nothing",
        "outputId": "efdc9360-64a2-45a4-b22f-b7dddfb1082c"
      },
      "source": [
        "print((1, 2)+(2, 3))\n",
        "print((1, 2)*3)"
      ],
      "id": "decent-nothing",
      "execution_count": null,
      "outputs": [
        {
          "output_type": "stream",
          "name": "stdout",
          "text": [
            "(1, 2, 2, 3)\n",
            "(1, 2, 1, 2, 1, 2)\n"
          ]
        }
      ]
    },
    {
      "cell_type": "markdown",
      "metadata": {
        "id": "governmental-chaos"
      },
      "source": [
        "### 5-4. 딕셔너리(dict)\n",
        "\n",
        "#### 5-4-1. 딕셔너리의 선언과 원소 접근\n",
        "\n",
        "- 딕셔너리는 사전 자료형입니다. `dict()`또는 `{}`로 선언합니다.\n",
        "    - 사전은 찾는 단어가 있고, 그 단어에 해당하는 의미가 일대일로 매칭됩니다.\n",
        "    - 일반적으로 순서나 n번째가 중요한 데이터 외의 의미적으로 중요한 정보를 저장할 때 사용하는 자료형입니다.\n",
        "- 딕셔너리는 순서가 존재하긴 하나 순서로 사용하기 보다는 `key`를 인덱스처럼 사용하여 `value`를 가져옵니다.\n",
        "    - 접근을 할 때는 `[]`를 사용합니다.\n",
        "- 자료의 형태나 사용 예시는 다음과 같습니다.\n",
        "\n",
        "``` py\n",
        "dict_val = {key1:val1, key2:val2, key3:val3 ...}\n",
        "print(dict_val[key1])\n",
        "```"
      ],
      "id": "governmental-chaos"
    },
    {
      "cell_type": "code",
      "metadata": {
        "colab": {
          "base_uri": "https://localhost:8080/"
        },
        "id": "comfortable-spice",
        "outputId": "1e0f37eb-d21d-43e2-f6da-261b80274afb"
      },
      "source": [
        "dct = {1:'one', 2:'two', 3:'three', 'one':1}\n",
        "print(dct[1]) # 숫자도 키가 될 수 있고\n",
        "print(dct['one']) # 문자열도 키가 될 수 있습니다."
      ],
      "id": "comfortable-spice",
      "execution_count": null,
      "outputs": [
        {
          "output_type": "stream",
          "name": "stdout",
          "text": [
            "one\n",
            "1\n"
          ]
        }
      ]
    },
    {
      "cell_type": "markdown",
      "metadata": {
        "id": "equipped-tobago"
      },
      "source": [
        "- 또는 get을 사용하여 원소를 사용할 수도 있습니다.\n",
        "- get에 key외에 key가 없을 경우 불러오고 싶은 내용을 지정해줄 수도 있습니다."
      ],
      "id": "equipped-tobago"
    },
    {
      "cell_type": "code",
      "metadata": {
        "colab": {
          "base_uri": "https://localhost:8080/"
        },
        "id": "settled-madison",
        "outputId": "ccc38be4-7f59-4642-80fa-c031d4291f5d"
      },
      "source": [
        "dct = {1:'one', 2:'two', 3:'three'}\n",
        "print(dct.get(1))\n",
        "print(dct.get(4, 'NONE')) # dct에 4가 없으므로 NONE"
      ],
      "id": "settled-madison",
      "execution_count": null,
      "outputs": [
        {
          "output_type": "stream",
          "name": "stdout",
          "text": [
            "one\n",
            "NONE\n"
          ]
        }
      ]
    },
    {
      "cell_type": "markdown",
      "metadata": {
        "id": "published-imagination"
      },
      "source": [
        "#### 5-4-2. 딕셔너리 원소 추가\n",
        "\n",
        "- 딕셔너리는 `[]`와 대입연산자(`=`)로 원소를 수정하거나 추가할 수 있습니다."
      ],
      "id": "published-imagination"
    },
    {
      "cell_type": "code",
      "metadata": {
        "colab": {
          "base_uri": "https://localhost:8080/"
        },
        "id": "regular-profession",
        "outputId": "d4e4b683-f758-49d9-e2fb-4909fa933cc9"
      },
      "source": [
        "dct = {1:'one', 2:'two', 3:'three'}\n",
        "dct[1] = '하나' # 수정\n",
        "print(dct)\n",
        "dct[4] = 'four' # 원소 추가\n",
        "print(dct)"
      ],
      "id": "regular-profession",
      "execution_count": null,
      "outputs": [
        {
          "output_type": "stream",
          "name": "stdout",
          "text": [
            "{1: '하나', 2: 'two', 3: 'three'}\n",
            "{1: '하나', 2: 'two', 3: 'three', 4: 'four'}\n"
          ]
        }
      ]
    },
    {
      "cell_type": "markdown",
      "metadata": {
        "id": "individual-relations"
      },
      "source": [
        "또는 리스트의 `extend`처럼 `update`를 사용하여 한 번에 추가할 수 있습니다."
      ],
      "id": "individual-relations"
    },
    {
      "cell_type": "code",
      "metadata": {
        "colab": {
          "base_uri": "https://localhost:8080/"
        },
        "id": "olive-panama",
        "outputId": "d28013c6-60d5-4685-d367-ce955cca77f2"
      },
      "source": [
        "dct = {1:'one', 2:'two', 3:'three'}\n",
        "dct.update({4:'four', 5:'five'})\n",
        "print(dct)"
      ],
      "id": "olive-panama",
      "execution_count": null,
      "outputs": [
        {
          "output_type": "stream",
          "name": "stdout",
          "text": [
            "{1: 'one', 2: 'two', 3: 'three', 4: 'four', 5: 'five'}\n"
          ]
        }
      ]
    },
    {
      "cell_type": "markdown",
      "metadata": {
        "id": "virtual-bracket"
      },
      "source": [
        "#### 5-4-3. 딕셔너리 원소 삭제\n",
        "\n",
        "- 원소의 삭제는 `pop(key)`를 하여 원소를 제거할 수 있습니다."
      ],
      "id": "virtual-bracket"
    },
    {
      "cell_type": "code",
      "metadata": {
        "colab": {
          "base_uri": "https://localhost:8080/"
        },
        "id": "respiratory-woman",
        "outputId": "816b2967-0043-42ad-f5ed-7b5b18d48cba"
      },
      "source": [
        "dct = {1:'one', 2:'two', 3:'three'}\n",
        "var = dct.pop(1)\n",
        "print(dct)\n",
        "print(var)"
      ],
      "id": "respiratory-woman",
      "execution_count": null,
      "outputs": [
        {
          "output_type": "stream",
          "name": "stdout",
          "text": [
            "{2: 'two', 3: 'three'}\n",
            "one\n"
          ]
        }
      ]
    },
    {
      "cell_type": "markdown",
      "metadata": {
        "id": "persistent-basics"
      },
      "source": [
        "#### 5-4-4. 딕셔너리 키/값 뽑기\n",
        "\n",
        "- 딕셔너리에서 키(`.keys()`) 또는 값(`.values()`)을 따로 뽑을 수도 있습니다."
      ],
      "id": "persistent-basics"
    },
    {
      "cell_type": "code",
      "metadata": {
        "colab": {
          "base_uri": "https://localhost:8080/"
        },
        "id": "alert-hungarian",
        "outputId": "8d31eae0-c35e-4519-b020-c489e3e19b07"
      },
      "source": [
        "dct = {1:'one', 2:'two', 3:'three'}\n",
        "print(dct.keys())\n",
        "print(dct.values())"
      ],
      "id": "alert-hungarian",
      "execution_count": null,
      "outputs": [
        {
          "output_type": "stream",
          "name": "stdout",
          "text": [
            "dict_keys([1, 2, 3])\n",
            "dict_values(['one', 'two', 'three'])\n"
          ]
        }
      ]
    },
    {
      "cell_type": "markdown",
      "metadata": {
        "id": "damaged-postcard"
      },
      "source": [
        "### 5-5. 셋(set)\n",
        "\n",
        "#### 5-5-1. 셋의 선언과 원소 접근\n",
        "\n",
        "- 셋(집합) 자료형은 집합을 표현할 수 있는 자료형입니다. \n",
        "- dict와 마찬가지로 `{}`로 표기할 수 있으며 `set()`을 사용할 수도 있습니다.\n",
        "- 수학에서 사용하는 집합의 특징을 가지고 있습니다.\n",
        "    - 중복된 원소는 허용하지 않습니다. (알아서 없애줍니다.)\n",
        "    - 순서가 보장되지 않습니다.\n",
        "- set은 특정 원소에 접근이 불가능합니다."
      ],
      "id": "damaged-postcard"
    },
    {
      "cell_type": "code",
      "metadata": {
        "colab": {
          "base_uri": "https://localhost:8080/"
        },
        "id": "strong-quest",
        "outputId": "80a85d79-5fb6-4fb7-ed99-083c4f8f9da1"
      },
      "source": [
        "st = {1, 1, 2, 2, 3, 3, 3, 4}\n",
        "print(st) # 중복 원소 제거\n",
        "st2 = {3, 2, 100, 4}\n",
        "print(st2) # 순서가 보장이 안됨"
      ],
      "id": "strong-quest",
      "execution_count": null,
      "outputs": [
        {
          "output_type": "stream",
          "name": "stdout",
          "text": [
            "{1, 2, 3, 4}\n",
            "{2, 3, 100, 4}\n"
          ]
        }
      ]
    },
    {
      "cell_type": "markdown",
      "metadata": {
        "id": "extended-magnitude"
      },
      "source": [
        "#### 5-5-2. 셋의 원소 추가\n",
        "\n",
        "- set에서는 원소를 하나만 추가하는 `add`와 여러 개를 동시에 추가하는 `update`가 있습니다."
      ],
      "id": "extended-magnitude"
    },
    {
      "cell_type": "code",
      "metadata": {
        "colab": {
          "base_uri": "https://localhost:8080/"
        },
        "id": "boxed-generic",
        "outputId": "48e92f45-551c-4d18-e1b4-966a66193753"
      },
      "source": [
        "st = {1, 2, 3}\n",
        "st.add(4)\n",
        "st.update({4, 5, 6})\n",
        "print(st)"
      ],
      "id": "boxed-generic",
      "execution_count": null,
      "outputs": [
        {
          "output_type": "stream",
          "name": "stdout",
          "text": [
            "{1, 2, 3, 4, 5, 6}\n"
          ]
        }
      ]
    },
    {
      "cell_type": "markdown",
      "metadata": {
        "id": "improving-spring"
      },
      "source": [
        "#### 5-5-3. 셋의 원소 삭제\n",
        "\n",
        "- set에서는 내부 원소를 지울 수 있는 `remove`와 `discard` 메서드가 존재하며, 에러의 발생 유무의 차이가 있습니다."
      ],
      "id": "improving-spring"
    },
    {
      "cell_type": "code",
      "metadata": {
        "colab": {
          "base_uri": "https://localhost:8080/"
        },
        "id": "polished-london",
        "outputId": "37be0e96-9b53-4542-af6f-f1c94f972da9"
      },
      "source": [
        "st = {1, 2, 3}\n",
        "st.remove(1) # set에 있는 원소를 제거할 때 (없는 원소 제거 시도시, 에러 발생)\n",
        "print(st)\n",
        "st.discard(4) # set에 없는 원소도 제거하길 시도할 때 (에러가 발생하지 않음)\n",
        "print(st)"
      ],
      "id": "polished-london",
      "execution_count": null,
      "outputs": [
        {
          "output_type": "stream",
          "name": "stdout",
          "text": [
            "{2, 3}\n",
            "{2, 3}\n"
          ]
        }
      ]
    },
    {
      "cell_type": "markdown",
      "metadata": {
        "id": "departmental-roberts"
      },
      "source": [
        "#### 5-5-4. 셋의 연산\n",
        "\n",
        "- 집합의 다양한 연산을 제공합니다. 합집합, 차집합, 교집합이 대표적입니다."
      ],
      "id": "departmental-roberts"
    },
    {
      "cell_type": "code",
      "metadata": {
        "colab": {
          "base_uri": "https://localhost:8080/"
        },
        "id": "plastic-italic",
        "outputId": "9578dfcc-283e-4415-c502-629afc6bf65b"
      },
      "source": [
        "st1 = {0, 1, 2, 3}\n",
        "st2 = {2, 3, 4, 5}\n",
        "\n",
        "print(st1|st2) # 합집합\n",
        "print(st1&st2) # 교집합\n",
        "print(st1-st2) # 차집합"
      ],
      "id": "plastic-italic",
      "execution_count": null,
      "outputs": [
        {
          "output_type": "stream",
          "name": "stdout",
          "text": [
            "{0, 1, 2, 3, 4, 5}\n",
            "{2, 3}\n",
            "{0, 1}\n"
          ]
        }
      ]
    },
    {
      "cell_type": "markdown",
      "metadata": {
        "id": "rotary-bride"
      },
      "source": [
        "이 기능들은 다양한 메서드로도 제공되며 다음과 같습니다."
      ],
      "id": "rotary-bride"
    },
    {
      "cell_type": "code",
      "metadata": {
        "colab": {
          "base_uri": "https://localhost:8080/"
        },
        "id": "vulnerable-belly",
        "outputId": "1b116757-111f-4647-fd79-fcbc5c690636"
      },
      "source": [
        "print(st1.union(st2)) # 합집합\n",
        "print(st1.intersection(st2)) # 교집합\n",
        "print(st1.difference(st2)) # 차집합\n",
        "\n",
        "# 추가 메서드 소개\n",
        "print(st1.issubset({0, 1, 2, 3, 4})) # 해당 집합의 부분집합 확인\n",
        "print(st1.isdisjoint(st2)) # 서로소 확인, 교집합이 공집합인지 확인"
      ],
      "id": "vulnerable-belly",
      "execution_count": null,
      "outputs": [
        {
          "output_type": "stream",
          "name": "stdout",
          "text": [
            "{0, 1, 2, 3, 4, 5}\n",
            "{2, 3}\n",
            "{0, 1}\n",
            "True\n",
            "False\n"
          ]
        }
      ]
    },
    {
      "cell_type": "markdown",
      "metadata": {
        "id": "premier-status"
      },
      "source": [
        "### 5-6. 자료형 공통\n",
        "\n",
        "- 위의 자료형은 모두 길이를 구하는 `len()`함수를 사용할 수 있습니다."
      ],
      "id": "premier-status"
    },
    {
      "cell_type": "code",
      "metadata": {
        "colab": {
          "base_uri": "https://localhost:8080/"
        },
        "id": "wicked-liberia",
        "outputId": "e90c34d5-139e-4066-8ec7-3b88e1753ef1"
      },
      "source": [
        "print(len('1'))\n",
        "print(len([1, 2]))\n",
        "print(len((1, 2, 3)))\n",
        "print(len({1:'one', 2:'two', 3:'three', 4:'four'}))\n",
        "print(len({1, 2, 3, 4, 5}))"
      ],
      "id": "wicked-liberia",
      "execution_count": null,
      "outputs": [
        {
          "output_type": "stream",
          "name": "stdout",
          "text": [
            "1\n",
            "2\n",
            "3\n",
            "4\n",
            "5\n"
          ]
        }
      ]
    },
    {
      "cell_type": "markdown",
      "metadata": {
        "id": "charming-colorado"
      },
      "source": [
        "- 자료형 내부에 자료가 포함되어 있는지 확인을 위해 `in` 연산자를 사용할 수 있습니다."
      ],
      "id": "charming-colorado"
    },
    {
      "cell_type": "code",
      "metadata": {
        "colab": {
          "base_uri": "https://localhost:8080/"
        },
        "id": "first-clark",
        "outputId": "263d2cf9-5820-45c0-e6c4-fb3d8843229a"
      },
      "source": [
        "print(1 in [1, 2, 3, 4, 5])\n",
        "print(6 in {1, 2})"
      ],
      "id": "first-clark",
      "execution_count": null,
      "outputs": [
        {
          "output_type": "stream",
          "name": "stdout",
          "text": [
            "True\n",
            "False\n"
          ]
        }
      ]
    },
    {
      "cell_type": "markdown",
      "metadata": {
        "id": "functional-canal"
      },
      "source": [
        "- 포함되어 있지 않음을 확인하기 위해 `not in` 연산자를 사용할 수 있습니다."
      ],
      "id": "functional-canal"
    },
    {
      "cell_type": "code",
      "metadata": {
        "colab": {
          "base_uri": "https://localhost:8080/"
        },
        "id": "restricted-pacific",
        "outputId": "aaa24112-3b2b-40fc-cb3f-85b0d266c036"
      },
      "source": [
        "print(1 not in [1, 2, 3, 4, 5])\n",
        "print(6 not in {1, 2})"
      ],
      "id": "restricted-pacific",
      "execution_count": null,
      "outputs": [
        {
          "output_type": "stream",
          "name": "stdout",
          "text": [
            "False\n",
            "True\n"
          ]
        }
      ]
    },
    {
      "cell_type": "markdown",
      "metadata": {
        "id": "protected-mission"
      },
      "source": [
        "리스트, 튜플, 셋, 딕셔너리에서는 최댓값과 최솟값을 바로 뽑아낼 수 있습니다.\n",
        "\n",
        "- `max` : 최댓값\n",
        "- `min` : 최솟값"
      ],
      "id": "protected-mission"
    },
    {
      "cell_type": "code",
      "metadata": {
        "colab": {
          "base_uri": "https://localhost:8080/"
        },
        "id": "sustained-budget",
        "outputId": "c74ba5d8-ea7b-400f-f088-fe40a8648333"
      },
      "source": [
        "print(max([1, 2, 100, 4]))\n",
        "print(max((8, 9, 10, 12)))\n",
        "print(min({-1, 7, 23, 40}))"
      ],
      "id": "sustained-budget",
      "execution_count": null,
      "outputs": [
        {
          "output_type": "stream",
          "name": "stdout",
          "text": [
            "100\n",
            "12\n",
            "-1\n"
          ]
        }
      ]
    },
    {
      "cell_type": "markdown",
      "metadata": {
        "id": "dying-arabic"
      },
      "source": [
        "### 5-7. for문(2)\n",
        "\n",
        "- 이 자료형들은 다음과 같은 형태로 반복문을 사용할 수 있습니다.\n",
        "- 자료 내부의 원소를 하나씩 본다고 생각하면 됩니다."
      ],
      "id": "dying-arabic"
    },
    {
      "cell_type": "code",
      "metadata": {
        "colab": {
          "base_uri": "https://localhost:8080/"
        },
        "id": "thick-amount",
        "outputId": "7e8eed6f-3601-4cb8-a033-0f99001e96d4"
      },
      "source": [
        "for i in [1, 2, 3, 4, 5]:\n",
        "    print(i)\n"
      ],
      "id": "thick-amount",
      "execution_count": null,
      "outputs": [
        {
          "output_type": "stream",
          "name": "stdout",
          "text": [
            "1\n",
            "2\n",
            "3\n",
            "4\n",
            "5\n"
          ]
        }
      ]
    },
    {
      "cell_type": "code",
      "metadata": {
        "colab": {
          "base_uri": "https://localhost:8080/"
        },
        "id": "judicial-diamond",
        "outputId": "90ba696f-3fb2-4368-a7dc-505f1d9d9730"
      },
      "source": [
        "for i in (1, 2, 3, 4, 5):\n",
        "    print(i)\n"
      ],
      "id": "judicial-diamond",
      "execution_count": null,
      "outputs": [
        {
          "output_type": "stream",
          "name": "stdout",
          "text": [
            "1\n",
            "2\n",
            "3\n",
            "4\n",
            "5\n"
          ]
        }
      ]
    },
    {
      "cell_type": "markdown",
      "metadata": {
        "id": "marked-december"
      },
      "source": [
        "- dict의 경우에는 key를 기준으로 반복문이 진행되고, value를 보고 싶다면 다양한 방법으로 볼 수 있습니다"
      ],
      "id": "marked-december"
    },
    {
      "cell_type": "code",
      "metadata": {
        "colab": {
          "base_uri": "https://localhost:8080/"
        },
        "id": "wanted-casting",
        "outputId": "06dcc316-a0dc-47c9-9e14-952e565c95ee"
      },
      "source": [
        "dct = {1:'one', 2:'two', 3:'three', 4:'four'}\n",
        "for i in dct:\n",
        "    print(i) # key만 반복문으로 사용\n",
        "    print(dct[i]) # value 사용하기\n",
        "\n",
        "# value만 따로 빼서 반복문으로 사용\n",
        "print('------------------')\n",
        "print('values 메서드 사용하기')\n",
        "for i in dct.values():\n",
        "    print(i) "
      ],
      "id": "wanted-casting",
      "execution_count": null,
      "outputs": [
        {
          "output_type": "stream",
          "name": "stdout",
          "text": [
            "1\n",
            "one\n",
            "2\n",
            "two\n",
            "3\n",
            "three\n",
            "4\n",
            "four\n",
            "------------------\n",
            "values 메서드 사용하기\n",
            "one\n",
            "two\n",
            "three\n",
            "four\n"
          ]
        }
      ]
    },
    {
      "cell_type": "markdown",
      "metadata": {
        "id": "innovative-grave"
      },
      "source": [
        "- set은 반복문을 돌리면 순서가 보장되지 않습니다."
      ],
      "id": "innovative-grave"
    },
    {
      "cell_type": "code",
      "metadata": {
        "colab": {
          "base_uri": "https://localhost:8080/"
        },
        "id": "preceding-frost",
        "outputId": "b47bccac-40c4-4157-90c8-bbe863505817"
      },
      "source": [
        "for i in {4, 3, 2, 100}:\n",
        "    print(i)\n",
        "    "
      ],
      "id": "preceding-frost",
      "execution_count": null,
      "outputs": [
        {
          "output_type": "stream",
          "name": "stdout",
          "text": [
            "100\n",
            "2\n",
            "3\n",
            "4\n"
          ]
        }
      ]
    }
  ]
}