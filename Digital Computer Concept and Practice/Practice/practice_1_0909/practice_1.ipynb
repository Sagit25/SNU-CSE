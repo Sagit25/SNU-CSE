{
  "nbformat": 4,
  "nbformat_minor": 2,
  "metadata": {
    "kernelspec": {
      "name": "python3",
      "display_name": "Python 3.9.7 64-bit"
    },
    "language_info": {
      "name": "python",
      "version": "3.9.7",
      "mimetype": "text/x-python",
      "codemirror_mode": {
        "name": "ipython",
        "version": 3
      },
      "pygments_lexer": "ipython3",
      "nbconvert_exporter": "python",
      "file_extension": ".py"
    },
    "colab": {
      "name": "practice-1.ipynb",
      "provenance": [],
      "collapsed_sections": [
        "twM2PtOPSR8T"
      ],
      "toc_visible": true
    },
    "interpreter": {
      "hash": "e0bda2fd0cac840f6c9f4495cb07c8621917facf3391561f7405ed8b75f8cf44"
    }
  },
  "cells": [
    {
      "cell_type": "markdown",
      "source": [
        "#### 035.001.008 컴퓨터의 개념 및 실습\n",
        "\n"
      ],
      "metadata": {
        "id": "w9FN16ddSR76"
      }
    },
    {
      "cell_type": "markdown",
      "source": [
        "\n",
        "\n",
        "# Practice Session #1\n",
        "\n"
      ],
      "metadata": {
        "id": "fnj8sICfSR8A"
      }
    },
    {
      "cell_type": "markdown",
      "source": [
        "## 실습 진행 시스템\n",
        "\n",
        "\n",
        "\n"
      ],
      "metadata": {
        "id": "pd4_R4UNSR8C"
      }
    },
    {
      "cell_type": "markdown",
      "source": [
        "\n",
        "### 실습 Q&A 시스템 \n",
        "\n",
        "* 조교의 도움이 필요하거나 약간의 설명이 필요한 경우 <a href='https://docs.google.com/forms/d/e/1FAIpQLScwESqVcZrf93HuxZ1sLw6YnfHxYfTAjN80m7NqnU20zFffYw/viewform'>**google docs**</a> 설문지를 이용하시면 됩니다\n",
        "* 여러분의 질문과 breakout room 신청 현황은 화면공유를 통해 모두에게 공유됩니다 \n",
        "* assign 탭에서 본인에게 조교가 assign되어 있으면 breakout room에 들어가시면 됩니다\n",
        "    * 본인의 assign 여부를 잘 확인해주시길 바랍니다 \n",
        "    \n",
        "    \n",
        "    \n",
        "* **zoom 채팅으로 온 질문은 받지 않습니다.** 효율적인 질문관리를 위해서니 양해 부탁드립니다.\n",
        "    * 비공개 질문이 필요하시면 breakout room을 신청해주시길 바랍니다\n"
      ],
      "metadata": {
        "id": "QTEJOW3VSR8D"
      }
    },
    {
      "cell_type": "markdown",
      "source": [
        "\n",
        "### 실습 시간 진행\n",
        "\n",
        "* 실습은 `4시`까지만 진행하며 실습시간 내에 저지사이트에 연습문제 정답을 제출하셔야 합니다.\n",
        "* In-Class Assignment 점수는 온라인 저지 정답여부를 기준으로 판단하며, 채점기준은 <a href='http://etl.snu.ac.kr/mod/ubboard/article.php?id=1599589&bwid=2614308'>etl공지</a> 참조 바랍니다..\n",
        "\n",
        "\n",
        "### 실습 시간 이후 추가 질문\n",
        "\n",
        "* 실습관련 질문은 etl의 <a href='http://etl.snu.ac.kr/mod/forum/index.php?id=199084'>각 주차 토론방</a>, 혹은\n",
        "* <a href='https://open.kakao.com/o/gPZQ4Bxd'>오픈 카카오톡 채팅방</a>으로 문의해주시길 바랍니다 \n",
        "\n"
      ],
      "metadata": {
        "id": "jwODvHTaSR8E"
      }
    },
    {
      "cell_type": "markdown",
      "source": [
        "\n",
        "\n",
        "\n",
        "\n",
        "## Online Judge 소개\n",
        "\n",
        "\n"
      ],
      "metadata": {
        "id": "Fsf3TWdQSR8E"
      }
    },
    {
      "cell_type": "markdown",
      "source": [
        "\n",
        "### Online Judge\n",
        "\n",
        "* <a href='http://dccp.hcil.snu.ac.kr:2222/'>dccp.hcil.snu.ac.kr:2222</a>\n",
        "* 위 온라인 채점 사이트에서 실습 과제 및 정기 과제 제출이 이루어집니다.\n",
        "* ID와 Password는 eTL에 업로드되어 있으며, 로그인 후 Password를 변경해주세요!\n",
        "<br>\n",
        "<br>\n",
        "* `2222` 포트가 Online Judge, `8888` 포트가 Interactive Keynote 입니다.\n",
        "\n"
      ],
      "metadata": {
        "id": "OmBVAHVASR8F"
      }
    },
    {
      "cell_type": "markdown",
      "source": [
        "\n",
        "\n",
        "### 과제의 프로세스\n",
        "\n",
        "1. 온라인 저지 사이트에서 과제 설명을 읽는다.\n",
        "2. 자신의 로컬 환경에서 코드를 작성한다.\n",
        "3. 입/출력 예시를 직접 실행해 보면서 코드를 확인한다.\n",
        "4. 온라인 저지 사이트에 코드를 제출하고 채점결과를 확인한다.\n",
        "5. 채점 결과 AC(Accepted) 되지 않은 경우 코드를 수정하고 재제출한다.\n",
        "\n"
      ],
      "metadata": {
        "id": "nbxBjx5hSR8F"
      }
    },
    {
      "cell_type": "markdown",
      "source": [
        "\n",
        "### 튜토리얼\n",
        "\n",
        "채점 결과는 다음과 같이 나타납니다.\n",
        "\n",
        "* AC - Accepted\n",
        "    * 테스트를 성공적으로 통과\n",
        "* WA - Wrong Answer\n",
        "    * Output이 테스트 통과 못함\n",
        "* MLE - Memory Limit Exceeded\n",
        "    * 프로그램 메모리 한도 초과\n",
        "* TLE - Time Limit Exceeded\n",
        "    * 프로그램 실행 시간 초과\n",
        "* RTE - Runtime Exception\n",
        "    * Runtime Exception 발생 (Segmentation fault 등)\n",
        "\n"
      ],
      "metadata": {
        "id": "BMeC39xPSR8F"
      }
    },
    {
      "cell_type": "markdown",
      "source": [
        "\n",
        "### 튜토리얼\n",
        "\n",
        "채점 결과는 다음과 같이 나타납니다.\n",
        "\n",
        "* IR - Invalid Return\n",
        "    * nonzero exit code (Error)\n",
        "* OLE - Output Limit Exceeded\n",
        "    * Output의 길이가 너무 길어 발생\n",
        "* IE - Internal Error\n",
        "    * 조교한테 문의\n",
        "\n"
      ],
      "metadata": {
        "id": "J3mNDubVSR8G"
      }
    },
    {
      "cell_type": "markdown",
      "source": [
        "## 오늘의 실습\n",
        "\n",
        "\n"
      ],
      "metadata": {
        "id": "J8ohE-6xSR8G"
      }
    },
    {
      "cell_type": "markdown",
      "source": [
        "\n",
        "0. Python 기본 문법\n",
        "1. 조건문 (if, else, elif)\n",
        "2. 반복문 (for, while)\n",
        "\n"
      ],
      "metadata": {
        "id": "oea71TsCSR8G"
      }
    },
    {
      "cell_type": "markdown",
      "source": [
        "## Python 기본 문법\n",
        "\n",
        "\n"
      ],
      "metadata": {
        "id": "IIhPBMtVSR8G"
      }
    },
    {
      "cell_type": "markdown",
      "source": [
        "### 비교 / 논리 연산자\n",
        "- Boolean 자료형을 반환\n",
        "    - x `<` y : x가 y보다 작다\n",
        "    - x `>` y : x가 y보다 크다\n",
        "    - x `==` y : x와 y가 같다\n",
        "    - x `!=` y : x와 y가 같지 않다\n",
        "    - x `>=` y : x가 y보다 크거나 같다\n",
        "    - x `<=` y : x가 y보다 작거나 같다\n",
        "    - x `or` y : x와 y 둘중에 하나만 참이어도 참이다\n",
        "    - x `and` y : x와 y 모두 참이어야 참이다\n",
        "    - `not` x : x가 거짓이면 참이다\n",
        "\n",
        "\n"
      ],
      "metadata": {
        "id": "V5s0vNW6SR8G"
      }
    },
    {
      "cell_type": "markdown",
      "source": [
        "### 문자열 연산\n"
      ],
      "metadata": {
        "id": "a2_KjdB3SR8H"
      }
    },
    {
      "cell_type": "code",
      "execution_count": null,
      "source": [
        "print(3 * 4)"
      ],
      "outputs": [],
      "metadata": {
        "id": "g6eOv2JoSR8H"
      }
    },
    {
      "cell_type": "code",
      "execution_count": null,
      "source": [
        "print('hi' * 4)"
      ],
      "outputs": [],
      "metadata": {
        "id": "IYhrudDdSR8I"
      }
    },
    {
      "cell_type": "markdown",
      "source": [
        "- 문자열에서는 곱하기 (multiplication)이 아니라 해당 횟수만큼 반복함을 의미합니다.\n",
        "\n"
      ],
      "metadata": {
        "id": "4n3R1wJySR8I"
      }
    },
    {
      "cell_type": "markdown",
      "source": [
        "### print()\n"
      ],
      "metadata": {
        "id": "K5yma0NISR8I"
      }
    },
    {
      "cell_type": "code",
      "execution_count": null,
      "source": [
        "print('hello')\r\n",
        "print('world')\r\n"
      ],
      "outputs": [],
      "metadata": {
        "id": "FOarCnVYSR8I"
      }
    },
    {
      "cell_type": "markdown",
      "source": [
        "\n",
        "- 기본으로 print문 마지막에 개행문자를 출력\n",
        "- 매개변수 `end`를 지정하여 변경 가능\n",
        "\n"
      ],
      "metadata": {
        "id": "AQ0W59ceSR8J"
      }
    },
    {
      "cell_type": "code",
      "execution_count": null,
      "source": [
        "print('hello', end='')\r\n",
        "print('world')\r\n",
        "print('hello', end='x')\r\n"
      ],
      "outputs": [],
      "metadata": {
        "id": "Xitb5l9HSR8J"
      }
    },
    {
      "cell_type": "markdown",
      "source": [
        "## 조건문\n",
        "\n",
        "\n"
      ],
      "metadata": {
        "id": "RHb3SzbaSR8J"
      }
    },
    {
      "cell_type": "markdown",
      "source": [
        "\n",
        "### `if` statement\n",
        "\n",
        "  - 프로그램의 일부분을 특정한 **condition**이 만족될 때만 실행되도록 함\n",
        "\n"
      ],
      "metadata": {
        "id": "Eiq2XOxlSR8J"
      }
    },
    {
      "cell_type": "markdown",
      "source": [
        "```\n",
        "if condition:\n",
        "    statement\n",
        "```"
      ],
      "metadata": {
        "id": "ANzMLsKFCaas"
      }
    },
    {
      "cell_type": "markdown",
      "source": [
        "- 위 코드에서 `condition`이 `True`면 `statement`들이 실행되고, `False`면 실행되지 않는다\n",
        "\n"
      ],
      "metadata": {
        "id": "qBVCG5hTSR8J"
      }
    },
    {
      "cell_type": "code",
      "execution_count": null,
      "source": [
        "a = input()\r\n",
        "if a == \"hello\":\r\n",
        "    print(\"Nice to meet you!!\")\r\n"
      ],
      "outputs": [],
      "metadata": {
        "id": "1pclDhxWSR8K"
      }
    },
    {
      "cell_type": "markdown",
      "source": [
        "- python에서는 ***indentation*** 이 매우 중요합니다.\n"
      ],
      "metadata": {
        "id": "CjBeciAPSR8K"
      }
    },
    {
      "cell_type": "markdown",
      "source": [
        "\n",
        "### `if`, `else` statement\n",
        "  - **condition**이 만족하는지 여부에 따라 서로 다른 statement를 실행\n",
        "\n"
      ],
      "metadata": {
        "id": "DDNzm2m3SR8K"
      }
    },
    {
      "cell_type": "markdown",
      "source": [
        "```\n",
        "if condition:\n",
        "    statement1\n",
        "else:\n",
        "    statement2\n",
        "```"
      ],
      "metadata": {
        "id": "K2uWmrFECk4M"
      }
    },
    {
      "cell_type": "markdown",
      "source": [
        "\n",
        "* `condition`이 `True`면 `statement1`, `False`면 `statement2`가 실행된다\n",
        "\n",
        "\n"
      ],
      "metadata": {
        "id": "g-w6Q491SR8K"
      }
    },
    {
      "cell_type": "markdown",
      "source": [
        "    \n",
        "\n",
        "### `if`, `else`, `elif` statement\n",
        "- `elif` : `else if`의 약자\n",
        "    - `if`문을 통과하지 못한 경우를 대상으로 다시 조건을 검사함\n",
        "\n"
      ],
      "metadata": {
        "id": "veB1k8q_SR8K"
      }
    },
    {
      "cell_type": "code",
      "execution_count": null,
      "source": [
        "a = input()\r\n",
        "if a == \"hello\":\r\n",
        "    print(\"Nice to meet you!!\")\r\n",
        "elif a == \"goodbye\":\r\n",
        "    print(\"See you again\")\r\n",
        "elif a == \"blablabla\":\r\n",
        "    print(\"??????\")\r\n",
        "else:\r\n",
        "    print(\"What??\")\r\n"
      ],
      "outputs": [],
      "metadata": {
        "id": "DXsbGPfbSR8L"
      }
    },
    {
      "cell_type": "markdown",
      "source": [
        "## 반복문\n",
        "\n",
        "\n",
        "\n"
      ],
      "metadata": {
        "id": "drEjvSHrSR8L"
      }
    },
    {
      "cell_type": "markdown",
      "source": [
        "\n",
        "### `while` statement\n",
        "  - **condition**의 결과가 `True`를 만족하는 동안 `statement`를 반복적으로 실행\n",
        "\n"
      ],
      "metadata": {
        "id": "i8T0FFYCSR8L"
      }
    },
    {
      "cell_type": "markdown",
      "source": [
        "```\n",
        "while condition:\n",
        "    statement\n",
        "```\n"
      ],
      "metadata": {
        "id": "E0l3qkt1SR8L"
      }
    },
    {
      "cell_type": "markdown",
      "source": [
        "```python3\n",
        "count = 0\n",
        "while count < 5:\n",
        "    print ('재미있는 파이썬', count) #실행하지 마세요\n",
        "```\n"
      ],
      "metadata": {
        "id": "qpOUQu9QSR8L"
      }
    },
    {
      "cell_type": "code",
      "execution_count": null,
      "source": [
        "count = 0\r\n",
        "while count < 5:\r\n",
        "    print ('재미있는 파이썬', count)\r\n",
        "    count = count + 1\r\n"
      ],
      "outputs": [],
      "metadata": {
        "id": "wEnGwGM3SR8L"
      }
    },
    {
      "cell_type": "markdown",
      "source": [
        "\n",
        "\n",
        "### `while` statement\n",
        "   - 반복문을 빠져 나오기 위해 `break` 를 사용\n",
        "\n",
        "\n",
        "\n"
      ],
      "metadata": {
        "id": "e8h1BoPsSR8M"
      }
    },
    {
      "cell_type": "code",
      "execution_count": null,
      "source": [
        "count = 0\r\n",
        "while count < 5:\r\n",
        "    print ('재미있는 파이썬', count)\r\n",
        "    count = count + 1\r\n"
      ],
      "outputs": [],
      "metadata": {
        "id": "PavsxGNkSR8M"
      }
    },
    {
      "cell_type": "code",
      "execution_count": null,
      "source": [
        "count = 0\r\n",
        "while True:\r\n",
        "    if count >= 5:\r\n",
        "        break\r\n",
        "    print ('재미있는 파이썬', count)\r\n",
        "    count = count + 1\r\n"
      ],
      "outputs": [],
      "metadata": {
        "id": "WPQzmrLbSR8M"
      }
    },
    {
      "cell_type": "markdown",
      "source": [
        "\n",
        "### `for` statement\n",
        "   - list, tuple, string의 각 요소들이 순서대로 변수에 대입하여 statement를 반복함\n",
        "      - `[0, 1, 2, 3, 4]`\n",
        "      - `\"01234\"`\n",
        "      - `range(0, 5)`\n",
        "     \n",
        "     \n",
        "     \n",
        "\n"
      ],
      "metadata": {
        "id": "y2ewFjgMSR8M"
      }
    },
    {
      "cell_type": "code",
      "execution_count": null,
      "source": [
        "for count in [0, 1, 2, 3, 4]:\r\n",
        "    print ('재미있는 파이썬', count)\r\n"
      ],
      "outputs": [],
      "metadata": {
        "id": "NOelg0FjSR8M"
      }
    },
    {
      "cell_type": "code",
      "execution_count": null,
      "source": [
        "for count in '01234':\r\n",
        "    print ('재미있는 파이썬', count)\r\n"
      ],
      "outputs": [],
      "metadata": {
        "id": "d6uU4lg2SR8M"
      }
    },
    {
      "cell_type": "code",
      "execution_count": null,
      "source": [
        "for count in (0, 1, 2, 3, 4):\r\n",
        "    print ('재미있는 파이썬', count)\r\n"
      ],
      "outputs": [],
      "metadata": {
        "id": "a3ep5d9rSR8N"
      }
    },
    {
      "cell_type": "code",
      "execution_count": null,
      "source": [
        "for count in range(5):\r\n",
        "    print ('재미있는 파이썬', count)\r\n"
      ],
      "outputs": [],
      "metadata": {
        "id": "D2eSMPnYSR8N"
      }
    },
    {
      "cell_type": "markdown",
      "source": [
        "\n",
        "### `range` function\n",
        "\n",
        "- 숫자 리스트를 만들어주는 함수\n",
        "\n"
      ],
      "metadata": {
        "id": "zt_9PtZKSR8N"
      }
    },
    {
      "cell_type": "code",
      "execution_count": null,
      "source": [
        "class range(stop)\r\n",
        "class range(start, stop)\r\n",
        "class range(start, stop, step)\r\n"
      ],
      "outputs": [],
      "metadata": {
        "id": "vOzxckgPSR8N"
      }
    },
    {
      "cell_type": "code",
      "execution_count": null,
      "source": [
        "for num in range (5):\r\n",
        "    print(num)\r\n",
        "\r\n",
        "for num in range (10, 20):\r\n",
        "    print(num)\r\n",
        "\r\n",
        "for num in range (10, 20, 2):\r\n",
        "    print(num)\r\n",
        "\r\n"
      ],
      "outputs": [],
      "metadata": {
        "id": "wjMkLtyoSR8N"
      }
    },
    {
      "cell_type": "code",
      "execution_count": null,
      "source": [
        "for i in range(1, 10):\r\n",
        "    print(i)"
      ],
      "outputs": [],
      "metadata": {
        "id": "sN9ud0Y3SR8O"
      }
    },
    {
      "cell_type": "code",
      "execution_count": null,
      "source": [
        "for i in range (1, 10, 3):\r\n",
        "    print(i)"
      ],
      "outputs": [],
      "metadata": {
        "id": "inwU7KhFSR8O"
      }
    },
    {
      "cell_type": "markdown",
      "source": [
        "#### 예제) 1부터 20까지 더하기\r\n",
        "- `while`문 활용\r\n",
        "\r\n"
      ],
      "metadata": {
        "id": "kUd4jJVFSR8O"
      }
    },
    {
      "cell_type": "code",
      "execution_count": null,
      "source": [
        "result = 0\r\n",
        "i = 1\r\n",
        "while i <= 20:\r\n",
        "      result += i\r\n",
        "      i += 1\r\n",
        "\r\n",
        "print(result)"
      ],
      "outputs": [],
      "metadata": {
        "id": "Qly_YwfUC-9e"
      }
    },
    {
      "cell_type": "code",
      "execution_count": null,
      "source": [
        "result = 0\r\n",
        "i = 1\r\n",
        "while True:\r\n",
        "    if i > 20:\r\n",
        "        break\r\n",
        "    result += i\r\n",
        "    i += 1\r\n",
        "print(result)"
      ],
      "outputs": [],
      "metadata": {
        "id": "g7kL0OnaSR8O"
      }
    },
    {
      "cell_type": "markdown",
      "source": [
        "\n",
        " - `for`문 활용\n",
        " \n"
      ],
      "metadata": {
        "id": "XJ0Pe88_SR8O"
      }
    },
    {
      "cell_type": "code",
      "execution_count": null,
      "source": [
        "result = 0\r\n",
        "for i in range(20):\r\n",
        "    result += (i+1)\r\n",
        "print(result)"
      ],
      "outputs": [],
      "metadata": {
        "id": "U4RM8BV3SR8O"
      }
    },
    {
      "cell_type": "markdown",
      "source": [
        "\n",
        "\n",
        "- `+=` 연산자\n",
        "\n"
      ],
      "metadata": {
        "id": "aTs84jY8SR8P"
      }
    },
    {
      "cell_type": "markdown",
      "source": [
        "```\n",
        "i = i + 1\n",
        "i += 1\n",
        "```"
      ],
      "metadata": {
        "id": "3xWZOxA1C7Oj"
      }
    },
    {
      "cell_type": "markdown",
      "source": [
        "## 오늘의 실습\r\n",
        "\r\n",
        "\r\n"
      ],
      "metadata": {
        "id": "bCFrUa7vSR8P"
      }
    },
    {
      "cell_type": "markdown",
      "source": [
        "\r\n",
        "#### 연습문제\r\n",
        "- 자연수 `n` 이 주어지면, `n`줄에 걸처 별이 하나씩 증가하도록 계단식으로 출력해봅시다.\r\n",
        "\r\n",
        "\r\n",
        "\r\n",
        " ##### Input Example #1\r\n"
      ],
      "metadata": {
        "id": "JjDfch4PSR8P"
      }
    },
    {
      "cell_type": "markdown",
      "source": [
        "`2`"
      ],
      "metadata": {
        "id": "ZHJSlT0qDRFF"
      }
    },
    {
      "cell_type": "markdown",
      "source": [
        " ##### Output Example #1\n",
        "\n",
        "```js\n",
        "*\n",
        "**\n",
        "```\n",
        "\n",
        "\n",
        " ##### Input Example #2\n",
        " \n"
      ],
      "metadata": {
        "id": "ZOdf-C1kSR8P"
      }
    },
    {
      "cell_type": "markdown",
      "source": [
        "`5`"
      ],
      "metadata": {
        "id": "Q0uJ5xGvDO1j"
      }
    },
    {
      "cell_type": "markdown",
      "source": [
        "    \n",
        " ##### Output Example #2\n",
        " \n",
        "```js\n",
        "*\n",
        "**\n",
        "***\n",
        "****\n",
        "*****\n",
        "```\n",
        "\n",
        "\n",
        " ##### Input Example #3\n",
        " \n"
      ],
      "metadata": {
        "id": "vY2J-1s0SR8Q"
      }
    },
    {
      "cell_type": "markdown",
      "source": [
        "`7`"
      ],
      "metadata": {
        "id": "UywkX_y6DLzF"
      }
    },
    {
      "cell_type": "markdown",
      "source": [
        "    \n",
        " ##### Output Example #3\n",
        "\n",
        "```python\n",
        "*\n",
        "**\n",
        "***\n",
        "****\n",
        "*****\n",
        "******\n",
        "*******\n",
        "```\n",
        "\n",
        "\n",
        "\n"
      ],
      "metadata": {
        "id": "xeQimap-SR8Q"
      }
    },
    {
      "cell_type": "markdown",
      "source": [
        "#### 연습문제 제출 답안"
      ],
      "metadata": {}
    },
    {
      "cell_type": "code",
      "execution_count": 1,
      "source": [
        "n = int(input())\r\n",
        "for i in range(1, n+1):\r\n",
        "    for j in range(i):\r\n",
        "        print(\"*\", end = \"\")\r\n",
        "    print(\"\")"
      ],
      "outputs": [
        {
          "output_type": "stream",
          "name": "stdout",
          "text": [
            "*\n",
            "**\n",
            "***\n",
            "****\n"
          ]
        }
      ],
      "metadata": {}
    },
    {
      "cell_type": "markdown",
      "source": [
        "\n",
        "#### 실습문제 #1\n",
        "- 자연수 `n` 이 주어지면, `n`이하의 모든 자연수 중에서 2의 배수이거나 5의 배수이지만 10의 배수가 아닌 수들의 합을 구해보세요.\n",
        "\n",
        "**입출력 예시**\n",
        "\n",
        " ##### Input Example #1\n",
        " \n"
      ],
      "metadata": {
        "id": "vgJStfkfSR8Q"
      }
    },
    {
      "cell_type": "markdown",
      "source": [
        "`10`"
      ],
      "metadata": {
        "id": "XjFYQ-BKDTLP"
      }
    },
    {
      "cell_type": "markdown",
      "source": [
        " \n",
        " ##### Output Example #1\n",
        " \n"
      ],
      "metadata": {
        "id": "D7zwqvRISR8Q"
      }
    },
    {
      "cell_type": "code",
      "execution_count": null,
      "source": [
        "25 "
      ],
      "outputs": [],
      "metadata": {
        "id": "jcuNILdMSR8R"
      }
    },
    {
      "cell_type": "markdown",
      "source": [
        "\n",
        " ##### Input Example #2\n",
        " \n"
      ],
      "metadata": {
        "id": "RhLVBqe5SR8R"
      }
    },
    {
      "cell_type": "markdown",
      "source": [
        "`30`"
      ],
      "metadata": {
        "id": "7s6Djt2YDVa-"
      }
    },
    {
      "cell_type": "markdown",
      "source": [
        " \n",
        " ##### Output Example #2\n",
        " \n"
      ],
      "metadata": {
        "id": "HSea_YlsSR8R"
      }
    },
    {
      "cell_type": "code",
      "execution_count": null,
      "source": [
        "225"
      ],
      "outputs": [],
      "metadata": {
        "id": "xg3kQCnbSR8R"
      }
    },
    {
      "cell_type": "markdown",
      "source": [
        "\n",
        " ##### Input Example #3\n",
        " \n"
      ],
      "metadata": {
        "id": "TYX6xZ7LSR8R"
      }
    },
    {
      "cell_type": "markdown",
      "source": [
        "`100`"
      ],
      "metadata": {
        "id": "qyY9zMOADXep"
      }
    },
    {
      "cell_type": "markdown",
      "source": [
        " \n",
        " ##### Output Example #3\n",
        " \n"
      ],
      "metadata": {
        "id": "bWN26-VqSR8R"
      }
    },
    {
      "cell_type": "code",
      "execution_count": null,
      "source": [
        "2500"
      ],
      "outputs": [],
      "metadata": {
        "id": "29RDyxGBSR8S"
      }
    },
    {
      "cell_type": "markdown",
      "source": [
        "#### 실습문제 1 제출 답안"
      ],
      "metadata": {}
    },
    {
      "cell_type": "code",
      "execution_count": 5,
      "source": [
        "ans = 0\r\n",
        "n = int(input())\r\n",
        "for i in range(1, n+1):\r\n",
        "    if(i % 10 == 0):\r\n",
        "        continue\r\n",
        "    elif(i % 2 == 0 or i % 5 == 0):\r\n",
        "        ans += i\r\n",
        "print(ans)"
      ],
      "outputs": [
        {
          "output_type": "stream",
          "name": "stdout",
          "text": [
            "225\n"
          ]
        }
      ],
      "metadata": {}
    },
    {
      "cell_type": "markdown",
      "source": [
        "\n",
        "#### 실습문제 #2\n",
        "- 학점을 계산해봅시다. 중간, 기말, 과제, 프로젝트 성적 4가지를 입력값으로 받습니다. \n",
        "- 4가지 항목의 평균이 90점 이상인 경우 A, 80점 이상인 경우 B, 60점 이상인 경우 C학점이 나옵니다. 그 이하의 경우 D학점이 부여됩니다. \n",
        "- 다만, 4가지 항목 중 하나라도 30점 이하인 항목이 있을 경우 F학점이 부여됩니다.\n",
        "\n",
        "\n",
        "**입출력 예시**\n",
        "\n",
        " ##### Input Example #1\n",
        " \n"
      ],
      "metadata": {
        "id": "DcSgNeZPSR8S"
      }
    },
    {
      "cell_type": "code",
      "execution_count": null,
      "source": [
        "95\r\n",
        "85\r\n",
        "100\r\n",
        "90"
      ],
      "outputs": [],
      "metadata": {
        "id": "XduS1jJbSR8S"
      }
    },
    {
      "cell_type": "markdown",
      "source": [
        "  ##### Output Example #1\n",
        " \n"
      ],
      "metadata": {
        "id": "56GnUXopSR8S"
      }
    },
    {
      "cell_type": "code",
      "execution_count": null,
      "source": [
        "A"
      ],
      "outputs": [],
      "metadata": {
        "id": "39pl_PfRSR8S"
      }
    },
    {
      "cell_type": "markdown",
      "source": [
        "\n",
        " ##### Input Example #2\n",
        " \n"
      ],
      "metadata": {
        "id": "UzSJ_pUhSR8S"
      }
    },
    {
      "cell_type": "code",
      "execution_count": null,
      "source": [
        "85\r\n",
        "70\r\n",
        "100\r\n",
        "91"
      ],
      "outputs": [],
      "metadata": {
        "id": "jJis_sghSR8T"
      }
    },
    {
      "cell_type": "markdown",
      "source": [
        " ##### Output Example #2"
      ],
      "metadata": {
        "id": "sCxzSWFDSR8T"
      }
    },
    {
      "cell_type": "code",
      "execution_count": null,
      "source": [
        "B"
      ],
      "outputs": [],
      "metadata": {
        "id": "sPByGEEISR8T"
      }
    },
    {
      "cell_type": "markdown",
      "source": [
        "\n",
        " ##### Input Example #3\n",
        " \n"
      ],
      "metadata": {
        "id": "XxPmlGObSR8T"
      }
    },
    {
      "cell_type": "code",
      "execution_count": null,
      "source": [
        "90\r\n",
        "80\r\n",
        "20\r\n",
        "50"
      ],
      "outputs": [],
      "metadata": {
        "id": "y236TkPJSR8T"
      }
    },
    {
      "cell_type": "markdown",
      "source": [
        " \n",
        " ##### Output Example #3\n",
        " \n"
      ],
      "metadata": {
        "id": "uqxKBioYSR8T"
      }
    },
    {
      "cell_type": "code",
      "execution_count": null,
      "source": [
        "F"
      ],
      "outputs": [],
      "metadata": {
        "id": "EPtqA_YmSR8T"
      }
    },
    {
      "cell_type": "markdown",
      "source": [
        "#### 실습문제 2 제출 답안"
      ],
      "metadata": {}
    },
    {
      "cell_type": "code",
      "execution_count": 6,
      "source": [
        "a = int(input())\r\n",
        "b = int(input())\r\n",
        "c = int(input())\r\n",
        "d = int(input())\r\n",
        "sum = a + b + c + d\r\n",
        "if(a <= 30 or b <= 30 or c <= 30 or d <= 30): \r\n",
        "    print(\"F\")\r\n",
        "elif(sum >= 360):\r\n",
        "    print(\"A\")\r\n",
        "elif(sum >= 320):\r\n",
        "    print(\"B\")\r\n",
        "elif(sum >= 240):\r\n",
        "    print(\"C\")\r\n",
        "else:\r\n",
        "    print(\"D\")"
      ],
      "outputs": [
        {
          "output_type": "stream",
          "name": "stdout",
          "text": [
            "A\n"
          ]
        }
      ],
      "metadata": {}
    },
    {
      "cell_type": "markdown",
      "source": [
        "\n",
        "#### 실습문제 #3\n",
        "\n",
        "- 자연수 `n` 이 주어지면, `n`줄에 걸처 별이 하나씩 증가하도록 출력해봅시다.\n",
        "- 단 별은 오른쪽 정렬되어있어야 합니다.\n",
        "\n",
        "**입출력 예시**\n",
        "\n",
        "\n",
        " ##### Input Example #1\n"
      ],
      "metadata": {
        "id": "twM2PtOPSR8T"
      }
    },
    {
      "cell_type": "code",
      "execution_count": null,
      "source": [
        "2"
      ],
      "outputs": [],
      "metadata": {
        "id": "m6bb6W8SSR8U"
      }
    },
    {
      "cell_type": "markdown",
      "source": [
        " ##### Output Example #1\n",
        "\n",
        "```js\n",
        " *\n",
        "**\n",
        "```\n",
        "\n",
        "\n",
        " ##### Input Example #2\n",
        " \n"
      ],
      "metadata": {
        "id": "90rwMI9ESR8U"
      }
    },
    {
      "cell_type": "code",
      "execution_count": null,
      "source": [
        "5"
      ],
      "outputs": [],
      "metadata": {
        "id": "7kIqkQW7SR8U"
      }
    },
    {
      "cell_type": "markdown",
      "source": [
        "    \n",
        " ##### Output Example #2\n",
        "```js\n",
        "    *\n",
        "   **\n",
        "  ***\n",
        " ****\n",
        "*****\n",
        "```\n",
        "\n",
        "\n",
        " ##### Input Example #2\n",
        " \n"
      ],
      "metadata": {
        "id": "ojF9Hul8SR8U"
      }
    },
    {
      "cell_type": "code",
      "execution_count": null,
      "source": [
        "7"
      ],
      "outputs": [],
      "metadata": {
        "id": "kufFwUVLSR8U"
      }
    },
    {
      "cell_type": "markdown",
      "source": [
        "    \n",
        " ##### Output Example #2\n",
        "```js\n",
        "      *\n",
        "     **\n",
        "    ***\n",
        "   ****\n",
        "  *****\n",
        " ******\n",
        "*******\n",
        "```\n",
        "\n",
        "\n",
        "\n",
        "\n",
        "\n",
        "\n"
      ],
      "metadata": {
        "id": "Ev2EMlIrSR8U"
      }
    },
    {
      "cell_type": "markdown",
      "source": [
        "#### 실습문제 3 제출 답안"
      ],
      "metadata": {}
    },
    {
      "cell_type": "code",
      "execution_count": 8,
      "source": [
        "n = int(input())\r\n",
        "for i in range(n):\r\n",
        "    for j in range(n-i-1):\r\n",
        "        print(\" \", end = \"\")\r\n",
        "    for j in range(i+1):\r\n",
        "        print(\"*\", end = \"\")\r\n",
        "    print(\"\")"
      ],
      "outputs": [
        {
          "output_type": "stream",
          "name": "stdout",
          "text": [
            "      *\n",
            "     **\n",
            "    ***\n",
            "   ****\n",
            "  *****\n",
            " ******\n",
            "*******\n"
          ]
        }
      ],
      "metadata": {}
    }
  ]
}