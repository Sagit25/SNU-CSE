{
  "nbformat": 4,
  "nbformat_minor": 0,
  "metadata": {
    "colab": {
      "name": "roate90.ipynb",
      "provenance": [],
      "collapsed_sections": []
    },
    "kernelspec": {
      "name": "python3",
      "display_name": "Python 3"
    },
    "language_info": {
      "name": "python"
    }
  },
  "cells": [
    {
      "cell_type": "code",
      "metadata": {
        "colab": {
          "base_uri": "https://localhost:8080/"
        },
        "id": "980Ca3lJoH9G",
        "outputId": "f141cb2d-4e6b-4bc2-d739-a4b722960fdf"
      },
      "source": [
        "# original matrix\n",
        "A = [\n",
        "     [1,2,3],\n",
        "     [4,5,6],\n",
        "     [7,8,9]\n",
        "]\n",
        "print('original matrix:',A)\n",
        "\n",
        "# rotate 90\n",
        "print('rotated matrix:',[list(row) for row in zip(*A[::-1])])"
      ],
      "execution_count": 3,
      "outputs": [
        {
          "output_type": "stream",
          "name": "stdout",
          "text": [
            "original matrix: [[1, 2, 3], [4, 5, 6], [7, 8, 9]]\n",
            "rotated matrix: [[7, 4, 1], [8, 5, 2], [9, 6, 3]]\n"
          ]
        }
      ]
    }
  ]
}