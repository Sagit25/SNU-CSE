{
  "nbformat": 4,
  "nbformat_minor": 0,
  "metadata": {
    "kernelspec": {
      "display_name": "Python 3 (ipykernel)",
      "language": "python",
      "name": "python3"
    },
    "language_info": {
      "codemirror_mode": {
        "name": "ipython",
        "version": 3
      },
      "file_extension": ".py",
      "mimetype": "text/x-python",
      "name": "python",
      "nbconvert_exporter": "python",
      "pygments_lexer": "ipython3",
      "version": "3.8.10"
    },
    "colab": {
      "name": "practice-6.ipynb",
      "provenance": [],
      "collapsed_sections": []
    }
  },
  "cells": [
    {
      "cell_type": "markdown",
      "metadata": {
        "id": "Eb4kDIMkCAxL"
      },
      "source": [
        "\n",
        "#### 035.001.008 컴퓨터의 개념 및 실습\n",
        "\n"
      ]
    },
    {
      "cell_type": "markdown",
      "metadata": {
        "id": "681Y3aS2CAxS"
      },
      "source": [
        "\n",
        "\n",
        "# Practice Session #6\n",
        "\n"
      ]
    },
    {
      "cell_type": "markdown",
      "metadata": {
        "id": "6JDxxeOPCAxS"
      },
      "source": [
        "\n",
        "\n",
        "\n",
        "## Review : Structured Types in Python\n",
        "\n",
        "\n"
      ]
    },
    {
      "cell_type": "markdown",
      "metadata": {
        "id": "BbQcTNKfCAxT"
      },
      "source": [
        "\n",
        "- [practice-2](http://dccp.hcil.snu.ac.kr:8888/practice-2) 에서 배웠던 다양한 structured types를 복습해봅시다.\n",
        "\n"
      ]
    },
    {
      "cell_type": "code",
      "metadata": {
        "id": "YSRxUNWuCAxU"
      },
      "source": [
        "dccp_lecture_info = {\n",
        "    'COURSE_NAME' : 'Digital Computer Concept and Practice', # String\n",
        "    'CREDIT_INFO' : (3,2,2), # Tuple : '총학점-이론-실습'\n",
        "    'LECTURE_PLANS' : ['Introduction','Data Types, Input, Output',\n",
        "                       'Dceision Structures and Repetition Structuress'], # list\n",
        "    'ALTERNATIVE_SUBJECTS' : {'DCCP','Principles of Computer Science'} # set\n",
        "} # dictionary\n",
        "\n",
        "print('dccp_lecture_info 는', type(dccp_lecture_info))\n",
        "for key in dccp_lecture_info:\n",
        "  print(key,':',type(dccp_lecture_info[key]))\n",
        "\n",
        "print('우리가 듣고 있는 수업은 ' + dccp_lecture_info['COURSE_NAME'])\n",
        "print('총 학점 수는 ' + str(dccp_lecture_info['CREDIT_INFO'][0]) +'학점')\n",
        "print('3주차 강의 내용은 ' + dccp_lecture_info['LECTURE_PLANS'][3-1])\n",
        "print('대체 수강 인정 과목은',dccp_lecture_info['ALTERNATIVE_SUBJECTS'])\n"
      ],
      "execution_count": null,
      "outputs": []
    },
    {
      "cell_type": "markdown",
      "metadata": {
        "id": "zRqa0PrJCAxX"
      },
      "source": [
        "\n",
        "\n",
        "## Packing/Unpacking : Basic\n",
        "\n",
        "\n"
      ]
    },
    {
      "cell_type": "markdown",
      "metadata": {
        "id": "OUs5IrVHCAxX"
      },
      "source": [
        "\n",
        "- \"packing\" a tuple : tuple object를 생성\n",
        "- \"unpacking\" a tuple (multiple assignments) : extract the values back into variables\n",
        "\n"
      ]
    },
    {
      "cell_type": "code",
      "metadata": {
        "id": "VdVhfmFXCAxY"
      },
      "source": [
        "coordinates = (10,5) #packing\n",
        "print('packed: ',coordinates)\n",
        "\n",
        "x,y = coordinates # unpacking\n",
        "print('unpacked: ',x,y)\n",
        "\n",
        "x,y = y,x #packing & unpacking\n",
        "print('packed and unpacked: ', x,y)\n"
      ],
      "execution_count": null,
      "outputs": []
    },
    {
      "cell_type": "markdown",
      "metadata": {
        "id": "FuDIeI4iCAxY"
      },
      "source": [
        "\n",
        "- 함수들 중에는 여러 objects를 tuple로 packing하여 리턴하기도 합니다.(ex.[divmod](https://www.w3schools.com/python/ref_func_divmod.asp))\n",
        "\n"
      ]
    },
    {
      "cell_type": "code",
      "metadata": {
        "id": "gXWkAKNhCAxY"
      },
      "source": [
        "dividend, divisor = input('dividend & divisor:').split() # list unpacking\n",
        "quotient, remainder = divmod(int(dividend),int(divisor)) # packing & unpacking\n",
        "print(divmod(int(dividend),int(divisor)), quotient, remainder)\n"
      ],
      "execution_count": null,
      "outputs": []
    },
    {
      "cell_type": "markdown",
      "metadata": {
        "id": "dHrX4fi7CAxZ"
      },
      "source": [
        "\n",
        "\n",
        "## Packing/Unpacking : Asterisk `*`\n",
        "\n",
        "\n"
      ]
    },
    {
      "cell_type": "markdown",
      "metadata": {
        "id": "P8hi2oTgCAxZ"
      },
      "source": [
        "\n",
        "- `*`를 활용하면 여러 values를 하나의 변수에 list의 형태로 assign 할 수 있습니다.\n",
        "\n"
      ]
    },
    {
      "cell_type": "code",
      "metadata": {
        "id": "OquSFxnLCAxZ",
        "colab": {
          "base_uri": "https://localhost:8080/"
        },
        "outputId": "7ad90b32-9b7e-46f7-f0b2-ea03b7bd9826"
      },
      "source": [
        "fruits = (\"apple\", \"banana\", \"cherry\", \"strawberry\", \"raspberry\")\n",
        "(green, yellow, *red) = fruits\n",
        "print(green,yellow,red)\n"
      ],
      "execution_count": null,
      "outputs": [
        {
          "output_type": "stream",
          "name": "stdout",
          "text": [
            "apple banana ['cherry', 'strawberry', 'raspberry']\n"
          ]
        }
      ]
    },
    {
      "cell_type": "markdown",
      "metadata": {
        "id": "F_wuwzFjCAxZ"
      },
      "source": [
        "\n",
        "- `*`가 마지막 변수에 추가되지 않더라도 파이썬은 할당 해야할 남은 변수의 수와 values 수가 일치할 때까지 packing하여 해당 변수에 list로 할당합니다.\n",
        "\n"
      ]
    },
    {
      "cell_type": "code",
      "metadata": {
        "id": "iTpfNyoICAxa"
      },
      "source": [
        "fruits = (\"apple\", \"mango\", \"papaya\", \"pineapple\", \"cherry\")\n",
        "(green, *tropic, red) = fruits\n",
        "print(green, tropic, red)\n",
        "print(*tropic) #unpacking\n"
      ],
      "execution_count": null,
      "outputs": []
    },
    {
      "cell_type": "markdown",
      "metadata": {
        "id": "5tWMYqmlCAxa"
      },
      "source": [
        "\n",
        "\n",
        "\n",
        "## Packing/Unpacking : `enumerate()`\n",
        "\n",
        "\n"
      ]
    },
    {
      "cell_type": "markdown",
      "metadata": {
        "id": "oz1xYAjbCAxa"
      },
      "source": [
        "- `enumerate()`함수를 이용하면 **iterable object**를 입력으로 받아 **current iteration, value**로 unpacking 하여 반복문에서 활용할 수 있습니다.\n",
        "\n"
      ]
    },
    {
      "cell_type": "code",
      "metadata": {
        "id": "iZtH30vCCAxb"
      },
      "source": [
        "my_str = 'hello'\n",
        "\n",
        "for idx,char in enumerate(my_str):\n",
        "    print(idx,'번째 문자:',char)\n"
      ],
      "execution_count": null,
      "outputs": []
    },
    {
      "cell_type": "markdown",
      "metadata": {
        "id": "l9ayjJUJCAxb"
      },
      "source": [
        "\n",
        "## Packing/Unpacking : `zip()`\n",
        "\n",
        "\n"
      ]
    },
    {
      "cell_type": "markdown",
      "metadata": {
        "id": "Dmy-iUilCAxb"
      },
      "source": [
        "\n",
        "- `zip()` 함수를 활용하면 두 개 이상의 list들을 쉽게 결합하고 해체할 수 있습니다.\n",
        "- `zip()` 함수는 여러 개의 순회가능한(iterable)객체를 인자로 받아 각 객체가 담고 있는 원소를 튜플의 형태로, 차례로 접근할 수 있는 반복자(iterator)를 반환합니다.\n",
        "\n"
      ]
    },
    {
      "cell_type": "code",
      "metadata": {
        "id": "fl7TEbH6CAxc"
      },
      "source": [
        "kor = ['안녕', '고마워', '잘자']\n",
        "eng = ['Hello', 'Thanks', 'Good night']\n",
        "frn = ['Bonjour', 'Merci', 'Bonne nuit']\n",
        "\n",
        "for lang_tuple in zip(kor,eng,frn):\n",
        "    print(lang_tuple)\n",
        "\n",
        "for i in range(len(kor)):\n",
        "    print((kor[i],eng[i],frn[i])) # same as above\n",
        "\n",
        "pairs = list(zip(kor,eng,frn))\n",
        "print(pairs)\n",
        "kors, engs, frns = zip(*pairs) #unzip\n",
        "print(kors, engs, frns)\n"
      ],
      "execution_count": null,
      "outputs": []
    },
    {
      "cell_type": "markdown",
      "metadata": {
        "id": "ku-Z9pBhCAxc"
      },
      "source": [
        "\n",
        "- `zip()` 함수를 이용하면 두 개의 리스트나 튜플로부터 쉽게 `dictionary`를 만들 수 있습니다.\n",
        "\n"
      ]
    },
    {
      "cell_type": "code",
      "metadata": {
        "id": "t67riTq2CAxc"
      },
      "source": [
        "product = ['짜파게티','불닭볶음면','진라면','괄도네넴띤']\n",
        "company = ['NS','SY','ODG','PD']\n",
        "ramen_info = dict(zip(product,company))\n",
        "print(ramen_info)\n",
        "\n",
        "for key in ramen_info: # another method to obtain keys of dictionary\n",
        "    print(key)\n",
        "\n",
        "hot_items = ['짜파게티','불닭볶음면','참깨라면','진짬뽕']\n",
        "\n",
        "# key check method: `not in`\n",
        "for item in hot_items:\n",
        "    print(item,'is','not'*(item not in ramen_info),'hot_ramen.')\n"
      ],
      "execution_count": null,
      "outputs": []
    },
    {
      "cell_type": "markdown",
      "metadata": {
        "id": "4OxREQ-1CAxd"
      },
      "source": [
        "\n",
        "\n",
        "## nested list\n",
        "\n",
        "\n"
      ]
    },
    {
      "cell_type": "markdown",
      "metadata": {
        "id": "1QQs3DukCAxd"
      },
      "source": [
        "- `list`의 원소로 `list`를 사용한 **nested list** 도 가능합니다.\n",
        "\n"
      ]
    },
    {
      "cell_type": "code",
      "metadata": {
        "id": "b26Jru_eCAxd"
      },
      "source": [
        "matrix = [[0,1,2],[3,4,5],[6,7,8]]\n",
        "print('nested list:',matrix)\n",
        "print('*** 3 x 3 matrix ***')\n",
        "for row in matrix:\n",
        "    print(row)\n",
        "\n",
        "print('*** diagonals ***')\n",
        "for i in range(len(matrix)):\n",
        "    print(matrix[i][i])\n",
        "\n",
        "print('*** anti-diagonals ***')\n",
        "for i,row in enumerate(matrix):\n",
        "    print(row[-1-i])\n",
        "\n",
        "print('*** Lower Triangular ***')\n",
        "for i,row in enumerate(matrix):\n",
        "    print(*row[:i+1])\n"
      ],
      "execution_count": null,
      "outputs": []
    },
    {
      "cell_type": "markdown",
      "metadata": {
        "id": "WjeTO5LuCAxe"
      },
      "source": [
        "\n",
        "### list comprehension\n",
        "\n",
        "- **list comprehension syntax**를 활용하면 비교적 짧은 코드로 기존에 있던 `iterable` **object**로 부터 새로운  `list`를 생성할 수 있습니다. (아래 두 문법은 동일하게 작동합니다.)\n",
        "\n",
        "```python\n",
        "new_list = [ expression for item in iterable if condition] # condition 생략 가능\n",
        "```\n",
        "\n",
        "```python\n",
        "new_list = []\n",
        "for item in iterable:\n",
        "  if condition:\n",
        "    new_list.append(`expression`)\n",
        "```\n",
        "\n"
      ]
    },
    {
      "cell_type": "markdown",
      "metadata": {
        "id": "zVeCsyHuCAxf"
      },
      "source": [
        "```python\n",
        "new_list = [ expression for item in iterable if condition] # condition 생략 가능\n",
        "```"
      ]
    },
    {
      "cell_type": "markdown",
      "metadata": {
        "id": "nMPKB0T2CAxf"
      },
      "source": [
        "```python\n",
        "new_list = []\n",
        "for item in iterable:\n",
        "  if condition:\n",
        "    new_list.append(`expression`)\n",
        "```"
      ]
    },
    {
      "cell_type": "code",
      "metadata": {
        "id": "K3vSf9RCCAxf"
      },
      "source": [
        "my_evens = list(range(2,41,2))\n",
        "print(my_evens)\n",
        "my_odds = [ even_num+1 for even_num in my_evens]\n",
        "print(my_odds)\n",
        "multiple_three = [ num for num in set(my_odds) if not num%3 ]\n",
        "print(multiple_three)"
      ],
      "execution_count": null,
      "outputs": []
    },
    {
      "cell_type": "markdown",
      "metadata": {
        "id": "WMH5-HEtCAxf"
      },
      "source": [
        "\n",
        "### list comprehension\n",
        "\n",
        "- `if-else`문도 함께 활용할 수 있습니다. (아래 두 문법은 동일하게 작동합니다.)\n"
      ]
    },
    {
      "cell_type": "markdown",
      "metadata": {
        "id": "DeBGPmGiCAxg"
      },
      "source": [
        "```python\n",
        "new_list = [ expression1 if condition else expression2 for item in iterable ]\n",
        "```"
      ]
    },
    {
      "cell_type": "markdown",
      "metadata": {
        "tags": [],
        "id": "tAfWE08zCAxg"
      },
      "source": [
        "```python\n",
        "new_list = []\n",
        "for item in iterable:\n",
        "  if condition:\n",
        "    new_list.append(expression1)\n",
        "  else:\n",
        "    new_list.append(expression2)\n",
        "```"
      ]
    },
    {
      "cell_type": "code",
      "metadata": {
        "id": "jby3owKqCAxg"
      },
      "source": [
        "print([input().lower() if i%2 else input().upper() for i in range(5)])"
      ],
      "execution_count": null,
      "outputs": []
    },
    {
      "cell_type": "markdown",
      "metadata": {
        "id": "JyZVCsV-CAxg"
      },
      "source": [
        "\n",
        "### list comprehension\n",
        "\n",
        "- `zip`, `enumerate` 등 과도 쓸 수 있습니다.\n",
        "\n"
      ]
    },
    {
      "cell_type": "code",
      "metadata": {
        "id": "0ZjgkmLSCAxg"
      },
      "source": [
        "# 떠오르는 대로 형용사, 명사, 동사를 입력하여 재밌는 문장들을 만들어 봅시다:)\n",
        "\n",
        "itr = 3\n",
        "adjs = [input(str(i) + '번째 형용사 입력:') for i in range(itr)]\n",
        "nouns = [input(str(i) + '번째 명사 입력:') for i in range(itr)]\n",
        "verbs = [input(str(i) + '번째 동사 입력:') for i in range(itr)]\n",
        "sentences = [ str(idx) + '. ' + adj +' '+ noun + '(이)가 ' + verb\n",
        "             for idx, (adj, noun, verb) in enumerate(zip(adjs, nouns, verbs))]\n",
        "\n",
        "for sentence in sentences:\n",
        "    print(sentence)\n"
      ],
      "execution_count": null,
      "outputs": []
    },
    {
      "cell_type": "markdown",
      "metadata": {
        "id": "fjP09aXHCAxh"
      },
      "source": [
        "\n",
        "### nested list comprehension\n",
        "\n",
        "- **nested list comprehension**도 가능합니다.\n",
        "\n"
      ]
    },
    {
      "cell_type": "code",
      "metadata": {
        "id": "xrT_cn9pCAxh"
      },
      "source": [
        "three_by_five = [[ (5*i+j)%10 for j in range(5)] for i in range(3) ]\n",
        "for row in three_by_five:\n",
        "    print(*row)\n"
      ],
      "execution_count": null,
      "outputs": []
    },
    {
      "cell_type": "markdown",
      "metadata": {
        "id": "Pt46GQCdCAxh"
      },
      "source": [
        "\n",
        "- 지나친 중첩구조의 list comprehension 사용은 코드의 가독성을 떨어뜨릴 수 있습니다.\n"
      ]
    },
    {
      "cell_type": "markdown",
      "metadata": {
        "id": "RL0gmwvzCAxh"
      },
      "source": [
        "\n",
        "\n",
        "## Mutable/imutable Types\n",
        "\n",
        "\n"
      ]
    },
    {
      "cell_type": "markdown",
      "metadata": {
        "id": "cujZ4nk7CAxh"
      },
      "source": [
        "\n",
        "### mutable/imutable types\n"
      ]
    },
    {
      "cell_type": "code",
      "metadata": {
        "id": "czTWCHi1CAxi"
      },
      "source": [
        "dccp_spring = {\n",
        "    'COURSE_NAME' : 'Digital Computer Concept and Practice', # String\n",
        "    'CREDIT_INFO' : (3,2,2), # Tuple : '총학점-이론-실습'\n",
        "    'LECTURE_PLANS' : ['Introduction','Data Types, Input, Output',\n",
        "                       'Dceision Structures and Repetition Structuress'], # list\n",
        "    'ALTERNATIVE_SUBJECTS' : {'DCCP','Principles of Computer Science'} # set\n",
        "} # dictionary\n",
        "\n",
        "dccp_fall = dict(zip(dccp_spring.keys(),dccp_spring.values()))\n",
        "\n",
        "print(dccp_spring == dccp_fall, dccp_spring is dccp_fall)\n",
        "\n",
        "for key in dccp_spring:\n",
        "    print(key+':'+ ('not' if dccp_spring[key] != dccp_fall[key]) + 'same values'\n",
        "         + ('not' if dccp_spring[key] is not dccp_fall[key]) + 'same identity')\n"
      ],
      "execution_count": null,
      "outputs": []
    },
    {
      "cell_type": "markdown",
      "metadata": {
        "id": "Oq667pyjCAxi"
      },
      "source": [
        "\n",
        "### mutable/imutable types\n",
        "\n"
      ]
    },
    {
      "cell_type": "code",
      "metadata": {
        "id": "oduIhi5GCAxi"
      },
      "source": [
        "dccp_spring = {\n",
        "    'COURSE_NAME' : 'Digital Computer Concept and Practice', # String\n",
        "    'CREDIT_INFO' : (3,2,2), # Tuple : '총학점-이론-실습'\n",
        "    'LECTURE_PLANS' : ['Introduction','Data Types, Input, Output',\n",
        "                       'Dceision Structures and Repetition Structuress'], # list\n",
        "    'ALTERNATIVE_SUBJECTS' : {'DCCP','Principles of Computer Science'} # set\n",
        "} # dictionary\n",
        "\n",
        "dccp_fall = dict(zip(dccp_spring.keys(),dccp_spring.values()))\n",
        "dccp_fall['COURSE_NAME'] += ' Advanced' #dccp_fall['CREDIT_INFO'][0] += 1 #try!\n",
        "dccp_fall['CREDIT_INFO'] = tuple([val+1 if idx==0 else val for idx,val in enumerate(dccp_fall['CREDIT_INFO'])])\n",
        "\n",
        "print(dccp_spring == dccp_fall, dccp_spring is dccp_fall )\n",
        "\n",
        "for key in ['COURSE_NAME','CREDIT_INFO']:\n",
        "    print(key+':'+ ('not' if dccp_spring[key] != dccp_fall[key]) + 'same values'\n",
        "        + ('not' if dccp_spring[key] is not dccp_fall[key]) +'same identity')\n"
      ],
      "execution_count": null,
      "outputs": []
    },
    {
      "cell_type": "markdown",
      "metadata": {
        "id": "uGqSTaphCAxi"
      },
      "source": [
        "\n",
        "### basic properties\n"
      ]
    },
    {
      "cell_type": "code",
      "metadata": {
        "id": "5ycInG1yCAxi"
      },
      "source": [
        "dccp_spring = {\n",
        "    'COURSE_NAME' : 'Digital Computer Concept and Practice', # String\n",
        "    'CREDIT_INFO' : (3,2,2), # Tuple : '총학점-이론-실습'\n",
        "    'LECTURE_PLANS' : ['Introduction','Data Types, Input, Output',\n",
        "                       'Dceision Structures and Repetition Structuress'], # list\n",
        "    'ALTERNATIVE_SUBJECTS' : {'DCCP','Principles of Computer Science'} # set\n",
        "} # dictionary\n",
        "\n",
        "dccp_fall = dict(zip(dccp_spring.keys(),dccp_spring.values()))\n",
        "#dccp_fall['LECTURE_PLANS'].append(['OOP']) # try! (instead of the next line)\n",
        "dccp_fall['LECTURE_PLANS'] = dccp_fall['LECTURE_PLANS']+ ['OOP']\n",
        "dccp_fall['ALTERNATIVE_SUBJECTS'].add('Statistical Programming')\n",
        "\n",
        "print(dccp_spring == dccp_fall,dccp_spring is dccp_fall)\n",
        "for key in ['LECTURE_PLANS','ALTERNATIVE_SUBJECTS']:\n",
        "    print(key+':'+ ('not' if dccp_spring[key] != dccp_fall[key]) + 'same values'\n",
        "          + ('not' if dccp_spring[key] is not dccp_fall[key]) +'same identity')\n"
      ],
      "execution_count": null,
      "outputs": []
    },
    {
      "cell_type": "markdown",
      "metadata": {
        "id": "xDry-T1PCAxj"
      },
      "source": [
        "### mutable vs immutable\n",
        "- 목적에 맞는 타입의 자료형과 메소드를 사용하면 효율적으로 자원을 사용할 수 있습니다."
      ]
    },
    {
      "cell_type": "code",
      "metadata": {
        "id": "YTqbr0mrCAxj"
      },
      "source": [
        "import time #https://docs.python.org/3/library/time.html\n",
        "big_tuple = tuple(range(10000000))\n",
        "big_list = [num for num in range(10000000)]\n",
        "start = time.time()\n",
        "for i in range(10):\n",
        "    big_tuple = big_tuple + (1,)\n",
        "print(\"new generation: {}\".format(time.time() - start))\n",
        "start = time.time()\n",
        "for i in range(10):\n",
        "    big_list = big_list + [1]\n",
        "print(\"new generation: {}\".format(time.time() - start))\n",
        "start = time.time()\n",
        "for i in range(10):\n",
        "    big_list.append(1)\n",
        "print(\"list append: {}\".format(time.time() - start))"
      ],
      "execution_count": null,
      "outputs": []
    },
    {
      "cell_type": "markdown",
      "metadata": {
        "id": "_SgBVLHNCAxj"
      },
      "source": [
        "### mutable vs immutable\n",
        "- 목적에 맞는 타입의 자료형과 메소드를 사용하면 효율적으로 자원을 사용할 수 있습니다."
      ]
    },
    {
      "cell_type": "code",
      "metadata": {
        "id": "jokdNvbSCAxj"
      },
      "source": [
        "import sys\n",
        "\n",
        "print(sys.getsizeof(tuple(range(10))))\n",
        "print(sys.getsizeof(list(range(10))))"
      ],
      "execution_count": null,
      "outputs": []
    },
    {
      "cell_type": "markdown",
      "metadata": {
        "id": "iCdI4SIyCAxj"
      },
      "source": [
        "\n",
        "### mutable vs immutable\n",
        "- 조작의 편의성 vs 변하지 않는 값에 대한 보호/보장\n",
        " - 길이, 값의 변화가 잦은 데이터\n",
        " - 읽기용 데이터, 하지만 크기가 매우 크다면 ex) deep learning model을 구성하는 수백만개의 tensor\n",
        " - 순서가 명확한 데이터 (좌표, 함수 arguments,..)\n",
        " - dictionary의 key 가 mutable이 가능하면...?\n",
        "     - [hashable type](https://realpython.com/lessons/immutable-vs-hashable/)\n",
        "\n"
      ]
    },
    {
      "cell_type": "code",
      "metadata": {
        "id": "R3KUn2zpCAxk"
      },
      "source": [
        "my_dict = {}\n",
        "my_list = [1,2,3]\n",
        "my_dict[my_list] = \"Is it possible?\""
      ],
      "execution_count": null,
      "outputs": []
    },
    {
      "cell_type": "markdown",
      "metadata": {
        "id": "uj4gvm8rCAxk"
      },
      "source": [
        "\n",
        "\n",
        "# Preview: Shallow Copy of a List\n",
        "\n",
        "\n"
      ]
    },
    {
      "cell_type": "markdown",
      "metadata": {
        "id": "7UcVpmA1CAxk"
      },
      "source": [
        "* `Repetition` returns a concatenated list of .red[shallow copies] of a list:"
      ]
    },
    {
      "cell_type": "code",
      "metadata": {
        "id": "00qjbm58CAxk"
      },
      "source": [
        "lists = [[]] * 3  \n",
        "# 3 shallow copies of [[]] are concatenated!\n",
        "lists #[[], [], []]\n",
        "lists[0].append(3)\n",
        "lists #[[3], [3], [3]]\n",
        "lists[1].append(4)\n",
        "lists #[[3, 4], [3, 4], [3, 4]]"
      ],
      "execution_count": null,
      "outputs": []
    },
    {
      "cell_type": "markdown",
      "metadata": {
        "id": "R0E20Gc_CAxl"
      },
      "source": [
        "<img src=\"https://user-images.githubusercontent.com/39995503/94368360-9aa3ba00-011e-11eb-868a-468e1479e013.png\" width=350>"
      ]
    },
    {
      "cell_type": "markdown",
      "metadata": {
        "id": "7H3XWz-2CAxl"
      },
      "source": [
        "* `Repetition` returns a .red[shallow copy] of the list:"
      ]
    },
    {
      "cell_type": "code",
      "metadata": {
        "id": "fjZBdAKQCAxl"
      },
      "source": [
        "lists = [1] * 3  \n",
        "print(lists) #[1, 1, 1]\n",
        "lists[0] = 3\n",
        "print(lists) #[3, 1, 1]\n",
        "lists[1]=4\n",
        "print(lists) #[3, 4, 1]"
      ],
      "execution_count": null,
      "outputs": []
    },
    {
      "cell_type": "markdown",
      "metadata": {
        "id": "gOyCKGGbCAxm"
      },
      "source": [
        "<img src=\"https://user-images.githubusercontent.com/39995503/99904200-c7ceac00-2d0c-11eb-870e-251fa7d18396.png\" width=370>"
      ]
    },
    {
      "cell_type": "markdown",
      "metadata": {
        "id": "uAo5g_F-CAxm"
      },
      "source": [
        "* `Slicing` returns a .red[shallow copy] of the list:"
      ]
    },
    {
      "cell_type": "code",
      "metadata": {
        "id": "Xwvon-ruCAxm"
      },
      "source": [
        "lists = [[1], [2], [3], [4]]\n",
        "slists = lists[1:3]  \n",
        "print(slists) #[[2], [3]]\n",
        "slists[0].append(4)\n",
        "print(slists) #[[2, 4], [3]]\n",
        "print(lists) #[[1], [2, 4], [3], [4]]"
      ],
      "execution_count": null,
      "outputs": []
    },
    {
      "cell_type": "markdown",
      "metadata": {
        "id": "lYWhJiMJCAxm"
      },
      "source": [
        "<img src=\"https://user-images.githubusercontent.com/39995503/94368061-303e4a00-011d-11eb-955c-024ff2b9a474.png\" width=450>"
      ]
    }
  ]
}